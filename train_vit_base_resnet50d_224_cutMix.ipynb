{
 "cells": [
  {
   "cell_type": "code",
   "execution_count": 1,
   "id": "4e1eb8cf489a337c",
   "metadata": {
    "ExecuteTime": {
     "end_time": "2023-10-30T04:54:10.643166900Z",
     "start_time": "2023-10-30T04:54:09.060551800Z"
    },
    "collapsed": false
   },
   "outputs": [
    {
     "name": "stderr",
     "output_type": "stream",
     "text": [
      "C:\\Users\\GangsuKim\\Anaconda3\\envs\\HLAI2023\\lib\\site-packages\\torchvision\\io\\image.py:13: UserWarning: Failed to load image Python extension: \n",
      "  warn(f\"Failed to load image Python extension: {e}\")\n"
     ]
    }
   ],
   "source": [
    "from tqdm import tqdm\n",
    "from glob import glob\n",
    "import os\n",
    "\n",
    "import pandas as pd\n",
    "\n",
    "import torch\n",
    "import torch.nn as nn\n",
    "import torch.nn.functional as F\n",
    "import random\n",
    "\n",
    "from torchvision.models import *\n",
    "from torch.utils.data import DataLoader\n",
    "from torchvision.transforms import AutoAugment\n",
    "from torchvision.transforms import AutoAugmentPolicy\n",
    "from torchvision.transforms import transforms\n",
    "from torch.optim.lr_scheduler import ReduceLROnPlateau\n",
    "\n",
    "from sklearn.model_selection import train_test_split, StratifiedKFold\n",
    "import numpy as np\n",
    "\n",
    "import albumentations as A\n",
    "from albumentations.pytorch import ToTensorV2\n",
    "\n",
    "from CustomLoader import CustomLoader\n",
    "import timm\n",
    "from utils.CosineAnnealingWarmUpRestarts import  CosineAnnealingWarmUpRestarts\n",
    "\n",
    "from utils.utils import *"
   ]
  },
  {
   "cell_type": "code",
   "execution_count": 2,
   "id": "b774aba0",
   "metadata": {
    "ExecuteTime": {
     "end_time": "2023-10-30T04:54:10.719752700Z",
     "start_time": "2023-10-30T04:54:10.646168100Z"
    },
    "execution": {
     "iopub.execute_input": "2023-10-23T14:10:00.706380Z",
     "iopub.status.busy": "2023-10-23T14:10:00.705910Z",
     "iopub.status.idle": "2023-10-23T14:10:05.499515Z",
     "shell.execute_reply": "2023-10-23T14:10:05.498153Z"
    },
    "papermill": {
     "duration": 4.809141,
     "end_time": "2023-10-23T14:10:05.503022",
     "exception": false,
     "start_time": "2023-10-23T14:10:00.693881",
     "status": "completed"
    },
    "tags": []
   },
   "outputs": [],
   "source": [
    "training_set, test_set = getDataSet('./dataset/')\n",
    "set_random_seed(1813)\n",
    "device = 'cuda' if torch.cuda.is_available() else 'cpu'"
   ]
  },
  {
   "cell_type": "markdown",
   "id": "e26369a9422657b8",
   "metadata": {
    "collapsed": false
   },
   "source": [
    "## Stratic Split"
   ]
  },
  {
   "cell_type": "code",
   "execution_count": 5,
   "id": "13c4f539d0182c94",
   "metadata": {
    "ExecuteTime": {
     "end_time": "2023-10-30T04:54:10.765898700Z",
     "start_time": "2023-10-30T04:54:10.752898400Z"
    },
    "collapsed": false
   },
   "outputs": [
    {
     "data": {
      "text/plain": [
       "{'0': 500,\n",
       " '1': 500,\n",
       " '10': 350,\n",
       " '11': 350,\n",
       " '12': 300,\n",
       " '13': 300,\n",
       " '14': 300,\n",
       " '15': 250,\n",
       " '16': 250,\n",
       " '17': 250,\n",
       " '18': 200,\n",
       " '19': 200,\n",
       " '2': 500,\n",
       " '20': 200,\n",
       " '21': 150,\n",
       " '22': 150,\n",
       " '23': 150,\n",
       " '24': 100,\n",
       " '25': 100,\n",
       " '26': 100,\n",
       " '27': 50,\n",
       " '28': 50,\n",
       " '29': 50,\n",
       " '3': 450,\n",
       " '4': 450,\n",
       " '5': 450,\n",
       " '6': 400,\n",
       " '7': 400,\n",
       " '8': 400,\n",
       " '9': 350}"
      ]
     },
     "execution_count": 5,
     "metadata": {},
     "output_type": "execute_result"
    }
   ],
   "source": [
    "getDistributionDataSet(training_set)"
   ]
  },
  {
   "cell_type": "code",
   "execution_count": 6,
   "id": "624bc32ecfbb2c48",
   "metadata": {
    "ExecuteTime": {
     "end_time": "2023-10-30T04:54:10.809994Z",
     "start_time": "2023-10-30T04:54:10.765898700Z"
    },
    "collapsed": false
   },
   "outputs": [],
   "source": [
    "CFG = {\n",
    "    'AUG_MODE' : 'albu', # or [albu,transform]\n",
    "    'MEAN' : [0.5051, 0.4853, 0.4409],\n",
    "    'STD' : [0.2774, 0.2568, 0.2795]\n",
    "}"
   ]
  },
  {
   "cell_type": "markdown",
   "id": "2699a7dc026f9327",
   "metadata": {
    "collapsed": false
   },
   "source": [
    "## Class Weight"
   ]
  },
  {
   "cell_type": "code",
   "execution_count": 7,
   "id": "43c522372ef7611f",
   "metadata": {
    "ExecuteTime": {
     "end_time": "2023-10-30T04:54:10.816993900Z",
     "start_time": "2023-10-30T04:54:10.782051200Z"
    },
    "collapsed": false
   },
   "outputs": [],
   "source": [
    "class_weight = []\n",
    "\n",
    "dist = getDistributionDataSet(training_set)\n",
    "dist = dict(sorted(dist.items(), key=lambda x:int(x[0])))\n",
    "\n",
    "sum_of_dist = 0\n",
    "\n",
    "for k in dist.keys():\n",
    "    sum_of_dist += dist[k]\n",
    "\n",
    "for k in dist.keys():\n",
    "    class_weight.append(1 - (dist[k] / sum_of_dist))"
   ]
  },
  {
   "cell_type": "markdown",
   "id": "bf462c568265843c",
   "metadata": {
    "collapsed": false
   },
   "source": [
    "# Transform"
   ]
  },
  {
   "cell_type": "code",
   "execution_count": 9,
   "id": "5d870cd911a0ac63",
   "metadata": {
    "ExecuteTime": {
     "end_time": "2023-10-30T04:54:10.826993700Z",
     "start_time": "2023-10-30T04:54:10.814994500Z"
    },
    "collapsed": false
   },
   "outputs": [],
   "source": [
    "if CFG['AUG_MODE'] == 'albu':\n",
    "    transform_train = A.Compose([\n",
    "        A.Resize(32,32),\n",
    "        A.Rotate(limit=(-360,360), interpolation=1, border_mode=1),\n",
    "        A.VerticalFlip(p=0.5),\n",
    "        A.HorizontalFlip(p=0.5),\n",
    "        A.RandomBrightnessContrast(p=0.2),\n",
    "        A.RandomToneCurve(p=0.2, scale=0.15),\n",
    "        A.Blur(p=0.4, blur_limit=(1, 3)),\n",
    "        A.CLAHE(p=0.4, clip_limit=(1, 4), tile_grid_size=(8, 8)),\n",
    "        A.Normalize(CFG['MEAN'], CFG['STD']),\n",
    "        ToTensorV2(),\n",
    "    ])\n",
    "\n",
    "    transform_test = A.Compose([\n",
    "        A.Resize(32,32),\n",
    "        A.Normalize(CFG['MEAN'], CFG['STD']),\n",
    "        ToTensorV2(),\n",
    "    ])\n",
    "else:\n",
    "    transform_train = transforms.Compose([\n",
    "        transforms.Resize(32),\n",
    "        AutoAugment(AutoAugmentPolicy.CIFAR10),\n",
    "        transforms.ToTensor(),\n",
    "    ])\n",
    "    \n",
    "    transform_test = transforms.Compose([\n",
    "        transforms.Resize(32),\n",
    "        transforms.ToTensor(),\n",
    "    ])"
   ]
  },
  {
   "cell_type": "markdown",
   "id": "d6a92e36bc0a710c",
   "metadata": {
    "collapsed": false
   },
   "source": [
    "## Kfold"
   ]
  },
  {
   "cell_type": "code",
   "execution_count": 10,
   "id": "51b535c8977f1a27",
   "metadata": {
    "ExecuteTime": {
     "end_time": "2023-10-30T04:54:10.871846Z",
     "start_time": "2023-10-30T04:54:10.827993500Z"
    },
    "collapsed": false
   },
   "outputs": [
    {
     "data": {
      "text/plain": [
       "(8250, 8250)"
      ]
     },
     "execution_count": 10,
     "metadata": {},
     "output_type": "execute_result"
    }
   ],
   "source": [
    "all_labels = []\n",
    "for file in training_set:\n",
    "    all_labels.append(int(file.split('/')[3]))\n",
    "len(all_labels), len(training_set)"
   ]
  },
  {
   "cell_type": "code",
   "execution_count": 11,
   "id": "f14e93c5627a9a9",
   "metadata": {
    "ExecuteTime": {
     "end_time": "2023-10-30T04:58:52.190614900Z",
     "start_time": "2023-10-30T04:54:10.847739400Z"
    },
    "collapsed": false
   },
   "outputs": [
    {
     "name": "stderr",
     "output_type": "stream",
     "text": [
      "100%|██████████| 104/104 [00:15<00:00,  6.57it/s]\n",
      "100%|██████████| 26/26 [00:04<00:00,  6.21it/s]\n"
     ]
    },
    {
     "name": "stdout",
     "output_type": "stream",
     "text": [
      "Fold: 0 \tEpoch: 0 \tTraining Loss: 3.527152 \tValidation Loss: 3.530897\n",
      "Fold: 0 \tEpoch: 0 \tTraining accuracy: 0.040865 \tValidation accuracy: 0.048149\n",
      "Validation loss decreased (inf --> 3.530897).  Saving model ...\n"
     ]
    },
    {
     "name": "stderr",
     "output_type": "stream",
     "text": [
      "100%|██████████| 104/104 [00:12<00:00,  8.65it/s]\n",
      "100%|██████████| 26/26 [00:03<00:00,  6.85it/s]\n"
     ]
    },
    {
     "name": "stdout",
     "output_type": "stream",
     "text": [
      "Fold: 0 \tEpoch: 1 \tTraining Loss: 3.535241 \tValidation Loss: 3.532308\n",
      "Fold: 0 \tEpoch: 1 \tTraining accuracy: 0.039814 \tValidation accuracy: 0.042837\n",
      "Learning Rete : 5e-05\n"
     ]
    },
    {
     "name": "stderr",
     "output_type": "stream",
     "text": [
      "100%|██████████| 104/104 [00:11<00:00,  8.76it/s]\n",
      "100%|██████████| 26/26 [00:03<00:00,  6.53it/s]\n"
     ]
    },
    {
     "name": "stdout",
     "output_type": "stream",
     "text": [
      "Fold: 0 \tEpoch: 2 \tTraining Loss: 2.831267 \tValidation Loss: 2.637156\n",
      "Fold: 0 \tEpoch: 2 \tTraining accuracy: 0.185547 \tValidation accuracy: 0.231082\n",
      "Learning Rete : 0.0001\n",
      "Validation loss decreased (3.530897 --> 2.637156).  Saving model ...\n"
     ]
    },
    {
     "name": "stderr",
     "output_type": "stream",
     "text": [
      "100%|██████████| 104/104 [00:11<00:00,  8.80it/s]\n",
      "100%|██████████| 26/26 [00:03<00:00,  6.74it/s]\n"
     ]
    },
    {
     "name": "stdout",
     "output_type": "stream",
     "text": [
      "Fold: 0 \tEpoch: 3 \tTraining Loss: 2.624049 \tValidation Loss: 2.569494\n",
      "Fold: 0 \tEpoch: 3 \tTraining accuracy: 0.231520 \tValidation accuracy: 0.236731\n",
      "Learning Rete : 0.00015000000000000001\n",
      "Validation loss decreased (2.637156 --> 2.569494).  Saving model ...\n"
     ]
    },
    {
     "name": "stderr",
     "output_type": "stream",
     "text": [
      "100%|██████████| 104/104 [00:11<00:00,  8.79it/s]\n",
      "100%|██████████| 26/26 [00:03<00:00,  6.60it/s]\n"
     ]
    },
    {
     "name": "stdout",
     "output_type": "stream",
     "text": [
      "Fold: 0 \tEpoch: 4 \tTraining Loss: 2.566082 \tValidation Loss: 2.562721\n",
      "Fold: 0 \tEpoch: 4 \tTraining accuracy: 0.247897 \tValidation accuracy: 0.239736\n",
      "Learning Rete : 0.0002\n",
      "Validation loss decreased (2.569494 --> 2.562721).  Saving model ...\n"
     ]
    },
    {
     "name": "stderr",
     "output_type": "stream",
     "text": [
      "100%|██████████| 104/104 [00:11<00:00,  8.83it/s]\n",
      "100%|██████████| 26/26 [00:03<00:00,  6.74it/s]\n"
     ]
    },
    {
     "name": "stdout",
     "output_type": "stream",
     "text": [
      "Fold: 0 \tEpoch: 5 \tTraining Loss: 2.500366 \tValidation Loss: 2.455637\n",
      "Fold: 0 \tEpoch: 5 \tTraining accuracy: 0.260817 \tValidation accuracy: 0.269615\n",
      "Learning Rete : 0.00025\n",
      "Validation loss decreased (2.562721 --> 2.455637).  Saving model ...\n"
     ]
    },
    {
     "name": "stderr",
     "output_type": "stream",
     "text": [
      "100%|██████████| 104/104 [00:11<00:00,  8.83it/s]\n",
      "100%|██████████| 26/26 [00:03<00:00,  6.62it/s]\n"
     ]
    },
    {
     "name": "stdout",
     "output_type": "stream",
     "text": [
      "Fold: 0 \tEpoch: 6 \tTraining Loss: 2.408598 \tValidation Loss: 2.383157\n",
      "Fold: 0 \tEpoch: 6 \tTraining accuracy: 0.289062 \tValidation accuracy: 0.304543\n",
      "Learning Rete : 0.00030000000000000003\n",
      "Validation loss decreased (2.455637 --> 2.383157).  Saving model ...\n"
     ]
    },
    {
     "name": "stderr",
     "output_type": "stream",
     "text": [
      "100%|██████████| 104/104 [00:11<00:00,  8.80it/s]\n",
      "100%|██████████| 26/26 [00:03<00:00,  6.64it/s]\n"
     ]
    },
    {
     "name": "stdout",
     "output_type": "stream",
     "text": [
      "Fold: 0 \tEpoch: 7 \tTraining Loss: 2.393866 \tValidation Loss: 2.360771\n",
      "Fold: 0 \tEpoch: 7 \tTraining accuracy: 0.291016 \tValidation accuracy: 0.297596\n",
      "Learning Rete : 0.00035\n",
      "Validation loss decreased (2.383157 --> 2.360771).  Saving model ...\n"
     ]
    },
    {
     "name": "stderr",
     "output_type": "stream",
     "text": [
      "100%|██████████| 104/104 [00:11<00:00,  8.76it/s]\n",
      "100%|██████████| 26/26 [00:03<00:00,  6.60it/s]\n"
     ]
    },
    {
     "name": "stdout",
     "output_type": "stream",
     "text": [
      "Fold: 0 \tEpoch: 8 \tTraining Loss: 2.342572 \tValidation Loss: 2.345756\n",
      "Fold: 0 \tEpoch: 8 \tTraining accuracy: 0.302734 \tValidation accuracy: 0.317861\n",
      "Learning Rete : 0.0004\n",
      "Validation loss decreased (2.360771 --> 2.345756).  Saving model ...\n"
     ]
    },
    {
     "name": "stderr",
     "output_type": "stream",
     "text": [
      "100%|██████████| 104/104 [00:11<00:00,  8.77it/s]\n",
      "100%|██████████| 26/26 [00:03<00:00,  6.50it/s]\n"
     ]
    },
    {
     "name": "stdout",
     "output_type": "stream",
     "text": [
      "Fold: 0 \tEpoch: 9 \tTraining Loss: 2.282842 \tValidation Loss: 2.245130\n",
      "Fold: 0 \tEpoch: 9 \tTraining accuracy: 0.318960 \tValidation accuracy: 0.334351\n",
      "Learning Rete : 0.00045000000000000004\n",
      "Validation loss decreased (2.345756 --> 2.245130).  Saving model ...\n"
     ]
    },
    {
     "name": "stderr",
     "output_type": "stream",
     "text": [
      "100%|██████████| 104/104 [00:11<00:00,  8.83it/s]\n",
      "100%|██████████| 26/26 [00:03<00:00,  6.78it/s]\n"
     ]
    },
    {
     "name": "stdout",
     "output_type": "stream",
     "text": [
      "Fold: 0 \tEpoch: 10 \tTraining Loss: 2.268361 \tValidation Loss: 2.277185\n",
      "Fold: 0 \tEpoch: 10 \tTraining accuracy: 0.321665 \tValidation accuracy: 0.331683\n",
      "Learning Rete : 0.0005\n"
     ]
    },
    {
     "name": "stderr",
     "output_type": "stream",
     "text": [
      "100%|██████████| 104/104 [00:11<00:00,  8.82it/s]\n",
      "100%|██████████| 26/26 [00:03<00:00,  6.89it/s]\n"
     ]
    },
    {
     "name": "stdout",
     "output_type": "stream",
     "text": [
      "Fold: 0 \tEpoch: 11 \tTraining Loss: 2.217800 \tValidation Loss: 2.227381\n",
      "Fold: 0 \tEpoch: 11 \tTraining accuracy: 0.344651 \tValidation accuracy: 0.352019\n",
      "Learning Rete : 0.000499229333433282\n",
      "Validation loss decreased (2.245130 --> 2.227381).  Saving model ...\n"
     ]
    },
    {
     "name": "stderr",
     "output_type": "stream",
     "text": [
      "100%|██████████| 104/104 [00:11<00:00,  8.83it/s]\n",
      "100%|██████████| 26/26 [00:03<00:00,  6.77it/s]\n"
     ]
    },
    {
     "name": "stdout",
     "output_type": "stream",
     "text": [
      "Fold: 0 \tEpoch: 12 \tTraining Loss: 2.152088 \tValidation Loss: 2.197854\n",
      "Fold: 0 \tEpoch: 12 \tTraining accuracy: 0.359826 \tValidation accuracy: 0.332716\n",
      "Learning Rete : 0.0004969220851487844\n",
      "Validation loss decreased (2.227381 --> 2.197854).  Saving model ...\n"
     ]
    },
    {
     "name": "stderr",
     "output_type": "stream",
     "text": [
      "100%|██████████| 104/104 [00:11<00:00,  8.81it/s]\n",
      "100%|██████████| 26/26 [00:03<00:00,  6.57it/s]\n"
     ]
    },
    {
     "name": "stdout",
     "output_type": "stream",
     "text": [
      "Fold: 0 \tEpoch: 13 \tTraining Loss: 2.074582 \tValidation Loss: 2.122983\n",
      "Fold: 0 \tEpoch: 13 \tTraining accuracy: 0.380258 \tValidation accuracy: 0.369784\n",
      "Learning Rete : 0.0004930924800994192\n",
      "Validation loss decreased (2.197854 --> 2.122983).  Saving model ...\n"
     ]
    },
    {
     "name": "stderr",
     "output_type": "stream",
     "text": [
      "100%|██████████| 104/104 [00:11<00:00,  8.78it/s]\n",
      "100%|██████████| 26/26 [00:03<00:00,  6.97it/s]\n"
     ]
    },
    {
     "name": "stdout",
     "output_type": "stream",
     "text": [
      "Fold: 0 \tEpoch: 14 \tTraining Loss: 2.081739 \tValidation Loss: 2.094129\n",
      "Fold: 0 \tEpoch: 14 \tTraining accuracy: 0.381611 \tValidation accuracy: 0.384712\n",
      "Learning Rete : 0.0004877641290737884\n",
      "Validation loss decreased (2.122983 --> 2.094129).  Saving model ...\n"
     ]
    },
    {
     "name": "stderr",
     "output_type": "stream",
     "text": [
      "100%|██████████| 104/104 [00:11<00:00,  8.79it/s]\n",
      "100%|██████████| 26/26 [00:04<00:00,  6.50it/s]\n"
     ]
    },
    {
     "name": "stdout",
     "output_type": "stream",
     "text": [
      "Fold: 0 \tEpoch: 15 \tTraining Loss: 2.016150 \tValidation Loss: 2.042502\n",
      "Fold: 0 \tEpoch: 15 \tTraining accuracy: 0.395282 \tValidation accuracy: 0.387043\n",
      "Learning Rete : 0.0004809698831278217\n",
      "Validation loss decreased (2.094129 --> 2.042502).  Saving model ...\n"
     ]
    },
    {
     "name": "stderr",
     "output_type": "stream",
     "text": [
      "100%|██████████| 104/104 [00:11<00:00,  8.82it/s]\n",
      "100%|██████████| 26/26 [00:04<00:00,  6.34it/s]\n"
     ]
    },
    {
     "name": "stdout",
     "output_type": "stream",
     "text": [
      "Fold: 0 \tEpoch: 16 \tTraining Loss: 1.942291 \tValidation Loss: 2.035476\n",
      "Fold: 0 \tEpoch: 16 \tTraining accuracy: 0.414814 \tValidation accuracy: 0.390721\n",
      "Learning Rete : 0.00047275163104709196\n",
      "Validation loss decreased (2.042502 --> 2.035476).  Saving model ...\n"
     ]
    },
    {
     "name": "stderr",
     "output_type": "stream",
     "text": [
      "  0%|          | 0/104 [00:01<?, ?it/s]\n"
     ]
    },
    {
     "ename": "KeyboardInterrupt",
     "evalue": "",
     "output_type": "error",
     "traceback": [
      "\u001b[1;31m---------------------------------------------------------------------------\u001b[0m",
      "\u001b[1;31mKeyboardInterrupt\u001b[0m                         Traceback (most recent call last)",
      "\u001b[1;32m~\\AppData\\Local\\Temp\\ipykernel_3460\\2079478421.py\u001b[0m in \u001b[0;36m<module>\u001b[1;34m\u001b[0m\n\u001b[0;32m     38\u001b[0m         \u001b[1;31m# Trian\u001b[0m\u001b[1;33m\u001b[0m\u001b[1;33m\u001b[0m\u001b[1;33m\u001b[0m\u001b[0m\n\u001b[0;32m     39\u001b[0m         \u001b[0mmodel\u001b[0m\u001b[1;33m.\u001b[0m\u001b[0mtrain\u001b[0m\u001b[1;33m(\u001b[0m\u001b[1;33m)\u001b[0m\u001b[1;33m\u001b[0m\u001b[1;33m\u001b[0m\u001b[0m\n\u001b[1;32m---> 40\u001b[1;33m         \u001b[1;32mfor\u001b[0m \u001b[1;33m(\u001b[0m\u001b[0mimage\u001b[0m\u001b[1;33m,\u001b[0m \u001b[0mlabels\u001b[0m\u001b[1;33m,\u001b[0m \u001b[0m_\u001b[0m\u001b[1;33m)\u001b[0m \u001b[1;32min\u001b[0m \u001b[0mtqdm\u001b[0m\u001b[1;33m(\u001b[0m\u001b[0mtrain_loader\u001b[0m\u001b[1;33m)\u001b[0m\u001b[1;33m:\u001b[0m\u001b[1;33m\u001b[0m\u001b[1;33m\u001b[0m\u001b[0m\n\u001b[0m\u001b[0;32m     41\u001b[0m             \u001b[0mimage\u001b[0m\u001b[1;33m,\u001b[0m \u001b[0mlabels\u001b[0m \u001b[1;33m=\u001b[0m \u001b[0mimage\u001b[0m\u001b[1;33m.\u001b[0m\u001b[0mto\u001b[0m\u001b[1;33m(\u001b[0m\u001b[0mdevice\u001b[0m\u001b[1;33m)\u001b[0m\u001b[1;33m,\u001b[0m \u001b[0mlabels\u001b[0m\u001b[1;33m.\u001b[0m\u001b[0mto\u001b[0m\u001b[1;33m(\u001b[0m\u001b[0mdevice\u001b[0m\u001b[1;33m)\u001b[0m\u001b[1;33m\u001b[0m\u001b[1;33m\u001b[0m\u001b[0m\n\u001b[0;32m     42\u001b[0m \u001b[1;33m\u001b[0m\u001b[0m\n",
      "\u001b[1;32m~\\Anaconda3\\envs\\HLAI2023\\lib\\site-packages\\tqdm\\std.py\u001b[0m in \u001b[0;36m__iter__\u001b[1;34m(self)\u001b[0m\n\u001b[0;32m   1180\u001b[0m \u001b[1;33m\u001b[0m\u001b[0m\n\u001b[0;32m   1181\u001b[0m         \u001b[1;32mtry\u001b[0m\u001b[1;33m:\u001b[0m\u001b[1;33m\u001b[0m\u001b[1;33m\u001b[0m\u001b[0m\n\u001b[1;32m-> 1182\u001b[1;33m             \u001b[1;32mfor\u001b[0m \u001b[0mobj\u001b[0m \u001b[1;32min\u001b[0m \u001b[0miterable\u001b[0m\u001b[1;33m:\u001b[0m\u001b[1;33m\u001b[0m\u001b[1;33m\u001b[0m\u001b[0m\n\u001b[0m\u001b[0;32m   1183\u001b[0m                 \u001b[1;32myield\u001b[0m \u001b[0mobj\u001b[0m\u001b[1;33m\u001b[0m\u001b[1;33m\u001b[0m\u001b[0m\n\u001b[0;32m   1184\u001b[0m                 \u001b[1;31m# Update and possibly print the progressbar.\u001b[0m\u001b[1;33m\u001b[0m\u001b[1;33m\u001b[0m\u001b[1;33m\u001b[0m\u001b[0m\n",
      "\u001b[1;32m~\\Anaconda3\\envs\\HLAI2023\\lib\\site-packages\\torch\\utils\\data\\dataloader.py\u001b[0m in \u001b[0;36m__iter__\u001b[1;34m(self)\u001b[0m\n\u001b[0;32m    442\u001b[0m             \u001b[1;32mreturn\u001b[0m \u001b[0mself\u001b[0m\u001b[1;33m.\u001b[0m\u001b[0m_iterator\u001b[0m\u001b[1;33m\u001b[0m\u001b[1;33m\u001b[0m\u001b[0m\n\u001b[0;32m    443\u001b[0m         \u001b[1;32melse\u001b[0m\u001b[1;33m:\u001b[0m\u001b[1;33m\u001b[0m\u001b[1;33m\u001b[0m\u001b[0m\n\u001b[1;32m--> 444\u001b[1;33m             \u001b[1;32mreturn\u001b[0m \u001b[0mself\u001b[0m\u001b[1;33m.\u001b[0m\u001b[0m_get_iterator\u001b[0m\u001b[1;33m(\u001b[0m\u001b[1;33m)\u001b[0m\u001b[1;33m\u001b[0m\u001b[1;33m\u001b[0m\u001b[0m\n\u001b[0m\u001b[0;32m    445\u001b[0m \u001b[1;33m\u001b[0m\u001b[0m\n\u001b[0;32m    446\u001b[0m     \u001b[1;33m@\u001b[0m\u001b[0mproperty\u001b[0m\u001b[1;33m\u001b[0m\u001b[1;33m\u001b[0m\u001b[0m\n",
      "\u001b[1;32m~\\Anaconda3\\envs\\HLAI2023\\lib\\site-packages\\torch\\utils\\data\\dataloader.py\u001b[0m in \u001b[0;36m_get_iterator\u001b[1;34m(self)\u001b[0m\n\u001b[0;32m    388\u001b[0m         \u001b[1;32melse\u001b[0m\u001b[1;33m:\u001b[0m\u001b[1;33m\u001b[0m\u001b[1;33m\u001b[0m\u001b[0m\n\u001b[0;32m    389\u001b[0m             \u001b[0mself\u001b[0m\u001b[1;33m.\u001b[0m\u001b[0mcheck_worker_number_rationality\u001b[0m\u001b[1;33m(\u001b[0m\u001b[1;33m)\u001b[0m\u001b[1;33m\u001b[0m\u001b[1;33m\u001b[0m\u001b[0m\n\u001b[1;32m--> 390\u001b[1;33m             \u001b[1;32mreturn\u001b[0m \u001b[0m_MultiProcessingDataLoaderIter\u001b[0m\u001b[1;33m(\u001b[0m\u001b[0mself\u001b[0m\u001b[1;33m)\u001b[0m\u001b[1;33m\u001b[0m\u001b[1;33m\u001b[0m\u001b[0m\n\u001b[0m\u001b[0;32m    391\u001b[0m \u001b[1;33m\u001b[0m\u001b[0m\n\u001b[0;32m    392\u001b[0m     \u001b[1;33m@\u001b[0m\u001b[0mproperty\u001b[0m\u001b[1;33m\u001b[0m\u001b[1;33m\u001b[0m\u001b[0m\n",
      "\u001b[1;32m~\\Anaconda3\\envs\\HLAI2023\\lib\\site-packages\\torch\\utils\\data\\dataloader.py\u001b[0m in \u001b[0;36m__init__\u001b[1;34m(self, loader)\u001b[0m\n\u001b[0;32m   1075\u001b[0m             \u001b[1;31m#     before it starts, and __del__ tries to join but will get:\u001b[0m\u001b[1;33m\u001b[0m\u001b[1;33m\u001b[0m\u001b[1;33m\u001b[0m\u001b[0m\n\u001b[0;32m   1076\u001b[0m             \u001b[1;31m#     AssertionError: can only join a started process.\u001b[0m\u001b[1;33m\u001b[0m\u001b[1;33m\u001b[0m\u001b[1;33m\u001b[0m\u001b[0m\n\u001b[1;32m-> 1077\u001b[1;33m             \u001b[0mw\u001b[0m\u001b[1;33m.\u001b[0m\u001b[0mstart\u001b[0m\u001b[1;33m(\u001b[0m\u001b[1;33m)\u001b[0m\u001b[1;33m\u001b[0m\u001b[1;33m\u001b[0m\u001b[0m\n\u001b[0m\u001b[0;32m   1078\u001b[0m             \u001b[0mself\u001b[0m\u001b[1;33m.\u001b[0m\u001b[0m_index_queues\u001b[0m\u001b[1;33m.\u001b[0m\u001b[0mappend\u001b[0m\u001b[1;33m(\u001b[0m\u001b[0mindex_queue\u001b[0m\u001b[1;33m)\u001b[0m\u001b[1;33m\u001b[0m\u001b[1;33m\u001b[0m\u001b[0m\n\u001b[0;32m   1079\u001b[0m             \u001b[0mself\u001b[0m\u001b[1;33m.\u001b[0m\u001b[0m_workers\u001b[0m\u001b[1;33m.\u001b[0m\u001b[0mappend\u001b[0m\u001b[1;33m(\u001b[0m\u001b[0mw\u001b[0m\u001b[1;33m)\u001b[0m\u001b[1;33m\u001b[0m\u001b[1;33m\u001b[0m\u001b[0m\n",
      "\u001b[1;32m~\\Anaconda3\\envs\\HLAI2023\\lib\\multiprocessing\\process.py\u001b[0m in \u001b[0;36mstart\u001b[1;34m(self)\u001b[0m\n\u001b[0;32m    110\u001b[0m                \u001b[1;34m'daemonic processes are not allowed to have children'\u001b[0m\u001b[1;33m\u001b[0m\u001b[1;33m\u001b[0m\u001b[0m\n\u001b[0;32m    111\u001b[0m         \u001b[0m_cleanup\u001b[0m\u001b[1;33m(\u001b[0m\u001b[1;33m)\u001b[0m\u001b[1;33m\u001b[0m\u001b[1;33m\u001b[0m\u001b[0m\n\u001b[1;32m--> 112\u001b[1;33m         \u001b[0mself\u001b[0m\u001b[1;33m.\u001b[0m\u001b[0m_popen\u001b[0m \u001b[1;33m=\u001b[0m \u001b[0mself\u001b[0m\u001b[1;33m.\u001b[0m\u001b[0m_Popen\u001b[0m\u001b[1;33m(\u001b[0m\u001b[0mself\u001b[0m\u001b[1;33m)\u001b[0m\u001b[1;33m\u001b[0m\u001b[1;33m\u001b[0m\u001b[0m\n\u001b[0m\u001b[0;32m    113\u001b[0m         \u001b[0mself\u001b[0m\u001b[1;33m.\u001b[0m\u001b[0m_sentinel\u001b[0m \u001b[1;33m=\u001b[0m \u001b[0mself\u001b[0m\u001b[1;33m.\u001b[0m\u001b[0m_popen\u001b[0m\u001b[1;33m.\u001b[0m\u001b[0msentinel\u001b[0m\u001b[1;33m\u001b[0m\u001b[1;33m\u001b[0m\u001b[0m\n\u001b[0;32m    114\u001b[0m         \u001b[1;31m# Avoid a refcycle if the target function holds an indirect\u001b[0m\u001b[1;33m\u001b[0m\u001b[1;33m\u001b[0m\u001b[1;33m\u001b[0m\u001b[0m\n",
      "\u001b[1;32m~\\Anaconda3\\envs\\HLAI2023\\lib\\multiprocessing\\context.py\u001b[0m in \u001b[0;36m_Popen\u001b[1;34m(process_obj)\u001b[0m\n\u001b[0;32m    221\u001b[0m     \u001b[1;33m@\u001b[0m\u001b[0mstaticmethod\u001b[0m\u001b[1;33m\u001b[0m\u001b[1;33m\u001b[0m\u001b[0m\n\u001b[0;32m    222\u001b[0m     \u001b[1;32mdef\u001b[0m \u001b[0m_Popen\u001b[0m\u001b[1;33m(\u001b[0m\u001b[0mprocess_obj\u001b[0m\u001b[1;33m)\u001b[0m\u001b[1;33m:\u001b[0m\u001b[1;33m\u001b[0m\u001b[1;33m\u001b[0m\u001b[0m\n\u001b[1;32m--> 223\u001b[1;33m         \u001b[1;32mreturn\u001b[0m \u001b[0m_default_context\u001b[0m\u001b[1;33m.\u001b[0m\u001b[0mget_context\u001b[0m\u001b[1;33m(\u001b[0m\u001b[1;33m)\u001b[0m\u001b[1;33m.\u001b[0m\u001b[0mProcess\u001b[0m\u001b[1;33m.\u001b[0m\u001b[0m_Popen\u001b[0m\u001b[1;33m(\u001b[0m\u001b[0mprocess_obj\u001b[0m\u001b[1;33m)\u001b[0m\u001b[1;33m\u001b[0m\u001b[1;33m\u001b[0m\u001b[0m\n\u001b[0m\u001b[0;32m    224\u001b[0m \u001b[1;33m\u001b[0m\u001b[0m\n\u001b[0;32m    225\u001b[0m \u001b[1;32mclass\u001b[0m \u001b[0mDefaultContext\u001b[0m\u001b[1;33m(\u001b[0m\u001b[0mBaseContext\u001b[0m\u001b[1;33m)\u001b[0m\u001b[1;33m:\u001b[0m\u001b[1;33m\u001b[0m\u001b[1;33m\u001b[0m\u001b[0m\n",
      "\u001b[1;32m~\\Anaconda3\\envs\\HLAI2023\\lib\\multiprocessing\\context.py\u001b[0m in \u001b[0;36m_Popen\u001b[1;34m(process_obj)\u001b[0m\n\u001b[0;32m    320\u001b[0m         \u001b[1;32mdef\u001b[0m \u001b[0m_Popen\u001b[0m\u001b[1;33m(\u001b[0m\u001b[0mprocess_obj\u001b[0m\u001b[1;33m)\u001b[0m\u001b[1;33m:\u001b[0m\u001b[1;33m\u001b[0m\u001b[1;33m\u001b[0m\u001b[0m\n\u001b[0;32m    321\u001b[0m             \u001b[1;32mfrom\u001b[0m \u001b[1;33m.\u001b[0m\u001b[0mpopen_spawn_win32\u001b[0m \u001b[1;32mimport\u001b[0m \u001b[0mPopen\u001b[0m\u001b[1;33m\u001b[0m\u001b[1;33m\u001b[0m\u001b[0m\n\u001b[1;32m--> 322\u001b[1;33m             \u001b[1;32mreturn\u001b[0m \u001b[0mPopen\u001b[0m\u001b[1;33m(\u001b[0m\u001b[0mprocess_obj\u001b[0m\u001b[1;33m)\u001b[0m\u001b[1;33m\u001b[0m\u001b[1;33m\u001b[0m\u001b[0m\n\u001b[0m\u001b[0;32m    323\u001b[0m \u001b[1;33m\u001b[0m\u001b[0m\n\u001b[0;32m    324\u001b[0m     \u001b[1;32mclass\u001b[0m \u001b[0mSpawnContext\u001b[0m\u001b[1;33m(\u001b[0m\u001b[0mBaseContext\u001b[0m\u001b[1;33m)\u001b[0m\u001b[1;33m:\u001b[0m\u001b[1;33m\u001b[0m\u001b[1;33m\u001b[0m\u001b[0m\n",
      "\u001b[1;32m~\\Anaconda3\\envs\\HLAI2023\\lib\\multiprocessing\\popen_spawn_win32.py\u001b[0m in \u001b[0;36m__init__\u001b[1;34m(self, process_obj)\u001b[0m\n\u001b[0;32m     87\u001b[0m             \u001b[1;32mtry\u001b[0m\u001b[1;33m:\u001b[0m\u001b[1;33m\u001b[0m\u001b[1;33m\u001b[0m\u001b[0m\n\u001b[0;32m     88\u001b[0m                 \u001b[0mreduction\u001b[0m\u001b[1;33m.\u001b[0m\u001b[0mdump\u001b[0m\u001b[1;33m(\u001b[0m\u001b[0mprep_data\u001b[0m\u001b[1;33m,\u001b[0m \u001b[0mto_child\u001b[0m\u001b[1;33m)\u001b[0m\u001b[1;33m\u001b[0m\u001b[1;33m\u001b[0m\u001b[0m\n\u001b[1;32m---> 89\u001b[1;33m                 \u001b[0mreduction\u001b[0m\u001b[1;33m.\u001b[0m\u001b[0mdump\u001b[0m\u001b[1;33m(\u001b[0m\u001b[0mprocess_obj\u001b[0m\u001b[1;33m,\u001b[0m \u001b[0mto_child\u001b[0m\u001b[1;33m)\u001b[0m\u001b[1;33m\u001b[0m\u001b[1;33m\u001b[0m\u001b[0m\n\u001b[0m\u001b[0;32m     90\u001b[0m             \u001b[1;32mfinally\u001b[0m\u001b[1;33m:\u001b[0m\u001b[1;33m\u001b[0m\u001b[1;33m\u001b[0m\u001b[0m\n\u001b[0;32m     91\u001b[0m                 \u001b[0mset_spawning_popen\u001b[0m\u001b[1;33m(\u001b[0m\u001b[1;32mNone\u001b[0m\u001b[1;33m)\u001b[0m\u001b[1;33m\u001b[0m\u001b[1;33m\u001b[0m\u001b[0m\n",
      "\u001b[1;32m~\\Anaconda3\\envs\\HLAI2023\\lib\\multiprocessing\\reduction.py\u001b[0m in \u001b[0;36mdump\u001b[1;34m(obj, file, protocol)\u001b[0m\n\u001b[0;32m     58\u001b[0m \u001b[1;32mdef\u001b[0m \u001b[0mdump\u001b[0m\u001b[1;33m(\u001b[0m\u001b[0mobj\u001b[0m\u001b[1;33m,\u001b[0m \u001b[0mfile\u001b[0m\u001b[1;33m,\u001b[0m \u001b[0mprotocol\u001b[0m\u001b[1;33m=\u001b[0m\u001b[1;32mNone\u001b[0m\u001b[1;33m)\u001b[0m\u001b[1;33m:\u001b[0m\u001b[1;33m\u001b[0m\u001b[1;33m\u001b[0m\u001b[0m\n\u001b[0;32m     59\u001b[0m     \u001b[1;34m'''Replacement for pickle.dump() using ForkingPickler.'''\u001b[0m\u001b[1;33m\u001b[0m\u001b[1;33m\u001b[0m\u001b[0m\n\u001b[1;32m---> 60\u001b[1;33m     \u001b[0mForkingPickler\u001b[0m\u001b[1;33m(\u001b[0m\u001b[0mfile\u001b[0m\u001b[1;33m,\u001b[0m \u001b[0mprotocol\u001b[0m\u001b[1;33m)\u001b[0m\u001b[1;33m.\u001b[0m\u001b[0mdump\u001b[0m\u001b[1;33m(\u001b[0m\u001b[0mobj\u001b[0m\u001b[1;33m)\u001b[0m\u001b[1;33m\u001b[0m\u001b[1;33m\u001b[0m\u001b[0m\n\u001b[0m\u001b[0;32m     61\u001b[0m \u001b[1;33m\u001b[0m\u001b[0m\n\u001b[0;32m     62\u001b[0m \u001b[1;31m#\u001b[0m\u001b[1;33m\u001b[0m\u001b[1;33m\u001b[0m\u001b[1;33m\u001b[0m\u001b[0m\n",
      "\u001b[1;31mKeyboardInterrupt\u001b[0m: "
     ]
    }
   ],
   "source": [
    "kf = StratifiedKFold(n_splits=5, shuffle=True, random_state=1813)\n",
    "\n",
    "train_dataset = CustomLoader(training_set, transforms=transform_train, is_train=True, aug_mode=CFG['AUG_MODE'])\n",
    "\n",
    "for foldk, (train_idx, val_idx) in enumerate(kf.split(X=training_set, y=all_labels)):\n",
    "    model = timm.create_model(model_name='vit_base_resnet50d_224', pretrained=False, num_classes=30, img_size=32, drop_rate=0.05)\n",
    "    \n",
    "    lr = 0.000\n",
    "    \n",
    "    criterion = nn.CrossEntropyLoss(weight = torch.tensor(class_weight).to(device))\n",
    "    optimizer = torch.optim.AdamW(model.parameters(), lr=lr, betas=(0.9,0.999), weight_decay=0.0001)\n",
    "    scheduler = CosineAnnealingWarmUpRestarts(optimizer, T_0 = 50, T_mult=1, eta_max=0.0005, T_up=10, gamma=0.25)\n",
    "    \n",
    "    train_subsampler = torch.utils.data.SubsetRandomSampler(train_idx)\n",
    "    valid_subsampler = torch.utils.data.SubsetRandomSampler(val_idx)\n",
    "    \n",
    "    train_loader = DataLoader(train_dataset, batch_size = 64, num_workers=4, sampler=train_subsampler)\n",
    "    valid_loader = DataLoader(train_dataset, batch_size = 64, num_workers=4, sampler=valid_subsampler)\n",
    "    \n",
    "    # Train\n",
    "    n_epochs = 100\n",
    "    EPOCH_FROM = 0\n",
    "    \n",
    "    train_loss = torch.zeros(n_epochs)\n",
    "    valid_loss = torch.zeros(n_epochs)\n",
    "    \n",
    "    train_acc = torch.zeros(n_epochs)\n",
    "    valid_acc = torch.zeros(n_epochs)\n",
    "    \n",
    "    valid_loss_min = np.Inf\n",
    "    past_lr = lr\n",
    "    model.to(device)\n",
    "    \n",
    "    last_loss_update = 0\n",
    "    \n",
    "    for e in range(n_epochs):\n",
    "        # Trian\n",
    "        model.train()\n",
    "        for (image, labels, _) in tqdm(train_loader):\n",
    "            image, labels = image.to(device), labels.to(device)\n",
    "            \n",
    "            optimizer.zero_grad()\n",
    "            pred = model(image)\n",
    "            loss = criterion(pred, labels)\n",
    "            loss.backward()\n",
    "            optimizer.step()\n",
    "            train_loss[e] += loss.item()\n",
    "    \n",
    "            ps = F.softmax(pred, dim=1)\n",
    "            top_p, top_class = ps.topk(1, dim=1)\n",
    "            equals = top_class == labels.reshape(top_class.shape)\n",
    "            train_acc[e] += torch.mean(equals.type(torch.float)).detach().cpu()\n",
    "            \n",
    "        \n",
    "        train_loss[e] /= len(train_loader)\n",
    "        train_acc[e] /= len(train_loader)\n",
    "        \n",
    "        # Validation\n",
    "        with torch.no_grad():\n",
    "            model.eval()\n",
    "            for image, labels, _ in tqdm(valid_loader):\n",
    "                image, labels = image.to(device), labels.to(device)\n",
    "                \n",
    "                logits = model(image)\n",
    "                loss = criterion(logits, labels)\n",
    "                valid_loss[e] += loss.item()\n",
    "    \n",
    "                ps = F.softmax(logits, dim=1)\n",
    "                top_p, top_class = ps.topk(1, dim=1)\n",
    "                equals = top_class == labels.reshape(top_class.shape)\n",
    "                valid_acc[e] += torch.mean(equals.type(torch.float)).detach().cpu()\n",
    "    \n",
    "        valid_loss[e] /= len(valid_loader)\n",
    "        valid_acc[e] /= len(valid_loader)\n",
    "        \n",
    "        scheduler.step(epoch=e)\n",
    "        \n",
    "        print('Fold: {} \\tEpoch: {} \\tTraining Loss: {:.6f} \\tValidation Loss: {:.6f}'.format(foldk, e, train_loss[e], valid_loss[e]))\n",
    "        print('Fold: {} \\tEpoch: {} \\tTraining accuracy: {:.6f} \\tValidation accuracy: {:.6f}'.format(foldk, e, train_acc[e], valid_acc[e]))\n",
    "        \n",
    "        if past_lr != optimizer.param_groups[0]['lr']:\n",
    "            print(f\"Learning Rete : {optimizer.param_groups[0]['lr']}\")\n",
    "            past_lr = optimizer.param_groups[0]['lr']\n",
    "            \n",
    "        if valid_loss[e] <= valid_loss_min:\n",
    "            print('Validation loss decreased ({:.6f} --> {:.6f}).  Saving model ...'.format(valid_loss_min,valid_loss[e]))\n",
    "            torch.save(model.state_dict(), f'./models/replay_test/best_model_fold{foldk}.pth')\n",
    "            valid_loss_min = valid_loss[e]\n",
    "            last_loss_update = e"
   ]
  },
  {
   "cell_type": "markdown",
   "id": "00f9978d",
   "metadata": {
    "papermill": {
     "duration": 0.011323,
     "end_time": "2023-10-23T14:10:31.021815",
     "exception": false,
     "start_time": "2023-10-23T14:10:31.010492",
     "status": "completed"
    },
    "tags": []
   },
   "source": []
  }
 ],
 "metadata": {
  "kernelspec": {
   "display_name": "Python 3",
   "language": "python",
   "name": "python3"
  },
  "language_info": {
   "codemirror_mode": {
    "name": "ipython",
    "version": 3
   },
   "file_extension": ".py",
   "mimetype": "text/x-python",
   "name": "python",
   "nbconvert_exporter": "python",
   "pygments_lexer": "ipython3",
   "version": "3.10.12"
  },
  "papermill": {
   "default_parameters": {},
   "duration": 40.642315,
   "end_time": "2023-10-23T14:10:33.298994",
   "environment_variables": {},
   "exception": null,
   "input_path": "__notebook__.ipynb",
   "output_path": "__notebook__.ipynb",
   "parameters": {},
   "start_time": "2023-10-23T14:09:52.656679",
   "version": "2.4.0"
  }
 },
 "nbformat": 4,
 "nbformat_minor": 5
}
