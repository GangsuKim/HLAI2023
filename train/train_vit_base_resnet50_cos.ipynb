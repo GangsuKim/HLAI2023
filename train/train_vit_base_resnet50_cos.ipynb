{
 "cells": [
  {
   "cell_type": "code",
   "execution_count": 1,
   "id": "4e1eb8cf489a337c",
   "metadata": {
    "ExecuteTime": {
     "end_time": "2023-10-30T05:18:33.307563200Z",
     "start_time": "2023-10-30T05:18:31.799655200Z"
    },
    "collapsed": false
   },
   "outputs": [
    {
     "name": "stderr",
     "output_type": "stream",
     "text": [
      "C:\\Users\\GangsuKim\\Anaconda3\\envs\\HLAI2023\\lib\\site-packages\\torchvision\\io\\image.py:13: UserWarning: Failed to load image Python extension: \n",
      "  warn(f\"Failed to load image Python extension: {e}\")\n"
     ]
    }
   ],
   "source": [
    "from tqdm import tqdm\n",
    "from glob import glob\n",
    "import os\n",
    "\n",
    "import pandas as pd\n",
    "\n",
    "import torch\n",
    "import torch.nn as nn\n",
    "import torch.nn.functional as F\n",
    "import random\n",
    "\n",
    "from torchvision.models import *\n",
    "from torch.utils.data import DataLoader\n",
    "from torchvision.transforms import AutoAugment\n",
    "from torchvision.transforms import AutoAugmentPolicy\n",
    "from torchvision.transforms import transforms\n",
    "from torch.optim.lr_scheduler import ReduceLROnPlateau\n",
    "\n",
    "from sklearn.model_selection import train_test_split, StratifiedKFold\n",
    "import numpy as np\n",
    "\n",
    "import albumentations as A\n",
    "from albumentations.imgaug.transforms import IAAPiecewiseAffine\n",
    "from albumentations.pytorch import ToTensorV2\n",
    "\n",
    "from CustomLoader import CustomLoader\n",
    "import timm\n",
    "from utils.CosineAnnealingWarmUpRestarts import  CosineAnnealingWarmUpRestarts\n",
    "\n",
    "from utils.utils import *\n",
    "from utils.AugMix import *\n",
    "from utils.CutMix import *\n",
    "from utils.MyModel import *"
   ]
  },
  {
   "cell_type": "code",
   "execution_count": 2,
   "id": "b774aba0",
   "metadata": {
    "ExecuteTime": {
     "end_time": "2023-10-30T05:18:33.368945700Z",
     "start_time": "2023-10-30T05:18:33.309644200Z"
    },
    "execution": {
     "iopub.execute_input": "2023-10-23T14:10:00.706380Z",
     "iopub.status.busy": "2023-10-23T14:10:00.705910Z",
     "iopub.status.idle": "2023-10-23T14:10:05.499515Z",
     "shell.execute_reply": "2023-10-23T14:10:05.498153Z"
    },
    "papermill": {
     "duration": 4.809141,
     "end_time": "2023-10-23T14:10:05.503022",
     "exception": false,
     "start_time": "2023-10-23T14:10:00.693881",
     "status": "completed"
    },
    "tags": []
   },
   "outputs": [],
   "source": [
    "training_set, test_set = getDataSet('./dataset/')\n",
    "set_random_seed(1813)\n",
    "device = 'cuda' if torch.cuda.is_available() else 'cpu'"
   ]
  },
  {
   "cell_type": "markdown",
   "id": "e26369a9422657b8",
   "metadata": {
    "collapsed": false
   },
   "source": [
    "## Stratic Split"
   ]
  },
  {
   "cell_type": "code",
   "execution_count": 3,
   "id": "afcc638e0e1d66f7",
   "metadata": {
    "ExecuteTime": {
     "end_time": "2023-10-30T05:18:33.384007500Z",
     "start_time": "2023-10-30T05:18:33.369946300Z"
    },
    "collapsed": false
   },
   "outputs": [],
   "source": [
    "classes = {}\n",
    "\n",
    "for ts in training_set:\n",
    "    class_n = ts.split('/')[3]\n",
    "\n",
    "    if class_n in classes.keys():\n",
    "        classes[class_n].append(ts)\n",
    "    else:\n",
    "        classes[class_n] = [ts]"
   ]
  },
  {
   "cell_type": "code",
   "execution_count": 5,
   "id": "13c4f539d0182c94",
   "metadata": {
    "ExecuteTime": {
     "end_time": "2023-10-30T05:18:33.414171300Z",
     "start_time": "2023-10-30T05:18:33.401091300Z"
    },
    "collapsed": false
   },
   "outputs": [],
   "source": [
    "dist = getDistributionDataSet(training_set)\n",
    "dist = dict(sorted(dist.items(), key=lambda x:int(x[0])))"
   ]
  },
  {
   "cell_type": "code",
   "execution_count": 6,
   "id": "75923c31ee1ceda",
   "metadata": {
    "ExecuteTime": {
     "end_time": "2023-10-30T05:18:33.459508600Z",
     "start_time": "2023-10-30T05:18:33.415171700Z"
    },
    "collapsed": false
   },
   "outputs": [
    {
     "data": {
      "text/plain": [
       "{'0': 500,\n",
       " '1': 500,\n",
       " '2': 500,\n",
       " '3': 450,\n",
       " '4': 450,\n",
       " '5': 450,\n",
       " '6': 400,\n",
       " '7': 400,\n",
       " '8': 400,\n",
       " '9': 350,\n",
       " '10': 350,\n",
       " '11': 350,\n",
       " '12': 300,\n",
       " '13': 300,\n",
       " '14': 300,\n",
       " '15': 250,\n",
       " '16': 250,\n",
       " '17': 250,\n",
       " '18': 200,\n",
       " '19': 200,\n",
       " '20': 200,\n",
       " '21': 150,\n",
       " '22': 150,\n",
       " '23': 150,\n",
       " '24': 100,\n",
       " '25': 100,\n",
       " '26': 100,\n",
       " '27': 50,\n",
       " '28': 50,\n",
       " '29': 50}"
      ]
     },
     "execution_count": 6,
     "metadata": {},
     "output_type": "execute_result"
    }
   ],
   "source": [
    "dist"
   ]
  },
  {
   "cell_type": "code",
   "execution_count": 7,
   "id": "41e3c0373d689c98",
   "metadata": {
    "ExecuteTime": {
     "end_time": "2023-10-30T05:18:33.466509200Z",
     "start_time": "2023-10-30T05:18:33.431365600Z"
    },
    "collapsed": false
   },
   "outputs": [],
   "source": [
    "fold_k = 5\n",
    "\n",
    "fold_dict = {}\n",
    "\n",
    "for i in range(fold_k):\n",
    "    fold_dict[i] = []\n",
    "    \n",
    "for k in classes.keys():\n",
    "    ls = classes[k]\n",
    "    random.shuffle(ls)\n",
    "    ls = np.array(ls)\n",
    "    splited_ls = np.split(ls, fold_k)\n",
    "    \n",
    "    for i, l in enumerate(splited_ls):\n",
    "        fold_dict[i] += list(l)\n",
    "    \n",
    "    \n",
    "training_set = []\n",
    "\n",
    "for i in range(fold_k):\n",
    "    training_set += fold_dict[i]"
   ]
  },
  {
   "cell_type": "code",
   "execution_count": 8,
   "id": "624bc32ecfbb2c48",
   "metadata": {
    "ExecuteTime": {
     "end_time": "2023-10-30T05:18:33.467509800Z",
     "start_time": "2023-10-30T05:18:33.445443800Z"
    },
    "collapsed": false
   },
   "outputs": [],
   "source": [
    "CFG = {\n",
    "    'AUG_MODE' : 'albu', # or [albu,transform]\n",
    "    'MEAN' : [0.5051, 0.4853, 0.4409],\n",
    "    'STD' : [0.2774, 0.2568, 0.2795],\n",
    "    'CutMix': False,\n",
    "    'mix_prob' : 0.5\n",
    "}"
   ]
  },
  {
   "cell_type": "markdown",
   "id": "2699a7dc026f9327",
   "metadata": {
    "collapsed": false
   },
   "source": [
    "## Class Weight"
   ]
  },
  {
   "cell_type": "code",
   "execution_count": 9,
   "id": "43c522372ef7611f",
   "metadata": {
    "ExecuteTime": {
     "end_time": "2023-10-30T05:18:33.476613Z",
     "start_time": "2023-10-30T05:18:33.463510100Z"
    },
    "collapsed": false
   },
   "outputs": [],
   "source": [
    "class_weight = []\n",
    "\n",
    "dist = getDistributionDataSet(training_set)\n",
    "dist = dict(sorted(dist.items(), key=lambda x:int(x[0])))\n",
    "\n",
    "sum_of_dist = 0\n",
    "\n",
    "for k in dist.keys():\n",
    "    sum_of_dist += dist[k]\n",
    "\n",
    "for k in dist.keys():\n",
    "    class_weight.append(1 - (dist[k] / sum_of_dist))"
   ]
  },
  {
   "cell_type": "markdown",
   "id": "bf462c568265843c",
   "metadata": {
    "collapsed": false
   },
   "source": [
    "# Transform"
   ]
  },
  {
   "cell_type": "code",
   "execution_count": 11,
   "id": "5d870cd911a0ac63",
   "metadata": {
    "ExecuteTime": {
     "end_time": "2023-10-30T05:18:33.508924700Z",
     "start_time": "2023-10-30T05:18:33.491755800Z"
    },
    "collapsed": false
   },
   "outputs": [],
   "source": [
    "def getTransform(train_mean = [.5, .5, .5], train_std= [.5, .5, .5], val_mean= [.5, .5, .5], val_std= [.5, .5, .5], aug_mode='albu'):\n",
    "    if aug_mode == 'albu':\n",
    "        transform_train = A.Compose([\n",
    "            A.Resize(32,32),\n",
    "            A.Rotate(limit=(-360,360), interpolation=1, border_mode=1, always_apply=True),\n",
    "            A.VerticalFlip(p=0.5),\n",
    "            A.HorizontalFlip(p=0.5),\n",
    "            A.RandomBrightnessContrast(p=0.5),\n",
    "            A.RandomToneCurve(p=0.2, scale=0.15),\n",
    "            A.CLAHE(p=0.4, clip_limit=(1, 4), tile_grid_size=(8, 8)),\n",
    "            A.CoarseDropout(max_height=3, max_width=3, p = 0.7),\n",
    "            A.Normalize(train_mean, train_std),\n",
    "            ToTensorV2(),\n",
    "        ])\n",
    "    \n",
    "        transform_test = A.Compose([\n",
    "            A.Resize(32,32),\n",
    "            A.Normalize(val_mean, val_std),\n",
    "            ToTensorV2(),\n",
    "        ])\n",
    "    else:\n",
    "        transform_train = transforms.Compose([\n",
    "            transforms.Resize(32),\n",
    "            AutoAugment(AutoAugmentPolicy.CIFAR10),\n",
    "            transforms.Normalize(train_mean, train_std),\n",
    "            transforms.ToTensor(),\n",
    "        ])\n",
    "        \n",
    "        transform_test = transforms.Compose([\n",
    "            transforms.Resize(32),\n",
    "            transforms.Normalize(val_mean, val_std),\n",
    "            transforms.ToTensor(),\n",
    "        ])\n",
    "        \n",
    "    return transform_train, transform_test"
   ]
  },
  {
   "cell_type": "markdown",
   "id": "d6a92e36bc0a710c",
   "metadata": {
    "collapsed": false
   },
   "source": [
    "## Kfold"
   ]
  },
  {
   "cell_type": "code",
   "execution_count": 12,
   "id": "63c8b312fe8daa2b",
   "metadata": {
    "ExecuteTime": {
     "end_time": "2023-10-30T05:18:37.778547Z",
     "start_time": "2023-10-30T05:18:33.506834700Z"
    },
    "collapsed": false
   },
   "outputs": [],
   "source": [
    "train_norm, train_std = getNormStd(training_set)\n",
    "transform_train, transform_valid = getTransform(train_norm, train_std, train_norm, train_std)"
   ]
  },
  {
   "cell_type": "code",
   "execution_count": 13,
   "id": "51b535c8977f1a27",
   "metadata": {
    "ExecuteTime": {
     "end_time": "2023-10-30T05:18:37.792601Z",
     "start_time": "2023-10-30T05:18:37.777546200Z"
    },
    "collapsed": false
   },
   "outputs": [
    {
     "data": {
      "text/plain": [
       "(8250, 8250)"
      ]
     },
     "execution_count": 13,
     "metadata": {},
     "output_type": "execute_result"
    }
   ],
   "source": [
    "all_labels = []\n",
    "for file in training_set:\n",
    "    all_labels.append(int(file.split('/')[3]))\n",
    "len(all_labels), len(training_set)"
   ]
  },
  {
   "cell_type": "code",
   "execution_count": 14,
   "id": "f14e93c5627a9a9",
   "metadata": {
    "ExecuteTime": {
     "end_time": "2023-10-30T05:27:04.397979800Z",
     "start_time": "2023-10-30T05:18:54.774721500Z"
    },
    "collapsed": false
   },
   "outputs": [
    {
     "name": "stdout",
     "output_type": "stream",
     "text": [
      "============= Fold-0 strat =============\n"
     ]
    },
    {
     "name": "stderr",
     "output_type": "stream",
     "text": [
      "100%|██████████| 104/104 [00:15<00:00,  6.89it/s]\n",
      "100%|██████████| 26/26 [00:04<00:00,  6.18it/s]\n"
     ]
    },
    {
     "name": "stdout",
     "output_type": "stream",
     "text": [
      "Fold: 0 \tEpoch: 0 \tTraining Loss: 3.536098 \tValidation Loss: 3.545161\n",
      "Fold: 0 \tEpoch: 0 \tTraining accuracy: 0.000000 \tValidation accuracy: 0.042404\n",
      "0.0\n",
      "Validation loss decreased (inf --> 3.545161).  Saving model ...\n"
     ]
    },
    {
     "name": "stderr",
     "output_type": "stream",
     "text": [
      "100%|██████████| 104/104 [00:11<00:00,  8.67it/s]\n",
      "100%|██████████| 26/26 [00:03<00:00,  7.03it/s]\n"
     ]
    },
    {
     "name": "stdout",
     "output_type": "stream",
     "text": [
      "Fold: 0 \tEpoch: 1 \tTraining Loss: 3.545936 \tValidation Loss: 3.547640\n",
      "Fold: 0 \tEpoch: 1 \tTraining accuracy: 0.000000 \tValidation accuracy: 0.044207\n",
      "0.0002\n"
     ]
    },
    {
     "name": "stderr",
     "output_type": "stream",
     "text": [
      "100%|██████████| 104/104 [00:11<00:00,  8.75it/s]\n",
      "100%|██████████| 26/26 [00:03<00:00,  6.95it/s]\n"
     ]
    },
    {
     "name": "stdout",
     "output_type": "stream",
     "text": [
      "Fold: 0 \tEpoch: 2 \tTraining Loss: 2.869291 \tValidation Loss: 2.616351\n",
      "Fold: 0 \tEpoch: 2 \tTraining accuracy: 0.000000 \tValidation accuracy: 0.234423\n",
      "0.0004\n",
      "Validation loss decreased (3.545161 --> 2.616351).  Saving model ...\n"
     ]
    },
    {
     "name": "stderr",
     "output_type": "stream",
     "text": [
      "100%|██████████| 104/104 [00:11<00:00,  8.72it/s]\n",
      "100%|██████████| 26/26 [00:03<00:00,  7.04it/s]\n"
     ]
    },
    {
     "name": "stdout",
     "output_type": "stream",
     "text": [
      "Fold: 0 \tEpoch: 3 \tTraining Loss: 2.720421 \tValidation Loss: 2.670020\n",
      "Fold: 0 \tEpoch: 3 \tTraining accuracy: 0.000000 \tValidation accuracy: 0.218029\n",
      "0.0006000000000000001\n"
     ]
    },
    {
     "name": "stderr",
     "output_type": "stream",
     "text": [
      "100%|██████████| 104/104 [00:11<00:00,  8.71it/s]\n",
      "100%|██████████| 26/26 [00:03<00:00,  6.73it/s]\n"
     ]
    },
    {
     "name": "stdout",
     "output_type": "stream",
     "text": [
      "Fold: 0 \tEpoch: 4 \tTraining Loss: 2.718459 \tValidation Loss: 2.553934\n",
      "Fold: 0 \tEpoch: 4 \tTraining accuracy: 0.000000 \tValidation accuracy: 0.261106\n",
      "0.0008\n",
      "Validation loss decreased (2.616351 --> 2.553934).  Saving model ...\n"
     ]
    },
    {
     "name": "stderr",
     "output_type": "stream",
     "text": [
      "100%|██████████| 104/104 [00:11<00:00,  8.69it/s]\n",
      "100%|██████████| 26/26 [00:03<00:00,  6.65it/s]\n"
     ]
    },
    {
     "name": "stdout",
     "output_type": "stream",
     "text": [
      "Fold: 0 \tEpoch: 5 \tTraining Loss: 2.665587 \tValidation Loss: 2.482176\n",
      "Fold: 0 \tEpoch: 5 \tTraining accuracy: 0.000000 \tValidation accuracy: 0.241106\n",
      "0.001\n",
      "Validation loss decreased (2.553934 --> 2.482176).  Saving model ...\n"
     ]
    },
    {
     "name": "stderr",
     "output_type": "stream",
     "text": [
      "100%|██████████| 104/104 [00:11<00:00,  8.67it/s]\n",
      "100%|██████████| 26/26 [00:03<00:00,  6.63it/s]\n"
     ]
    },
    {
     "name": "stdout",
     "output_type": "stream",
     "text": [
      "Fold: 0 \tEpoch: 6 \tTraining Loss: 2.587035 \tValidation Loss: 2.516703\n",
      "Fold: 0 \tEpoch: 6 \tTraining accuracy: 0.000000 \tValidation accuracy: 0.265817\n",
      "0.0009979871469976197\n"
     ]
    },
    {
     "name": "stderr",
     "output_type": "stream",
     "text": [
      "100%|██████████| 104/104 [00:11<00:00,  8.69it/s]\n",
      "100%|██████████| 26/26 [00:03<00:00,  6.75it/s]\n"
     ]
    },
    {
     "name": "stdout",
     "output_type": "stream",
     "text": [
      "Fold: 0 \tEpoch: 7 \tTraining Loss: 2.533258 \tValidation Loss: 2.589780\n",
      "Fold: 0 \tEpoch: 7 \tTraining accuracy: 0.000000 \tValidation accuracy: 0.259567\n",
      "0.0009919647942993148\n"
     ]
    },
    {
     "name": "stderr",
     "output_type": "stream",
     "text": [
      "100%|██████████| 104/104 [00:11<00:00,  8.76it/s]\n",
      "100%|██████████| 26/26 [00:03<00:00,  6.74it/s]\n"
     ]
    },
    {
     "name": "stdout",
     "output_type": "stream",
     "text": [
      "Fold: 0 \tEpoch: 8 \tTraining Loss: 2.462719 \tValidation Loss: 2.364062\n",
      "Fold: 0 \tEpoch: 8 \tTraining accuracy: 0.000000 \tValidation accuracy: 0.313918\n",
      "0.0009819814303479266\n",
      "Validation loss decreased (2.482176 --> 2.364062).  Saving model ...\n"
     ]
    },
    {
     "name": "stderr",
     "output_type": "stream",
     "text": [
      "100%|██████████| 104/104 [00:11<00:00,  8.77it/s]\n",
      "100%|██████████| 26/26 [00:03<00:00,  6.75it/s]\n"
     ]
    },
    {
     "name": "stdout",
     "output_type": "stream",
     "text": [
      "Fold: 0 \tEpoch: 9 \tTraining Loss: 2.381591 \tValidation Loss: 2.357682\n",
      "Fold: 0 \tEpoch: 9 \tTraining accuracy: 0.000000 \tValidation accuracy: 0.311851\n",
      "0.0009681174353198686\n",
      "Validation loss decreased (2.364062 --> 2.357682).  Saving model ...\n"
     ]
    },
    {
     "name": "stderr",
     "output_type": "stream",
     "text": [
      "100%|██████████| 104/104 [00:11<00:00,  8.75it/s]\n",
      "100%|██████████| 26/26 [00:03<00:00,  6.78it/s]\n"
     ]
    },
    {
     "name": "stdout",
     "output_type": "stream",
     "text": [
      "Fold: 0 \tEpoch: 10 \tTraining Loss: 2.363885 \tValidation Loss: 2.317262\n",
      "Fold: 0 \tEpoch: 10 \tTraining accuracy: 0.000000 \tValidation accuracy: 0.314856\n",
      "0.0009504844339512095\n",
      "Validation loss decreased (2.357682 --> 2.317262).  Saving model ...\n"
     ]
    },
    {
     "name": "stderr",
     "output_type": "stream",
     "text": [
      "100%|██████████| 104/104 [00:11<00:00,  8.78it/s]\n",
      "100%|██████████| 26/26 [00:03<00:00,  6.73it/s]\n"
     ]
    },
    {
     "name": "stdout",
     "output_type": "stream",
     "text": [
      "Fold: 0 \tEpoch: 11 \tTraining Loss: 2.304745 \tValidation Loss: 2.219729\n",
      "Fold: 0 \tEpoch: 11 \tTraining accuracy: 0.000000 \tValidation accuracy: 0.336995\n",
      "0.000929224396800933\n",
      "Validation loss decreased (2.317262 --> 2.219729).  Saving model ...\n"
     ]
    },
    {
     "name": "stderr",
     "output_type": "stream",
     "text": [
      "100%|██████████| 104/104 [00:11<00:00,  8.80it/s]\n",
      "100%|██████████| 26/26 [00:03<00:00,  6.66it/s]\n"
     ]
    },
    {
     "name": "stdout",
     "output_type": "stream",
     "text": [
      "Fold: 0 \tEpoch: 12 \tTraining Loss: 2.285015 \tValidation Loss: 2.157266\n",
      "Fold: 0 \tEpoch: 12 \tTraining accuracy: 0.000000 \tValidation accuracy: 0.362139\n",
      "0.0009045084971874737\n",
      "Validation loss decreased (2.219729 --> 2.157266).  Saving model ...\n"
     ]
    },
    {
     "name": "stderr",
     "output_type": "stream",
     "text": [
      "100%|██████████| 104/104 [00:11<00:00,  8.75it/s]\n",
      "100%|██████████| 26/26 [00:03<00:00,  6.71it/s]\n"
     ]
    },
    {
     "name": "stdout",
     "output_type": "stream",
     "text": [
      "Fold: 0 \tEpoch: 13 \tTraining Loss: 2.265102 \tValidation Loss: 2.164890\n",
      "Fold: 0 \tEpoch: 13 \tTraining accuracy: 0.000000 \tValidation accuracy: 0.351226\n",
      "0.0008765357330018055\n"
     ]
    },
    {
     "name": "stderr",
     "output_type": "stream",
     "text": [
      "100%|██████████| 104/104 [00:11<00:00,  8.74it/s]\n",
      "100%|██████████| 26/26 [00:03<00:00,  6.74it/s]\n"
     ]
    },
    {
     "name": "stdout",
     "output_type": "stream",
     "text": [
      "Fold: 0 \tEpoch: 14 \tTraining Loss: 2.197180 \tValidation Loss: 2.162970\n",
      "Fold: 0 \tEpoch: 14 \tTraining accuracy: 0.000000 \tValidation accuracy: 0.371514\n",
      "0.0008455313244934324\n"
     ]
    },
    {
     "name": "stderr",
     "output_type": "stream",
     "text": [
      "100%|██████████| 104/104 [00:11<00:00,  8.78it/s]\n",
      "100%|██████████| 26/26 [00:03<00:00,  6.74it/s]\n"
     ]
    },
    {
     "name": "stdout",
     "output_type": "stream",
     "text": [
      "Fold: 0 \tEpoch: 15 \tTraining Loss: 2.191818 \tValidation Loss: 2.122521\n",
      "Fold: 0 \tEpoch: 15 \tTraining accuracy: 0.000000 \tValidation accuracy: 0.377500\n",
      "0.0008117449009293668\n",
      "Validation loss decreased (2.157266 --> 2.122521).  Saving model ...\n"
     ]
    },
    {
     "name": "stderr",
     "output_type": "stream",
     "text": [
      "100%|██████████| 104/104 [00:11<00:00,  8.75it/s]\n",
      "100%|██████████| 26/26 [00:03<00:00,  7.03it/s]\n"
     ]
    },
    {
     "name": "stdout",
     "output_type": "stream",
     "text": [
      "Fold: 0 \tEpoch: 16 \tTraining Loss: 2.160924 \tValidation Loss: 2.087918\n",
      "Fold: 0 \tEpoch: 16 \tTraining accuracy: 0.000000 \tValidation accuracy: 0.387981\n",
      "0.0007754484907260512\n",
      "Validation loss decreased (2.122521 --> 2.087918).  Saving model ...\n"
     ]
    },
    {
     "name": "stderr",
     "output_type": "stream",
     "text": [
      "100%|██████████| 104/104 [00:11<00:00,  8.75it/s]\n",
      "100%|██████████| 26/26 [00:03<00:00,  6.80it/s]\n"
     ]
    },
    {
     "name": "stdout",
     "output_type": "stream",
     "text": [
      "Fold: 0 \tEpoch: 17 \tTraining Loss: 2.104029 \tValidation Loss: 2.069508\n",
      "Fold: 0 \tEpoch: 17 \tTraining accuracy: 0.000000 \tValidation accuracy: 0.403437\n",
      "0.0007369343312364993\n",
      "Validation loss decreased (2.087918 --> 2.069508).  Saving model ...\n"
     ]
    },
    {
     "name": "stderr",
     "output_type": "stream",
     "text": [
      "100%|██████████| 104/104 [00:11<00:00,  8.77it/s]\n",
      "100%|██████████| 26/26 [00:03<00:00,  7.06it/s]\n"
     ]
    },
    {
     "name": "stdout",
     "output_type": "stream",
     "text": [
      "Fold: 0 \tEpoch: 18 \tTraining Loss: 2.081517 \tValidation Loss: 2.013718\n",
      "Fold: 0 \tEpoch: 18 \tTraining accuracy: 0.000000 \tValidation accuracy: 0.408077\n",
      "0.0006965125158269618\n",
      "Validation loss decreased (2.069508 --> 2.013718).  Saving model ...\n"
     ]
    },
    {
     "name": "stderr",
     "output_type": "stream",
     "text": [
      "100%|██████████| 104/104 [00:11<00:00,  8.78it/s]\n",
      "100%|██████████| 26/26 [00:03<00:00,  7.11it/s]\n"
     ]
    },
    {
     "name": "stdout",
     "output_type": "stream",
     "text": [
      "Fold: 0 \tEpoch: 19 \tTraining Loss: 2.039505 \tValidation Loss: 1.980966\n",
      "Fold: 0 \tEpoch: 19 \tTraining accuracy: 0.000000 \tValidation accuracy: 0.424832\n",
      "0.0006545084971874737\n",
      "Validation loss decreased (2.013718 --> 1.980966).  Saving model ...\n"
     ]
    },
    {
     "name": "stderr",
     "output_type": "stream",
     "text": [
      "100%|██████████| 104/104 [00:11<00:00,  8.73it/s]\n",
      "100%|██████████| 26/26 [00:03<00:00,  7.17it/s]\n"
     ]
    },
    {
     "name": "stdout",
     "output_type": "stream",
     "text": [
      "Fold: 0 \tEpoch: 20 \tTraining Loss: 2.037303 \tValidation Loss: 1.966071\n",
      "Fold: 0 \tEpoch: 20 \tTraining accuracy: 0.000000 \tValidation accuracy: 0.423437\n",
      "0.0006112604669781572\n",
      "Validation loss decreased (1.980966 --> 1.966071).  Saving model ...\n"
     ]
    },
    {
     "name": "stderr",
     "output_type": "stream",
     "text": [
      "100%|██████████| 104/104 [00:11<00:00,  8.79it/s]\n",
      "100%|██████████| 26/26 [00:03<00:00,  6.82it/s]\n"
     ]
    },
    {
     "name": "stdout",
     "output_type": "stream",
     "text": [
      "Fold: 0 \tEpoch: 21 \tTraining Loss: 1.974529 \tValidation Loss: 1.913010\n",
      "Fold: 0 \tEpoch: 21 \tTraining accuracy: 0.000000 \tValidation accuracy: 0.431418\n",
      "0.0005671166329088278\n",
      "Validation loss decreased (1.966071 --> 1.913010).  Saving model ...\n"
     ]
    },
    {
     "name": "stderr",
     "output_type": "stream",
     "text": [
      "100%|██████████| 104/104 [00:11<00:00,  8.79it/s]\n",
      "100%|██████████| 26/26 [00:03<00:00,  6.77it/s]\n"
     ]
    },
    {
     "name": "stdout",
     "output_type": "stream",
     "text": [
      "Fold: 0 \tEpoch: 22 \tTraining Loss: 1.929165 \tValidation Loss: 1.911641\n",
      "Fold: 0 \tEpoch: 22 \tTraining accuracy: 0.000000 \tValidation accuracy: 0.431346\n",
      "0.0005224324151752575\n",
      "Validation loss decreased (1.913010 --> 1.911641).  Saving model ...\n"
     ]
    },
    {
     "name": "stderr",
     "output_type": "stream",
     "text": [
      "100%|██████████| 104/104 [00:11<00:00,  8.68it/s]\n",
      "100%|██████████| 26/26 [00:03<00:00,  6.82it/s]\n"
     ]
    },
    {
     "name": "stdout",
     "output_type": "stream",
     "text": [
      "Fold: 0 \tEpoch: 23 \tTraining Loss: 1.918368 \tValidation Loss: 1.899196\n",
      "Fold: 0 \tEpoch: 23 \tTraining accuracy: 0.000000 \tValidation accuracy: 0.438029\n",
      "0.0004775675848247426\n",
      "Validation loss decreased (1.911641 --> 1.899196).  Saving model ...\n"
     ]
    },
    {
     "name": "stderr",
     "output_type": "stream",
     "text": [
      "100%|██████████| 104/104 [00:11<00:00,  8.78it/s]\n",
      "100%|██████████| 26/26 [00:03<00:00,  6.75it/s]\n"
     ]
    },
    {
     "name": "stdout",
     "output_type": "stream",
     "text": [
      "Fold: 0 \tEpoch: 24 \tTraining Loss: 1.900738 \tValidation Loss: 1.885210\n",
      "Fold: 0 \tEpoch: 24 \tTraining accuracy: 0.000000 \tValidation accuracy: 0.444712\n",
      "0.0004328833670911723\n",
      "Validation loss decreased (1.899196 --> 1.885210).  Saving model ...\n"
     ]
    },
    {
     "name": "stderr",
     "output_type": "stream",
     "text": [
      "100%|██████████| 104/104 [00:11<00:00,  8.76it/s]\n",
      "100%|██████████| 26/26 [00:03<00:00,  6.80it/s]\n"
     ]
    },
    {
     "name": "stdout",
     "output_type": "stream",
     "text": [
      "Fold: 0 \tEpoch: 25 \tTraining Loss: 1.832010 \tValidation Loss: 1.873663\n",
      "Fold: 0 \tEpoch: 25 \tTraining accuracy: 0.000000 \tValidation accuracy: 0.443702\n",
      "0.00038873953302184284\n",
      "Validation loss decreased (1.885210 --> 1.873663).  Saving model ...\n"
     ]
    },
    {
     "name": "stderr",
     "output_type": "stream",
     "text": [
      "100%|██████████| 104/104 [00:11<00:00,  8.77it/s]\n",
      "100%|██████████| 26/26 [00:03<00:00,  6.74it/s]\n"
     ]
    },
    {
     "name": "stdout",
     "output_type": "stream",
     "text": [
      "Fold: 0 \tEpoch: 26 \tTraining Loss: 1.833918 \tValidation Loss: 1.842960\n",
      "Fold: 0 \tEpoch: 26 \tTraining accuracy: 0.000000 \tValidation accuracy: 0.454591\n",
      "0.00034549150281252633\n",
      "Validation loss decreased (1.873663 --> 1.842960).  Saving model ...\n"
     ]
    },
    {
     "name": "stderr",
     "output_type": "stream",
     "text": [
      "100%|██████████| 104/104 [00:11<00:00,  8.76it/s]\n",
      "100%|██████████| 26/26 [00:03<00:00,  6.75it/s]\n"
     ]
    },
    {
     "name": "stdout",
     "output_type": "stream",
     "text": [
      "Fold: 0 \tEpoch: 27 \tTraining Loss: 1.811484 \tValidation Loss: 1.812263\n",
      "Fold: 0 \tEpoch: 27 \tTraining accuracy: 0.000000 \tValidation accuracy: 0.456659\n",
      "0.0003034874841730383\n",
      "Validation loss decreased (1.842960 --> 1.812263).  Saving model ...\n"
     ]
    },
    {
     "name": "stderr",
     "output_type": "stream",
     "text": [
      "100%|██████████| 104/104 [00:11<00:00,  8.77it/s]\n",
      "100%|██████████| 26/26 [00:03<00:00,  7.08it/s]\n"
     ]
    },
    {
     "name": "stdout",
     "output_type": "stream",
     "text": [
      "Fold: 0 \tEpoch: 28 \tTraining Loss: 1.770743 \tValidation Loss: 1.772101\n",
      "Fold: 0 \tEpoch: 28 \tTraining accuracy: 0.000000 \tValidation accuracy: 0.461034\n",
      "0.0002630656687635007\n",
      "Validation loss decreased (1.812263 --> 1.772101).  Saving model ...\n"
     ]
    },
    {
     "name": "stderr",
     "output_type": "stream",
     "text": [
      "100%|██████████| 104/104 [00:11<00:00,  8.71it/s]\n",
      "100%|██████████| 26/26 [00:03<00:00,  6.69it/s]\n"
     ]
    },
    {
     "name": "stdout",
     "output_type": "stream",
     "text": [
      "Fold: 0 \tEpoch: 29 \tTraining Loss: 1.731652 \tValidation Loss: 1.763829\n",
      "Fold: 0 \tEpoch: 29 \tTraining accuracy: 0.000000 \tValidation accuracy: 0.476058\n",
      "0.0002245515092739488\n",
      "Validation loss decreased (1.772101 --> 1.763829).  Saving model ...\n"
     ]
    },
    {
     "name": "stderr",
     "output_type": "stream",
     "text": [
      "  0%|          | 0/104 [00:02<?, ?it/s]\n"
     ]
    },
    {
     "ename": "KeyboardInterrupt",
     "evalue": "",
     "output_type": "error",
     "traceback": [
      "\u001b[1;31m---------------------------------------------------------------------------\u001b[0m",
      "\u001b[1;31mKeyboardInterrupt\u001b[0m                         Traceback (most recent call last)",
      "\u001b[1;32m~\\AppData\\Local\\Temp\\ipykernel_28200\\1175829298.py\u001b[0m in \u001b[0;36m<module>\u001b[1;34m\u001b[0m\n\u001b[0;32m     39\u001b[0m         \u001b[1;31m# Trian\u001b[0m\u001b[1;33m\u001b[0m\u001b[1;33m\u001b[0m\u001b[1;33m\u001b[0m\u001b[0m\n\u001b[0;32m     40\u001b[0m         \u001b[0mmodel\u001b[0m\u001b[1;33m.\u001b[0m\u001b[0mtrain\u001b[0m\u001b[1;33m(\u001b[0m\u001b[1;33m)\u001b[0m\u001b[1;33m\u001b[0m\u001b[1;33m\u001b[0m\u001b[0m\n\u001b[1;32m---> 41\u001b[1;33m         \u001b[1;32mfor\u001b[0m \u001b[1;33m(\u001b[0m\u001b[0mimage\u001b[0m\u001b[1;33m,\u001b[0m \u001b[0mlabels\u001b[0m\u001b[1;33m,\u001b[0m \u001b[0m_\u001b[0m\u001b[1;33m)\u001b[0m \u001b[1;32min\u001b[0m \u001b[0mtqdm\u001b[0m\u001b[1;33m(\u001b[0m\u001b[0mtrain_loader\u001b[0m\u001b[1;33m)\u001b[0m\u001b[1;33m:\u001b[0m\u001b[1;33m\u001b[0m\u001b[1;33m\u001b[0m\u001b[0m\n\u001b[0m\u001b[0;32m     42\u001b[0m             \u001b[0mimage\u001b[0m\u001b[1;33m,\u001b[0m \u001b[0mlabels\u001b[0m \u001b[1;33m=\u001b[0m \u001b[0mimage\u001b[0m\u001b[1;33m.\u001b[0m\u001b[0mto\u001b[0m\u001b[1;33m(\u001b[0m\u001b[0mdevice\u001b[0m\u001b[1;33m)\u001b[0m\u001b[1;33m,\u001b[0m \u001b[0mlabels\u001b[0m\u001b[1;33m.\u001b[0m\u001b[0mto\u001b[0m\u001b[1;33m(\u001b[0m\u001b[0mdevice\u001b[0m\u001b[1;33m)\u001b[0m\u001b[1;33m\u001b[0m\u001b[1;33m\u001b[0m\u001b[0m\n\u001b[0;32m     43\u001b[0m \u001b[1;33m\u001b[0m\u001b[0m\n",
      "\u001b[1;32m~\\Anaconda3\\envs\\HLAI2023\\lib\\site-packages\\tqdm\\std.py\u001b[0m in \u001b[0;36m__iter__\u001b[1;34m(self)\u001b[0m\n\u001b[0;32m   1180\u001b[0m \u001b[1;33m\u001b[0m\u001b[0m\n\u001b[0;32m   1181\u001b[0m         \u001b[1;32mtry\u001b[0m\u001b[1;33m:\u001b[0m\u001b[1;33m\u001b[0m\u001b[1;33m\u001b[0m\u001b[0m\n\u001b[1;32m-> 1182\u001b[1;33m             \u001b[1;32mfor\u001b[0m \u001b[0mobj\u001b[0m \u001b[1;32min\u001b[0m \u001b[0miterable\u001b[0m\u001b[1;33m:\u001b[0m\u001b[1;33m\u001b[0m\u001b[1;33m\u001b[0m\u001b[0m\n\u001b[0m\u001b[0;32m   1183\u001b[0m                 \u001b[1;32myield\u001b[0m \u001b[0mobj\u001b[0m\u001b[1;33m\u001b[0m\u001b[1;33m\u001b[0m\u001b[0m\n\u001b[0;32m   1184\u001b[0m                 \u001b[1;31m# Update and possibly print the progressbar.\u001b[0m\u001b[1;33m\u001b[0m\u001b[1;33m\u001b[0m\u001b[1;33m\u001b[0m\u001b[0m\n",
      "\u001b[1;32m~\\Anaconda3\\envs\\HLAI2023\\lib\\site-packages\\torch\\utils\\data\\dataloader.py\u001b[0m in \u001b[0;36m__iter__\u001b[1;34m(self)\u001b[0m\n\u001b[0;32m    442\u001b[0m             \u001b[1;32mreturn\u001b[0m \u001b[0mself\u001b[0m\u001b[1;33m.\u001b[0m\u001b[0m_iterator\u001b[0m\u001b[1;33m\u001b[0m\u001b[1;33m\u001b[0m\u001b[0m\n\u001b[0;32m    443\u001b[0m         \u001b[1;32melse\u001b[0m\u001b[1;33m:\u001b[0m\u001b[1;33m\u001b[0m\u001b[1;33m\u001b[0m\u001b[0m\n\u001b[1;32m--> 444\u001b[1;33m             \u001b[1;32mreturn\u001b[0m \u001b[0mself\u001b[0m\u001b[1;33m.\u001b[0m\u001b[0m_get_iterator\u001b[0m\u001b[1;33m(\u001b[0m\u001b[1;33m)\u001b[0m\u001b[1;33m\u001b[0m\u001b[1;33m\u001b[0m\u001b[0m\n\u001b[0m\u001b[0;32m    445\u001b[0m \u001b[1;33m\u001b[0m\u001b[0m\n\u001b[0;32m    446\u001b[0m     \u001b[1;33m@\u001b[0m\u001b[0mproperty\u001b[0m\u001b[1;33m\u001b[0m\u001b[1;33m\u001b[0m\u001b[0m\n",
      "\u001b[1;32m~\\Anaconda3\\envs\\HLAI2023\\lib\\site-packages\\torch\\utils\\data\\dataloader.py\u001b[0m in \u001b[0;36m_get_iterator\u001b[1;34m(self)\u001b[0m\n\u001b[0;32m    388\u001b[0m         \u001b[1;32melse\u001b[0m\u001b[1;33m:\u001b[0m\u001b[1;33m\u001b[0m\u001b[1;33m\u001b[0m\u001b[0m\n\u001b[0;32m    389\u001b[0m             \u001b[0mself\u001b[0m\u001b[1;33m.\u001b[0m\u001b[0mcheck_worker_number_rationality\u001b[0m\u001b[1;33m(\u001b[0m\u001b[1;33m)\u001b[0m\u001b[1;33m\u001b[0m\u001b[1;33m\u001b[0m\u001b[0m\n\u001b[1;32m--> 390\u001b[1;33m             \u001b[1;32mreturn\u001b[0m \u001b[0m_MultiProcessingDataLoaderIter\u001b[0m\u001b[1;33m(\u001b[0m\u001b[0mself\u001b[0m\u001b[1;33m)\u001b[0m\u001b[1;33m\u001b[0m\u001b[1;33m\u001b[0m\u001b[0m\n\u001b[0m\u001b[0;32m    391\u001b[0m \u001b[1;33m\u001b[0m\u001b[0m\n\u001b[0;32m    392\u001b[0m     \u001b[1;33m@\u001b[0m\u001b[0mproperty\u001b[0m\u001b[1;33m\u001b[0m\u001b[1;33m\u001b[0m\u001b[0m\n",
      "\u001b[1;32m~\\Anaconda3\\envs\\HLAI2023\\lib\\site-packages\\torch\\utils\\data\\dataloader.py\u001b[0m in \u001b[0;36m__init__\u001b[1;34m(self, loader)\u001b[0m\n\u001b[0;32m   1075\u001b[0m             \u001b[1;31m#     before it starts, and __del__ tries to join but will get:\u001b[0m\u001b[1;33m\u001b[0m\u001b[1;33m\u001b[0m\u001b[1;33m\u001b[0m\u001b[0m\n\u001b[0;32m   1076\u001b[0m             \u001b[1;31m#     AssertionError: can only join a started process.\u001b[0m\u001b[1;33m\u001b[0m\u001b[1;33m\u001b[0m\u001b[1;33m\u001b[0m\u001b[0m\n\u001b[1;32m-> 1077\u001b[1;33m             \u001b[0mw\u001b[0m\u001b[1;33m.\u001b[0m\u001b[0mstart\u001b[0m\u001b[1;33m(\u001b[0m\u001b[1;33m)\u001b[0m\u001b[1;33m\u001b[0m\u001b[1;33m\u001b[0m\u001b[0m\n\u001b[0m\u001b[0;32m   1078\u001b[0m             \u001b[0mself\u001b[0m\u001b[1;33m.\u001b[0m\u001b[0m_index_queues\u001b[0m\u001b[1;33m.\u001b[0m\u001b[0mappend\u001b[0m\u001b[1;33m(\u001b[0m\u001b[0mindex_queue\u001b[0m\u001b[1;33m)\u001b[0m\u001b[1;33m\u001b[0m\u001b[1;33m\u001b[0m\u001b[0m\n\u001b[0;32m   1079\u001b[0m             \u001b[0mself\u001b[0m\u001b[1;33m.\u001b[0m\u001b[0m_workers\u001b[0m\u001b[1;33m.\u001b[0m\u001b[0mappend\u001b[0m\u001b[1;33m(\u001b[0m\u001b[0mw\u001b[0m\u001b[1;33m)\u001b[0m\u001b[1;33m\u001b[0m\u001b[1;33m\u001b[0m\u001b[0m\n",
      "\u001b[1;32m~\\Anaconda3\\envs\\HLAI2023\\lib\\multiprocessing\\process.py\u001b[0m in \u001b[0;36mstart\u001b[1;34m(self)\u001b[0m\n\u001b[0;32m    110\u001b[0m                \u001b[1;34m'daemonic processes are not allowed to have children'\u001b[0m\u001b[1;33m\u001b[0m\u001b[1;33m\u001b[0m\u001b[0m\n\u001b[0;32m    111\u001b[0m         \u001b[0m_cleanup\u001b[0m\u001b[1;33m(\u001b[0m\u001b[1;33m)\u001b[0m\u001b[1;33m\u001b[0m\u001b[1;33m\u001b[0m\u001b[0m\n\u001b[1;32m--> 112\u001b[1;33m         \u001b[0mself\u001b[0m\u001b[1;33m.\u001b[0m\u001b[0m_popen\u001b[0m \u001b[1;33m=\u001b[0m \u001b[0mself\u001b[0m\u001b[1;33m.\u001b[0m\u001b[0m_Popen\u001b[0m\u001b[1;33m(\u001b[0m\u001b[0mself\u001b[0m\u001b[1;33m)\u001b[0m\u001b[1;33m\u001b[0m\u001b[1;33m\u001b[0m\u001b[0m\n\u001b[0m\u001b[0;32m    113\u001b[0m         \u001b[0mself\u001b[0m\u001b[1;33m.\u001b[0m\u001b[0m_sentinel\u001b[0m \u001b[1;33m=\u001b[0m \u001b[0mself\u001b[0m\u001b[1;33m.\u001b[0m\u001b[0m_popen\u001b[0m\u001b[1;33m.\u001b[0m\u001b[0msentinel\u001b[0m\u001b[1;33m\u001b[0m\u001b[1;33m\u001b[0m\u001b[0m\n\u001b[0;32m    114\u001b[0m         \u001b[1;31m# Avoid a refcycle if the target function holds an indirect\u001b[0m\u001b[1;33m\u001b[0m\u001b[1;33m\u001b[0m\u001b[1;33m\u001b[0m\u001b[0m\n",
      "\u001b[1;32m~\\Anaconda3\\envs\\HLAI2023\\lib\\multiprocessing\\context.py\u001b[0m in \u001b[0;36m_Popen\u001b[1;34m(process_obj)\u001b[0m\n\u001b[0;32m    221\u001b[0m     \u001b[1;33m@\u001b[0m\u001b[0mstaticmethod\u001b[0m\u001b[1;33m\u001b[0m\u001b[1;33m\u001b[0m\u001b[0m\n\u001b[0;32m    222\u001b[0m     \u001b[1;32mdef\u001b[0m \u001b[0m_Popen\u001b[0m\u001b[1;33m(\u001b[0m\u001b[0mprocess_obj\u001b[0m\u001b[1;33m)\u001b[0m\u001b[1;33m:\u001b[0m\u001b[1;33m\u001b[0m\u001b[1;33m\u001b[0m\u001b[0m\n\u001b[1;32m--> 223\u001b[1;33m         \u001b[1;32mreturn\u001b[0m \u001b[0m_default_context\u001b[0m\u001b[1;33m.\u001b[0m\u001b[0mget_context\u001b[0m\u001b[1;33m(\u001b[0m\u001b[1;33m)\u001b[0m\u001b[1;33m.\u001b[0m\u001b[0mProcess\u001b[0m\u001b[1;33m.\u001b[0m\u001b[0m_Popen\u001b[0m\u001b[1;33m(\u001b[0m\u001b[0mprocess_obj\u001b[0m\u001b[1;33m)\u001b[0m\u001b[1;33m\u001b[0m\u001b[1;33m\u001b[0m\u001b[0m\n\u001b[0m\u001b[0;32m    224\u001b[0m \u001b[1;33m\u001b[0m\u001b[0m\n\u001b[0;32m    225\u001b[0m \u001b[1;32mclass\u001b[0m \u001b[0mDefaultContext\u001b[0m\u001b[1;33m(\u001b[0m\u001b[0mBaseContext\u001b[0m\u001b[1;33m)\u001b[0m\u001b[1;33m:\u001b[0m\u001b[1;33m\u001b[0m\u001b[1;33m\u001b[0m\u001b[0m\n",
      "\u001b[1;32m~\\Anaconda3\\envs\\HLAI2023\\lib\\multiprocessing\\context.py\u001b[0m in \u001b[0;36m_Popen\u001b[1;34m(process_obj)\u001b[0m\n\u001b[0;32m    320\u001b[0m         \u001b[1;32mdef\u001b[0m \u001b[0m_Popen\u001b[0m\u001b[1;33m(\u001b[0m\u001b[0mprocess_obj\u001b[0m\u001b[1;33m)\u001b[0m\u001b[1;33m:\u001b[0m\u001b[1;33m\u001b[0m\u001b[1;33m\u001b[0m\u001b[0m\n\u001b[0;32m    321\u001b[0m             \u001b[1;32mfrom\u001b[0m \u001b[1;33m.\u001b[0m\u001b[0mpopen_spawn_win32\u001b[0m \u001b[1;32mimport\u001b[0m \u001b[0mPopen\u001b[0m\u001b[1;33m\u001b[0m\u001b[1;33m\u001b[0m\u001b[0m\n\u001b[1;32m--> 322\u001b[1;33m             \u001b[1;32mreturn\u001b[0m \u001b[0mPopen\u001b[0m\u001b[1;33m(\u001b[0m\u001b[0mprocess_obj\u001b[0m\u001b[1;33m)\u001b[0m\u001b[1;33m\u001b[0m\u001b[1;33m\u001b[0m\u001b[0m\n\u001b[0m\u001b[0;32m    323\u001b[0m \u001b[1;33m\u001b[0m\u001b[0m\n\u001b[0;32m    324\u001b[0m     \u001b[1;32mclass\u001b[0m \u001b[0mSpawnContext\u001b[0m\u001b[1;33m(\u001b[0m\u001b[0mBaseContext\u001b[0m\u001b[1;33m)\u001b[0m\u001b[1;33m:\u001b[0m\u001b[1;33m\u001b[0m\u001b[1;33m\u001b[0m\u001b[0m\n",
      "\u001b[1;32m~\\Anaconda3\\envs\\HLAI2023\\lib\\multiprocessing\\popen_spawn_win32.py\u001b[0m in \u001b[0;36m__init__\u001b[1;34m(self, process_obj)\u001b[0m\n\u001b[0;32m     87\u001b[0m             \u001b[1;32mtry\u001b[0m\u001b[1;33m:\u001b[0m\u001b[1;33m\u001b[0m\u001b[1;33m\u001b[0m\u001b[0m\n\u001b[0;32m     88\u001b[0m                 \u001b[0mreduction\u001b[0m\u001b[1;33m.\u001b[0m\u001b[0mdump\u001b[0m\u001b[1;33m(\u001b[0m\u001b[0mprep_data\u001b[0m\u001b[1;33m,\u001b[0m \u001b[0mto_child\u001b[0m\u001b[1;33m)\u001b[0m\u001b[1;33m\u001b[0m\u001b[1;33m\u001b[0m\u001b[0m\n\u001b[1;32m---> 89\u001b[1;33m                 \u001b[0mreduction\u001b[0m\u001b[1;33m.\u001b[0m\u001b[0mdump\u001b[0m\u001b[1;33m(\u001b[0m\u001b[0mprocess_obj\u001b[0m\u001b[1;33m,\u001b[0m \u001b[0mto_child\u001b[0m\u001b[1;33m)\u001b[0m\u001b[1;33m\u001b[0m\u001b[1;33m\u001b[0m\u001b[0m\n\u001b[0m\u001b[0;32m     90\u001b[0m             \u001b[1;32mfinally\u001b[0m\u001b[1;33m:\u001b[0m\u001b[1;33m\u001b[0m\u001b[1;33m\u001b[0m\u001b[0m\n\u001b[0;32m     91\u001b[0m                 \u001b[0mset_spawning_popen\u001b[0m\u001b[1;33m(\u001b[0m\u001b[1;32mNone\u001b[0m\u001b[1;33m)\u001b[0m\u001b[1;33m\u001b[0m\u001b[1;33m\u001b[0m\u001b[0m\n",
      "\u001b[1;32m~\\Anaconda3\\envs\\HLAI2023\\lib\\multiprocessing\\reduction.py\u001b[0m in \u001b[0;36mdump\u001b[1;34m(obj, file, protocol)\u001b[0m\n\u001b[0;32m     58\u001b[0m \u001b[1;32mdef\u001b[0m \u001b[0mdump\u001b[0m\u001b[1;33m(\u001b[0m\u001b[0mobj\u001b[0m\u001b[1;33m,\u001b[0m \u001b[0mfile\u001b[0m\u001b[1;33m,\u001b[0m \u001b[0mprotocol\u001b[0m\u001b[1;33m=\u001b[0m\u001b[1;32mNone\u001b[0m\u001b[1;33m)\u001b[0m\u001b[1;33m:\u001b[0m\u001b[1;33m\u001b[0m\u001b[1;33m\u001b[0m\u001b[0m\n\u001b[0;32m     59\u001b[0m     \u001b[1;34m'''Replacement for pickle.dump() using ForkingPickler.'''\u001b[0m\u001b[1;33m\u001b[0m\u001b[1;33m\u001b[0m\u001b[0m\n\u001b[1;32m---> 60\u001b[1;33m     \u001b[0mForkingPickler\u001b[0m\u001b[1;33m(\u001b[0m\u001b[0mfile\u001b[0m\u001b[1;33m,\u001b[0m \u001b[0mprotocol\u001b[0m\u001b[1;33m)\u001b[0m\u001b[1;33m.\u001b[0m\u001b[0mdump\u001b[0m\u001b[1;33m(\u001b[0m\u001b[0mobj\u001b[0m\u001b[1;33m)\u001b[0m\u001b[1;33m\u001b[0m\u001b[1;33m\u001b[0m\u001b[0m\n\u001b[0m\u001b[0;32m     61\u001b[0m \u001b[1;33m\u001b[0m\u001b[0m\n\u001b[0;32m     62\u001b[0m \u001b[1;31m#\u001b[0m\u001b[1;33m\u001b[0m\u001b[1;33m\u001b[0m\u001b[1;33m\u001b[0m\u001b[0m\n",
      "\u001b[1;31mKeyboardInterrupt\u001b[0m: "
     ]
    }
   ],
   "source": [
    "kf = StratifiedKFold(n_splits=5, shuffle=False) #, random_state=1813)\n",
    "\n",
    "for foldk, (train_idx, val_idx) in enumerate(kf.split(X=training_set, y=all_labels)):\n",
    "    print(f'============= Fold-{foldk} strat =============')\n",
    "    model = timm.create_model(model_name='vit_base_resnet50d_224', pretrained=False, num_classes=30, img_size=32, drop_rate=0.2)\n",
    "    \n",
    "    lr = 0.000\n",
    "    \n",
    "    train_subsampler = torch.utils.data.SubsetRandomSampler(train_idx)\n",
    "    valid_subsampler = torch.utils.data.SubsetRandomSampler(val_idx)\n",
    "    \n",
    "    train_dataset = CustomLoader(training_set, transforms=transform_train, is_train=True, aug_mode=CFG['AUG_MODE'])\n",
    "    valid_dataset = CustomLoader(training_set, transforms=transform_valid, is_train=True, aug_mode=CFG['AUG_MODE'])\n",
    "    \n",
    "    train_loader = DataLoader(train_dataset, batch_size = 64, num_workers=4, sampler=train_subsampler)\n",
    "    valid_loader = DataLoader(valid_dataset, batch_size = 64, num_workers=4, sampler=valid_subsampler)\n",
    "    \n",
    "    criterion = nn.CrossEntropyLoss(weight = torch.tensor(class_weight).to(device))\n",
    "    optimizer = torch.optim.AdamW(model.parameters(), lr=lr, betas=(0.9,0.999), weight_decay=0.001)\n",
    "    scheduler = CosineAnnealingWarmUpRestarts(optimizer, T_0 = 40, T_mult=1, eta_max=0.001, T_up=5, gamma=0.75)\n",
    "    \n",
    "    # Train\n",
    "    n_epochs = 500\n",
    "    EPOCH_FROM = 0\n",
    "    \n",
    "    train_loss = torch.zeros(n_epochs)\n",
    "    valid_loss = torch.zeros(n_epochs)\n",
    "    \n",
    "    train_acc = torch.zeros(n_epochs)\n",
    "    valid_acc = torch.zeros(n_epochs)\n",
    "    \n",
    "    valid_loss_min = np.Inf\n",
    "    past_lr = lr\n",
    "    model.to(device)\n",
    "    \n",
    "    last_loss_update = 0\n",
    "    \n",
    "    for e in range(n_epochs):\n",
    "        # Trian\n",
    "        model.train()\n",
    "        for (image, labels, _) in tqdm(train_loader):\n",
    "            image, labels = image.to(device), labels.to(device)\n",
    "            \n",
    "            optimizer.zero_grad()\n",
    "            \n",
    "            if CFG['CutMix'] and e < n_epochs - 10:\n",
    "                mix_decision = np.random.rand()\n",
    "                if mix_decision  < CFG['mix_prob']:\n",
    "                    image, labels = cutmix(image, labels, 1.0)\n",
    "            else:\n",
    "                mix_decision = 1\n",
    "                \n",
    "            pred = model(image)\n",
    "            \n",
    "            if mix_decision < CFG['mix_prob']:\n",
    "                loss = criterion(pred, labels[0]) * labels[2] + criterion(pred, labels[1]) * (1-labels[2])\n",
    "            else:\n",
    "                loss = criterion(pred, labels)\n",
    "            \n",
    "            loss.backward()\n",
    "            optimizer.step()\n",
    "            train_loss[e] += loss.item()\n",
    "    \n",
    "            ps = F.softmax(pred, dim=1)\n",
    "            top_p, top_class = ps.topk(1, dim=1)\n",
    "            \n",
    "        \n",
    "        train_loss[e] /= len(train_loader)\n",
    "        train_acc[e] /= len(train_loader)\n",
    "        \n",
    "        # Validation\n",
    "        with torch.no_grad():\n",
    "            model.eval()\n",
    "            for image, labels, _ in tqdm(valid_loader):\n",
    "                image, labels = image.to(device), labels.to(device)\n",
    "                \n",
    "                logits = model(image)\n",
    "                loss = criterion(logits, labels)\n",
    "                valid_loss[e] += loss.item()\n",
    "    \n",
    "                ps = F.softmax(logits, dim=1)\n",
    "                top_p, top_class = ps.topk(1, dim=1)\n",
    "                equals = top_class == labels.reshape(top_class.shape)\n",
    "                valid_acc[e] += torch.mean(equals.type(torch.float)).detach().cpu()\n",
    "    \n",
    "        valid_loss[e] /= len(valid_loader)\n",
    "        valid_acc[e] /= len(valid_loader)\n",
    "        \n",
    "        scheduler.step(epoch=e)\n",
    "        \n",
    "        print('Fold: {} \\tEpoch: {} \\tTraining Loss: {:.6f} \\tValidation Loss: {:.6f}'.format(foldk, e, train_loss[e], valid_loss[e]))\n",
    "        print('Fold: {} \\tEpoch: {} \\tTraining accuracy: {:.6f} \\tValidation accuracy: {:.6f}'.format(foldk, e, train_acc[e], valid_acc[e]))\n",
    "        \n",
    "        print(optimizer.param_groups[-1]['lr'])\n",
    "            \n",
    "        if valid_loss[e] <= valid_loss_min:\n",
    "            print('Validation loss decreased ({:.6f} --> {:.6f}).  Saving model ...'.format(valid_loss_min,valid_loss[e]))\n",
    "            torch.save(model.state_dict(), f'./models/mymodel/best_model_fold{foldk}.pth')\n",
    "            valid_loss_min = valid_loss[e]\n",
    "            last_loss_update = e\n",
    "        "
   ]
  }
 ],
 "metadata": {
  "kernelspec": {
   "display_name": "Python 3",
   "language": "python",
   "name": "python3"
  },
  "language_info": {
   "codemirror_mode": {
    "name": "ipython",
    "version": 3
   },
   "file_extension": ".py",
   "mimetype": "text/x-python",
   "name": "python",
   "nbconvert_exporter": "python",
   "pygments_lexer": "ipython3",
   "version": "3.10.12"
  },
  "papermill": {
   "default_parameters": {},
   "duration": 40.642315,
   "end_time": "2023-10-23T14:10:33.298994",
   "environment_variables": {},
   "exception": null,
   "input_path": "__notebook__.ipynb",
   "output_path": "__notebook__.ipynb",
   "parameters": {},
   "start_time": "2023-10-23T14:09:52.656679",
   "version": "2.4.0"
  }
 },
 "nbformat": 4,
 "nbformat_minor": 5
}
