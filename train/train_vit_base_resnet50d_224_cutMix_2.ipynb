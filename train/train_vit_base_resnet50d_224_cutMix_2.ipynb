{
 "cells": [
  {
   "cell_type": "code",
   "execution_count": 1,
   "id": "4e1eb8cf489a337c",
   "metadata": {
    "ExecuteTime": {
     "end_time": "2023-10-29T03:09:42.822794900Z",
     "start_time": "2023-10-29T03:09:42.776796400Z"
    },
    "collapsed": false
   },
   "outputs": [],
   "source": [
    "from tqdm import tqdm\n",
    "\n",
    "import torch.nn as nn\n",
    "import torch.nn.functional as F\n",
    "from torch.utils.data import DataLoader\n",
    "\n",
    "from sklearn.model_selection import StratifiedKFold\n",
    "\n",
    "import albumentations as A\n",
    "from albumentations.pytorch import ToTensorV2\n",
    "\n",
    "import timm\n",
    "\n",
    "from utils.CosineAnnealingWarmUpRestarts import  CosineAnnealingWarmUpRestarts\n",
    "from utils.utils import *\n",
    "from utils.CutMix import *"
   ]
  },
  {
   "cell_type": "code",
   "execution_count": 2,
   "id": "b774aba0",
   "metadata": {
    "ExecuteTime": {
     "end_time": "2023-10-29T03:09:42.855893Z",
     "start_time": "2023-10-29T03:09:42.785795100Z"
    },
    "execution": {
     "iopub.execute_input": "2023-10-23T14:10:00.706380Z",
     "iopub.status.busy": "2023-10-23T14:10:00.705910Z",
     "iopub.status.idle": "2023-10-23T14:10:05.499515Z",
     "shell.execute_reply": "2023-10-23T14:10:05.498153Z"
    },
    "papermill": {
     "duration": 4.809141,
     "end_time": "2023-10-23T14:10:05.503022",
     "exception": false,
     "start_time": "2023-10-23T14:10:00.693881",
     "status": "completed"
    },
    "tags": []
   },
   "outputs": [],
   "source": [
    "training_set, test_set = getDataSet('./dataset/')\n",
    "set_random_seed(1813)\n",
    "device = 'cuda' if torch.cuda.is_available() else 'cpu'"
   ]
  },
  {
   "cell_type": "markdown",
   "id": "e26369a9422657b8",
   "metadata": {
    "collapsed": false
   },
   "source": [
    "## Stratic Split"
   ]
  },
  {
   "cell_type": "code",
   "execution_count": 3,
   "id": "afcc638e0e1d66f7",
   "metadata": {
    "ExecuteTime": {
     "end_time": "2023-10-29T03:09:42.855893Z",
     "start_time": "2023-10-29T03:09:42.834794900Z"
    },
    "collapsed": false
   },
   "outputs": [],
   "source": [
    "classes = {}\n",
    "\n",
    "for ts in training_set:\n",
    "    class_n = ts.split('/')[3]\n",
    "\n",
    "    if class_n in classes.keys():\n",
    "        classes[class_n].append(ts)\n",
    "    else:\n",
    "        classes[class_n] = [ts]"
   ]
  },
  {
   "cell_type": "code",
   "execution_count": 5,
   "id": "13c4f539d0182c94",
   "metadata": {
    "ExecuteTime": {
     "end_time": "2023-10-29T03:09:42.906892500Z",
     "start_time": "2023-10-29T03:09:42.864892300Z"
    },
    "collapsed": false
   },
   "outputs": [],
   "source": [
    "dist = getDistributionDataSet(training_set)\n",
    "dist = dict(sorted(dist.items(), key=lambda x:int(x[0])))"
   ]
  },
  {
   "cell_type": "code",
   "execution_count": 6,
   "id": "75923c31ee1ceda",
   "metadata": {
    "ExecuteTime": {
     "end_time": "2023-10-29T03:09:42.907893800Z",
     "start_time": "2023-10-29T03:09:42.878892500Z"
    },
    "collapsed": false
   },
   "outputs": [
    {
     "data": {
      "text/plain": [
       "{'0': 500,\n",
       " '1': 500,\n",
       " '2': 500,\n",
       " '3': 450,\n",
       " '4': 450,\n",
       " '5': 450,\n",
       " '6': 400,\n",
       " '7': 400,\n",
       " '8': 400,\n",
       " '9': 350,\n",
       " '10': 350,\n",
       " '11': 350,\n",
       " '12': 300,\n",
       " '13': 300,\n",
       " '14': 300,\n",
       " '15': 250,\n",
       " '16': 250,\n",
       " '17': 250,\n",
       " '18': 200,\n",
       " '19': 200,\n",
       " '20': 200,\n",
       " '21': 150,\n",
       " '22': 150,\n",
       " '23': 150,\n",
       " '24': 100,\n",
       " '25': 100,\n",
       " '26': 100,\n",
       " '27': 50,\n",
       " '28': 50,\n",
       " '29': 50}"
      ]
     },
     "execution_count": 6,
     "metadata": {},
     "output_type": "execute_result"
    }
   ],
   "source": [
    "dist"
   ]
  },
  {
   "cell_type": "code",
   "execution_count": 7,
   "id": "41e3c0373d689c98",
   "metadata": {
    "ExecuteTime": {
     "end_time": "2023-10-29T03:09:42.908893Z",
     "start_time": "2023-10-29T03:09:42.894892500Z"
    },
    "collapsed": false
   },
   "outputs": [],
   "source": [
    "fold_k = 5\n",
    "\n",
    "fold_dict = {}\n",
    "\n",
    "for i in range(fold_k):\n",
    "    fold_dict[i] = []\n",
    "    \n",
    "for k in classes.keys():\n",
    "    ls = classes[k]\n",
    "    random.shuffle(ls)\n",
    "    ls = np.array(ls)\n",
    "    splited_ls = np.split(ls, fold_k)\n",
    "    \n",
    "    for i, l in enumerate(splited_ls):\n",
    "        fold_dict[i] += list(l)\n",
    "    \n",
    "    \n",
    "training_set = []\n",
    "\n",
    "for i in range(fold_k):\n",
    "    training_set += fold_dict[i]"
   ]
  },
  {
   "cell_type": "code",
   "execution_count": 8,
   "id": "624bc32ecfbb2c48",
   "metadata": {
    "ExecuteTime": {
     "end_time": "2023-10-29T03:09:42.923893300Z",
     "start_time": "2023-10-29T03:09:42.908893Z"
    },
    "collapsed": false
   },
   "outputs": [],
   "source": [
    "CFG = {\n",
    "    'AUG_MODE' : 'albu', # or [albu,transform]\n",
    "    'MEAN' : [0.5051, 0.4853, 0.4409],\n",
    "    'STD' : [0.2774, 0.2568, 0.2795],\n",
    "    'CutMix': True,\n",
    "    'mix_prob' : 0.7\n",
    "}"
   ]
  },
  {
   "cell_type": "markdown",
   "id": "2699a7dc026f9327",
   "metadata": {
    "collapsed": false
   },
   "source": [
    "## Class Weight"
   ]
  },
  {
   "cell_type": "code",
   "execution_count": 9,
   "id": "43c522372ef7611f",
   "metadata": {
    "ExecuteTime": {
     "end_time": "2023-10-29T03:09:42.952891800Z",
     "start_time": "2023-10-29T03:09:42.924893Z"
    },
    "collapsed": false
   },
   "outputs": [],
   "source": [
    "class_weight = []\n",
    "\n",
    "dist = getDistributionDataSet(training_set)\n",
    "dist = dict(sorted(dist.items(), key=lambda x:int(x[0])))\n",
    "\n",
    "sum_of_dist = 0\n",
    "\n",
    "for k in dist.keys():\n",
    "    sum_of_dist += dist[k]\n",
    "\n",
    "for k in dist.keys():\n",
    "    class_weight.append(1 - (dist[k] / sum_of_dist))"
   ]
  },
  {
   "cell_type": "markdown",
   "id": "bf462c568265843c",
   "metadata": {
    "collapsed": false
   },
   "source": [
    "# Transform"
   ]
  },
  {
   "cell_type": "code",
   "execution_count": 11,
   "id": "5d870cd911a0ac63",
   "metadata": {
    "ExecuteTime": {
     "end_time": "2023-10-29T03:09:42.969892500Z",
     "start_time": "2023-10-29T03:09:42.956892100Z"
    },
    "collapsed": false
   },
   "outputs": [],
   "source": [
    "def getTransform(train_mean = [.5, .5, .5], train_std= [.5, .5, .5], val_mean= [.5, .5, .5], val_std= [.5, .5, .5], aug_mode='albu'):\n",
    "    if aug_mode == 'albu':\n",
    "        transform_train = A.Compose([\n",
    "            A.Resize(32,32),\n",
    "            A.Rotate(limit=(-360,360), interpolation=1, border_mode=1),\n",
    "            A.VerticalFlip(p=0.5),\n",
    "            A.HorizontalFlip(p=0.5),\n",
    "            A.RandomResizedCrop(height=32, width=32, scale=(0.8,1), ratio=(1.0,1.0), p=0.5),\n",
    "            A.RandomBrightnessContrast(p=0.5),\n",
    "            A.RandomToneCurve(p=0.2, scale=0.15),\n",
    "            A.CLAHE(p=0.4, clip_limit=(1, 4), tile_grid_size=(8, 8)),\n",
    "            A.Normalize(train_mean, train_std),\n",
    "            ToTensorV2(),\n",
    "        ])\n",
    "    \n",
    "        transform_test = A.Compose([\n",
    "            A.Resize(32,32),\n",
    "            A.Normalize(val_mean, val_std),\n",
    "            ToTensorV2(),\n",
    "        ])\n",
    "    else:\n",
    "        transform_train = transforms.Compose([\n",
    "            transforms.Resize(32),\n",
    "            transforms.Normalize(train_mean, train_std),\n",
    "            transforms.ToTensor(),\n",
    "        ])\n",
    "        \n",
    "        transform_test = transforms.Compose([\n",
    "            transforms.Resize(32),\n",
    "            transforms.Normalize(val_mean, val_std),\n",
    "            transforms.ToTensor(),\n",
    "        ])\n",
    "        \n",
    "    return transform_train, transform_test"
   ]
  },
  {
   "cell_type": "markdown",
   "id": "d6a92e36bc0a710c",
   "metadata": {
    "collapsed": false
   },
   "source": [
    "## Kfold"
   ]
  },
  {
   "cell_type": "code",
   "execution_count": 12,
   "id": "b88799d6cab1aa42",
   "metadata": {
    "collapsed": false
   },
   "outputs": [],
   "source": [
    "train_norm, train_std = getNormStd(training_set)\n",
    "transform_train, transform_valid = getTransform(train_norm, train_std, train_norm, train_std)"
   ]
  },
  {
   "cell_type": "code",
   "execution_count": 13,
   "id": "51b535c8977f1a27",
   "metadata": {
    "ExecuteTime": {
     "end_time": "2023-10-29T03:09:43.013646500Z",
     "start_time": "2023-10-29T03:09:42.971892800Z"
    },
    "collapsed": false
   },
   "outputs": [
    {
     "data": {
      "text/plain": [
       "(8250, 8250)"
      ]
     },
     "execution_count": 13,
     "metadata": {},
     "output_type": "execute_result"
    }
   ],
   "source": [
    "all_labels = []\n",
    "for file in training_set:\n",
    "    all_labels.append(int(file.split('/')[3]))\n",
    "len(all_labels), len(training_set)"
   ]
  },
  {
   "cell_type": "code",
   "execution_count": 14,
   "id": "f14e93c5627a9a9",
   "metadata": {
    "ExecuteTime": {
     "start_time": "2023-10-29T03:09:48.251516700Z"
    },
    "collapsed": false,
    "is_executing": true
   },
   "outputs": [
    {
     "name": "stdout",
     "output_type": "stream",
     "text": [
      "============= Fold-0 strat =============\n"
     ]
    },
    {
     "name": "stderr",
     "output_type": "stream",
     "text": [
      "100%|██████████| 104/104 [00:24<00:00,  4.32it/s]\n",
      "100%|██████████| 26/26 [00:11<00:00,  2.24it/s]\n"
     ]
    },
    {
     "name": "stdout",
     "output_type": "stream",
     "text": [
      "Fold: 0 \tEpoch: 0 \tTraining Loss: 3.538057 \tValidation Loss: 3.546669\n",
      "Fold: 0 \tEpoch: 0 \tTraining accuracy: 0.000000 \tValidation accuracy: 0.045144\n",
      "0.0\n",
      "Validation loss decreased (inf --> 3.546669).  Saving model ...\n"
     ]
    },
    {
     "name": "stderr",
     "output_type": "stream",
     "text": [
      "100%|██████████| 104/104 [00:16<00:00,  6.31it/s]\n",
      "100%|██████████| 26/26 [00:10<00:00,  2.38it/s]\n"
     ]
    },
    {
     "name": "stdout",
     "output_type": "stream",
     "text": [
      "Fold: 0 \tEpoch: 1 \tTraining Loss: 3.539785 \tValidation Loss: 3.540758\n",
      "Fold: 0 \tEpoch: 1 \tTraining accuracy: 0.000000 \tValidation accuracy: 0.040865\n",
      "0.0001\n",
      "Validation loss decreased (3.546669 --> 3.540758).  Saving model ...\n"
     ]
    },
    {
     "name": "stderr",
     "output_type": "stream",
     "text": [
      "100%|██████████| 104/104 [00:16<00:00,  6.34it/s]\n",
      "100%|██████████| 26/26 [00:10<00:00,  2.43it/s]\n"
     ]
    },
    {
     "name": "stdout",
     "output_type": "stream",
     "text": [
      "Fold: 0 \tEpoch: 2 \tTraining Loss: 3.165541 \tValidation Loss: 2.735695\n",
      "Fold: 0 \tEpoch: 2 \tTraining accuracy: 0.000000 \tValidation accuracy: 0.197332\n",
      "0.0002\n",
      "Validation loss decreased (3.540758 --> 2.735695).  Saving model ...\n"
     ]
    },
    {
     "name": "stderr",
     "output_type": "stream",
     "text": [
      "100%|██████████| 104/104 [00:16<00:00,  6.39it/s]\n",
      "100%|██████████| 26/26 [00:10<00:00,  2.44it/s]\n"
     ]
    },
    {
     "name": "stdout",
     "output_type": "stream",
     "text": [
      "Fold: 0 \tEpoch: 3 \tTraining Loss: 2.981635 \tValidation Loss: 2.677129\n",
      "Fold: 0 \tEpoch: 3 \tTraining accuracy: 0.000000 \tValidation accuracy: 0.227716\n",
      "0.00030000000000000003\n",
      "Validation loss decreased (2.735695 --> 2.677129).  Saving model ...\n"
     ]
    },
    {
     "name": "stderr",
     "output_type": "stream",
     "text": [
      "100%|██████████| 104/104 [00:16<00:00,  6.42it/s]\n",
      "100%|██████████| 26/26 [00:10<00:00,  2.44it/s]\n"
     ]
    },
    {
     "name": "stdout",
     "output_type": "stream",
     "text": [
      "Fold: 0 \tEpoch: 4 \tTraining Loss: 2.921788 \tValidation Loss: 2.573928\n",
      "Fold: 0 \tEpoch: 4 \tTraining accuracy: 0.000000 \tValidation accuracy: 0.253726\n",
      "0.0004\n",
      "Validation loss decreased (2.677129 --> 2.573928).  Saving model ...\n"
     ]
    },
    {
     "name": "stderr",
     "output_type": "stream",
     "text": [
      "100%|██████████| 104/104 [00:16<00:00,  6.39it/s]\n",
      "100%|██████████| 26/26 [00:10<00:00,  2.45it/s]\n"
     ]
    },
    {
     "name": "stdout",
     "output_type": "stream",
     "text": [
      "Fold: 0 \tEpoch: 5 \tTraining Loss: 2.899360 \tValidation Loss: 2.569016\n",
      "Fold: 0 \tEpoch: 5 \tTraining accuracy: 0.000000 \tValidation accuracy: 0.262067\n",
      "0.0005\n",
      "Validation loss decreased (2.573928 --> 2.569016).  Saving model ...\n"
     ]
    },
    {
     "name": "stderr",
     "output_type": "stream",
     "text": [
      "100%|██████████| 104/104 [00:16<00:00,  6.35it/s]\n",
      "100%|██████████| 26/26 [00:10<00:00,  2.44it/s]\n"
     ]
    },
    {
     "name": "stdout",
     "output_type": "stream",
     "text": [
      "Fold: 0 \tEpoch: 6 \tTraining Loss: 2.883419 \tValidation Loss: 2.544123\n",
      "Fold: 0 \tEpoch: 6 \tTraining accuracy: 0.000000 \tValidation accuracy: 0.236995\n",
      "0.0006000000000000001\n",
      "Validation loss decreased (2.569016 --> 2.544123).  Saving model ...\n"
     ]
    },
    {
     "name": "stderr",
     "output_type": "stream",
     "text": [
      "100%|██████████| 104/104 [00:16<00:00,  6.42it/s]\n",
      "100%|██████████| 26/26 [00:10<00:00,  2.44it/s]\n"
     ]
    },
    {
     "name": "stdout",
     "output_type": "stream",
     "text": [
      "Fold: 0 \tEpoch: 7 \tTraining Loss: 2.875966 \tValidation Loss: 2.501849\n",
      "Fold: 0 \tEpoch: 7 \tTraining accuracy: 0.000000 \tValidation accuracy: 0.265649\n",
      "0.0007\n",
      "Validation loss decreased (2.544123 --> 2.501849).  Saving model ...\n"
     ]
    },
    {
     "name": "stderr",
     "output_type": "stream",
     "text": [
      "100%|██████████| 104/104 [00:16<00:00,  6.40it/s]\n",
      "100%|██████████| 26/26 [00:10<00:00,  2.44it/s]\n"
     ]
    },
    {
     "name": "stdout",
     "output_type": "stream",
     "text": [
      "Fold: 0 \tEpoch: 8 \tTraining Loss: 2.816237 \tValidation Loss: 2.418885\n",
      "Fold: 0 \tEpoch: 8 \tTraining accuracy: 0.000000 \tValidation accuracy: 0.290649\n",
      "0.0008\n",
      "Validation loss decreased (2.501849 --> 2.418885).  Saving model ...\n"
     ]
    },
    {
     "name": "stderr",
     "output_type": "stream",
     "text": [
      "100%|██████████| 104/104 [00:16<00:00,  6.43it/s]\n",
      "100%|██████████| 26/26 [00:11<00:00,  2.36it/s]\n"
     ]
    },
    {
     "name": "stdout",
     "output_type": "stream",
     "text": [
      "Fold: 0 \tEpoch: 9 \tTraining Loss: 2.803637 \tValidation Loss: 2.427973\n",
      "Fold: 0 \tEpoch: 9 \tTraining accuracy: 0.000000 \tValidation accuracy: 0.305817\n",
      "0.0009000000000000001\n"
     ]
    },
    {
     "name": "stderr",
     "output_type": "stream",
     "text": [
      "100%|██████████| 104/104 [00:17<00:00,  6.02it/s]\n",
      "100%|██████████| 26/26 [00:11<00:00,  2.18it/s]\n"
     ]
    },
    {
     "name": "stdout",
     "output_type": "stream",
     "text": [
      "Fold: 0 \tEpoch: 10 \tTraining Loss: 2.784651 \tValidation Loss: 2.414031\n",
      "Fold: 0 \tEpoch: 10 \tTraining accuracy: 0.000000 \tValidation accuracy: 0.288245\n",
      "0.001\n",
      "Validation loss decreased (2.418885 --> 2.414031).  Saving model ...\n"
     ]
    },
    {
     "name": "stderr",
     "output_type": "stream",
     "text": [
      "100%|██████████| 104/104 [00:16<00:00,  6.33it/s]\n",
      "100%|██████████| 26/26 [00:10<00:00,  2.43it/s]\n"
     ]
    },
    {
     "name": "stdout",
     "output_type": "stream",
     "text": [
      "Fold: 0 \tEpoch: 11 \tTraining Loss: 2.752519 \tValidation Loss: 2.326788\n",
      "Fold: 0 \tEpoch: 11 \tTraining accuracy: 0.000000 \tValidation accuracy: 0.341034\n",
      "0.0009996954135095479\n",
      "Validation loss decreased (2.414031 --> 2.326788).  Saving model ...\n"
     ]
    },
    {
     "name": "stderr",
     "output_type": "stream",
     "text": [
      "100%|██████████| 104/104 [00:16<00:00,  6.32it/s]\n",
      "100%|██████████| 26/26 [00:10<00:00,  2.38it/s]\n"
     ]
    },
    {
     "name": "stdout",
     "output_type": "stream",
     "text": [
      "Fold: 0 \tEpoch: 12 \tTraining Loss: 2.713231 \tValidation Loss: 2.274691\n",
      "Fold: 0 \tEpoch: 12 \tTraining accuracy: 0.000000 \tValidation accuracy: 0.355721\n",
      "0.0009987820251299122\n",
      "Validation loss decreased (2.326788 --> 2.274691).  Saving model ...\n"
     ]
    },
    {
     "name": "stderr",
     "output_type": "stream",
     "text": [
      "100%|██████████| 104/104 [00:16<00:00,  6.34it/s]\n",
      "100%|██████████| 26/26 [00:10<00:00,  2.36it/s]\n"
     ]
    },
    {
     "name": "stdout",
     "output_type": "stream",
     "text": [
      "Fold: 0 \tEpoch: 13 \tTraining Loss: 2.712020 \tValidation Loss: 2.291195\n",
      "Fold: 0 \tEpoch: 13 \tTraining accuracy: 0.000000 \tValidation accuracy: 0.350288\n",
      "0.0009972609476841367\n"
     ]
    },
    {
     "name": "stderr",
     "output_type": "stream",
     "text": [
      "100%|██████████| 104/104 [00:16<00:00,  6.37it/s]\n",
      "100%|██████████| 26/26 [00:10<00:00,  2.41it/s]\n"
     ]
    },
    {
     "name": "stdout",
     "output_type": "stream",
     "text": [
      "Fold: 0 \tEpoch: 14 \tTraining Loss: 2.637905 \tValidation Loss: 2.277855\n",
      "Fold: 0 \tEpoch: 14 \tTraining accuracy: 0.000000 \tValidation accuracy: 0.353918\n",
      "0.0009951340343707852\n"
     ]
    },
    {
     "name": "stderr",
     "output_type": "stream",
     "text": [
      "100%|██████████| 104/104 [00:16<00:00,  6.39it/s]\n",
      "100%|██████████| 26/26 [00:10<00:00,  2.42it/s]\n"
     ]
    },
    {
     "name": "stdout",
     "output_type": "stream",
     "text": [
      "Fold: 0 \tEpoch: 15 \tTraining Loss: 2.646372 \tValidation Loss: 2.150710\n",
      "Fold: 0 \tEpoch: 15 \tTraining accuracy: 0.000000 \tValidation accuracy: 0.359231\n",
      "0.000992403876506104\n",
      "Validation loss decreased (2.274691 --> 2.150710).  Saving model ...\n"
     ]
    },
    {
     "name": "stderr",
     "output_type": "stream",
     "text": [
      "100%|██████████| 104/104 [00:16<00:00,  6.37it/s]\n",
      "100%|██████████| 26/26 [00:10<00:00,  2.40it/s]\n"
     ]
    },
    {
     "name": "stdout",
     "output_type": "stream",
     "text": [
      "Fold: 0 \tEpoch: 16 \tTraining Loss: 2.650149 \tValidation Loss: 2.080635\n",
      "Fold: 0 \tEpoch: 16 \tTraining accuracy: 0.000000 \tValidation accuracy: 0.402043\n",
      "0.0009890738003669028\n",
      "Validation loss decreased (2.150710 --> 2.080635).  Saving model ...\n"
     ]
    },
    {
     "name": "stderr",
     "output_type": "stream",
     "text": [
      "100%|██████████| 104/104 [00:16<00:00,  6.34it/s]\n",
      "100%|██████████| 26/26 [00:10<00:00,  2.38it/s]\n"
     ]
    },
    {
     "name": "stdout",
     "output_type": "stream",
     "text": [
      "Fold: 0 \tEpoch: 17 \tTraining Loss: 2.595137 \tValidation Loss: 2.126352\n",
      "Fold: 0 \tEpoch: 17 \tTraining accuracy: 0.000000 \tValidation accuracy: 0.395697\n",
      "0.0009851478631379982\n"
     ]
    },
    {
     "name": "stderr",
     "output_type": "stream",
     "text": [
      "100%|██████████| 104/104 [00:16<00:00,  6.33it/s]\n",
      "100%|██████████| 26/26 [00:10<00:00,  2.37it/s]\n"
     ]
    },
    {
     "name": "stdout",
     "output_type": "stream",
     "text": [
      "Fold: 0 \tEpoch: 18 \tTraining Loss: 2.594167 \tValidation Loss: 2.095409\n",
      "Fold: 0 \tEpoch: 18 \tTraining accuracy: 0.000000 \tValidation accuracy: 0.407139\n",
      "0.0009806308479691594\n"
     ]
    },
    {
     "name": "stderr",
     "output_type": "stream",
     "text": [
      "100%|██████████| 104/104 [00:16<00:00,  6.38it/s]\n",
      "100%|██████████| 26/26 [00:10<00:00,  2.41it/s]\n"
     ]
    },
    {
     "name": "stdout",
     "output_type": "stream",
     "text": [
      "Fold: 0 \tEpoch: 19 \tTraining Loss: 2.610119 \tValidation Loss: 2.074752\n",
      "Fold: 0 \tEpoch: 19 \tTraining accuracy: 0.000000 \tValidation accuracy: 0.390120\n",
      "0.0009755282581475768\n",
      "Validation loss decreased (2.080635 --> 2.074752).  Saving model ...\n"
     ]
    },
    {
     "name": "stderr",
     "output_type": "stream",
     "text": [
      "100%|██████████| 104/104 [00:16<00:00,  6.34it/s]\n",
      "100%|██████████| 26/26 [00:11<00:00,  2.36it/s]\n"
     ]
    },
    {
     "name": "stdout",
     "output_type": "stream",
     "text": [
      "Fold: 0 \tEpoch: 20 \tTraining Loss: 2.567401 \tValidation Loss: 2.133286\n",
      "Fold: 0 \tEpoch: 20 \tTraining accuracy: 0.000000 \tValidation accuracy: 0.389255\n",
      "0.0009698463103929542\n"
     ]
    },
    {
     "name": "stderr",
     "output_type": "stream",
     "text": [
      "100%|██████████| 104/104 [00:16<00:00,  6.35it/s]\n",
      "100%|██████████| 26/26 [00:10<00:00,  2.41it/s]\n"
     ]
    },
    {
     "name": "stdout",
     "output_type": "stream",
     "text": [
      "Fold: 0 \tEpoch: 21 \tTraining Loss: 2.494129 \tValidation Loss: 1.971810\n",
      "Fold: 0 \tEpoch: 21 \tTraining accuracy: 0.000000 \tValidation accuracy: 0.428149\n",
      "0.0009635919272833937\n",
      "Validation loss decreased (2.074752 --> 1.971810).  Saving model ...\n"
     ]
    },
    {
     "name": "stderr",
     "output_type": "stream",
     "text": [
      "100%|██████████| 104/104 [00:16<00:00,  6.37it/s]\n",
      "100%|██████████| 26/26 [00:10<00:00,  2.40it/s]\n"
     ]
    },
    {
     "name": "stdout",
     "output_type": "stream",
     "text": [
      "Fold: 0 \tEpoch: 22 \tTraining Loss: 2.526781 \tValidation Loss: 2.009648\n",
      "Fold: 0 \tEpoch: 22 \tTraining accuracy: 0.000000 \tValidation accuracy: 0.441106\n",
      "0.0009567727288213005\n"
     ]
    },
    {
     "name": "stderr",
     "output_type": "stream",
     "text": [
      "100%|██████████| 104/104 [00:16<00:00,  6.36it/s]\n",
      "100%|██████████| 26/26 [00:10<00:00,  2.38it/s]\n"
     ]
    },
    {
     "name": "stdout",
     "output_type": "stream",
     "text": [
      "Fold: 0 \tEpoch: 23 \tTraining Loss: 2.508363 \tValidation Loss: 1.962810\n",
      "Fold: 0 \tEpoch: 23 \tTraining accuracy: 0.000000 \tValidation accuracy: 0.426947\n",
      "0.0009493970231495835\n",
      "Validation loss decreased (1.971810 --> 1.962810).  Saving model ...\n"
     ]
    },
    {
     "name": "stderr",
     "output_type": "stream",
     "text": [
      "100%|██████████| 104/104 [00:16<00:00,  6.38it/s]\n",
      "100%|██████████| 26/26 [00:10<00:00,  2.42it/s]\n"
     ]
    },
    {
     "name": "stdout",
     "output_type": "stream",
     "text": [
      "Fold: 0 \tEpoch: 24 \tTraining Loss: 2.568889 \tValidation Loss: 1.915845\n",
      "Fold: 0 \tEpoch: 24 \tTraining accuracy: 0.000000 \tValidation accuracy: 0.449784\n",
      "0.0009414737964294635\n",
      "Validation loss decreased (1.962810 --> 1.915845).  Saving model ...\n"
     ]
    },
    {
     "name": "stderr",
     "output_type": "stream",
     "text": [
      "100%|██████████| 104/104 [00:16<00:00,  6.38it/s]\n",
      "100%|██████████| 26/26 [00:10<00:00,  2.41it/s]\n"
     ]
    },
    {
     "name": "stdout",
     "output_type": "stream",
     "text": [
      "Fold: 0 \tEpoch: 25 \tTraining Loss: 2.513613 \tValidation Loss: 1.938596\n",
      "Fold: 0 \tEpoch: 25 \tTraining accuracy: 0.000000 \tValidation accuracy: 0.445673\n",
      "0.0009330127018922195\n"
     ]
    },
    {
     "name": "stderr",
     "output_type": "stream",
     "text": [
      "100%|██████████| 104/104 [00:16<00:00,  6.41it/s]\n",
      "100%|██████████| 26/26 [00:10<00:00,  2.38it/s]\n"
     ]
    },
    {
     "name": "stdout",
     "output_type": "stream",
     "text": [
      "Fold: 0 \tEpoch: 26 \tTraining Loss: 2.474335 \tValidation Loss: 1.922513\n",
      "Fold: 0 \tEpoch: 26 \tTraining accuracy: 0.000000 \tValidation accuracy: 0.446178\n",
      "0.0009240240480782129\n"
     ]
    },
    {
     "name": "stderr",
     "output_type": "stream",
     "text": [
      "100%|██████████| 104/104 [00:16<00:00,  6.39it/s]\n",
      "100%|██████████| 26/26 [00:10<00:00,  2.43it/s]\n"
     ]
    },
    {
     "name": "stdout",
     "output_type": "stream",
     "text": [
      "Fold: 0 \tEpoch: 27 \tTraining Loss: 2.436682 \tValidation Loss: 1.964706\n",
      "Fold: 0 \tEpoch: 27 \tTraining accuracy: 0.000000 \tValidation accuracy: 0.442572\n",
      "0.0009145187862775209\n"
     ]
    },
    {
     "name": "stderr",
     "output_type": "stream",
     "text": [
      "100%|██████████| 104/104 [00:16<00:00,  6.37it/s]\n",
      "100%|██████████| 26/26 [00:10<00:00,  2.42it/s]\n"
     ]
    },
    {
     "name": "stdout",
     "output_type": "stream",
     "text": [
      "Fold: 0 \tEpoch: 28 \tTraining Loss: 2.583969 \tValidation Loss: 1.922983\n",
      "Fold: 0 \tEpoch: 28 \tTraining accuracy: 0.000000 \tValidation accuracy: 0.448486\n",
      "0.0009045084971874737\n"
     ]
    },
    {
     "name": "stderr",
     "output_type": "stream",
     "text": [
      "100%|██████████| 104/104 [00:16<00:00,  6.37it/s]\n",
      "100%|██████████| 26/26 [00:10<00:00,  2.38it/s]\n"
     ]
    },
    {
     "name": "stdout",
     "output_type": "stream",
     "text": [
      "Fold: 0 \tEpoch: 29 \tTraining Loss: 2.432686 \tValidation Loss: 1.957306\n",
      "Fold: 0 \tEpoch: 29 \tTraining accuracy: 0.000000 \tValidation accuracy: 0.453894\n",
      "0.000894005376803361\n"
     ]
    },
    {
     "name": "stderr",
     "output_type": "stream",
     "text": [
      "100%|██████████| 104/104 [00:16<00:00,  6.40it/s]\n",
      "100%|██████████| 26/26 [00:10<00:00,  2.41it/s]\n"
     ]
    },
    {
     "name": "stdout",
     "output_type": "stream",
     "text": [
      "Fold: 0 \tEpoch: 30 \tTraining Loss: 2.465588 \tValidation Loss: 1.947248\n",
      "Fold: 0 \tEpoch: 30 \tTraining accuracy: 0.000000 \tValidation accuracy: 0.434087\n",
      "0.000883022221559489\n"
     ]
    },
    {
     "name": "stderr",
     "output_type": "stream",
     "text": [
      "100%|██████████| 104/104 [00:16<00:00,  6.38it/s]\n",
      "100%|██████████| 26/26 [00:10<00:00,  2.41it/s]\n"
     ]
    },
    {
     "name": "stdout",
     "output_type": "stream",
     "text": [
      "Fold: 0 \tEpoch: 31 \tTraining Loss: 2.418803 \tValidation Loss: 1.816540\n",
      "Fold: 0 \tEpoch: 31 \tTraining accuracy: 0.000000 \tValidation accuracy: 0.461635\n",
      "0.0008715724127386971\n",
      "Validation loss decreased (1.915845 --> 1.816540).  Saving model ...\n"
     ]
    },
    {
     "name": "stderr",
     "output_type": "stream",
     "text": [
      "100%|██████████| 104/104 [00:16<00:00,  6.35it/s]\n",
      "100%|██████████| 26/26 [00:10<00:00,  2.43it/s]\n"
     ]
    },
    {
     "name": "stdout",
     "output_type": "stream",
     "text": [
      "Fold: 0 \tEpoch: 32 \tTraining Loss: 2.454096 \tValidation Loss: 1.849018\n",
      "Fold: 0 \tEpoch: 32 \tTraining accuracy: 0.000000 \tValidation accuracy: 0.454687\n",
      "0.0008596699001693256\n"
     ]
    },
    {
     "name": "stderr",
     "output_type": "stream",
     "text": [
      "100%|██████████| 104/104 [00:16<00:00,  6.41it/s]\n",
      "100%|██████████| 26/26 [00:10<00:00,  2.38it/s]\n"
     ]
    },
    {
     "name": "stdout",
     "output_type": "stream",
     "text": [
      "Fold: 0 \tEpoch: 33 \tTraining Loss: 2.476718 \tValidation Loss: 1.888741\n",
      "Fold: 0 \tEpoch: 33 \tTraining accuracy: 0.000000 \tValidation accuracy: 0.459832\n",
      "0.0008473291852294987\n"
     ]
    },
    {
     "name": "stderr",
     "output_type": "stream",
     "text": [
      "100%|██████████| 104/104 [00:16<00:00,  6.40it/s]\n",
      "100%|██████████| 26/26 [00:10<00:00,  2.40it/s]\n"
     ]
    },
    {
     "name": "stdout",
     "output_type": "stream",
     "text": [
      "Fold: 0 \tEpoch: 34 \tTraining Loss: 2.422959 \tValidation Loss: 1.869561\n",
      "Fold: 0 \tEpoch: 34 \tTraining accuracy: 0.000000 \tValidation accuracy: 0.465745\n",
      "0.0008345653031794292\n"
     ]
    },
    {
     "name": "stderr",
     "output_type": "stream",
     "text": [
      "100%|██████████| 104/104 [00:16<00:00,  6.37it/s]\n",
      "100%|██████████| 26/26 [00:10<00:00,  2.43it/s]\n"
     ]
    },
    {
     "name": "stdout",
     "output_type": "stream",
     "text": [
      "Fold: 0 \tEpoch: 35 \tTraining Loss: 2.468332 \tValidation Loss: 1.886097\n",
      "Fold: 0 \tEpoch: 35 \tTraining accuracy: 0.000000 \tValidation accuracy: 0.463606\n",
      "0.0008213938048432696\n"
     ]
    },
    {
     "name": "stderr",
     "output_type": "stream",
     "text": [
      "100%|██████████| 104/104 [00:16<00:00,  6.40it/s]\n",
      "100%|██████████| 26/26 [00:10<00:00,  2.43it/s]\n"
     ]
    },
    {
     "name": "stdout",
     "output_type": "stream",
     "text": [
      "Fold: 0 \tEpoch: 36 \tTraining Loss: 2.452853 \tValidation Loss: 1.854818\n",
      "Fold: 0 \tEpoch: 36 \tTraining accuracy: 0.000000 \tValidation accuracy: 0.478534\n",
      "0.0008078307376628291\n"
     ]
    },
    {
     "name": "stderr",
     "output_type": "stream",
     "text": [
      "100%|██████████| 104/104 [00:16<00:00,  6.36it/s]\n",
      "100%|██████████| 26/26 [00:10<00:00,  2.43it/s]\n"
     ]
    },
    {
     "name": "stdout",
     "output_type": "stream",
     "text": [
      "Fold: 0 \tEpoch: 37 \tTraining Loss: 2.453551 \tValidation Loss: 1.814426\n",
      "Fold: 0 \tEpoch: 37 \tTraining accuracy: 0.000000 \tValidation accuracy: 0.472019\n",
      "0.0007938926261462366\n",
      "Validation loss decreased (1.816540 --> 1.814426).  Saving model ...\n"
     ]
    },
    {
     "name": "stderr",
     "output_type": "stream",
     "text": [
      "100%|██████████| 104/104 [00:16<00:00,  6.39it/s]\n",
      "100%|██████████| 26/26 [00:10<00:00,  2.43it/s]\n"
     ]
    },
    {
     "name": "stdout",
     "output_type": "stream",
     "text": [
      "Fold: 0 \tEpoch: 38 \tTraining Loss: 2.392222 \tValidation Loss: 1.889510\n",
      "Fold: 0 \tEpoch: 38 \tTraining accuracy: 0.000000 \tValidation accuracy: 0.464471\n",
      "0.0007795964517353734\n"
     ]
    },
    {
     "name": "stderr",
     "output_type": "stream",
     "text": [
      "100%|██████████| 104/104 [00:16<00:00,  6.38it/s]\n",
      "100%|██████████| 26/26 [00:10<00:00,  2.37it/s]\n"
     ]
    },
    {
     "name": "stdout",
     "output_type": "stream",
     "text": [
      "Fold: 0 \tEpoch: 39 \tTraining Loss: 2.400757 \tValidation Loss: 1.828436\n",
      "Fold: 0 \tEpoch: 39 \tTraining accuracy: 0.000000 \tValidation accuracy: 0.465673\n",
      "0.0007649596321166025\n"
     ]
    },
    {
     "name": "stderr",
     "output_type": "stream",
     "text": [
      "100%|██████████| 104/104 [00:16<00:00,  6.32it/s]\n",
      "100%|██████████| 26/26 [00:10<00:00,  2.40it/s]\n"
     ]
    },
    {
     "name": "stdout",
     "output_type": "stream",
     "text": [
      "Fold: 0 \tEpoch: 40 \tTraining Loss: 2.445314 \tValidation Loss: 1.833012\n",
      "Fold: 0 \tEpoch: 40 \tTraining accuracy: 0.000000 \tValidation accuracy: 0.479327\n",
      "0.00075\n"
     ]
    },
    {
     "name": "stderr",
     "output_type": "stream",
     "text": [
      "100%|██████████| 104/104 [00:16<00:00,  6.35it/s]\n",
      "100%|██████████| 26/26 [00:10<00:00,  2.38it/s]\n"
     ]
    },
    {
     "name": "stdout",
     "output_type": "stream",
     "text": [
      "Fold: 0 \tEpoch: 41 \tTraining Loss: 2.400121 \tValidation Loss: 1.783567\n",
      "Fold: 0 \tEpoch: 41 \tTraining accuracy: 0.000000 \tValidation accuracy: 0.484712\n",
      "0.0007347357813929454\n",
      "Validation loss decreased (1.814426 --> 1.783567).  Saving model ...\n"
     ]
    },
    {
     "name": "stderr",
     "output_type": "stream",
     "text": [
      "100%|██████████| 104/104 [00:16<00:00,  6.35it/s]\n",
      "100%|██████████| 26/26 [00:10<00:00,  2.43it/s]\n"
     ]
    },
    {
     "name": "stdout",
     "output_type": "stream",
     "text": [
      "Fold: 0 \tEpoch: 42 \tTraining Loss: 2.474357 \tValidation Loss: 1.810506\n",
      "Fold: 0 \tEpoch: 42 \tTraining accuracy: 0.000000 \tValidation accuracy: 0.481010\n",
      "0.0007191855733945387\n"
     ]
    },
    {
     "name": "stderr",
     "output_type": "stream",
     "text": [
      "100%|██████████| 104/104 [00:16<00:00,  6.39it/s]\n",
      "100%|██████████| 26/26 [00:10<00:00,  2.42it/s]\n"
     ]
    },
    {
     "name": "stdout",
     "output_type": "stream",
     "text": [
      "Fold: 0 \tEpoch: 43 \tTraining Loss: 2.400606 \tValidation Loss: 1.733046\n",
      "Fold: 0 \tEpoch: 43 \tTraining accuracy: 0.000000 \tValidation accuracy: 0.488510\n",
      "0.0007033683215379\n",
      "Validation loss decreased (1.783567 --> 1.733046).  Saving model ...\n"
     ]
    },
    {
     "name": "stderr",
     "output_type": "stream",
     "text": [
      "100%|██████████| 104/104 [00:16<00:00,  6.38it/s]\n",
      "100%|██████████| 26/26 [00:10<00:00,  2.43it/s]\n"
     ]
    },
    {
     "name": "stdout",
     "output_type": "stream",
     "text": [
      "Fold: 0 \tEpoch: 44 \tTraining Loss: 2.372179 \tValidation Loss: 1.757890\n",
      "Fold: 0 \tEpoch: 44 \tTraining accuracy: 0.000000 \tValidation accuracy: 0.496995\n",
      "0.000687303296707956\n"
     ]
    },
    {
     "name": "stderr",
     "output_type": "stream",
     "text": [
      "100%|██████████| 104/104 [00:16<00:00,  6.39it/s]\n",
      "100%|██████████| 26/26 [00:10<00:00,  2.39it/s]\n"
     ]
    },
    {
     "name": "stdout",
     "output_type": "stream",
     "text": [
      "Fold: 0 \tEpoch: 45 \tTraining Loss: 2.339155 \tValidation Loss: 1.759167\n",
      "Fold: 0 \tEpoch: 45 \tTraining accuracy: 0.000000 \tValidation accuracy: 0.491683\n",
      "0.0006710100716628344\n"
     ]
    },
    {
     "name": "stderr",
     "output_type": "stream",
     "text": [
      "100%|██████████| 104/104 [00:16<00:00,  6.40it/s]\n",
      "100%|██████████| 26/26 [00:10<00:00,  2.44it/s]\n"
     ]
    },
    {
     "name": "stdout",
     "output_type": "stream",
     "text": [
      "Fold: 0 \tEpoch: 46 \tTraining Loss: 2.351051 \tValidation Loss: 1.703184\n",
      "Fold: 0 \tEpoch: 46 \tTraining accuracy: 0.000000 \tValidation accuracy: 0.505649\n",
      "0.0006545084971874737\n",
      "Validation loss decreased (1.733046 --> 1.703184).  Saving model ...\n"
     ]
    },
    {
     "name": "stderr",
     "output_type": "stream",
     "text": [
      "100%|██████████| 104/104 [00:16<00:00,  6.37it/s]\n",
      "100%|██████████| 26/26 [00:10<00:00,  2.41it/s]\n"
     ]
    },
    {
     "name": "stdout",
     "output_type": "stream",
     "text": [
      "Fold: 0 \tEpoch: 47 \tTraining Loss: 2.347714 \tValidation Loss: 1.685296\n",
      "Fold: 0 \tEpoch: 47 \tTraining accuracy: 0.000000 \tValidation accuracy: 0.517861\n",
      "0.0006378186779084996\n",
      "Validation loss decreased (1.703184 --> 1.685296).  Saving model ...\n"
     ]
    },
    {
     "name": "stderr",
     "output_type": "stream",
     "text": [
      "100%|██████████| 104/104 [00:16<00:00,  6.40it/s]\n",
      "100%|██████████| 26/26 [00:10<00:00,  2.42it/s]\n"
     ]
    },
    {
     "name": "stdout",
     "output_type": "stream",
     "text": [
      "Fold: 0 \tEpoch: 48 \tTraining Loss: 2.329923 \tValidation Loss: 1.701569\n",
      "Fold: 0 \tEpoch: 48 \tTraining accuracy: 0.000000 \tValidation accuracy: 0.516226\n",
      "0.0006209609477998339\n"
     ]
    },
    {
     "name": "stderr",
     "output_type": "stream",
     "text": [
      "100%|██████████| 104/104 [00:16<00:00,  6.39it/s]\n",
      "100%|██████████| 26/26 [00:10<00:00,  2.44it/s]\n"
     ]
    },
    {
     "name": "stdout",
     "output_type": "stream",
     "text": [
      "Fold: 0 \tEpoch: 49 \tTraining Loss: 2.321784 \tValidation Loss: 1.876527\n",
      "Fold: 0 \tEpoch: 49 \tTraining accuracy: 0.000000 \tValidation accuracy: 0.463077\n",
      "0.0006039558454088797\n"
     ]
    },
    {
     "name": "stderr",
     "output_type": "stream",
     "text": [
      "100%|██████████| 104/104 [00:16<00:00,  6.39it/s]\n",
      "100%|██████████| 26/26 [00:10<00:00,  2.38it/s]\n"
     ]
    },
    {
     "name": "stdout",
     "output_type": "stream",
     "text": [
      "Fold: 0 \tEpoch: 50 \tTraining Loss: 2.344019 \tValidation Loss: 1.708180\n",
      "Fold: 0 \tEpoch: 50 \tTraining accuracy: 0.000000 \tValidation accuracy: 0.517332\n",
      "0.0005868240888334653\n"
     ]
    },
    {
     "name": "stderr",
     "output_type": "stream",
     "text": [
      "100%|██████████| 104/104 [00:16<00:00,  6.43it/s]\n",
      "100%|██████████| 26/26 [00:10<00:00,  2.44it/s]\n"
     ]
    },
    {
     "name": "stdout",
     "output_type": "stream",
     "text": [
      "Fold: 0 \tEpoch: 51 \tTraining Loss: 2.271974 \tValidation Loss: 1.647887\n",
      "Fold: 0 \tEpoch: 51 \tTraining accuracy: 0.000000 \tValidation accuracy: 0.529543\n",
      "0.0005695865504800328\n",
      "Validation loss decreased (1.685296 --> 1.647887).  Saving model ...\n"
     ]
    },
    {
     "name": "stderr",
     "output_type": "stream",
     "text": [
      "100%|██████████| 104/104 [00:16<00:00,  6.37it/s]\n",
      "100%|██████████| 26/26 [00:10<00:00,  2.43it/s]\n"
     ]
    },
    {
     "name": "stdout",
     "output_type": "stream",
     "text": [
      "Fold: 0 \tEpoch: 52 \tTraining Loss: 2.342223 \tValidation Loss: 1.706461\n",
      "Fold: 0 \tEpoch: 52 \tTraining accuracy: 0.000000 \tValidation accuracy: 0.508558\n",
      "0.0005522642316338268\n"
     ]
    },
    {
     "name": "stderr",
     "output_type": "stream",
     "text": [
      "100%|██████████| 104/104 [00:16<00:00,  6.40it/s]\n",
      "100%|██████████| 26/26 [00:10<00:00,  2.42it/s]\n"
     ]
    },
    {
     "name": "stdout",
     "output_type": "stream",
     "text": [
      "Fold: 0 \tEpoch: 53 \tTraining Loss: 2.256961 \tValidation Loss: 1.678423\n",
      "Fold: 0 \tEpoch: 53 \tTraining accuracy: 0.000000 \tValidation accuracy: 0.512115\n",
      "0.0005348782368720627\n"
     ]
    },
    {
     "name": "stderr",
     "output_type": "stream",
     "text": [
      "100%|██████████| 104/104 [00:16<00:00,  6.43it/s]\n",
      "100%|██████████| 26/26 [00:10<00:00,  2.40it/s]\n"
     ]
    },
    {
     "name": "stdout",
     "output_type": "stream",
     "text": [
      "Fold: 0 \tEpoch: 54 \tTraining Loss: 2.246561 \tValidation Loss: 1.635325\n",
      "Fold: 0 \tEpoch: 54 \tTraining accuracy: 0.000000 \tValidation accuracy: 0.528317\n",
      "0.0005174497483512506\n",
      "Validation loss decreased (1.647887 --> 1.635325).  Saving model ...\n"
     ]
    },
    {
     "name": "stderr",
     "output_type": "stream",
     "text": [
      "100%|██████████| 104/104 [00:16<00:00,  6.36it/s]\n",
      "100%|██████████| 26/26 [00:10<00:00,  2.44it/s]\n"
     ]
    },
    {
     "name": "stdout",
     "output_type": "stream",
     "text": [
      "Fold: 0 \tEpoch: 55 \tTraining Loss: 2.275638 \tValidation Loss: 1.608705\n",
      "Fold: 0 \tEpoch: 55 \tTraining accuracy: 0.000000 \tValidation accuracy: 0.514784\n",
      "0.0005\n",
      "Validation loss decreased (1.635325 --> 1.608705).  Saving model ...\n"
     ]
    },
    {
     "name": "stderr",
     "output_type": "stream",
     "text": [
      "100%|██████████| 104/104 [00:16<00:00,  6.40it/s]\n",
      "100%|██████████| 26/26 [00:11<00:00,  2.35it/s]\n"
     ]
    },
    {
     "name": "stdout",
     "output_type": "stream",
     "text": [
      "Fold: 0 \tEpoch: 56 \tTraining Loss: 2.254804 \tValidation Loss: 1.579983\n",
      "Fold: 0 \tEpoch: 56 \tTraining accuracy: 0.000000 \tValidation accuracy: 0.548582\n",
      "0.0004825502516487497\n",
      "Validation loss decreased (1.608705 --> 1.579983).  Saving model ...\n"
     ]
    },
    {
     "name": "stderr",
     "output_type": "stream",
     "text": [
      "100%|██████████| 104/104 [00:16<00:00,  6.41it/s]\n",
      "100%|██████████| 26/26 [00:10<00:00,  2.45it/s]\n"
     ]
    },
    {
     "name": "stdout",
     "output_type": "stream",
     "text": [
      "Fold: 0 \tEpoch: 57 \tTraining Loss: 2.202328 \tValidation Loss: 1.562785\n",
      "Fold: 0 \tEpoch: 57 \tTraining accuracy: 0.000000 \tValidation accuracy: 0.547548\n",
      "0.00046512176312793734\n",
      "Validation loss decreased (1.579983 --> 1.562785).  Saving model ...\n"
     ]
    },
    {
     "name": "stderr",
     "output_type": "stream",
     "text": [
      "100%|██████████| 104/104 [00:16<00:00,  6.45it/s]\n",
      "100%|██████████| 26/26 [00:10<00:00,  2.42it/s]\n"
     ]
    },
    {
     "name": "stdout",
     "output_type": "stream",
     "text": [
      "Fold: 0 \tEpoch: 58 \tTraining Loss: 2.239563 \tValidation Loss: 1.575186\n",
      "Fold: 0 \tEpoch: 58 \tTraining accuracy: 0.000000 \tValidation accuracy: 0.553894\n",
      "0.00044773576836617336\n"
     ]
    },
    {
     "name": "stderr",
     "output_type": "stream",
     "text": [
      "100%|██████████| 104/104 [00:16<00:00,  6.41it/s]\n",
      "100%|██████████| 26/26 [00:10<00:00,  2.41it/s]\n"
     ]
    },
    {
     "name": "stdout",
     "output_type": "stream",
     "text": [
      "Fold: 0 \tEpoch: 59 \tTraining Loss: 2.294994 \tValidation Loss: 1.626954\n",
      "Fold: 0 \tEpoch: 59 \tTraining accuracy: 0.000000 \tValidation accuracy: 0.556755\n",
      "0.0004304134495199673\n"
     ]
    },
    {
     "name": "stderr",
     "output_type": "stream",
     "text": [
      "100%|██████████| 104/104 [00:16<00:00,  6.42it/s]\n",
      "100%|██████████| 26/26 [00:10<00:00,  2.45it/s]\n"
     ]
    },
    {
     "name": "stdout",
     "output_type": "stream",
     "text": [
      "Fold: 0 \tEpoch: 60 \tTraining Loss: 2.180462 \tValidation Loss: 1.561068\n",
      "Fold: 0 \tEpoch: 60 \tTraining accuracy: 0.000000 \tValidation accuracy: 0.546611\n",
      "0.00041317591116653486\n",
      "Validation loss decreased (1.562785 --> 1.561068).  Saving model ...\n"
     ]
    },
    {
     "name": "stderr",
     "output_type": "stream",
     "text": [
      "100%|██████████| 104/104 [00:16<00:00,  6.46it/s]\n",
      "100%|██████████| 26/26 [00:10<00:00,  2.40it/s]\n"
     ]
    },
    {
     "name": "stdout",
     "output_type": "stream",
     "text": [
      "Fold: 0 \tEpoch: 61 \tTraining Loss: 2.213153 \tValidation Loss: 1.556503\n",
      "Fold: 0 \tEpoch: 61 \tTraining accuracy: 0.000000 \tValidation accuracy: 0.551418\n",
      "0.0003960441545911204\n",
      "Validation loss decreased (1.561068 --> 1.556503).  Saving model ...\n"
     ]
    },
    {
     "name": "stderr",
     "output_type": "stream",
     "text": [
      "100%|██████████| 104/104 [00:16<00:00,  6.43it/s]\n",
      "100%|██████████| 26/26 [00:10<00:00,  2.46it/s]\n"
     ]
    },
    {
     "name": "stdout",
     "output_type": "stream",
     "text": [
      "Fold: 0 \tEpoch: 62 \tTraining Loss: 2.111373 \tValidation Loss: 1.620749\n",
      "Fold: 0 \tEpoch: 62 \tTraining accuracy: 0.000000 \tValidation accuracy: 0.537620\n",
      "0.0003790390522001661\n"
     ]
    },
    {
     "name": "stderr",
     "output_type": "stream",
     "text": [
      "100%|██████████| 104/104 [00:16<00:00,  6.39it/s]\n",
      "100%|██████████| 26/26 [00:10<00:00,  2.45it/s]\n"
     ]
    },
    {
     "name": "stdout",
     "output_type": "stream",
     "text": [
      "Fold: 0 \tEpoch: 63 \tTraining Loss: 2.275826 \tValidation Loss: 1.549734\n",
      "Fold: 0 \tEpoch: 63 \tTraining accuracy: 0.000000 \tValidation accuracy: 0.554327\n",
      "0.00036218132209150044\n",
      "Validation loss decreased (1.556503 --> 1.549734).  Saving model ...\n"
     ]
    },
    {
     "name": "stderr",
     "output_type": "stream",
     "text": [
      "100%|██████████| 104/104 [00:16<00:00,  6.45it/s]\n",
      "100%|██████████| 26/26 [00:10<00:00,  2.41it/s]\n"
     ]
    },
    {
     "name": "stdout",
     "output_type": "stream",
     "text": [
      "Fold: 0 \tEpoch: 64 \tTraining Loss: 2.179823 \tValidation Loss: 1.527022\n",
      "Fold: 0 \tEpoch: 64 \tTraining accuracy: 0.000000 \tValidation accuracy: 0.562837\n",
      "0.00034549150281252633\n",
      "Validation loss decreased (1.549734 --> 1.527022).  Saving model ...\n"
     ]
    },
    {
     "name": "stderr",
     "output_type": "stream",
     "text": [
      "100%|██████████| 104/104 [00:16<00:00,  6.40it/s]\n",
      "100%|██████████| 26/26 [00:10<00:00,  2.43it/s]\n"
     ]
    },
    {
     "name": "stdout",
     "output_type": "stream",
     "text": [
      "Fold: 0 \tEpoch: 65 \tTraining Loss: 2.175504 \tValidation Loss: 1.502940\n",
      "Fold: 0 \tEpoch: 65 \tTraining accuracy: 0.000000 \tValidation accuracy: 0.556226\n",
      "0.0003289899283371657\n",
      "Validation loss decreased (1.527022 --> 1.502940).  Saving model ...\n"
     ]
    },
    {
     "name": "stderr",
     "output_type": "stream",
     "text": [
      "100%|██████████| 104/104 [00:16<00:00,  6.41it/s]\n",
      "100%|██████████| 26/26 [00:10<00:00,  2.45it/s]\n"
     ]
    },
    {
     "name": "stdout",
     "output_type": "stream",
     "text": [
      "Fold: 0 \tEpoch: 66 \tTraining Loss: 2.227711 \tValidation Loss: 1.518974\n",
      "Fold: 0 \tEpoch: 66 \tTraining accuracy: 0.000000 \tValidation accuracy: 0.563101\n",
      "0.00031269670329204396\n"
     ]
    },
    {
     "name": "stderr",
     "output_type": "stream",
     "text": [
      "100%|██████████| 104/104 [00:16<00:00,  6.47it/s]\n",
      "100%|██████████| 26/26 [00:10<00:00,  2.44it/s]\n"
     ]
    },
    {
     "name": "stdout",
     "output_type": "stream",
     "text": [
      "Fold: 0 \tEpoch: 67 \tTraining Loss: 2.181394 \tValidation Loss: 1.499297\n",
      "Fold: 0 \tEpoch: 67 \tTraining accuracy: 0.000000 \tValidation accuracy: 0.575962\n",
      "0.0002966316784620999\n",
      "Validation loss decreased (1.502940 --> 1.499297).  Saving model ...\n"
     ]
    },
    {
     "name": "stderr",
     "output_type": "stream",
     "text": [
      "100%|██████████| 104/104 [00:16<00:00,  6.44it/s]\n",
      "100%|██████████| 26/26 [00:10<00:00,  2.47it/s]\n"
     ]
    },
    {
     "name": "stdout",
     "output_type": "stream",
     "text": [
      "Fold: 0 \tEpoch: 68 \tTraining Loss: 2.191336 \tValidation Loss: 1.509152\n",
      "Fold: 0 \tEpoch: 68 \tTraining accuracy: 0.000000 \tValidation accuracy: 0.569687\n",
      "0.00028081442660546124\n"
     ]
    },
    {
     "name": "stderr",
     "output_type": "stream",
     "text": [
      "100%|██████████| 104/104 [00:16<00:00,  6.42it/s]\n",
      "100%|██████████| 26/26 [00:10<00:00,  2.45it/s]\n"
     ]
    },
    {
     "name": "stdout",
     "output_type": "stream",
     "text": [
      "Fold: 0 \tEpoch: 69 \tTraining Loss: 2.164425 \tValidation Loss: 1.503393\n",
      "Fold: 0 \tEpoch: 69 \tTraining accuracy: 0.000000 \tValidation accuracy: 0.566779\n",
      "0.00026526421860705474\n"
     ]
    },
    {
     "name": "stderr",
     "output_type": "stream",
     "text": [
      "100%|██████████| 104/104 [00:16<00:00,  6.45it/s]\n",
      "100%|██████████| 26/26 [00:10<00:00,  2.44it/s]\n"
     ]
    },
    {
     "name": "stdout",
     "output_type": "stream",
     "text": [
      "Fold: 0 \tEpoch: 70 \tTraining Loss: 2.080895 \tValidation Loss: 1.467259\n",
      "Fold: 0 \tEpoch: 70 \tTraining accuracy: 0.000000 \tValidation accuracy: 0.568846\n",
      "0.0002500000000000001\n",
      "Validation loss decreased (1.499297 --> 1.467259).  Saving model ...\n"
     ]
    },
    {
     "name": "stderr",
     "output_type": "stream",
     "text": [
      "100%|██████████| 104/104 [00:16<00:00,  6.40it/s]\n",
      "100%|██████████| 26/26 [00:10<00:00,  2.47it/s]\n"
     ]
    },
    {
     "name": "stdout",
     "output_type": "stream",
     "text": [
      "Fold: 0 \tEpoch: 71 \tTraining Loss: 2.267089 \tValidation Loss: 1.503589\n",
      "Fold: 0 \tEpoch: 71 \tTraining accuracy: 0.000000 \tValidation accuracy: 0.572284\n",
      "0.0002350403678833976\n"
     ]
    },
    {
     "name": "stderr",
     "output_type": "stream",
     "text": [
      "100%|██████████| 104/104 [00:16<00:00,  6.39it/s]\n",
      "100%|██████████| 26/26 [00:10<00:00,  2.40it/s]\n"
     ]
    },
    {
     "name": "stdout",
     "output_type": "stream",
     "text": [
      "Fold: 0 \tEpoch: 72 \tTraining Loss: 2.067432 \tValidation Loss: 1.488829\n",
      "Fold: 0 \tEpoch: 72 \tTraining accuracy: 0.000000 \tValidation accuracy: 0.581106\n",
      "0.00022040354826462666\n"
     ]
    },
    {
     "name": "stderr",
     "output_type": "stream",
     "text": [
      "100%|██████████| 104/104 [00:16<00:00,  6.36it/s]\n",
      "100%|██████████| 26/26 [00:10<00:00,  2.42it/s]\n"
     ]
    },
    {
     "name": "stdout",
     "output_type": "stream",
     "text": [
      "Fold: 0 \tEpoch: 73 \tTraining Loss: 2.089123 \tValidation Loss: 1.451813\n",
      "Fold: 0 \tEpoch: 73 \tTraining accuracy: 0.000000 \tValidation accuracy: 0.570625\n",
      "0.00020610737385376348\n",
      "Validation loss decreased (1.467259 --> 1.451813).  Saving model ...\n"
     ]
    },
    {
     "name": "stderr",
     "output_type": "stream",
     "text": [
      "100%|██████████| 104/104 [00:16<00:00,  6.42it/s]\n",
      "100%|██████████| 26/26 [00:10<00:00,  2.46it/s]\n"
     ]
    },
    {
     "name": "stdout",
     "output_type": "stream",
     "text": [
      "Fold: 0 \tEpoch: 74 \tTraining Loss: 2.258597 \tValidation Loss: 1.491608\n",
      "Fold: 0 \tEpoch: 74 \tTraining accuracy: 0.000000 \tValidation accuracy: 0.576827\n",
      "0.00019216926233717085\n"
     ]
    },
    {
     "name": "stderr",
     "output_type": "stream",
     "text": [
      "100%|██████████| 104/104 [00:16<00:00,  6.41it/s]\n",
      "100%|██████████| 26/26 [00:10<00:00,  2.44it/s]\n"
     ]
    },
    {
     "name": "stdout",
     "output_type": "stream",
     "text": [
      "Fold: 0 \tEpoch: 75 \tTraining Loss: 2.120402 \tValidation Loss: 1.454758\n",
      "Fold: 0 \tEpoch: 75 \tTraining accuracy: 0.000000 \tValidation accuracy: 0.579495\n",
      "0.0001786061951567303\n"
     ]
    },
    {
     "name": "stderr",
     "output_type": "stream",
     "text": [
      "100%|██████████| 104/104 [00:16<00:00,  6.45it/s]\n",
      "100%|██████████| 26/26 [00:10<00:00,  2.45it/s]\n"
     ]
    },
    {
     "name": "stdout",
     "output_type": "stream",
     "text": [
      "Fold: 0 \tEpoch: 76 \tTraining Loss: 2.134869 \tValidation Loss: 1.488111\n",
      "Fold: 0 \tEpoch: 76 \tTraining accuracy: 0.000000 \tValidation accuracy: 0.565409\n",
      "0.0001654346968205709\n"
     ]
    },
    {
     "name": "stderr",
     "output_type": "stream",
     "text": [
      "100%|██████████| 104/104 [00:16<00:00,  6.39it/s]\n",
      "100%|██████████| 26/26 [00:10<00:00,  2.42it/s]\n"
     ]
    },
    {
     "name": "stdout",
     "output_type": "stream",
     "text": [
      "Fold: 0 \tEpoch: 77 \tTraining Loss: 2.095694 \tValidation Loss: 1.474865\n",
      "Fold: 0 \tEpoch: 77 \tTraining accuracy: 0.000000 \tValidation accuracy: 0.577692\n",
      "0.0001526708147705015\n"
     ]
    },
    {
     "name": "stderr",
     "output_type": "stream",
     "text": [
      "100%|██████████| 104/104 [00:16<00:00,  6.45it/s]\n",
      "100%|██████████| 26/26 [00:10<00:00,  2.41it/s]\n"
     ]
    },
    {
     "name": "stdout",
     "output_type": "stream",
     "text": [
      "Fold: 0 \tEpoch: 78 \tTraining Loss: 1.995579 \tValidation Loss: 1.423549\n",
      "Fold: 0 \tEpoch: 78 \tTraining accuracy: 0.000000 \tValidation accuracy: 0.581971\n",
      "0.00014033009983067436\n",
      "Validation loss decreased (1.451813 --> 1.423549).  Saving model ...\n"
     ]
    },
    {
     "name": "stderr",
     "output_type": "stream",
     "text": [
      "100%|██████████| 104/104 [00:16<00:00,  6.46it/s]\n",
      "100%|██████████| 26/26 [00:10<00:00,  2.47it/s]\n"
     ]
    },
    {
     "name": "stdout",
     "output_type": "stream",
     "text": [
      "Fold: 0 \tEpoch: 79 \tTraining Loss: 2.115177 \tValidation Loss: 1.441973\n",
      "Fold: 0 \tEpoch: 79 \tTraining accuracy: 0.000000 \tValidation accuracy: 0.581562\n",
      "0.00012842758726130292\n"
     ]
    },
    {
     "name": "stderr",
     "output_type": "stream",
     "text": [
      "100%|██████████| 104/104 [00:16<00:00,  6.40it/s]\n",
      "100%|██████████| 26/26 [00:11<00:00,  2.29it/s]\n"
     ]
    },
    {
     "name": "stdout",
     "output_type": "stream",
     "text": [
      "Fold: 0 \tEpoch: 80 \tTraining Loss: 2.116511 \tValidation Loss: 1.439913\n",
      "Fold: 0 \tEpoch: 80 \tTraining accuracy: 0.000000 \tValidation accuracy: 0.588678\n",
      "0.00011697777844051105\n"
     ]
    },
    {
     "name": "stderr",
     "output_type": "stream",
     "text": [
      "100%|██████████| 104/104 [00:16<00:00,  6.44it/s]\n",
      "100%|██████████| 26/26 [00:10<00:00,  2.45it/s]\n"
     ]
    },
    {
     "name": "stdout",
     "output_type": "stream",
     "text": [
      "Fold: 0 \tEpoch: 81 \tTraining Loss: 1.970342 \tValidation Loss: 1.418442\n",
      "Fold: 0 \tEpoch: 81 \tTraining accuracy: 0.000000 \tValidation accuracy: 0.582139\n",
      "0.00010599462319663906\n",
      "Validation loss decreased (1.423549 --> 1.418442).  Saving model ...\n"
     ]
    },
    {
     "name": "stderr",
     "output_type": "stream",
     "text": [
      "100%|██████████| 104/104 [00:16<00:00,  6.43it/s]\n",
      "100%|██████████| 26/26 [00:10<00:00,  2.38it/s]\n"
     ]
    },
    {
     "name": "stdout",
     "output_type": "stream",
     "text": [
      "Fold: 0 \tEpoch: 82 \tTraining Loss: 2.073215 \tValidation Loss: 1.408460\n",
      "Fold: 0 \tEpoch: 82 \tTraining accuracy: 0.000000 \tValidation accuracy: 0.582500\n",
      "9.549150281252633e-05\n",
      "Validation loss decreased (1.418442 --> 1.408460).  Saving model ...\n"
     ]
    },
    {
     "name": "stderr",
     "output_type": "stream",
     "text": [
      "100%|██████████| 104/104 [00:16<00:00,  6.42it/s]\n",
      "100%|██████████| 26/26 [00:10<00:00,  2.42it/s]\n"
     ]
    },
    {
     "name": "stdout",
     "output_type": "stream",
     "text": [
      "Fold: 0 \tEpoch: 83 \tTraining Loss: 2.012208 \tValidation Loss: 1.405911\n",
      "Fold: 0 \tEpoch: 83 \tTraining accuracy: 0.000000 \tValidation accuracy: 0.586635\n",
      "8.548121372247918e-05\n",
      "Validation loss decreased (1.408460 --> 1.405911).  Saving model ...\n"
     ]
    },
    {
     "name": "stderr",
     "output_type": "stream",
     "text": [
      "100%|██████████| 104/104 [00:16<00:00,  6.30it/s]\n",
      "100%|██████████| 26/26 [00:10<00:00,  2.43it/s]\n"
     ]
    },
    {
     "name": "stdout",
     "output_type": "stream",
     "text": [
      "Fold: 0 \tEpoch: 84 \tTraining Loss: 2.100239 \tValidation Loss: 1.430581\n",
      "Fold: 0 \tEpoch: 84 \tTraining accuracy: 0.000000 \tValidation accuracy: 0.584135\n",
      "7.597595192178702e-05\n"
     ]
    },
    {
     "name": "stderr",
     "output_type": "stream",
     "text": [
      "100%|██████████| 104/104 [00:16<00:00,  6.40it/s]\n",
      "100%|██████████| 26/26 [00:10<00:00,  2.41it/s]\n"
     ]
    },
    {
     "name": "stdout",
     "output_type": "stream",
     "text": [
      "Fold: 0 \tEpoch: 85 \tTraining Loss: 2.047752 \tValidation Loss: 1.403590\n",
      "Fold: 0 \tEpoch: 85 \tTraining accuracy: 0.000000 \tValidation accuracy: 0.595264\n",
      "6.698729810778065e-05\n",
      "Validation loss decreased (1.405911 --> 1.403590).  Saving model ...\n"
     ]
    },
    {
     "name": "stderr",
     "output_type": "stream",
     "text": [
      "100%|██████████| 104/104 [00:17<00:00,  6.00it/s]\n",
      "100%|██████████| 26/26 [00:10<00:00,  2.41it/s]\n"
     ]
    },
    {
     "name": "stdout",
     "output_type": "stream",
     "text": [
      "Fold: 0 \tEpoch: 86 \tTraining Loss: 2.001104 \tValidation Loss: 1.383240\n",
      "Fold: 0 \tEpoch: 86 \tTraining accuracy: 0.000000 \tValidation accuracy: 0.590024\n",
      "5.8526203570536616e-05\n",
      "Validation loss decreased (1.403590 --> 1.383240).  Saving model ...\n"
     ]
    },
    {
     "name": "stderr",
     "output_type": "stream",
     "text": [
      "100%|██████████| 104/104 [00:16<00:00,  6.33it/s]\n",
      "100%|██████████| 26/26 [00:10<00:00,  2.40it/s]\n"
     ]
    },
    {
     "name": "stdout",
     "output_type": "stream",
     "text": [
      "Fold: 0 \tEpoch: 87 \tTraining Loss: 2.034202 \tValidation Loss: 1.424649\n",
      "Fold: 0 \tEpoch: 87 \tTraining accuracy: 0.000000 \tValidation accuracy: 0.588341\n",
      "5.060297685041648e-05\n"
     ]
    },
    {
     "name": "stderr",
     "output_type": "stream",
     "text": [
      "100%|██████████| 104/104 [00:16<00:00,  6.31it/s]\n",
      "100%|██████████| 26/26 [00:10<00:00,  2.40it/s]\n"
     ]
    },
    {
     "name": "stdout",
     "output_type": "stream",
     "text": [
      "Fold: 0 \tEpoch: 88 \tTraining Loss: 1.975977 \tValidation Loss: 1.394666\n",
      "Fold: 0 \tEpoch: 88 \tTraining accuracy: 0.000000 \tValidation accuracy: 0.598630\n",
      "4.3227271178699624e-05\n"
     ]
    },
    {
     "name": "stderr",
     "output_type": "stream",
     "text": [
      "100%|██████████| 104/104 [00:16<00:00,  6.39it/s]\n",
      "100%|██████████| 26/26 [00:10<00:00,  2.43it/s]\n"
     ]
    },
    {
     "name": "stdout",
     "output_type": "stream",
     "text": [
      "Fold: 0 \tEpoch: 89 \tTraining Loss: 2.107224 \tValidation Loss: 1.401566\n",
      "Fold: 0 \tEpoch: 89 \tTraining accuracy: 0.000000 \tValidation accuracy: 0.591082\n",
      "3.6408072716606344e-05\n"
     ]
    },
    {
     "name": "stderr",
     "output_type": "stream",
     "text": [
      "100%|██████████| 104/104 [00:16<00:00,  6.35it/s]\n",
      "100%|██████████| 26/26 [00:10<00:00,  2.39it/s]\n"
     ]
    },
    {
     "name": "stdout",
     "output_type": "stream",
     "text": [
      "Fold: 0 \tEpoch: 90 \tTraining Loss: 2.078692 \tValidation Loss: 1.395111\n",
      "Fold: 0 \tEpoch: 90 \tTraining accuracy: 0.000000 \tValidation accuracy: 0.598101\n",
      "3.0153689607045842e-05\n"
     ]
    },
    {
     "name": "stderr",
     "output_type": "stream",
     "text": [
      "100%|██████████| 104/104 [00:17<00:00,  5.96it/s]\n",
      "100%|██████████| 26/26 [00:11<00:00,  2.34it/s]\n"
     ]
    },
    {
     "name": "stdout",
     "output_type": "stream",
     "text": [
      "Fold: 0 \tEpoch: 91 \tTraining Loss: 2.041963 \tValidation Loss: 1.407965\n",
      "Fold: 0 \tEpoch: 91 \tTraining accuracy: 0.000000 \tValidation accuracy: 0.585048\n",
      "2.4471741852423235e-05\n"
     ]
    },
    {
     "name": "stderr",
     "output_type": "stream",
     "text": [
      "100%|██████████| 104/104 [00:16<00:00,  6.35it/s]\n",
      "100%|██████████| 26/26 [00:10<00:00,  2.36it/s]\n"
     ]
    },
    {
     "name": "stdout",
     "output_type": "stream",
     "text": [
      "Fold: 0 \tEpoch: 92 \tTraining Loss: 1.977550 \tValidation Loss: 1.388192\n",
      "Fold: 0 \tEpoch: 92 \tTraining accuracy: 0.000000 \tValidation accuracy: 0.597861\n",
      "1.9369152030840666e-05\n"
     ]
    },
    {
     "name": "stderr",
     "output_type": "stream",
     "text": [
      "100%|██████████| 104/104 [00:16<00:00,  6.35it/s]\n",
      "100%|██████████| 26/26 [00:10<00:00,  2.44it/s]\n"
     ]
    },
    {
     "name": "stdout",
     "output_type": "stream",
     "text": [
      "Fold: 0 \tEpoch: 93 \tTraining Loss: 2.047604 \tValidation Loss: 1.389812\n",
      "Fold: 0 \tEpoch: 93 \tTraining accuracy: 0.000000 \tValidation accuracy: 0.597187\n",
      "1.4852136862001764e-05\n"
     ]
    },
    {
     "name": "stderr",
     "output_type": "stream",
     "text": [
      "100%|██████████| 104/104 [00:16<00:00,  6.37it/s]\n",
      "100%|██████████| 26/26 [00:10<00:00,  2.41it/s]\n"
     ]
    },
    {
     "name": "stdout",
     "output_type": "stream",
     "text": [
      "Fold: 0 \tEpoch: 94 \tTraining Loss: 1.955762 \tValidation Loss: 1.384069\n",
      "Fold: 0 \tEpoch: 94 \tTraining accuracy: 0.000000 \tValidation accuracy: 0.596466\n",
      "1.0926199633097156e-05\n"
     ]
    },
    {
     "name": "stderr",
     "output_type": "stream",
     "text": [
      "100%|██████████| 104/104 [00:16<00:00,  6.25it/s]\n",
      "100%|██████████| 26/26 [00:10<00:00,  2.42it/s]\n"
     ]
    },
    {
     "name": "stdout",
     "output_type": "stream",
     "text": [
      "Fold: 0 \tEpoch: 95 \tTraining Loss: 2.037836 \tValidation Loss: 1.389261\n",
      "Fold: 0 \tEpoch: 95 \tTraining accuracy: 0.000000 \tValidation accuracy: 0.593558\n",
      "7.59612349389599e-06\n"
     ]
    },
    {
     "name": "stderr",
     "output_type": "stream",
     "text": [
      "100%|██████████| 104/104 [00:16<00:00,  6.32it/s]\n",
      "100%|██████████| 26/26 [00:10<00:00,  2.43it/s]\n"
     ]
    },
    {
     "name": "stdout",
     "output_type": "stream",
     "text": [
      "Fold: 0 \tEpoch: 96 \tTraining Loss: 2.018785 \tValidation Loss: 1.395515\n",
      "Fold: 0 \tEpoch: 96 \tTraining accuracy: 0.000000 \tValidation accuracy: 0.592524\n",
      "4.865965629214875e-06\n"
     ]
    },
    {
     "name": "stderr",
     "output_type": "stream",
     "text": [
      "100%|██████████| 104/104 [00:16<00:00,  6.35it/s]\n",
      "100%|██████████| 26/26 [00:10<00:00,  2.42it/s]\n"
     ]
    },
    {
     "name": "stdout",
     "output_type": "stream",
     "text": [
      "Fold: 0 \tEpoch: 97 \tTraining Loss: 2.037352 \tValidation Loss: 1.394055\n",
      "Fold: 0 \tEpoch: 97 \tTraining accuracy: 0.000000 \tValidation accuracy: 0.594327\n",
      "2.739052315863355e-06\n"
     ]
    },
    {
     "name": "stderr",
     "output_type": "stream",
     "text": [
      "100%|██████████| 104/104 [00:16<00:00,  6.35it/s]\n",
      "100%|██████████| 26/26 [00:10<00:00,  2.42it/s]\n"
     ]
    },
    {
     "name": "stdout",
     "output_type": "stream",
     "text": [
      "Fold: 0 \tEpoch: 98 \tTraining Loss: 2.016334 \tValidation Loss: 1.376519\n",
      "Fold: 0 \tEpoch: 98 \tTraining accuracy: 0.000000 \tValidation accuracy: 0.597596\n",
      "1.2179748700879012e-06\n",
      "Validation loss decreased (1.383240 --> 1.376519).  Saving model ...\n"
     ]
    },
    {
     "name": "stderr",
     "output_type": "stream",
     "text": [
      "100%|██████████| 104/104 [00:16<00:00,  6.38it/s]\n",
      "100%|██████████| 26/26 [00:10<00:00,  2.38it/s]\n"
     ]
    },
    {
     "name": "stdout",
     "output_type": "stream",
     "text": [
      "Fold: 0 \tEpoch: 99 \tTraining Loss: 2.026216 \tValidation Loss: 1.384632\n",
      "Fold: 0 \tEpoch: 99 \tTraining accuracy: 0.000000 \tValidation accuracy: 0.593558\n",
      "3.0458649045211895e-07\n"
     ]
    },
    {
     "name": "stderr",
     "output_type": "stream",
     "text": [
      "100%|██████████| 104/104 [00:16<00:00,  6.36it/s]\n",
      "100%|██████████| 26/26 [00:11<00:00,  2.32it/s]\n"
     ]
    },
    {
     "name": "stdout",
     "output_type": "stream",
     "text": [
      "Fold: 0 \tEpoch: 100 \tTraining Loss: 2.138216 \tValidation Loss: 1.409835\n",
      "Fold: 0 \tEpoch: 100 \tTraining accuracy: 0.000000 \tValidation accuracy: 0.585529\n",
      "0.0\n"
     ]
    },
    {
     "name": "stderr",
     "output_type": "stream",
     "text": [
      "100%|██████████| 104/104 [00:16<00:00,  6.38it/s]\n",
      "100%|██████████| 26/26 [00:10<00:00,  2.40it/s]\n"
     ]
    },
    {
     "name": "stdout",
     "output_type": "stream",
     "text": [
      "Fold: 0 \tEpoch: 101 \tTraining Loss: 1.948310 \tValidation Loss: 1.384460\n",
      "Fold: 0 \tEpoch: 101 \tTraining accuracy: 0.000000 \tValidation accuracy: 0.598462\n",
      "5e-05\n"
     ]
    },
    {
     "name": "stderr",
     "output_type": "stream",
     "text": [
      "100%|██████████| 104/104 [00:17<00:00,  5.80it/s]\n",
      "100%|██████████| 26/26 [00:10<00:00,  2.47it/s]\n"
     ]
    },
    {
     "name": "stdout",
     "output_type": "stream",
     "text": [
      "Fold: 0 \tEpoch: 102 \tTraining Loss: 1.993821 \tValidation Loss: 1.375823\n",
      "Fold: 0 \tEpoch: 102 \tTraining accuracy: 0.000000 \tValidation accuracy: 0.597764\n",
      "0.0001\n",
      "Validation loss decreased (1.376519 --> 1.375823).  Saving model ...\n"
     ]
    },
    {
     "name": "stderr",
     "output_type": "stream",
     "text": [
      "100%|██████████| 104/104 [00:16<00:00,  6.44it/s]\n",
      "100%|██████████| 26/26 [00:10<00:00,  2.43it/s]\n"
     ]
    },
    {
     "name": "stdout",
     "output_type": "stream",
     "text": [
      "Fold: 0 \tEpoch: 103 \tTraining Loss: 2.088521 \tValidation Loss: 1.404240\n",
      "Fold: 0 \tEpoch: 103 \tTraining accuracy: 0.000000 \tValidation accuracy: 0.597764\n",
      "0.00015000000000000001\n"
     ]
    },
    {
     "name": "stderr",
     "output_type": "stream",
     "text": [
      "100%|██████████| 104/104 [00:16<00:00,  6.46it/s]\n",
      "100%|██████████| 26/26 [00:10<00:00,  2.39it/s]\n"
     ]
    },
    {
     "name": "stdout",
     "output_type": "stream",
     "text": [
      "Fold: 0 \tEpoch: 104 \tTraining Loss: 2.026767 \tValidation Loss: 1.447702\n",
      "Fold: 0 \tEpoch: 104 \tTraining accuracy: 0.000000 \tValidation accuracy: 0.585841\n",
      "0.0002\n"
     ]
    },
    {
     "name": "stderr",
     "output_type": "stream",
     "text": [
      "100%|██████████| 104/104 [00:16<00:00,  6.45it/s]\n",
      "100%|██████████| 26/26 [00:10<00:00,  2.43it/s]\n"
     ]
    },
    {
     "name": "stdout",
     "output_type": "stream",
     "text": [
      "Fold: 0 \tEpoch: 105 \tTraining Loss: 2.100053 \tValidation Loss: 1.461377\n",
      "Fold: 0 \tEpoch: 105 \tTraining accuracy: 0.000000 \tValidation accuracy: 0.575793\n",
      "0.00025\n"
     ]
    },
    {
     "name": "stderr",
     "output_type": "stream",
     "text": [
      "100%|██████████| 104/104 [00:16<00:00,  6.30it/s]\n",
      "100%|██████████| 26/26 [00:10<00:00,  2.44it/s]\n"
     ]
    },
    {
     "name": "stdout",
     "output_type": "stream",
     "text": [
      "Fold: 0 \tEpoch: 106 \tTraining Loss: 2.066154 \tValidation Loss: 1.465753\n",
      "Fold: 0 \tEpoch: 106 \tTraining accuracy: 0.000000 \tValidation accuracy: 0.571082\n",
      "0.00030000000000000003\n"
     ]
    },
    {
     "name": "stderr",
     "output_type": "stream",
     "text": [
      "100%|██████████| 104/104 [00:16<00:00,  6.48it/s]\n",
      "100%|██████████| 26/26 [00:10<00:00,  2.43it/s]\n"
     ]
    },
    {
     "name": "stdout",
     "output_type": "stream",
     "text": [
      "Fold: 0 \tEpoch: 107 \tTraining Loss: 2.167126 \tValidation Loss: 1.478108\n",
      "Fold: 0 \tEpoch: 107 \tTraining accuracy: 0.000000 \tValidation accuracy: 0.581202\n",
      "0.00035\n"
     ]
    },
    {
     "name": "stderr",
     "output_type": "stream",
     "text": [
      "100%|██████████| 104/104 [00:16<00:00,  6.46it/s]\n",
      "100%|██████████| 26/26 [00:10<00:00,  2.40it/s]\n"
     ]
    },
    {
     "name": "stdout",
     "output_type": "stream",
     "text": [
      "Fold: 0 \tEpoch: 108 \tTraining Loss: 2.006534 \tValidation Loss: 1.456146\n",
      "Fold: 0 \tEpoch: 108 \tTraining accuracy: 0.000000 \tValidation accuracy: 0.585312\n",
      "0.0004\n"
     ]
    },
    {
     "name": "stderr",
     "output_type": "stream",
     "text": [
      "100%|██████████| 104/104 [00:15<00:00,  6.50it/s]\n",
      "100%|██████████| 26/26 [00:10<00:00,  2.45it/s]\n"
     ]
    },
    {
     "name": "stdout",
     "output_type": "stream",
     "text": [
      "Fold: 0 \tEpoch: 109 \tTraining Loss: 2.098521 \tValidation Loss: 1.449388\n",
      "Fold: 0 \tEpoch: 109 \tTraining accuracy: 0.000000 \tValidation accuracy: 0.571322\n",
      "0.00045000000000000004\n"
     ]
    },
    {
     "name": "stderr",
     "output_type": "stream",
     "text": [
      "100%|██████████| 104/104 [00:16<00:00,  6.45it/s]\n",
      "100%|██████████| 26/26 [00:10<00:00,  2.43it/s]\n"
     ]
    },
    {
     "name": "stdout",
     "output_type": "stream",
     "text": [
      "Fold: 0 \tEpoch: 110 \tTraining Loss: 2.174747 \tValidation Loss: 1.474215\n",
      "Fold: 0 \tEpoch: 110 \tTraining accuracy: 0.000000 \tValidation accuracy: 0.564471\n",
      "0.0005\n"
     ]
    },
    {
     "name": "stderr",
     "output_type": "stream",
     "text": [
      "100%|██████████| 104/104 [00:16<00:00,  6.46it/s]\n",
      "100%|██████████| 26/26 [00:10<00:00,  2.43it/s]\n"
     ]
    },
    {
     "name": "stdout",
     "output_type": "stream",
     "text": [
      "Fold: 0 \tEpoch: 111 \tTraining Loss: 2.122430 \tValidation Loss: 1.486271\n",
      "Fold: 0 \tEpoch: 111 \tTraining accuracy: 0.000000 \tValidation accuracy: 0.550745\n",
      "0.0004998477067547739\n"
     ]
    },
    {
     "name": "stderr",
     "output_type": "stream",
     "text": [
      "100%|██████████| 104/104 [00:16<00:00,  6.50it/s]\n",
      "100%|██████████| 26/26 [00:10<00:00,  2.41it/s]\n"
     ]
    },
    {
     "name": "stdout",
     "output_type": "stream",
     "text": [
      "Fold: 0 \tEpoch: 112 \tTraining Loss: 2.187016 \tValidation Loss: 1.531351\n",
      "Fold: 0 \tEpoch: 112 \tTraining accuracy: 0.000000 \tValidation accuracy: 0.554255\n",
      "0.0004993910125649561\n"
     ]
    },
    {
     "name": "stderr",
     "output_type": "stream",
     "text": [
      "100%|██████████| 104/104 [00:16<00:00,  6.45it/s]\n",
      "100%|██████████| 26/26 [00:10<00:00,  2.44it/s]\n"
     ]
    },
    {
     "name": "stdout",
     "output_type": "stream",
     "text": [
      "Fold: 0 \tEpoch: 113 \tTraining Loss: 2.101715 \tValidation Loss: 1.483780\n",
      "Fold: 0 \tEpoch: 113 \tTraining accuracy: 0.000000 \tValidation accuracy: 0.560769\n",
      "0.0004986304738420684\n"
     ]
    },
    {
     "name": "stderr",
     "output_type": "stream",
     "text": [
      "100%|██████████| 104/104 [00:16<00:00,  6.48it/s]\n",
      "100%|██████████| 26/26 [00:10<00:00,  2.47it/s]\n"
     ]
    },
    {
     "name": "stdout",
     "output_type": "stream",
     "text": [
      "Fold: 0 \tEpoch: 114 \tTraining Loss: 2.240943 \tValidation Loss: 1.823856\n",
      "Fold: 0 \tEpoch: 114 \tTraining accuracy: 0.000000 \tValidation accuracy: 0.478534\n",
      "0.0004975670171853926\n"
     ]
    },
    {
     "name": "stderr",
     "output_type": "stream",
     "text": [
      "100%|██████████| 104/104 [00:16<00:00,  6.45it/s]\n",
      "100%|██████████| 26/26 [00:10<00:00,  2.46it/s]\n"
     ]
    },
    {
     "name": "stdout",
     "output_type": "stream",
     "text": [
      "Fold: 0 \tEpoch: 115 \tTraining Loss: 2.232284 \tValidation Loss: 1.595536\n",
      "Fold: 0 \tEpoch: 115 \tTraining accuracy: 0.000000 \tValidation accuracy: 0.546611\n",
      "0.000496201938253052\n"
     ]
    },
    {
     "name": "stderr",
     "output_type": "stream",
     "text": [
      "100%|██████████| 104/104 [00:16<00:00,  6.45it/s]\n",
      "100%|██████████| 26/26 [00:10<00:00,  2.42it/s]\n"
     ]
    },
    {
     "name": "stdout",
     "output_type": "stream",
     "text": [
      "Fold: 0 \tEpoch: 116 \tTraining Loss: 2.177696 \tValidation Loss: 1.522460\n",
      "Fold: 0 \tEpoch: 116 \tTraining accuracy: 0.000000 \tValidation accuracy: 0.553726\n",
      "0.0004945369001834514\n"
     ]
    },
    {
     "name": "stderr",
     "output_type": "stream",
     "text": [
      "100%|██████████| 104/104 [00:16<00:00,  6.43it/s]\n",
      "100%|██████████| 26/26 [00:10<00:00,  2.41it/s]\n"
     ]
    },
    {
     "name": "stdout",
     "output_type": "stream",
     "text": [
      "Fold: 0 \tEpoch: 117 \tTraining Loss: 2.139097 \tValidation Loss: 1.488623\n",
      "Fold: 0 \tEpoch: 117 \tTraining accuracy: 0.000000 \tValidation accuracy: 0.583005\n",
      "0.0004925739315689991\n"
     ]
    },
    {
     "name": "stderr",
     "output_type": "stream",
     "text": [
      "100%|██████████| 104/104 [00:16<00:00,  6.46it/s]\n",
      "100%|██████████| 26/26 [00:10<00:00,  2.44it/s]\n"
     ]
    },
    {
     "name": "stdout",
     "output_type": "stream",
     "text": [
      "Fold: 0 \tEpoch: 118 \tTraining Loss: 2.065778 \tValidation Loss: 1.443257\n",
      "Fold: 0 \tEpoch: 118 \tTraining accuracy: 0.000000 \tValidation accuracy: 0.576563\n",
      "0.0004903154239845797\n"
     ]
    },
    {
     "name": "stderr",
     "output_type": "stream",
     "text": [
      "100%|██████████| 104/104 [00:16<00:00,  6.45it/s]\n",
      "100%|██████████| 26/26 [00:10<00:00,  2.43it/s]\n"
     ]
    },
    {
     "name": "stdout",
     "output_type": "stream",
     "text": [
      "Fold: 0 \tEpoch: 119 \tTraining Loss: 2.072841 \tValidation Loss: 1.483750\n",
      "Fold: 0 \tEpoch: 119 \tTraining accuracy: 0.000000 \tValidation accuracy: 0.563173\n",
      "0.0004877641290737884\n"
     ]
    },
    {
     "name": "stderr",
     "output_type": "stream",
     "text": [
      "100%|██████████| 104/104 [00:15<00:00,  6.51it/s]\n",
      "100%|██████████| 26/26 [00:10<00:00,  2.47it/s]\n"
     ]
    },
    {
     "name": "stdout",
     "output_type": "stream",
     "text": [
      "Fold: 0 \tEpoch: 120 \tTraining Loss: 2.070583 \tValidation Loss: 1.484206\n",
      "Fold: 0 \tEpoch: 120 \tTraining accuracy: 0.000000 \tValidation accuracy: 0.575793\n",
      "0.0004849231551964771\n"
     ]
    },
    {
     "name": "stderr",
     "output_type": "stream",
     "text": [
      "100%|██████████| 104/104 [00:15<00:00,  6.52it/s]\n",
      "100%|██████████| 26/26 [00:10<00:00,  2.49it/s]\n"
     ]
    },
    {
     "name": "stdout",
     "output_type": "stream",
     "text": [
      "Fold: 0 \tEpoch: 121 \tTraining Loss: 2.130049 \tValidation Loss: 1.427680\n",
      "Fold: 0 \tEpoch: 121 \tTraining accuracy: 0.000000 \tValidation accuracy: 0.580192\n",
      "0.00048179596364169685\n"
     ]
    },
    {
     "name": "stderr",
     "output_type": "stream",
     "text": [
      "100%|██████████| 104/104 [00:15<00:00,  6.50it/s]\n",
      "100%|██████████| 26/26 [00:10<00:00,  2.50it/s]\n"
     ]
    },
    {
     "name": "stdout",
     "output_type": "stream",
     "text": [
      "Fold: 0 \tEpoch: 122 \tTraining Loss: 2.161669 \tValidation Loss: 1.515913\n",
      "Fold: 0 \tEpoch: 122 \tTraining accuracy: 0.000000 \tValidation accuracy: 0.570817\n",
      "0.0004783863644106502\n"
     ]
    },
    {
     "name": "stderr",
     "output_type": "stream",
     "text": [
      "100%|██████████| 104/104 [00:15<00:00,  6.53it/s]\n",
      "100%|██████████| 26/26 [00:10<00:00,  2.48it/s]\n"
     ]
    },
    {
     "name": "stdout",
     "output_type": "stream",
     "text": [
      "Fold: 0 \tEpoch: 123 \tTraining Loss: 2.184246 \tValidation Loss: 1.467769\n",
      "Fold: 0 \tEpoch: 123 \tTraining accuracy: 0.000000 \tValidation accuracy: 0.582764\n",
      "0.00047469851157479177\n"
     ]
    },
    {
     "name": "stderr",
     "output_type": "stream",
     "text": [
      "100%|██████████| 104/104 [00:15<00:00,  6.52it/s]\n",
      "100%|██████████| 26/26 [00:10<00:00,  2.46it/s]\n"
     ]
    },
    {
     "name": "stdout",
     "output_type": "stream",
     "text": [
      "Fold: 0 \tEpoch: 124 \tTraining Loss: 2.084749 \tValidation Loss: 1.428362\n",
      "Fold: 0 \tEpoch: 124 \tTraining accuracy: 0.000000 \tValidation accuracy: 0.590553\n",
      "0.00047073689821473173\n"
     ]
    },
    {
     "name": "stderr",
     "output_type": "stream",
     "text": [
      "100%|██████████| 104/104 [00:16<00:00,  6.47it/s]\n",
      "100%|██████████| 26/26 [00:10<00:00,  2.42it/s]\n"
     ]
    },
    {
     "name": "stdout",
     "output_type": "stream",
     "text": [
      "Fold: 0 \tEpoch: 125 \tTraining Loss: 2.174342 \tValidation Loss: 1.534524\n",
      "Fold: 0 \tEpoch: 125 \tTraining accuracy: 0.000000 \tValidation accuracy: 0.562332\n",
      "0.00046650635094610973\n"
     ]
    },
    {
     "name": "stderr",
     "output_type": "stream",
     "text": [
      "100%|██████████| 104/104 [00:15<00:00,  6.51it/s]\n",
      "100%|██████████| 26/26 [00:10<00:00,  2.44it/s]\n"
     ]
    },
    {
     "name": "stdout",
     "output_type": "stream",
     "text": [
      "Fold: 0 \tEpoch: 126 \tTraining Loss: 2.182713 \tValidation Loss: 1.465831\n",
      "Fold: 0 \tEpoch: 126 \tTraining accuracy: 0.000000 \tValidation accuracy: 0.561466\n",
      "0.00046201202403910646\n"
     ]
    },
    {
     "name": "stderr",
     "output_type": "stream",
     "text": [
      "100%|██████████| 104/104 [00:15<00:00,  6.50it/s]\n",
      "100%|██████████| 26/26 [00:10<00:00,  2.42it/s]\n"
     ]
    },
    {
     "name": "stdout",
     "output_type": "stream",
     "text": [
      "Fold: 0 \tEpoch: 127 \tTraining Loss: 2.174248 \tValidation Loss: 1.463757\n",
      "Fold: 0 \tEpoch: 127 \tTraining accuracy: 0.000000 \tValidation accuracy: 0.574231\n",
      "0.00045725939313876043\n"
     ]
    },
    {
     "name": "stderr",
     "output_type": "stream",
     "text": [
      "100%|██████████| 104/104 [00:16<00:00,  6.48it/s]\n",
      "100%|██████████| 26/26 [00:10<00:00,  2.46it/s]\n"
     ]
    },
    {
     "name": "stdout",
     "output_type": "stream",
     "text": [
      "Fold: 0 \tEpoch: 128 \tTraining Loss: 2.107705 \tValidation Loss: 1.486526\n",
      "Fold: 0 \tEpoch: 128 \tTraining accuracy: 0.000000 \tValidation accuracy: 0.569784\n",
      "0.0004522542485937369\n"
     ]
    },
    {
     "name": "stderr",
     "output_type": "stream",
     "text": [
      "100%|██████████| 104/104 [00:16<00:00,  6.48it/s]\n",
      "100%|██████████| 26/26 [00:10<00:00,  2.48it/s]\n"
     ]
    },
    {
     "name": "stdout",
     "output_type": "stream",
     "text": [
      "Fold: 0 \tEpoch: 129 \tTraining Loss: 2.170510 \tValidation Loss: 1.470349\n",
      "Fold: 0 \tEpoch: 129 \tTraining accuracy: 0.000000 \tValidation accuracy: 0.576322\n",
      "0.0004470026884016805\n"
     ]
    },
    {
     "name": "stderr",
     "output_type": "stream",
     "text": [
      "100%|██████████| 104/104 [00:15<00:00,  6.52it/s]\n",
      "100%|██████████| 26/26 [00:10<00:00,  2.44it/s]\n"
     ]
    },
    {
     "name": "stdout",
     "output_type": "stream",
     "text": [
      "Fold: 0 \tEpoch: 130 \tTraining Loss: 2.068729 \tValidation Loss: 1.458319\n",
      "Fold: 0 \tEpoch: 130 \tTraining accuracy: 0.000000 \tValidation accuracy: 0.578125\n",
      "0.0004415111107797445\n"
     ]
    },
    {
     "name": "stderr",
     "output_type": "stream",
     "text": [
      "100%|██████████| 104/104 [00:16<00:00,  6.47it/s]\n",
      "100%|██████████| 26/26 [00:10<00:00,  2.49it/s]\n"
     ]
    },
    {
     "name": "stdout",
     "output_type": "stream",
     "text": [
      "Fold: 0 \tEpoch: 131 \tTraining Loss: 2.135608 \tValidation Loss: 1.445845\n",
      "Fold: 0 \tEpoch: 131 \tTraining accuracy: 0.000000 \tValidation accuracy: 0.582981\n",
      "0.00043578620636934855\n"
     ]
    },
    {
     "name": "stderr",
     "output_type": "stream",
     "text": [
      "100%|██████████| 104/104 [00:16<00:00,  6.49it/s]\n",
      "100%|██████████| 26/26 [00:10<00:00,  2.44it/s]\n"
     ]
    },
    {
     "name": "stdout",
     "output_type": "stream",
     "text": [
      "Fold: 0 \tEpoch: 132 \tTraining Loss: 2.048105 \tValidation Loss: 1.454818\n",
      "Fold: 0 \tEpoch: 132 \tTraining accuracy: 0.000000 \tValidation accuracy: 0.578558\n",
      "0.0004298349500846628\n"
     ]
    },
    {
     "name": "stderr",
     "output_type": "stream",
     "text": [
      "100%|██████████| 104/104 [00:15<00:00,  6.52it/s]\n",
      "100%|██████████| 26/26 [00:10<00:00,  2.42it/s]\n"
     ]
    },
    {
     "name": "stdout",
     "output_type": "stream",
     "text": [
      "Fold: 0 \tEpoch: 133 \tTraining Loss: 2.098945 \tValidation Loss: 1.427961\n",
      "Fold: 0 \tEpoch: 133 \tTraining accuracy: 0.000000 \tValidation accuracy: 0.571683\n",
      "0.00042366459261474935\n"
     ]
    },
    {
     "name": "stderr",
     "output_type": "stream",
     "text": [
      "100%|██████████| 104/104 [00:16<00:00,  6.50it/s]\n",
      "100%|██████████| 26/26 [00:10<00:00,  2.44it/s]\n"
     ]
    },
    {
     "name": "stdout",
     "output_type": "stream",
     "text": [
      "Fold: 0 \tEpoch: 134 \tTraining Loss: 2.055637 \tValidation Loss: 1.422383\n",
      "Fold: 0 \tEpoch: 134 \tTraining accuracy: 0.000000 \tValidation accuracy: 0.586779\n",
      "0.0004172826515897146\n"
     ]
    },
    {
     "name": "stderr",
     "output_type": "stream",
     "text": [
      "100%|██████████| 104/104 [00:15<00:00,  6.51it/s]\n",
      "100%|██████████| 26/26 [00:10<00:00,  2.45it/s]\n"
     ]
    },
    {
     "name": "stdout",
     "output_type": "stream",
     "text": [
      "Fold: 0 \tEpoch: 135 \tTraining Loss: 2.108011 \tValidation Loss: 1.434625\n",
      "Fold: 0 \tEpoch: 135 \tTraining accuracy: 0.000000 \tValidation accuracy: 0.579832\n",
      "0.0004106969024216348\n"
     ]
    },
    {
     "name": "stderr",
     "output_type": "stream",
     "text": [
      "100%|██████████| 104/104 [00:16<00:00,  6.49it/s]\n",
      "100%|██████████| 26/26 [00:10<00:00,  2.48it/s]\n"
     ]
    },
    {
     "name": "stdout",
     "output_type": "stream",
     "text": [
      "Fold: 0 \tEpoch: 136 \tTraining Loss: 2.113396 \tValidation Loss: 1.410227\n",
      "Fold: 0 \tEpoch: 136 \tTraining accuracy: 0.000000 \tValidation accuracy: 0.598197\n",
      "0.00040391536883141455\n"
     ]
    },
    {
     "name": "stderr",
     "output_type": "stream",
     "text": [
      "100%|██████████| 104/104 [00:16<00:00,  6.49it/s]\n",
      "100%|██████████| 26/26 [00:10<00:00,  2.47it/s]\n"
     ]
    },
    {
     "name": "stdout",
     "output_type": "stream",
     "text": [
      "Fold: 0 \tEpoch: 137 \tTraining Loss: 2.118001 \tValidation Loss: 1.423693\n",
      "Fold: 0 \tEpoch: 137 \tTraining accuracy: 0.000000 \tValidation accuracy: 0.587115\n",
      "0.0003969463130731183\n"
     ]
    },
    {
     "name": "stderr",
     "output_type": "stream",
     "text": [
      "100%|██████████| 104/104 [00:15<00:00,  6.51it/s]\n",
      "100%|██████████| 26/26 [00:10<00:00,  2.49it/s]\n"
     ]
    },
    {
     "name": "stdout",
     "output_type": "stream",
     "text": [
      "Fold: 0 \tEpoch: 138 \tTraining Loss: 1.945807 \tValidation Loss: 1.419156\n",
      "Fold: 0 \tEpoch: 138 \tTraining accuracy: 0.000000 \tValidation accuracy: 0.584639\n",
      "0.0003897982258676867\n"
     ]
    },
    {
     "name": "stderr",
     "output_type": "stream",
     "text": [
      "100%|██████████| 104/104 [00:15<00:00,  6.51it/s]\n",
      "100%|██████████| 26/26 [00:10<00:00,  2.46it/s]\n"
     ]
    },
    {
     "name": "stdout",
     "output_type": "stream",
     "text": [
      "Fold: 0 \tEpoch: 139 \tTraining Loss: 2.133183 \tValidation Loss: 1.438390\n",
      "Fold: 0 \tEpoch: 139 \tTraining accuracy: 0.000000 \tValidation accuracy: 0.575697\n",
      "0.00038247981605830125\n"
     ]
    },
    {
     "name": "stderr",
     "output_type": "stream",
     "text": [
      "100%|██████████| 104/104 [00:15<00:00,  6.53it/s]\n",
      "100%|██████████| 26/26 [00:10<00:00,  2.47it/s]\n"
     ]
    },
    {
     "name": "stdout",
     "output_type": "stream",
     "text": [
      "Fold: 0 \tEpoch: 140 \tTraining Loss: 1.206895 \tValidation Loss: 1.378170\n",
      "Fold: 0 \tEpoch: 140 \tTraining accuracy: 0.000000 \tValidation accuracy: 0.588005\n",
      "0.000375\n"
     ]
    },
    {
     "name": "stderr",
     "output_type": "stream",
     "text": [
      "100%|██████████| 104/104 [00:15<00:00,  6.55it/s]\n",
      "100%|██████████| 26/26 [00:10<00:00,  2.49it/s]\n"
     ]
    },
    {
     "name": "stdout",
     "output_type": "stream",
     "text": [
      "Fold: 0 \tEpoch: 141 \tTraining Loss: 1.171541 \tValidation Loss: 1.391065\n",
      "Fold: 0 \tEpoch: 141 \tTraining accuracy: 0.000000 \tValidation accuracy: 0.586587\n",
      "0.0003673678906964727\n"
     ]
    },
    {
     "name": "stderr",
     "output_type": "stream",
     "text": [
      "100%|██████████| 104/104 [00:15<00:00,  6.54it/s]\n",
      "100%|██████████| 26/26 [00:10<00:00,  2.48it/s]\n"
     ]
    },
    {
     "name": "stdout",
     "output_type": "stream",
     "text": [
      "Fold: 0 \tEpoch: 142 \tTraining Loss: 1.169148 \tValidation Loss: 1.469813\n",
      "Fold: 0 \tEpoch: 142 \tTraining accuracy: 0.000000 \tValidation accuracy: 0.571755\n",
      "0.00035959278669726934\n"
     ]
    },
    {
     "name": "stderr",
     "output_type": "stream",
     "text": [
      "100%|██████████| 104/104 [00:15<00:00,  6.51it/s]\n",
      "100%|██████████| 26/26 [00:10<00:00,  2.49it/s]\n"
     ]
    },
    {
     "name": "stdout",
     "output_type": "stream",
     "text": [
      "Fold: 0 \tEpoch: 143 \tTraining Loss: 1.142950 \tValidation Loss: 1.407396\n",
      "Fold: 0 \tEpoch: 143 \tTraining accuracy: 0.000000 \tValidation accuracy: 0.568750\n",
      "0.00035168416076895\n"
     ]
    },
    {
     "name": "stderr",
     "output_type": "stream",
     "text": [
      "100%|██████████| 104/104 [00:15<00:00,  6.54it/s]\n",
      "100%|██████████| 26/26 [00:10<00:00,  2.49it/s]\n"
     ]
    },
    {
     "name": "stdout",
     "output_type": "stream",
     "text": [
      "Fold: 0 \tEpoch: 144 \tTraining Loss: 1.207262 \tValidation Loss: 1.341896\n",
      "Fold: 0 \tEpoch: 144 \tTraining accuracy: 0.000000 \tValidation accuracy: 0.591226\n",
      "0.000343651648353978\n",
      "Validation loss decreased (1.375823 --> 1.341896).  Saving model ...\n"
     ]
    },
    {
     "name": "stderr",
     "output_type": "stream",
     "text": [
      "100%|██████████| 104/104 [00:15<00:00,  6.53it/s]\n",
      "100%|██████████| 26/26 [00:10<00:00,  2.46it/s]\n"
     ]
    },
    {
     "name": "stdout",
     "output_type": "stream",
     "text": [
      "Fold: 0 \tEpoch: 145 \tTraining Loss: 1.142466 \tValidation Loss: 1.358803\n",
      "Fold: 0 \tEpoch: 145 \tTraining accuracy: 0.000000 \tValidation accuracy: 0.602813\n",
      "0.0003355050358314172\n"
     ]
    },
    {
     "name": "stderr",
     "output_type": "stream",
     "text": [
      "100%|██████████| 104/104 [00:15<00:00,  6.50it/s]\n",
      "100%|██████████| 26/26 [00:10<00:00,  2.43it/s]\n"
     ]
    },
    {
     "name": "stdout",
     "output_type": "stream",
     "text": [
      "Fold: 0 \tEpoch: 146 \tTraining Loss: 1.098979 \tValidation Loss: 1.363228\n",
      "Fold: 0 \tEpoch: 146 \tTraining accuracy: 0.000000 \tValidation accuracy: 0.600937\n",
      "0.00032725424859373687\n"
     ]
    },
    {
     "name": "stderr",
     "output_type": "stream",
     "text": [
      "100%|██████████| 104/104 [00:15<00:00,  6.53it/s]\n",
      "100%|██████████| 26/26 [00:10<00:00,  2.44it/s]\n"
     ]
    },
    {
     "name": "stdout",
     "output_type": "stream",
     "text": [
      "Fold: 0 \tEpoch: 147 \tTraining Loss: 1.068040 \tValidation Loss: 1.344350\n",
      "Fold: 0 \tEpoch: 147 \tTraining accuracy: 0.000000 \tValidation accuracy: 0.601803\n",
      "0.0003189093389542498\n"
     ]
    },
    {
     "name": "stderr",
     "output_type": "stream",
     "text": [
      "100%|██████████| 104/104 [00:15<00:00,  6.52it/s]\n",
      "100%|██████████| 26/26 [00:10<00:00,  2.45it/s]\n"
     ]
    },
    {
     "name": "stdout",
     "output_type": "stream",
     "text": [
      "Fold: 0 \tEpoch: 148 \tTraining Loss: 1.046126 \tValidation Loss: 1.336823\n",
      "Fold: 0 \tEpoch: 148 \tTraining accuracy: 0.000000 \tValidation accuracy: 0.608413\n",
      "0.00031048047389991694\n",
      "Validation loss decreased (1.341896 --> 1.336823).  Saving model ...\n"
     ]
    },
    {
     "name": "stderr",
     "output_type": "stream",
     "text": [
      "100%|██████████| 104/104 [00:16<00:00,  6.49it/s]\n",
      "100%|██████████| 26/26 [00:10<00:00,  2.44it/s]\n"
     ]
    },
    {
     "name": "stdout",
     "output_type": "stream",
     "text": [
      "Fold: 0 \tEpoch: 149 \tTraining Loss: 1.032209 \tValidation Loss: 1.366873\n",
      "Fold: 0 \tEpoch: 149 \tTraining accuracy: 0.000000 \tValidation accuracy: 0.598870\n",
      "0.00030197792270443986\n",
      "============= Fold-1 strat =============\n"
     ]
    },
    {
     "name": "stderr",
     "output_type": "stream",
     "text": [
      "100%|██████████| 104/104 [00:15<00:00,  6.53it/s]\n",
      "100%|██████████| 26/26 [00:10<00:00,  2.48it/s]\n"
     ]
    },
    {
     "name": "stdout",
     "output_type": "stream",
     "text": [
      "Fold: 1 \tEpoch: 0 \tTraining Loss: 3.502950 \tValidation Loss: 3.462607\n",
      "Fold: 1 \tEpoch: 0 \tTraining accuracy: 0.000000 \tValidation accuracy: 0.030649\n",
      "0.0\n",
      "Validation loss decreased (inf --> 3.462607).  Saving model ...\n"
     ]
    },
    {
     "name": "stderr",
     "output_type": "stream",
     "text": [
      "100%|██████████| 104/104 [00:16<00:00,  6.47it/s]\n",
      "100%|██████████| 26/26 [00:10<00:00,  2.44it/s]\n"
     ]
    },
    {
     "name": "stdout",
     "output_type": "stream",
     "text": [
      "Fold: 1 \tEpoch: 1 \tTraining Loss: 3.507550 \tValidation Loss: 3.459059\n",
      "Fold: 1 \tEpoch: 1 \tTraining accuracy: 0.000000 \tValidation accuracy: 0.029784\n",
      "0.0001\n",
      "Validation loss decreased (3.462607 --> 3.459059).  Saving model ...\n"
     ]
    },
    {
     "name": "stderr",
     "output_type": "stream",
     "text": [
      "100%|██████████| 104/104 [00:16<00:00,  6.47it/s]\n",
      "100%|██████████| 26/26 [00:10<00:00,  2.49it/s]\n"
     ]
    },
    {
     "name": "stdout",
     "output_type": "stream",
     "text": [
      "Fold: 1 \tEpoch: 2 \tTraining Loss: 3.110058 \tValidation Loss: 2.782381\n",
      "Fold: 1 \tEpoch: 2 \tTraining accuracy: 0.000000 \tValidation accuracy: 0.178966\n",
      "0.0002\n",
      "Validation loss decreased (3.459059 --> 2.782381).  Saving model ...\n"
     ]
    },
    {
     "name": "stderr",
     "output_type": "stream",
     "text": [
      "100%|██████████| 104/104 [00:15<00:00,  6.51it/s]\n",
      "100%|██████████| 26/26 [00:10<00:00,  2.47it/s]\n"
     ]
    },
    {
     "name": "stdout",
     "output_type": "stream",
     "text": [
      "Fold: 1 \tEpoch: 3 \tTraining Loss: 3.000187 \tValidation Loss: 2.667361\n",
      "Fold: 1 \tEpoch: 3 \tTraining accuracy: 0.000000 \tValidation accuracy: 0.229880\n",
      "0.00030000000000000003\n",
      "Validation loss decreased (2.782381 --> 2.667361).  Saving model ...\n"
     ]
    },
    {
     "name": "stderr",
     "output_type": "stream",
     "text": [
      "100%|██████████| 104/104 [00:16<00:00,  6.47it/s]\n",
      "100%|██████████| 26/26 [00:10<00:00,  2.44it/s]\n"
     ]
    },
    {
     "name": "stdout",
     "output_type": "stream",
     "text": [
      "Fold: 1 \tEpoch: 4 \tTraining Loss: 2.914565 \tValidation Loss: 2.486199\n",
      "Fold: 1 \tEpoch: 4 \tTraining accuracy: 0.000000 \tValidation accuracy: 0.264279\n",
      "0.0004\n",
      "Validation loss decreased (2.667361 --> 2.486199).  Saving model ...\n"
     ]
    },
    {
     "name": "stderr",
     "output_type": "stream",
     "text": [
      "100%|██████████| 104/104 [00:16<00:00,  6.49it/s]\n",
      "100%|██████████| 26/26 [00:10<00:00,  2.43it/s]\n"
     ]
    },
    {
     "name": "stdout",
     "output_type": "stream",
     "text": [
      "Fold: 1 \tEpoch: 5 \tTraining Loss: 2.887469 \tValidation Loss: 2.481654\n",
      "Fold: 1 \tEpoch: 5 \tTraining accuracy: 0.000000 \tValidation accuracy: 0.274952\n",
      "0.0005\n",
      "Validation loss decreased (2.486199 --> 2.481654).  Saving model ...\n"
     ]
    },
    {
     "name": "stderr",
     "output_type": "stream",
     "text": [
      "100%|██████████| 104/104 [00:16<00:00,  6.48it/s]\n",
      "100%|██████████| 26/26 [00:10<00:00,  2.50it/s]\n"
     ]
    },
    {
     "name": "stdout",
     "output_type": "stream",
     "text": [
      "Fold: 1 \tEpoch: 6 \tTraining Loss: 2.835928 \tValidation Loss: 2.462746\n",
      "Fold: 1 \tEpoch: 6 \tTraining accuracy: 0.000000 \tValidation accuracy: 0.278534\n",
      "0.0006000000000000001\n",
      "Validation loss decreased (2.481654 --> 2.462746).  Saving model ...\n"
     ]
    },
    {
     "name": "stderr",
     "output_type": "stream",
     "text": [
      "100%|██████████| 104/104 [00:16<00:00,  6.49it/s]\n",
      "100%|██████████| 26/26 [00:10<00:00,  2.44it/s]\n"
     ]
    },
    {
     "name": "stdout",
     "output_type": "stream",
     "text": [
      "Fold: 1 \tEpoch: 7 \tTraining Loss: 2.839061 \tValidation Loss: 2.438066\n",
      "Fold: 1 \tEpoch: 7 \tTraining accuracy: 0.000000 \tValidation accuracy: 0.295361\n",
      "0.0007\n",
      "Validation loss decreased (2.462746 --> 2.438066).  Saving model ...\n"
     ]
    },
    {
     "name": "stderr",
     "output_type": "stream",
     "text": [
      "100%|██████████| 104/104 [00:16<00:00,  6.45it/s]\n",
      "100%|██████████| 26/26 [00:10<00:00,  2.43it/s]\n"
     ]
    },
    {
     "name": "stdout",
     "output_type": "stream",
     "text": [
      "Fold: 1 \tEpoch: 8 \tTraining Loss: 2.813590 \tValidation Loss: 2.411801\n",
      "Fold: 1 \tEpoch: 8 \tTraining accuracy: 0.000000 \tValidation accuracy: 0.286346\n",
      "0.0008\n",
      "Validation loss decreased (2.438066 --> 2.411801).  Saving model ...\n"
     ]
    },
    {
     "name": "stderr",
     "output_type": "stream",
     "text": [
      "100%|██████████| 104/104 [00:16<00:00,  6.46it/s]\n",
      "100%|██████████| 26/26 [00:10<00:00,  2.44it/s]\n"
     ]
    },
    {
     "name": "stdout",
     "output_type": "stream",
     "text": [
      "Fold: 1 \tEpoch: 9 \tTraining Loss: 2.778151 \tValidation Loss: 2.371737\n",
      "Fold: 1 \tEpoch: 9 \tTraining accuracy: 0.000000 \tValidation accuracy: 0.293822\n",
      "0.0009000000000000001\n",
      "Validation loss decreased (2.411801 --> 2.371737).  Saving model ...\n"
     ]
    },
    {
     "name": "stderr",
     "output_type": "stream",
     "text": [
      "100%|██████████| 104/104 [00:16<00:00,  6.48it/s]\n",
      "100%|██████████| 26/26 [00:10<00:00,  2.44it/s]\n"
     ]
    },
    {
     "name": "stdout",
     "output_type": "stream",
     "text": [
      "Fold: 1 \tEpoch: 10 \tTraining Loss: 2.768912 \tValidation Loss: 2.373524\n",
      "Fold: 1 \tEpoch: 10 \tTraining accuracy: 0.000000 \tValidation accuracy: 0.302644\n",
      "0.001\n"
     ]
    },
    {
     "name": "stderr",
     "output_type": "stream",
     "text": [
      "100%|██████████| 104/104 [00:16<00:00,  6.46it/s]\n",
      "100%|██████████| 26/26 [00:10<00:00,  2.44it/s]\n"
     ]
    },
    {
     "name": "stdout",
     "output_type": "stream",
     "text": [
      "Fold: 1 \tEpoch: 11 \tTraining Loss: 2.729165 \tValidation Loss: 2.329482\n",
      "Fold: 1 \tEpoch: 11 \tTraining accuracy: 0.000000 \tValidation accuracy: 0.324712\n",
      "0.0009996954135095479\n",
      "Validation loss decreased (2.371737 --> 2.329482).  Saving model ...\n"
     ]
    },
    {
     "name": "stderr",
     "output_type": "stream",
     "text": [
      "100%|██████████| 104/104 [00:15<00:00,  6.50it/s]\n",
      "100%|██████████| 26/26 [00:10<00:00,  2.48it/s]\n"
     ]
    },
    {
     "name": "stdout",
     "output_type": "stream",
     "text": [
      "Fold: 1 \tEpoch: 12 \tTraining Loss: 2.723440 \tValidation Loss: 2.410075\n",
      "Fold: 1 \tEpoch: 12 \tTraining accuracy: 0.000000 \tValidation accuracy: 0.298365\n",
      "0.0009987820251299122\n"
     ]
    },
    {
     "name": "stderr",
     "output_type": "stream",
     "text": [
      "100%|██████████| 104/104 [00:15<00:00,  6.51it/s]\n",
      "100%|██████████| 26/26 [00:10<00:00,  2.44it/s]\n"
     ]
    },
    {
     "name": "stdout",
     "output_type": "stream",
     "text": [
      "Fold: 1 \tEpoch: 13 \tTraining Loss: 2.696458 \tValidation Loss: 2.254603\n",
      "Fold: 1 \tEpoch: 13 \tTraining accuracy: 0.000000 \tValidation accuracy: 0.354519\n",
      "0.0009972609476841367\n",
      "Validation loss decreased (2.329482 --> 2.254603).  Saving model ...\n"
     ]
    },
    {
     "name": "stderr",
     "output_type": "stream",
     "text": [
      "100%|██████████| 104/104 [00:16<00:00,  6.49it/s]\n",
      "100%|██████████| 26/26 [00:10<00:00,  2.44it/s]\n"
     ]
    },
    {
     "name": "stdout",
     "output_type": "stream",
     "text": [
      "Fold: 1 \tEpoch: 14 \tTraining Loss: 2.611043 \tValidation Loss: 2.308499\n",
      "Fold: 1 \tEpoch: 14 \tTraining accuracy: 0.000000 \tValidation accuracy: 0.332188\n",
      "0.0009951340343707852\n"
     ]
    },
    {
     "name": "stderr",
     "output_type": "stream",
     "text": [
      "100%|██████████| 104/104 [00:16<00:00,  6.49it/s]\n",
      "100%|██████████| 26/26 [00:10<00:00,  2.45it/s]\n"
     ]
    },
    {
     "name": "stdout",
     "output_type": "stream",
     "text": [
      "Fold: 1 \tEpoch: 15 \tTraining Loss: 2.590332 \tValidation Loss: 2.296003\n",
      "Fold: 1 \tEpoch: 15 \tTraining accuracy: 0.000000 \tValidation accuracy: 0.308413\n",
      "0.000992403876506104\n"
     ]
    },
    {
     "name": "stderr",
     "output_type": "stream",
     "text": [
      "100%|██████████| 104/104 [00:15<00:00,  6.52it/s]\n",
      "100%|██████████| 26/26 [00:10<00:00,  2.45it/s]\n"
     ]
    },
    {
     "name": "stdout",
     "output_type": "stream",
     "text": [
      "Fold: 1 \tEpoch: 16 \tTraining Loss: 2.551646 \tValidation Loss: 2.098772\n",
      "Fold: 1 \tEpoch: 16 \tTraining accuracy: 0.000000 \tValidation accuracy: 0.375625\n",
      "0.0009890738003669028\n",
      "Validation loss decreased (2.254603 --> 2.098772).  Saving model ...\n"
     ]
    },
    {
     "name": "stderr",
     "output_type": "stream",
     "text": [
      "100%|██████████| 104/104 [00:16<00:00,  6.46it/s]\n",
      "100%|██████████| 26/26 [00:10<00:00,  2.50it/s]\n"
     ]
    },
    {
     "name": "stdout",
     "output_type": "stream",
     "text": [
      "Fold: 1 \tEpoch: 17 \tTraining Loss: 2.603298 \tValidation Loss: 2.187847\n",
      "Fold: 1 \tEpoch: 17 \tTraining accuracy: 0.000000 \tValidation accuracy: 0.352452\n",
      "0.0009851478631379982\n"
     ]
    },
    {
     "name": "stderr",
     "output_type": "stream",
     "text": [
      "100%|██████████| 104/104 [00:16<00:00,  6.49it/s]\n",
      "100%|██████████| 26/26 [00:10<00:00,  2.46it/s]\n"
     ]
    },
    {
     "name": "stdout",
     "output_type": "stream",
     "text": [
      "Fold: 1 \tEpoch: 18 \tTraining Loss: 2.559522 \tValidation Loss: 2.123473\n",
      "Fold: 1 \tEpoch: 18 \tTraining accuracy: 0.000000 \tValidation accuracy: 0.379063\n",
      "0.0009806308479691594\n"
     ]
    },
    {
     "name": "stderr",
     "output_type": "stream",
     "text": [
      "100%|██████████| 104/104 [00:15<00:00,  6.52it/s]\n",
      "100%|██████████| 26/26 [00:10<00:00,  2.44it/s]\n"
     ]
    },
    {
     "name": "stdout",
     "output_type": "stream",
     "text": [
      "Fold: 1 \tEpoch: 19 \tTraining Loss: 2.573701 \tValidation Loss: 2.138118\n",
      "Fold: 1 \tEpoch: 19 \tTraining accuracy: 0.000000 \tValidation accuracy: 0.374760\n",
      "0.0009755282581475768\n"
     ]
    },
    {
     "name": "stderr",
     "output_type": "stream",
     "text": [
      "100%|██████████| 104/104 [00:15<00:00,  6.50it/s]\n",
      "100%|██████████| 26/26 [00:10<00:00,  2.44it/s]\n"
     ]
    },
    {
     "name": "stdout",
     "output_type": "stream",
     "text": [
      "Fold: 1 \tEpoch: 20 \tTraining Loss: 2.541488 \tValidation Loss: 2.002380\n",
      "Fold: 1 \tEpoch: 20 \tTraining accuracy: 0.000000 \tValidation accuracy: 0.420697\n",
      "0.0009698463103929542\n",
      "Validation loss decreased (2.098772 --> 2.002380).  Saving model ...\n"
     ]
    },
    {
     "name": "stderr",
     "output_type": "stream",
     "text": [
      "100%|██████████| 104/104 [00:16<00:00,  6.50it/s]\n",
      "100%|██████████| 26/26 [00:10<00:00,  2.44it/s]\n"
     ]
    },
    {
     "name": "stdout",
     "output_type": "stream",
     "text": [
      "Fold: 1 \tEpoch: 21 \tTraining Loss: 2.595351 \tValidation Loss: 2.088667\n",
      "Fold: 1 \tEpoch: 21 \tTraining accuracy: 0.000000 \tValidation accuracy: 0.393053\n",
      "0.0009635919272833937\n"
     ]
    },
    {
     "name": "stderr",
     "output_type": "stream",
     "text": [
      "100%|██████████| 104/104 [00:15<00:00,  6.52it/s]\n",
      "100%|██████████| 26/26 [00:10<00:00,  2.46it/s]\n"
     ]
    },
    {
     "name": "stdout",
     "output_type": "stream",
     "text": [
      "Fold: 1 \tEpoch: 22 \tTraining Loss: 2.474678 \tValidation Loss: 1.999092\n",
      "Fold: 1 \tEpoch: 22 \tTraining accuracy: 0.000000 \tValidation accuracy: 0.423005\n",
      "0.0009567727288213005\n",
      "Validation loss decreased (2.002380 --> 1.999092).  Saving model ...\n"
     ]
    },
    {
     "name": "stderr",
     "output_type": "stream",
     "text": [
      "100%|██████████| 104/104 [00:16<00:00,  6.43it/s]\n",
      "100%|██████████| 26/26 [00:10<00:00,  2.45it/s]\n"
     ]
    },
    {
     "name": "stdout",
     "output_type": "stream",
     "text": [
      "Fold: 1 \tEpoch: 23 \tTraining Loss: 2.460462 \tValidation Loss: 2.040328\n",
      "Fold: 1 \tEpoch: 23 \tTraining accuracy: 0.000000 \tValidation accuracy: 0.418630\n",
      "0.0009493970231495835\n"
     ]
    },
    {
     "name": "stderr",
     "output_type": "stream",
     "text": [
      "100%|██████████| 104/104 [00:16<00:00,  6.49it/s]\n",
      "100%|██████████| 26/26 [00:10<00:00,  2.48it/s]\n"
     ]
    },
    {
     "name": "stdout",
     "output_type": "stream",
     "text": [
      "Fold: 1 \tEpoch: 24 \tTraining Loss: 2.478344 \tValidation Loss: 1.996530\n",
      "Fold: 1 \tEpoch: 24 \tTraining accuracy: 0.000000 \tValidation accuracy: 0.416635\n",
      "0.0009414737964294635\n",
      "Validation loss decreased (1.999092 --> 1.996530).  Saving model ...\n"
     ]
    },
    {
     "name": "stderr",
     "output_type": "stream",
     "text": [
      "100%|██████████| 104/104 [00:16<00:00,  6.44it/s]\n",
      "100%|██████████| 26/26 [00:10<00:00,  2.48it/s]\n"
     ]
    },
    {
     "name": "stdout",
     "output_type": "stream",
     "text": [
      "Fold: 1 \tEpoch: 25 \tTraining Loss: 2.465490 \tValidation Loss: 1.992684\n",
      "Fold: 1 \tEpoch: 25 \tTraining accuracy: 0.000000 \tValidation accuracy: 0.424375\n",
      "0.0009330127018922195\n",
      "Validation loss decreased (1.996530 --> 1.992684).  Saving model ...\n"
     ]
    },
    {
     "name": "stderr",
     "output_type": "stream",
     "text": [
      "100%|██████████| 104/104 [00:16<00:00,  6.43it/s]\n",
      "100%|██████████| 26/26 [00:10<00:00,  2.49it/s]\n"
     ]
    },
    {
     "name": "stdout",
     "output_type": "stream",
     "text": [
      "Fold: 1 \tEpoch: 26 \tTraining Loss: 2.462127 \tValidation Loss: 2.056053\n",
      "Fold: 1 \tEpoch: 26 \tTraining accuracy: 0.000000 \tValidation accuracy: 0.406442\n",
      "0.0009240240480782129\n"
     ]
    },
    {
     "name": "stderr",
     "output_type": "stream",
     "text": [
      "100%|██████████| 104/104 [00:16<00:00,  6.46it/s]\n",
      "100%|██████████| 26/26 [00:10<00:00,  2.48it/s]\n"
     ]
    },
    {
     "name": "stdout",
     "output_type": "stream",
     "text": [
      "Fold: 1 \tEpoch: 27 \tTraining Loss: 2.507438 \tValidation Loss: 1.997332\n",
      "Fold: 1 \tEpoch: 27 \tTraining accuracy: 0.000000 \tValidation accuracy: 0.405048\n",
      "0.0009145187862775209\n"
     ]
    },
    {
     "name": "stderr",
     "output_type": "stream",
     "text": [
      "100%|██████████| 104/104 [00:15<00:00,  6.52it/s]\n",
      "100%|██████████| 26/26 [00:10<00:00,  2.43it/s]\n"
     ]
    },
    {
     "name": "stdout",
     "output_type": "stream",
     "text": [
      "Fold: 1 \tEpoch: 28 \tTraining Loss: 2.456888 \tValidation Loss: 1.994636\n",
      "Fold: 1 \tEpoch: 28 \tTraining accuracy: 0.000000 \tValidation accuracy: 0.428245\n",
      "0.0009045084971874737\n"
     ]
    },
    {
     "name": "stderr",
     "output_type": "stream",
     "text": [
      "100%|██████████| 104/104 [00:16<00:00,  6.46it/s]\n",
      "100%|██████████| 26/26 [00:10<00:00,  2.49it/s]\n"
     ]
    },
    {
     "name": "stdout",
     "output_type": "stream",
     "text": [
      "Fold: 1 \tEpoch: 29 \tTraining Loss: 2.461880 \tValidation Loss: 1.930946\n",
      "Fold: 1 \tEpoch: 29 \tTraining accuracy: 0.000000 \tValidation accuracy: 0.441202\n",
      "0.000894005376803361\n",
      "Validation loss decreased (1.992684 --> 1.930946).  Saving model ...\n"
     ]
    },
    {
     "name": "stderr",
     "output_type": "stream",
     "text": [
      "100%|██████████| 104/104 [00:16<00:00,  6.47it/s]\n",
      "100%|██████████| 26/26 [00:10<00:00,  2.49it/s]\n"
     ]
    },
    {
     "name": "stdout",
     "output_type": "stream",
     "text": [
      "Fold: 1 \tEpoch: 30 \tTraining Loss: 2.408515 \tValidation Loss: 1.907903\n",
      "Fold: 1 \tEpoch: 30 \tTraining accuracy: 0.000000 \tValidation accuracy: 0.442740\n",
      "0.000883022221559489\n",
      "Validation loss decreased (1.930946 --> 1.907903).  Saving model ...\n"
     ]
    },
    {
     "name": "stderr",
     "output_type": "stream",
     "text": [
      "100%|██████████| 104/104 [00:16<00:00,  6.50it/s]\n",
      "100%|██████████| 26/26 [00:10<00:00,  2.46it/s]\n"
     ]
    },
    {
     "name": "stdout",
     "output_type": "stream",
     "text": [
      "Fold: 1 \tEpoch: 31 \tTraining Loss: 2.369447 \tValidation Loss: 1.940500\n",
      "Fold: 1 \tEpoch: 31 \tTraining accuracy: 0.000000 \tValidation accuracy: 0.439399\n",
      "0.0008715724127386971\n"
     ]
    },
    {
     "name": "stderr",
     "output_type": "stream",
     "text": [
      "100%|██████████| 104/104 [00:16<00:00,  6.45it/s]\n",
      "100%|██████████| 26/26 [00:10<00:00,  2.44it/s]\n"
     ]
    },
    {
     "name": "stdout",
     "output_type": "stream",
     "text": [
      "Fold: 1 \tEpoch: 32 \tTraining Loss: 2.451074 \tValidation Loss: 1.856611\n",
      "Fold: 1 \tEpoch: 32 \tTraining accuracy: 0.000000 \tValidation accuracy: 0.452548\n",
      "0.0008596699001693256\n",
      "Validation loss decreased (1.907903 --> 1.856611).  Saving model ...\n"
     ]
    },
    {
     "name": "stderr",
     "output_type": "stream",
     "text": [
      "100%|██████████| 104/104 [00:16<00:00,  6.44it/s]\n",
      "100%|██████████| 26/26 [00:10<00:00,  2.47it/s]\n"
     ]
    },
    {
     "name": "stdout",
     "output_type": "stream",
     "text": [
      "Fold: 1 \tEpoch: 33 \tTraining Loss: 2.368142 \tValidation Loss: 1.856771\n",
      "Fold: 1 \tEpoch: 33 \tTraining accuracy: 0.000000 \tValidation accuracy: 0.464303\n",
      "0.0008473291852294987\n"
     ]
    },
    {
     "name": "stderr",
     "output_type": "stream",
     "text": [
      "100%|██████████| 104/104 [00:16<00:00,  6.47it/s]\n",
      "100%|██████████| 26/26 [00:10<00:00,  2.49it/s]\n"
     ]
    },
    {
     "name": "stdout",
     "output_type": "stream",
     "text": [
      "Fold: 1 \tEpoch: 34 \tTraining Loss: 2.401527 \tValidation Loss: 1.865671\n",
      "Fold: 1 \tEpoch: 34 \tTraining accuracy: 0.000000 \tValidation accuracy: 0.446082\n",
      "0.0008345653031794292\n"
     ]
    },
    {
     "name": "stderr",
     "output_type": "stream",
     "text": [
      "100%|██████████| 104/104 [00:16<00:00,  6.47it/s]\n",
      "100%|██████████| 26/26 [00:10<00:00,  2.47it/s]\n"
     ]
    },
    {
     "name": "stdout",
     "output_type": "stream",
     "text": [
      "Fold: 1 \tEpoch: 35 \tTraining Loss: 2.416702 \tValidation Loss: 1.875984\n",
      "Fold: 1 \tEpoch: 35 \tTraining accuracy: 0.000000 \tValidation accuracy: 0.456298\n",
      "0.0008213938048432696\n"
     ]
    },
    {
     "name": "stderr",
     "output_type": "stream",
     "text": [
      "100%|██████████| 104/104 [00:16<00:00,  6.47it/s]\n",
      "100%|██████████| 26/26 [00:10<00:00,  2.44it/s]\n"
     ]
    },
    {
     "name": "stdout",
     "output_type": "stream",
     "text": [
      "Fold: 1 \tEpoch: 36 \tTraining Loss: 2.391569 \tValidation Loss: 1.869620\n",
      "Fold: 1 \tEpoch: 36 \tTraining accuracy: 0.000000 \tValidation accuracy: 0.458462\n",
      "0.0008078307376628291\n"
     ]
    },
    {
     "name": "stderr",
     "output_type": "stream",
     "text": [
      "100%|██████████| 104/104 [00:16<00:00,  6.48it/s]\n",
      "100%|██████████| 26/26 [00:10<00:00,  2.48it/s]\n"
     ]
    },
    {
     "name": "stdout",
     "output_type": "stream",
     "text": [
      "Fold: 1 \tEpoch: 37 \tTraining Loss: 2.446036 \tValidation Loss: 1.833630\n",
      "Fold: 1 \tEpoch: 37 \tTraining accuracy: 0.000000 \tValidation accuracy: 0.467212\n",
      "0.0007938926261462366\n",
      "Validation loss decreased (1.856611 --> 1.833630).  Saving model ...\n"
     ]
    },
    {
     "name": "stderr",
     "output_type": "stream",
     "text": [
      "100%|██████████| 104/104 [00:16<00:00,  6.43it/s]\n",
      "100%|██████████| 26/26 [00:10<00:00,  2.48it/s]\n"
     ]
    },
    {
     "name": "stdout",
     "output_type": "stream",
     "text": [
      "Fold: 1 \tEpoch: 38 \tTraining Loss: 2.357743 \tValidation Loss: 1.776278\n",
      "Fold: 1 \tEpoch: 38 \tTraining accuracy: 0.000000 \tValidation accuracy: 0.485072\n",
      "0.0007795964517353734\n",
      "Validation loss decreased (1.833630 --> 1.776278).  Saving model ...\n"
     ]
    },
    {
     "name": "stderr",
     "output_type": "stream",
     "text": [
      "100%|██████████| 104/104 [00:16<00:00,  6.49it/s]\n",
      "100%|██████████| 26/26 [00:10<00:00,  2.43it/s]\n"
     ]
    },
    {
     "name": "stdout",
     "output_type": "stream",
     "text": [
      "Fold: 1 \tEpoch: 39 \tTraining Loss: 2.370193 \tValidation Loss: 1.782413\n",
      "Fold: 1 \tEpoch: 39 \tTraining accuracy: 0.000000 \tValidation accuracy: 0.494928\n",
      "0.0007649596321166025\n"
     ]
    },
    {
     "name": "stderr",
     "output_type": "stream",
     "text": [
      "100%|██████████| 104/104 [00:23<00:00,  4.36it/s]\n",
      "100%|██████████| 26/26 [00:10<00:00,  2.39it/s]\n"
     ]
    },
    {
     "name": "stdout",
     "output_type": "stream",
     "text": [
      "Fold: 1 \tEpoch: 40 \tTraining Loss: 2.362057 \tValidation Loss: 1.780321\n",
      "Fold: 1 \tEpoch: 40 \tTraining accuracy: 0.000000 \tValidation accuracy: 0.478462\n",
      "0.00075\n"
     ]
    },
    {
     "name": "stderr",
     "output_type": "stream",
     "text": [
      "100%|██████████| 104/104 [00:16<00:00,  6.32it/s]\n",
      "100%|██████████| 26/26 [00:10<00:00,  2.42it/s]\n"
     ]
    },
    {
     "name": "stdout",
     "output_type": "stream",
     "text": [
      "Fold: 1 \tEpoch: 41 \tTraining Loss: 2.421891 \tValidation Loss: 1.839559\n",
      "Fold: 1 \tEpoch: 41 \tTraining accuracy: 0.000000 \tValidation accuracy: 0.453750\n",
      "0.0007347357813929454\n"
     ]
    },
    {
     "name": "stderr",
     "output_type": "stream",
     "text": [
      "100%|██████████| 104/104 [00:16<00:00,  6.38it/s]\n",
      "100%|██████████| 26/26 [00:10<00:00,  2.44it/s]\n"
     ]
    },
    {
     "name": "stdout",
     "output_type": "stream",
     "text": [
      "Fold: 1 \tEpoch: 42 \tTraining Loss: 2.356558 \tValidation Loss: 1.742054\n",
      "Fold: 1 \tEpoch: 42 \tTraining accuracy: 0.000000 \tValidation accuracy: 0.480769\n",
      "0.0007191855733945387\n",
      "Validation loss decreased (1.776278 --> 1.742054).  Saving model ...\n"
     ]
    },
    {
     "name": "stderr",
     "output_type": "stream",
     "text": [
      "100%|██████████| 104/104 [00:16<00:00,  6.39it/s]\n",
      "100%|██████████| 26/26 [00:10<00:00,  2.45it/s]\n"
     ]
    },
    {
     "name": "stdout",
     "output_type": "stream",
     "text": [
      "Fold: 1 \tEpoch: 43 \tTraining Loss: 2.372596 \tValidation Loss: 1.820761\n",
      "Fold: 1 \tEpoch: 43 \tTraining accuracy: 0.000000 \tValidation accuracy: 0.471418\n",
      "0.0007033683215379\n"
     ]
    },
    {
     "name": "stderr",
     "output_type": "stream",
     "text": [
      "100%|██████████| 104/104 [00:16<00:00,  6.34it/s]\n",
      "100%|██████████| 26/26 [00:12<00:00,  2.14it/s]\n"
     ]
    },
    {
     "name": "stdout",
     "output_type": "stream",
     "text": [
      "Fold: 1 \tEpoch: 44 \tTraining Loss: 2.324791 \tValidation Loss: 1.788363\n",
      "Fold: 1 \tEpoch: 44 \tTraining accuracy: 0.000000 \tValidation accuracy: 0.498389\n",
      "0.000687303296707956\n"
     ]
    },
    {
     "name": "stderr",
     "output_type": "stream",
     "text": [
      "100%|██████████| 104/104 [00:16<00:00,  6.40it/s]\n",
      "100%|██████████| 26/26 [00:10<00:00,  2.41it/s]\n"
     ]
    },
    {
     "name": "stdout",
     "output_type": "stream",
     "text": [
      "Fold: 1 \tEpoch: 45 \tTraining Loss: 2.342179 \tValidation Loss: 1.787931\n",
      "Fold: 1 \tEpoch: 45 \tTraining accuracy: 0.000000 \tValidation accuracy: 0.485817\n",
      "0.0006710100716628344\n"
     ]
    },
    {
     "name": "stderr",
     "output_type": "stream",
     "text": [
      "100%|██████████| 104/104 [00:16<00:00,  6.44it/s]\n",
      "100%|██████████| 26/26 [00:10<00:00,  2.44it/s]\n"
     ]
    },
    {
     "name": "stdout",
     "output_type": "stream",
     "text": [
      "Fold: 1 \tEpoch: 46 \tTraining Loss: 2.338905 \tValidation Loss: 1.686681\n",
      "Fold: 1 \tEpoch: 46 \tTraining accuracy: 0.000000 \tValidation accuracy: 0.479135\n",
      "0.0006545084971874737\n",
      "Validation loss decreased (1.742054 --> 1.686681).  Saving model ...\n"
     ]
    },
    {
     "name": "stderr",
     "output_type": "stream",
     "text": [
      "100%|██████████| 104/104 [00:16<00:00,  6.47it/s]\n",
      "100%|██████████| 26/26 [00:10<00:00,  2.47it/s]\n"
     ]
    },
    {
     "name": "stdout",
     "output_type": "stream",
     "text": [
      "Fold: 1 \tEpoch: 47 \tTraining Loss: 2.284226 \tValidation Loss: 1.688439\n",
      "Fold: 1 \tEpoch: 47 \tTraining accuracy: 0.000000 \tValidation accuracy: 0.505481\n",
      "0.0006378186779084996\n"
     ]
    },
    {
     "name": "stderr",
     "output_type": "stream",
     "text": [
      "100%|██████████| 104/104 [00:16<00:00,  6.49it/s]\n",
      "100%|██████████| 26/26 [00:10<00:00,  2.43it/s]\n"
     ]
    },
    {
     "name": "stdout",
     "output_type": "stream",
     "text": [
      "Fold: 1 \tEpoch: 48 \tTraining Loss: 2.322575 \tValidation Loss: 1.719537\n",
      "Fold: 1 \tEpoch: 48 \tTraining accuracy: 0.000000 \tValidation accuracy: 0.502644\n",
      "0.0006209609477998339\n"
     ]
    },
    {
     "name": "stderr",
     "output_type": "stream",
     "text": [
      "100%|██████████| 104/104 [00:16<00:00,  6.46it/s]\n",
      "100%|██████████| 26/26 [00:10<00:00,  2.46it/s]\n"
     ]
    },
    {
     "name": "stdout",
     "output_type": "stream",
     "text": [
      "Fold: 1 \tEpoch: 49 \tTraining Loss: 2.326936 \tValidation Loss: 1.719182\n",
      "Fold: 1 \tEpoch: 49 \tTraining accuracy: 0.000000 \tValidation accuracy: 0.509615\n",
      "0.0006039558454088797\n"
     ]
    },
    {
     "name": "stderr",
     "output_type": "stream",
     "text": [
      "100%|██████████| 104/104 [00:16<00:00,  6.50it/s]\n",
      "100%|██████████| 26/26 [00:10<00:00,  2.45it/s]\n"
     ]
    },
    {
     "name": "stdout",
     "output_type": "stream",
     "text": [
      "Fold: 1 \tEpoch: 50 \tTraining Loss: 2.267596 \tValidation Loss: 1.654013\n",
      "Fold: 1 \tEpoch: 50 \tTraining accuracy: 0.000000 \tValidation accuracy: 0.511394\n",
      "0.0005868240888334653\n",
      "Validation loss decreased (1.686681 --> 1.654013).  Saving model ...\n"
     ]
    },
    {
     "name": "stderr",
     "output_type": "stream",
     "text": [
      "100%|██████████| 104/104 [00:16<00:00,  6.46it/s]\n",
      "100%|██████████| 26/26 [00:10<00:00,  2.49it/s]\n"
     ]
    },
    {
     "name": "stdout",
     "output_type": "stream",
     "text": [
      "Fold: 1 \tEpoch: 51 \tTraining Loss: 2.261222 \tValidation Loss: 1.608166\n",
      "Fold: 1 \tEpoch: 51 \tTraining accuracy: 0.000000 \tValidation accuracy: 0.511490\n",
      "0.0005695865504800328\n",
      "Validation loss decreased (1.654013 --> 1.608166).  Saving model ...\n"
     ]
    },
    {
     "name": "stderr",
     "output_type": "stream",
     "text": [
      "100%|██████████| 104/104 [00:16<00:00,  6.49it/s]\n",
      "100%|██████████| 26/26 [00:10<00:00,  2.42it/s]\n"
     ]
    },
    {
     "name": "stdout",
     "output_type": "stream",
     "text": [
      "Fold: 1 \tEpoch: 52 \tTraining Loss: 2.273985 \tValidation Loss: 1.660785\n",
      "Fold: 1 \tEpoch: 52 \tTraining accuracy: 0.000000 \tValidation accuracy: 0.503918\n",
      "0.0005522642316338268\n"
     ]
    },
    {
     "name": "stderr",
     "output_type": "stream",
     "text": [
      "100%|██████████| 104/104 [00:16<00:00,  6.49it/s]\n",
      "100%|██████████| 26/26 [00:10<00:00,  2.41it/s]\n"
     ]
    },
    {
     "name": "stdout",
     "output_type": "stream",
     "text": [
      "Fold: 1 \tEpoch: 53 \tTraining Loss: 2.220209 \tValidation Loss: 1.672003\n",
      "Fold: 1 \tEpoch: 53 \tTraining accuracy: 0.000000 \tValidation accuracy: 0.502139\n",
      "0.0005348782368720627\n"
     ]
    },
    {
     "name": "stderr",
     "output_type": "stream",
     "text": [
      "100%|██████████| 104/104 [00:16<00:00,  6.46it/s]\n",
      "100%|██████████| 26/26 [00:10<00:00,  2.43it/s]\n"
     ]
    },
    {
     "name": "stdout",
     "output_type": "stream",
     "text": [
      "Fold: 1 \tEpoch: 54 \tTraining Loss: 2.315880 \tValidation Loss: 1.624621\n",
      "Fold: 1 \tEpoch: 54 \tTraining accuracy: 0.000000 \tValidation accuracy: 0.513317\n",
      "0.0005174497483512506\n"
     ]
    },
    {
     "name": "stderr",
     "output_type": "stream",
     "text": [
      "100%|██████████| 104/104 [00:16<00:00,  6.47it/s]\n",
      "100%|██████████| 26/26 [00:10<00:00,  2.44it/s]\n"
     ]
    },
    {
     "name": "stdout",
     "output_type": "stream",
     "text": [
      "Fold: 1 \tEpoch: 55 \tTraining Loss: 2.244720 \tValidation Loss: 1.628225\n",
      "Fold: 1 \tEpoch: 55 \tTraining accuracy: 0.000000 \tValidation accuracy: 0.517764\n",
      "0.0005\n"
     ]
    },
    {
     "name": "stderr",
     "output_type": "stream",
     "text": [
      "100%|██████████| 104/104 [00:16<00:00,  6.47it/s]\n",
      "100%|██████████| 26/26 [00:10<00:00,  2.46it/s]\n"
     ]
    },
    {
     "name": "stdout",
     "output_type": "stream",
     "text": [
      "Fold: 1 \tEpoch: 56 \tTraining Loss: 2.175848 \tValidation Loss: 1.642001\n",
      "Fold: 1 \tEpoch: 56 \tTraining accuracy: 0.000000 \tValidation accuracy: 0.529615\n",
      "0.0004825502516487497\n"
     ]
    },
    {
     "name": "stderr",
     "output_type": "stream",
     "text": [
      "100%|██████████| 104/104 [00:16<00:00,  6.49it/s]\n",
      "100%|██████████| 26/26 [00:10<00:00,  2.43it/s]\n"
     ]
    },
    {
     "name": "stdout",
     "output_type": "stream",
     "text": [
      "Fold: 1 \tEpoch: 57 \tTraining Loss: 2.206949 \tValidation Loss: 1.653386\n",
      "Fold: 1 \tEpoch: 57 \tTraining accuracy: 0.000000 \tValidation accuracy: 0.519928\n",
      "0.00046512176312793734\n"
     ]
    },
    {
     "name": "stderr",
     "output_type": "stream",
     "text": [
      "100%|██████████| 104/104 [00:16<00:00,  6.48it/s]\n",
      "100%|██████████| 26/26 [00:10<00:00,  2.48it/s]\n"
     ]
    },
    {
     "name": "stdout",
     "output_type": "stream",
     "text": [
      "Fold: 1 \tEpoch: 58 \tTraining Loss: 2.325887 \tValidation Loss: 1.632434\n",
      "Fold: 1 \tEpoch: 58 \tTraining accuracy: 0.000000 \tValidation accuracy: 0.516803\n",
      "0.00044773576836617336\n"
     ]
    },
    {
     "name": "stderr",
     "output_type": "stream",
     "text": [
      "100%|██████████| 104/104 [00:15<00:00,  6.51it/s]\n",
      "100%|██████████| 26/26 [00:10<00:00,  2.44it/s]\n"
     ]
    },
    {
     "name": "stdout",
     "output_type": "stream",
     "text": [
      "Fold: 1 \tEpoch: 59 \tTraining Loss: 2.208034 \tValidation Loss: 1.683368\n",
      "Fold: 1 \tEpoch: 59 \tTraining accuracy: 0.000000 \tValidation accuracy: 0.510312\n",
      "0.0004304134495199673\n"
     ]
    },
    {
     "name": "stderr",
     "output_type": "stream",
     "text": [
      "100%|██████████| 104/104 [00:15<00:00,  6.51it/s]\n",
      "100%|██████████| 26/26 [00:10<00:00,  2.45it/s]\n"
     ]
    },
    {
     "name": "stdout",
     "output_type": "stream",
     "text": [
      "Fold: 1 \tEpoch: 60 \tTraining Loss: 2.189349 \tValidation Loss: 1.602104\n",
      "Fold: 1 \tEpoch: 60 \tTraining accuracy: 0.000000 \tValidation accuracy: 0.530649\n",
      "0.00041317591116653486\n",
      "Validation loss decreased (1.608166 --> 1.602104).  Saving model ...\n"
     ]
    },
    {
     "name": "stderr",
     "output_type": "stream",
     "text": [
      "100%|██████████| 104/104 [00:16<00:00,  6.46it/s]\n",
      "100%|██████████| 26/26 [00:10<00:00,  2.45it/s]\n"
     ]
    },
    {
     "name": "stdout",
     "output_type": "stream",
     "text": [
      "Fold: 1 \tEpoch: 61 \tTraining Loss: 2.257367 \tValidation Loss: 1.594870\n",
      "Fold: 1 \tEpoch: 61 \tTraining accuracy: 0.000000 \tValidation accuracy: 0.534495\n",
      "0.0003960441545911204\n",
      "Validation loss decreased (1.602104 --> 1.594870).  Saving model ...\n"
     ]
    },
    {
     "name": "stderr",
     "output_type": "stream",
     "text": [
      "100%|██████████| 104/104 [00:16<00:00,  6.49it/s]\n",
      "100%|██████████| 26/26 [00:10<00:00,  2.44it/s]\n"
     ]
    },
    {
     "name": "stdout",
     "output_type": "stream",
     "text": [
      "Fold: 1 \tEpoch: 62 \tTraining Loss: 2.270827 \tValidation Loss: 1.626101\n",
      "Fold: 1 \tEpoch: 62 \tTraining accuracy: 0.000000 \tValidation accuracy: 0.519399\n",
      "0.0003790390522001661\n"
     ]
    },
    {
     "name": "stderr",
     "output_type": "stream",
     "text": [
      "100%|██████████| 104/104 [00:16<00:00,  6.47it/s]\n",
      "100%|██████████| 26/26 [00:10<00:00,  2.43it/s]\n"
     ]
    },
    {
     "name": "stdout",
     "output_type": "stream",
     "text": [
      "Fold: 1 \tEpoch: 63 \tTraining Loss: 2.205290 \tValidation Loss: 1.670355\n",
      "Fold: 1 \tEpoch: 63 \tTraining accuracy: 0.000000 \tValidation accuracy: 0.510721\n",
      "0.00036218132209150044\n"
     ]
    },
    {
     "name": "stderr",
     "output_type": "stream",
     "text": [
      "100%|██████████| 104/104 [00:16<00:00,  6.50it/s]\n",
      "100%|██████████| 26/26 [00:10<00:00,  2.45it/s]\n"
     ]
    },
    {
     "name": "stdout",
     "output_type": "stream",
     "text": [
      "Fold: 1 \tEpoch: 64 \tTraining Loss: 2.209080 \tValidation Loss: 1.619040\n",
      "Fold: 1 \tEpoch: 64 \tTraining accuracy: 0.000000 \tValidation accuracy: 0.550481\n",
      "0.00034549150281252633\n"
     ]
    },
    {
     "name": "stderr",
     "output_type": "stream",
     "text": [
      "100%|██████████| 104/104 [00:16<00:00,  6.46it/s]\n",
      "100%|██████████| 26/26 [00:10<00:00,  2.40it/s]\n"
     ]
    },
    {
     "name": "stdout",
     "output_type": "stream",
     "text": [
      "Fold: 1 \tEpoch: 65 \tTraining Loss: 2.259749 \tValidation Loss: 1.577046\n",
      "Fold: 1 \tEpoch: 65 \tTraining accuracy: 0.000000 \tValidation accuracy: 0.556466\n",
      "0.0003289899283371657\n",
      "Validation loss decreased (1.594870 --> 1.577046).  Saving model ...\n"
     ]
    },
    {
     "name": "stderr",
     "output_type": "stream",
     "text": [
      "100%|██████████| 104/104 [00:16<00:00,  6.50it/s]\n",
      "100%|██████████| 26/26 [00:10<00:00,  2.49it/s]\n"
     ]
    },
    {
     "name": "stdout",
     "output_type": "stream",
     "text": [
      "Fold: 1 \tEpoch: 66 \tTraining Loss: 2.235299 \tValidation Loss: 1.559219\n",
      "Fold: 1 \tEpoch: 66 \tTraining accuracy: 0.000000 \tValidation accuracy: 0.537428\n",
      "0.00031269670329204396\n",
      "Validation loss decreased (1.577046 --> 1.559219).  Saving model ...\n"
     ]
    },
    {
     "name": "stderr",
     "output_type": "stream",
     "text": [
      "100%|██████████| 104/104 [00:16<00:00,  6.44it/s]\n",
      "100%|██████████| 26/26 [00:10<00:00,  2.45it/s]\n"
     ]
    },
    {
     "name": "stdout",
     "output_type": "stream",
     "text": [
      "Fold: 1 \tEpoch: 67 \tTraining Loss: 2.207685 \tValidation Loss: 1.602131\n",
      "Fold: 1 \tEpoch: 67 \tTraining accuracy: 0.000000 \tValidation accuracy: 0.543678\n",
      "0.0002966316784620999\n"
     ]
    },
    {
     "name": "stderr",
     "output_type": "stream",
     "text": [
      "100%|██████████| 104/104 [00:16<00:00,  6.43it/s]\n",
      "100%|██████████| 26/26 [00:10<00:00,  2.45it/s]\n"
     ]
    },
    {
     "name": "stdout",
     "output_type": "stream",
     "text": [
      "Fold: 1 \tEpoch: 68 \tTraining Loss: 2.179889 \tValidation Loss: 1.566980\n",
      "Fold: 1 \tEpoch: 68 \tTraining accuracy: 0.000000 \tValidation accuracy: 0.533125\n",
      "0.00028081442660546124\n"
     ]
    },
    {
     "name": "stderr",
     "output_type": "stream",
     "text": [
      "100%|██████████| 104/104 [00:15<00:00,  6.50it/s]\n",
      "100%|██████████| 26/26 [00:10<00:00,  2.48it/s]\n"
     ]
    },
    {
     "name": "stdout",
     "output_type": "stream",
     "text": [
      "Fold: 1 \tEpoch: 69 \tTraining Loss: 2.070381 \tValidation Loss: 1.500566\n",
      "Fold: 1 \tEpoch: 69 \tTraining accuracy: 0.000000 \tValidation accuracy: 0.564712\n",
      "0.00026526421860705474\n",
      "Validation loss decreased (1.559219 --> 1.500566).  Saving model ...\n"
     ]
    },
    {
     "name": "stderr",
     "output_type": "stream",
     "text": [
      "100%|██████████| 104/104 [00:15<00:00,  6.51it/s]\n",
      "100%|██████████| 26/26 [00:10<00:00,  2.43it/s]\n"
     ]
    },
    {
     "name": "stdout",
     "output_type": "stream",
     "text": [
      "Fold: 1 \tEpoch: 70 \tTraining Loss: 2.074680 \tValidation Loss: 1.498361\n",
      "Fold: 1 \tEpoch: 70 \tTraining accuracy: 0.000000 \tValidation accuracy: 0.565481\n",
      "0.0002500000000000001\n",
      "Validation loss decreased (1.500566 --> 1.498361).  Saving model ...\n"
     ]
    },
    {
     "name": "stderr",
     "output_type": "stream",
     "text": [
      "100%|██████████| 104/104 [00:16<00:00,  6.47it/s]\n",
      "100%|██████████| 26/26 [00:10<00:00,  2.44it/s]\n"
     ]
    },
    {
     "name": "stdout",
     "output_type": "stream",
     "text": [
      "Fold: 1 \tEpoch: 71 \tTraining Loss: 2.114571 \tValidation Loss: 1.478336\n",
      "Fold: 1 \tEpoch: 71 \tTraining accuracy: 0.000000 \tValidation accuracy: 0.567885\n",
      "0.0002350403678833976\n",
      "Validation loss decreased (1.498361 --> 1.478336).  Saving model ...\n"
     ]
    },
    {
     "name": "stderr",
     "output_type": "stream",
     "text": [
      "100%|██████████| 104/104 [00:16<00:00,  6.45it/s]\n",
      "100%|██████████| 26/26 [00:10<00:00,  2.47it/s]\n"
     ]
    },
    {
     "name": "stdout",
     "output_type": "stream",
     "text": [
      "Fold: 1 \tEpoch: 72 \tTraining Loss: 2.053490 \tValidation Loss: 1.523234\n",
      "Fold: 1 \tEpoch: 72 \tTraining accuracy: 0.000000 \tValidation accuracy: 0.557524\n",
      "0.00022040354826462666\n"
     ]
    },
    {
     "name": "stderr",
     "output_type": "stream",
     "text": [
      "100%|██████████| 104/104 [00:16<00:00,  6.41it/s]\n",
      "100%|██████████| 26/26 [00:10<00:00,  2.44it/s]\n"
     ]
    },
    {
     "name": "stdout",
     "output_type": "stream",
     "text": [
      "Fold: 1 \tEpoch: 73 \tTraining Loss: 2.170486 \tValidation Loss: 1.548019\n",
      "Fold: 1 \tEpoch: 73 \tTraining accuracy: 0.000000 \tValidation accuracy: 0.550986\n",
      "0.00020610737385376348\n"
     ]
    },
    {
     "name": "stderr",
     "output_type": "stream",
     "text": [
      "100%|██████████| 104/104 [00:16<00:00,  6.46it/s]\n",
      "100%|██████████| 26/26 [00:10<00:00,  2.44it/s]\n"
     ]
    },
    {
     "name": "stdout",
     "output_type": "stream",
     "text": [
      "Fold: 1 \tEpoch: 74 \tTraining Loss: 2.131136 \tValidation Loss: 1.491917\n",
      "Fold: 1 \tEpoch: 74 \tTraining accuracy: 0.000000 \tValidation accuracy: 0.566346\n",
      "0.00019216926233717085\n"
     ]
    },
    {
     "name": "stderr",
     "output_type": "stream",
     "text": [
      "100%|██████████| 104/104 [00:15<00:00,  6.51it/s]\n",
      "100%|██████████| 26/26 [00:10<00:00,  2.41it/s]\n"
     ]
    },
    {
     "name": "stdout",
     "output_type": "stream",
     "text": [
      "Fold: 1 \tEpoch: 75 \tTraining Loss: 2.095088 \tValidation Loss: 1.485150\n",
      "Fold: 1 \tEpoch: 75 \tTraining accuracy: 0.000000 \tValidation accuracy: 0.566514\n",
      "0.0001786061951567303\n"
     ]
    },
    {
     "name": "stderr",
     "output_type": "stream",
     "text": [
      "100%|██████████| 104/104 [00:16<00:00,  6.48it/s]\n",
      "100%|██████████| 26/26 [00:10<00:00,  2.48it/s]\n"
     ]
    },
    {
     "name": "stdout",
     "output_type": "stream",
     "text": [
      "Fold: 1 \tEpoch: 76 \tTraining Loss: 2.134294 \tValidation Loss: 1.479987\n",
      "Fold: 1 \tEpoch: 76 \tTraining accuracy: 0.000000 \tValidation accuracy: 0.570817\n",
      "0.0001654346968205709\n"
     ]
    },
    {
     "name": "stderr",
     "output_type": "stream",
     "text": [
      "100%|██████████| 104/104 [00:15<00:00,  6.51it/s]\n",
      "100%|██████████| 26/26 [00:10<00:00,  2.43it/s]\n"
     ]
    },
    {
     "name": "stdout",
     "output_type": "stream",
     "text": [
      "Fold: 1 \tEpoch: 77 \tTraining Loss: 2.087524 \tValidation Loss: 1.498404\n",
      "Fold: 1 \tEpoch: 77 \tTraining accuracy: 0.000000 \tValidation accuracy: 0.570817\n",
      "0.0001526708147705015\n"
     ]
    },
    {
     "name": "stderr",
     "output_type": "stream",
     "text": [
      "100%|██████████| 104/104 [00:16<00:00,  6.48it/s]\n",
      "100%|██████████| 26/26 [00:10<00:00,  2.43it/s]\n"
     ]
    },
    {
     "name": "stdout",
     "output_type": "stream",
     "text": [
      "Fold: 1 \tEpoch: 78 \tTraining Loss: 2.091129 \tValidation Loss: 1.473531\n",
      "Fold: 1 \tEpoch: 78 \tTraining accuracy: 0.000000 \tValidation accuracy: 0.571082\n",
      "0.00014033009983067436\n",
      "Validation loss decreased (1.478336 --> 1.473531).  Saving model ...\n"
     ]
    },
    {
     "name": "stderr",
     "output_type": "stream",
     "text": [
      "100%|██████████| 104/104 [00:16<00:00,  6.47it/s]\n",
      "100%|██████████| 26/26 [00:10<00:00,  2.44it/s]\n"
     ]
    },
    {
     "name": "stdout",
     "output_type": "stream",
     "text": [
      "Fold: 1 \tEpoch: 79 \tTraining Loss: 2.026793 \tValidation Loss: 1.450999\n",
      "Fold: 1 \tEpoch: 79 \tTraining accuracy: 0.000000 \tValidation accuracy: 0.574928\n",
      "0.00012842758726130292\n",
      "Validation loss decreased (1.473531 --> 1.450999).  Saving model ...\n"
     ]
    },
    {
     "name": "stderr",
     "output_type": "stream",
     "text": [
      "100%|██████████| 104/104 [00:16<00:00,  6.48it/s]\n",
      "100%|██████████| 26/26 [00:10<00:00,  2.43it/s]\n"
     ]
    },
    {
     "name": "stdout",
     "output_type": "stream",
     "text": [
      "Fold: 1 \tEpoch: 80 \tTraining Loss: 2.047956 \tValidation Loss: 1.447569\n",
      "Fold: 1 \tEpoch: 80 \tTraining accuracy: 0.000000 \tValidation accuracy: 0.579135\n",
      "0.00011697777844051105\n",
      "Validation loss decreased (1.450999 --> 1.447569).  Saving model ...\n"
     ]
    },
    {
     "name": "stderr",
     "output_type": "stream",
     "text": [
      "100%|██████████| 104/104 [00:16<00:00,  6.42it/s]\n",
      "100%|██████████| 26/26 [00:10<00:00,  2.48it/s]\n"
     ]
    },
    {
     "name": "stdout",
     "output_type": "stream",
     "text": [
      "Fold: 1 \tEpoch: 81 \tTraining Loss: 2.072404 \tValidation Loss: 1.475985\n",
      "Fold: 1 \tEpoch: 81 \tTraining accuracy: 0.000000 \tValidation accuracy: 0.583245\n",
      "0.00010599462319663906\n"
     ]
    },
    {
     "name": "stderr",
     "output_type": "stream",
     "text": [
      "100%|██████████| 104/104 [00:15<00:00,  6.50it/s]\n",
      "100%|██████████| 26/26 [00:10<00:00,  2.47it/s]\n"
     ]
    },
    {
     "name": "stdout",
     "output_type": "stream",
     "text": [
      "Fold: 1 \tEpoch: 82 \tTraining Loss: 1.994150 \tValidation Loss: 1.448573\n",
      "Fold: 1 \tEpoch: 82 \tTraining accuracy: 0.000000 \tValidation accuracy: 0.579231\n",
      "9.549150281252633e-05\n"
     ]
    },
    {
     "name": "stderr",
     "output_type": "stream",
     "text": [
      "100%|██████████| 104/104 [00:15<00:00,  6.50it/s]\n",
      "100%|██████████| 26/26 [00:10<00:00,  2.43it/s]\n"
     ]
    },
    {
     "name": "stdout",
     "output_type": "stream",
     "text": [
      "Fold: 1 \tEpoch: 83 \tTraining Loss: 2.130410 \tValidation Loss: 1.498692\n",
      "Fold: 1 \tEpoch: 83 \tTraining accuracy: 0.000000 \tValidation accuracy: 0.567452\n",
      "8.548121372247918e-05\n"
     ]
    },
    {
     "name": "stderr",
     "output_type": "stream",
     "text": [
      "100%|██████████| 104/104 [00:16<00:00,  6.50it/s]\n",
      "100%|██████████| 26/26 [00:10<00:00,  2.47it/s]\n"
     ]
    },
    {
     "name": "stdout",
     "output_type": "stream",
     "text": [
      "Fold: 1 \tEpoch: 84 \tTraining Loss: 2.045244 \tValidation Loss: 1.447432\n",
      "Fold: 1 \tEpoch: 84 \tTraining accuracy: 0.000000 \tValidation accuracy: 0.576154\n",
      "7.597595192178702e-05\n",
      "Validation loss decreased (1.447569 --> 1.447432).  Saving model ...\n"
     ]
    },
    {
     "name": "stderr",
     "output_type": "stream",
     "text": [
      "100%|██████████| 104/104 [00:16<00:00,  6.41it/s]\n",
      "100%|██████████| 26/26 [00:10<00:00,  2.50it/s]\n"
     ]
    },
    {
     "name": "stdout",
     "output_type": "stream",
     "text": [
      "Fold: 1 \tEpoch: 85 \tTraining Loss: 2.015225 \tValidation Loss: 1.451384\n",
      "Fold: 1 \tEpoch: 85 \tTraining accuracy: 0.000000 \tValidation accuracy: 0.575361\n",
      "6.698729810778065e-05\n"
     ]
    },
    {
     "name": "stderr",
     "output_type": "stream",
     "text": [
      "100%|██████████| 104/104 [00:16<00:00,  6.45it/s]\n",
      "100%|██████████| 26/26 [00:10<00:00,  2.47it/s]\n"
     ]
    },
    {
     "name": "stdout",
     "output_type": "stream",
     "text": [
      "Fold: 1 \tEpoch: 86 \tTraining Loss: 2.045307 \tValidation Loss: 1.441608\n",
      "Fold: 1 \tEpoch: 86 \tTraining accuracy: 0.000000 \tValidation accuracy: 0.589279\n",
      "5.8526203570536616e-05\n",
      "Validation loss decreased (1.447432 --> 1.441608).  Saving model ...\n"
     ]
    },
    {
     "name": "stderr",
     "output_type": "stream",
     "text": [
      "100%|██████████| 104/104 [00:16<00:00,  6.47it/s]\n",
      "100%|██████████| 26/26 [00:10<00:00,  2.48it/s]\n"
     ]
    },
    {
     "name": "stdout",
     "output_type": "stream",
     "text": [
      "Fold: 1 \tEpoch: 87 \tTraining Loss: 2.032956 \tValidation Loss: 1.452505\n",
      "Fold: 1 \tEpoch: 87 \tTraining accuracy: 0.000000 \tValidation accuracy: 0.579327\n",
      "5.060297685041648e-05\n"
     ]
    },
    {
     "name": "stderr",
     "output_type": "stream",
     "text": [
      "100%|██████████| 104/104 [00:16<00:00,  6.48it/s]\n",
      "100%|██████████| 26/26 [00:10<00:00,  2.43it/s]\n"
     ]
    },
    {
     "name": "stdout",
     "output_type": "stream",
     "text": [
      "Fold: 1 \tEpoch: 88 \tTraining Loss: 2.073213 \tValidation Loss: 1.441874\n",
      "Fold: 1 \tEpoch: 88 \tTraining accuracy: 0.000000 \tValidation accuracy: 0.576659\n",
      "4.3227271178699624e-05\n"
     ]
    },
    {
     "name": "stderr",
     "output_type": "stream",
     "text": [
      "100%|██████████| 104/104 [00:16<00:00,  6.46it/s]\n",
      "100%|██████████| 26/26 [00:10<00:00,  2.45it/s]\n"
     ]
    },
    {
     "name": "stdout",
     "output_type": "stream",
     "text": [
      "Fold: 1 \tEpoch: 89 \tTraining Loss: 2.035387 \tValidation Loss: 1.445414\n",
      "Fold: 1 \tEpoch: 89 \tTraining accuracy: 0.000000 \tValidation accuracy: 0.581370\n",
      "3.6408072716606344e-05\n"
     ]
    },
    {
     "name": "stderr",
     "output_type": "stream",
     "text": [
      "100%|██████████| 104/104 [00:16<00:00,  6.42it/s]\n",
      "100%|██████████| 26/26 [00:10<00:00,  2.42it/s]\n"
     ]
    },
    {
     "name": "stdout",
     "output_type": "stream",
     "text": [
      "Fold: 1 \tEpoch: 90 \tTraining Loss: 1.965696 \tValidation Loss: 1.443392\n",
      "Fold: 1 \tEpoch: 90 \tTraining accuracy: 0.000000 \tValidation accuracy: 0.582236\n",
      "3.0153689607045842e-05\n"
     ]
    },
    {
     "name": "stderr",
     "output_type": "stream",
     "text": [
      "100%|██████████| 104/104 [00:16<00:00,  6.45it/s]\n",
      "100%|██████████| 26/26 [00:10<00:00,  2.44it/s]\n"
     ]
    },
    {
     "name": "stdout",
     "output_type": "stream",
     "text": [
      "Fold: 1 \tEpoch: 91 \tTraining Loss: 2.096126 \tValidation Loss: 1.439221\n",
      "Fold: 1 \tEpoch: 91 \tTraining accuracy: 0.000000 \tValidation accuracy: 0.578365\n",
      "2.4471741852423235e-05\n",
      "Validation loss decreased (1.441608 --> 1.439221).  Saving model ...\n"
     ]
    },
    {
     "name": "stderr",
     "output_type": "stream",
     "text": [
      "100%|██████████| 104/104 [00:16<00:00,  6.46it/s]\n",
      "100%|██████████| 26/26 [00:10<00:00,  2.47it/s]\n"
     ]
    },
    {
     "name": "stdout",
     "output_type": "stream",
     "text": [
      "Fold: 1 \tEpoch: 92 \tTraining Loss: 2.141214 \tValidation Loss: 1.445323\n",
      "Fold: 1 \tEpoch: 92 \tTraining accuracy: 0.000000 \tValidation accuracy: 0.571322\n",
      "1.9369152030840666e-05\n"
     ]
    },
    {
     "name": "stderr",
     "output_type": "stream",
     "text": [
      "100%|██████████| 104/104 [00:15<00:00,  6.52it/s]\n",
      "100%|██████████| 26/26 [00:10<00:00,  2.43it/s]\n"
     ]
    },
    {
     "name": "stdout",
     "output_type": "stream",
     "text": [
      "Fold: 1 \tEpoch: 93 \tTraining Loss: 1.951584 \tValidation Loss: 1.422661\n",
      "Fold: 1 \tEpoch: 93 \tTraining accuracy: 0.000000 \tValidation accuracy: 0.580697\n",
      "1.4852136862001764e-05\n",
      "Validation loss decreased (1.439221 --> 1.422661).  Saving model ...\n"
     ]
    },
    {
     "name": "stderr",
     "output_type": "stream",
     "text": [
      "100%|██████████| 104/104 [00:16<00:00,  6.48it/s]\n",
      "100%|██████████| 26/26 [00:10<00:00,  2.43it/s]\n"
     ]
    },
    {
     "name": "stdout",
     "output_type": "stream",
     "text": [
      "Fold: 1 \tEpoch: 94 \tTraining Loss: 2.097505 \tValidation Loss: 1.430949\n",
      "Fold: 1 \tEpoch: 94 \tTraining accuracy: 0.000000 \tValidation accuracy: 0.576659\n",
      "1.0926199633097156e-05\n"
     ]
    },
    {
     "name": "stderr",
     "output_type": "stream",
     "text": [
      "100%|██████████| 104/104 [00:16<00:00,  6.47it/s]\n",
      "100%|██████████| 26/26 [00:10<00:00,  2.48it/s]\n"
     ]
    },
    {
     "name": "stdout",
     "output_type": "stream",
     "text": [
      "Fold: 1 \tEpoch: 95 \tTraining Loss: 1.950849 \tValidation Loss: 1.429604\n",
      "Fold: 1 \tEpoch: 95 \tTraining accuracy: 0.000000 \tValidation accuracy: 0.573149\n",
      "7.59612349389599e-06\n"
     ]
    },
    {
     "name": "stderr",
     "output_type": "stream",
     "text": [
      "100%|██████████| 104/104 [00:16<00:00,  6.49it/s]\n",
      "100%|██████████| 26/26 [00:10<00:00,  2.45it/s]\n"
     ]
    },
    {
     "name": "stdout",
     "output_type": "stream",
     "text": [
      "Fold: 1 \tEpoch: 96 \tTraining Loss: 1.952002 \tValidation Loss: 1.425505\n",
      "Fold: 1 \tEpoch: 96 \tTraining accuracy: 0.000000 \tValidation accuracy: 0.583534\n",
      "4.865965629214875e-06\n"
     ]
    },
    {
     "name": "stderr",
     "output_type": "stream",
     "text": [
      "100%|██████████| 104/104 [00:15<00:00,  6.51it/s]\n",
      "100%|██████████| 26/26 [00:10<00:00,  2.46it/s]\n"
     ]
    },
    {
     "name": "stdout",
     "output_type": "stream",
     "text": [
      "Fold: 1 \tEpoch: 97 \tTraining Loss: 1.995696 \tValidation Loss: 1.430481\n",
      "Fold: 1 \tEpoch: 97 \tTraining accuracy: 0.000000 \tValidation accuracy: 0.582476\n",
      "2.739052315863355e-06\n"
     ]
    },
    {
     "name": "stderr",
     "output_type": "stream",
     "text": [
      "100%|██████████| 104/104 [00:16<00:00,  6.49it/s]\n",
      "100%|██████████| 26/26 [00:10<00:00,  2.48it/s]\n"
     ]
    },
    {
     "name": "stdout",
     "output_type": "stream",
     "text": [
      "Fold: 1 \tEpoch: 98 \tTraining Loss: 1.937272 \tValidation Loss: 1.417956\n",
      "Fold: 1 \tEpoch: 98 \tTraining accuracy: 0.000000 \tValidation accuracy: 0.581130\n",
      "1.2179748700879012e-06\n",
      "Validation loss decreased (1.422661 --> 1.417956).  Saving model ...\n"
     ]
    },
    {
     "name": "stderr",
     "output_type": "stream",
     "text": [
      "100%|██████████| 104/104 [00:16<00:00,  6.48it/s]\n",
      "100%|██████████| 26/26 [00:10<00:00,  2.49it/s]\n"
     ]
    },
    {
     "name": "stdout",
     "output_type": "stream",
     "text": [
      "Fold: 1 \tEpoch: 99 \tTraining Loss: 1.944558 \tValidation Loss: 1.417363\n",
      "Fold: 1 \tEpoch: 99 \tTraining accuracy: 0.000000 \tValidation accuracy: 0.583606\n",
      "3.0458649045211895e-07\n",
      "Validation loss decreased (1.417956 --> 1.417363).  Saving model ...\n"
     ]
    },
    {
     "name": "stderr",
     "output_type": "stream",
     "text": [
      "100%|██████████| 104/104 [00:16<00:00,  6.48it/s]\n",
      "100%|██████████| 26/26 [00:10<00:00,  2.44it/s]\n"
     ]
    },
    {
     "name": "stdout",
     "output_type": "stream",
     "text": [
      "Fold: 1 \tEpoch: 100 \tTraining Loss: 2.079536 \tValidation Loss: 1.416600\n",
      "Fold: 1 \tEpoch: 100 \tTraining accuracy: 0.000000 \tValidation accuracy: 0.585505\n",
      "0.0\n",
      "Validation loss decreased (1.417363 --> 1.416600).  Saving model ...\n"
     ]
    },
    {
     "name": "stderr",
     "output_type": "stream",
     "text": [
      "100%|██████████| 104/104 [00:16<00:00,  6.46it/s]\n",
      "100%|██████████| 26/26 [00:10<00:00,  2.48it/s]\n"
     ]
    },
    {
     "name": "stdout",
     "output_type": "stream",
     "text": [
      "Fold: 1 \tEpoch: 101 \tTraining Loss: 1.983853 \tValidation Loss: 1.416172\n",
      "Fold: 1 \tEpoch: 101 \tTraining accuracy: 0.000000 \tValidation accuracy: 0.583702\n",
      "5e-05\n",
      "Validation loss decreased (1.416600 --> 1.416172).  Saving model ...\n"
     ]
    },
    {
     "name": "stderr",
     "output_type": "stream",
     "text": [
      "100%|██████████| 104/104 [00:15<00:00,  6.52it/s]\n",
      "100%|██████████| 26/26 [00:10<00:00,  2.48it/s]\n"
     ]
    },
    {
     "name": "stdout",
     "output_type": "stream",
     "text": [
      "Fold: 1 \tEpoch: 102 \tTraining Loss: 1.998622 \tValidation Loss: 1.426676\n",
      "Fold: 1 \tEpoch: 102 \tTraining accuracy: 0.000000 \tValidation accuracy: 0.575793\n",
      "0.0001\n"
     ]
    },
    {
     "name": "stderr",
     "output_type": "stream",
     "text": [
      "100%|██████████| 104/104 [00:15<00:00,  6.51it/s]\n",
      "100%|██████████| 26/26 [00:10<00:00,  2.49it/s]\n"
     ]
    },
    {
     "name": "stdout",
     "output_type": "stream",
     "text": [
      "Fold: 1 \tEpoch: 103 \tTraining Loss: 1.987860 \tValidation Loss: 1.438011\n",
      "Fold: 1 \tEpoch: 103 \tTraining accuracy: 0.000000 \tValidation accuracy: 0.578269\n",
      "0.00015000000000000001\n"
     ]
    },
    {
     "name": "stderr",
     "output_type": "stream",
     "text": [
      "100%|██████████| 104/104 [00:15<00:00,  6.51it/s]\n",
      "100%|██████████| 26/26 [00:10<00:00,  2.44it/s]\n"
     ]
    },
    {
     "name": "stdout",
     "output_type": "stream",
     "text": [
      "Fold: 1 \tEpoch: 104 \tTraining Loss: 1.994139 \tValidation Loss: 1.433508\n",
      "Fold: 1 \tEpoch: 104 \tTraining accuracy: 0.000000 \tValidation accuracy: 0.578798\n",
      "0.0002\n"
     ]
    },
    {
     "name": "stderr",
     "output_type": "stream",
     "text": [
      "100%|██████████| 104/104 [00:15<00:00,  6.52it/s]\n",
      "100%|██████████| 26/26 [00:10<00:00,  2.44it/s]\n"
     ]
    },
    {
     "name": "stdout",
     "output_type": "stream",
     "text": [
      "Fold: 1 \tEpoch: 105 \tTraining Loss: 2.082790 \tValidation Loss: 1.453772\n",
      "Fold: 1 \tEpoch: 105 \tTraining accuracy: 0.000000 \tValidation accuracy: 0.573462\n",
      "0.00025\n"
     ]
    },
    {
     "name": "stderr",
     "output_type": "stream",
     "text": [
      "100%|██████████| 104/104 [00:16<00:00,  6.46it/s]\n",
      "100%|██████████| 26/26 [00:10<00:00,  2.44it/s]\n"
     ]
    },
    {
     "name": "stdout",
     "output_type": "stream",
     "text": [
      "Fold: 1 \tEpoch: 106 \tTraining Loss: 2.050987 \tValidation Loss: 1.472982\n",
      "Fold: 1 \tEpoch: 106 \tTraining accuracy: 0.000000 \tValidation accuracy: 0.579904\n",
      "0.00030000000000000003\n"
     ]
    },
    {
     "name": "stderr",
     "output_type": "stream",
     "text": [
      "100%|██████████| 104/104 [00:16<00:00,  6.47it/s]\n",
      "100%|██████████| 26/26 [00:10<00:00,  2.49it/s]\n"
     ]
    },
    {
     "name": "stdout",
     "output_type": "stream",
     "text": [
      "Fold: 1 \tEpoch: 107 \tTraining Loss: 2.098835 \tValidation Loss: 1.507575\n",
      "Fold: 1 \tEpoch: 107 \tTraining accuracy: 0.000000 \tValidation accuracy: 0.548942\n",
      "0.00035\n"
     ]
    },
    {
     "name": "stderr",
     "output_type": "stream",
     "text": [
      "100%|██████████| 104/104 [00:15<00:00,  6.51it/s]\n",
      "100%|██████████| 26/26 [00:10<00:00,  2.48it/s]\n"
     ]
    },
    {
     "name": "stdout",
     "output_type": "stream",
     "text": [
      "Fold: 1 \tEpoch: 108 \tTraining Loss: 2.134415 \tValidation Loss: 1.533615\n",
      "Fold: 1 \tEpoch: 108 \tTraining accuracy: 0.000000 \tValidation accuracy: 0.572212\n",
      "0.0004\n"
     ]
    },
    {
     "name": "stderr",
     "output_type": "stream",
     "text": [
      "100%|██████████| 104/104 [00:16<00:00,  6.49it/s]\n",
      "100%|██████████| 26/26 [00:10<00:00,  2.48it/s]\n"
     ]
    },
    {
     "name": "stdout",
     "output_type": "stream",
     "text": [
      "Fold: 1 \tEpoch: 109 \tTraining Loss: 2.177031 \tValidation Loss: 1.554409\n",
      "Fold: 1 \tEpoch: 109 \tTraining accuracy: 0.000000 \tValidation accuracy: 0.543173\n",
      "0.00045000000000000004\n"
     ]
    },
    {
     "name": "stderr",
     "output_type": "stream",
     "text": [
      "100%|██████████| 104/104 [00:15<00:00,  6.50it/s]\n",
      "100%|██████████| 26/26 [00:10<00:00,  2.43it/s]\n"
     ]
    },
    {
     "name": "stdout",
     "output_type": "stream",
     "text": [
      "Fold: 1 \tEpoch: 110 \tTraining Loss: 2.219014 \tValidation Loss: 1.573657\n",
      "Fold: 1 \tEpoch: 110 \tTraining accuracy: 0.000000 \tValidation accuracy: 0.545144\n",
      "0.0005\n"
     ]
    },
    {
     "name": "stderr",
     "output_type": "stream",
     "text": [
      "100%|██████████| 104/104 [00:15<00:00,  6.50it/s]\n",
      "100%|██████████| 26/26 [00:10<00:00,  2.41it/s]\n"
     ]
    },
    {
     "name": "stdout",
     "output_type": "stream",
     "text": [
      "Fold: 1 \tEpoch: 111 \tTraining Loss: 2.156200 \tValidation Loss: 1.557720\n",
      "Fold: 1 \tEpoch: 111 \tTraining accuracy: 0.000000 \tValidation accuracy: 0.552620\n",
      "0.0004998477067547739\n"
     ]
    },
    {
     "name": "stderr",
     "output_type": "stream",
     "text": [
      "100%|██████████| 104/104 [00:16<00:00,  6.44it/s]\n",
      "100%|██████████| 26/26 [00:10<00:00,  2.41it/s]\n"
     ]
    },
    {
     "name": "stdout",
     "output_type": "stream",
     "text": [
      "Fold: 1 \tEpoch: 112 \tTraining Loss: 2.215924 \tValidation Loss: 1.589517\n",
      "Fold: 1 \tEpoch: 112 \tTraining accuracy: 0.000000 \tValidation accuracy: 0.543269\n",
      "0.0004993910125649561\n"
     ]
    },
    {
     "name": "stderr",
     "output_type": "stream",
     "text": [
      "100%|██████████| 104/104 [00:16<00:00,  6.45it/s]\n",
      "100%|██████████| 26/26 [00:10<00:00,  2.43it/s]\n"
     ]
    },
    {
     "name": "stdout",
     "output_type": "stream",
     "text": [
      "Fold: 1 \tEpoch: 113 \tTraining Loss: 2.174583 \tValidation Loss: 1.543688\n",
      "Fold: 1 \tEpoch: 113 \tTraining accuracy: 0.000000 \tValidation accuracy: 0.543341\n",
      "0.0004986304738420684\n"
     ]
    },
    {
     "name": "stderr",
     "output_type": "stream",
     "text": [
      "100%|██████████| 104/104 [00:16<00:00,  6.48it/s]\n",
      "100%|██████████| 26/26 [00:15<00:00,  1.65it/s]\n"
     ]
    },
    {
     "name": "stdout",
     "output_type": "stream",
     "text": [
      "Fold: 1 \tEpoch: 114 \tTraining Loss: 2.135910 \tValidation Loss: 1.565525\n",
      "Fold: 1 \tEpoch: 114 \tTraining accuracy: 0.000000 \tValidation accuracy: 0.542404\n",
      "0.0004975670171853926\n"
     ]
    },
    {
     "name": "stderr",
     "output_type": "stream",
     "text": [
      "100%|██████████| 104/104 [00:19<00:00,  5.43it/s]\n",
      "100%|██████████| 26/26 [00:10<00:00,  2.42it/s]\n"
     ]
    },
    {
     "name": "stdout",
     "output_type": "stream",
     "text": [
      "Fold: 1 \tEpoch: 115 \tTraining Loss: 2.094389 \tValidation Loss: 1.528389\n",
      "Fold: 1 \tEpoch: 115 \tTraining accuracy: 0.000000 \tValidation accuracy: 0.551659\n",
      "0.000496201938253052\n"
     ]
    },
    {
     "name": "stderr",
     "output_type": "stream",
     "text": [
      "100%|██████████| 104/104 [00:16<00:00,  6.46it/s]\n",
      "100%|██████████| 26/26 [00:10<00:00,  2.43it/s]\n"
     ]
    },
    {
     "name": "stdout",
     "output_type": "stream",
     "text": [
      "Fold: 1 \tEpoch: 116 \tTraining Loss: 2.142639 \tValidation Loss: 1.573663\n",
      "Fold: 1 \tEpoch: 116 \tTraining accuracy: 0.000000 \tValidation accuracy: 0.532356\n",
      "0.0004945369001834514\n"
     ]
    },
    {
     "name": "stderr",
     "output_type": "stream",
     "text": [
      "100%|██████████| 104/104 [00:16<00:00,  6.48it/s]\n",
      "100%|██████████| 26/26 [00:10<00:00,  2.43it/s]\n"
     ]
    },
    {
     "name": "stdout",
     "output_type": "stream",
     "text": [
      "Fold: 1 \tEpoch: 117 \tTraining Loss: 2.091292 \tValidation Loss: 1.490525\n",
      "Fold: 1 \tEpoch: 117 \tTraining accuracy: 0.000000 \tValidation accuracy: 0.562043\n",
      "0.0004925739315689991\n"
     ]
    },
    {
     "name": "stderr",
     "output_type": "stream",
     "text": [
      "100%|██████████| 104/104 [00:16<00:00,  6.49it/s]\n",
      "100%|██████████| 26/26 [00:10<00:00,  2.42it/s]\n"
     ]
    },
    {
     "name": "stdout",
     "output_type": "stream",
     "text": [
      "Fold: 1 \tEpoch: 118 \tTraining Loss: 1.993434 \tValidation Loss: 1.511282\n",
      "Fold: 1 \tEpoch: 118 \tTraining accuracy: 0.000000 \tValidation accuracy: 0.559063\n",
      "0.0004903154239845797\n"
     ]
    },
    {
     "name": "stderr",
     "output_type": "stream",
     "text": [
      "100%|██████████| 104/104 [00:16<00:00,  6.39it/s]\n",
      "100%|██████████| 26/26 [00:10<00:00,  2.44it/s]\n"
     ]
    },
    {
     "name": "stdout",
     "output_type": "stream",
     "text": [
      "Fold: 1 \tEpoch: 119 \tTraining Loss: 2.098915 \tValidation Loss: 1.512976\n",
      "Fold: 1 \tEpoch: 119 \tTraining accuracy: 0.000000 \tValidation accuracy: 0.559495\n",
      "0.0004877641290737884\n"
     ]
    },
    {
     "name": "stderr",
     "output_type": "stream",
     "text": [
      "100%|██████████| 104/104 [00:16<00:00,  6.48it/s]\n",
      "100%|██████████| 26/26 [00:10<00:00,  2.41it/s]\n"
     ]
    },
    {
     "name": "stdout",
     "output_type": "stream",
     "text": [
      "Fold: 1 \tEpoch: 120 \tTraining Loss: 2.064162 \tValidation Loss: 1.535670\n",
      "Fold: 1 \tEpoch: 120 \tTraining accuracy: 0.000000 \tValidation accuracy: 0.551082\n",
      "0.0004849231551964771\n"
     ]
    },
    {
     "name": "stderr",
     "output_type": "stream",
     "text": [
      "100%|██████████| 104/104 [00:16<00:00,  6.46it/s]\n",
      "100%|██████████| 26/26 [00:10<00:00,  2.48it/s]\n"
     ]
    },
    {
     "name": "stdout",
     "output_type": "stream",
     "text": [
      "Fold: 1 \tEpoch: 121 \tTraining Loss: 2.158037 \tValidation Loss: 1.513962\n",
      "Fold: 1 \tEpoch: 121 \tTraining accuracy: 0.000000 \tValidation accuracy: 0.551322\n",
      "0.00048179596364169685\n"
     ]
    },
    {
     "name": "stderr",
     "output_type": "stream",
     "text": [
      "100%|██████████| 104/104 [00:16<00:00,  6.45it/s]\n",
      "100%|██████████| 26/26 [00:10<00:00,  2.49it/s]\n"
     ]
    },
    {
     "name": "stdout",
     "output_type": "stream",
     "text": [
      "Fold: 1 \tEpoch: 122 \tTraining Loss: 2.129048 \tValidation Loss: 1.505805\n",
      "Fold: 1 \tEpoch: 122 \tTraining accuracy: 0.000000 \tValidation accuracy: 0.566274\n",
      "0.0004783863644106502\n"
     ]
    },
    {
     "name": "stderr",
     "output_type": "stream",
     "text": [
      "100%|██████████| 104/104 [00:16<00:00,  6.48it/s]\n",
      "100%|██████████| 26/26 [00:10<00:00,  2.42it/s]\n"
     ]
    },
    {
     "name": "stdout",
     "output_type": "stream",
     "text": [
      "Fold: 1 \tEpoch: 123 \tTraining Loss: 2.064266 \tValidation Loss: 1.495263\n",
      "Fold: 1 \tEpoch: 123 \tTraining accuracy: 0.000000 \tValidation accuracy: 0.559159\n",
      "0.00047469851157479177\n"
     ]
    },
    {
     "name": "stderr",
     "output_type": "stream",
     "text": [
      "100%|██████████| 104/104 [00:16<00:00,  6.48it/s]\n",
      "100%|██████████| 26/26 [00:10<00:00,  2.46it/s]\n"
     ]
    },
    {
     "name": "stdout",
     "output_type": "stream",
     "text": [
      "Fold: 1 \tEpoch: 124 \tTraining Loss: 2.092243 \tValidation Loss: 1.475661\n",
      "Fold: 1 \tEpoch: 124 \tTraining accuracy: 0.000000 \tValidation accuracy: 0.569712\n",
      "0.00047073689821473173\n"
     ]
    },
    {
     "name": "stderr",
     "output_type": "stream",
     "text": [
      "100%|██████████| 104/104 [00:16<00:00,  6.47it/s]\n",
      "100%|██████████| 26/26 [00:10<00:00,  2.46it/s]\n"
     ]
    },
    {
     "name": "stdout",
     "output_type": "stream",
     "text": [
      "Fold: 1 \tEpoch: 125 \tTraining Loss: 1.998959 \tValidation Loss: 1.478376\n",
      "Fold: 1 \tEpoch: 125 \tTraining accuracy: 0.000000 \tValidation accuracy: 0.562740\n",
      "0.00046650635094610973\n"
     ]
    },
    {
     "name": "stderr",
     "output_type": "stream",
     "text": [
      "100%|██████████| 104/104 [00:16<00:00,  6.45it/s]\n",
      "100%|██████████| 26/26 [00:10<00:00,  2.50it/s]\n"
     ]
    },
    {
     "name": "stdout",
     "output_type": "stream",
     "text": [
      "Fold: 1 \tEpoch: 126 \tTraining Loss: 2.200125 \tValidation Loss: 1.486614\n",
      "Fold: 1 \tEpoch: 126 \tTraining accuracy: 0.000000 \tValidation accuracy: 0.571923\n",
      "0.00046201202403910646\n"
     ]
    },
    {
     "name": "stderr",
     "output_type": "stream",
     "text": [
      "100%|██████████| 104/104 [00:16<00:00,  6.49it/s]\n",
      "100%|██████████| 26/26 [00:10<00:00,  2.45it/s]\n"
     ]
    },
    {
     "name": "stdout",
     "output_type": "stream",
     "text": [
      "Fold: 1 \tEpoch: 127 \tTraining Loss: 2.072927 \tValidation Loss: 1.490009\n",
      "Fold: 1 \tEpoch: 127 \tTraining accuracy: 0.000000 \tValidation accuracy: 0.559063\n",
      "0.00045725939313876043\n"
     ]
    },
    {
     "name": "stderr",
     "output_type": "stream",
     "text": [
      "100%|██████████| 104/104 [00:16<00:00,  6.46it/s]\n",
      "100%|██████████| 26/26 [00:10<00:00,  2.43it/s]\n"
     ]
    },
    {
     "name": "stdout",
     "output_type": "stream",
     "text": [
      "Fold: 1 \tEpoch: 128 \tTraining Loss: 2.064259 \tValidation Loss: 1.520984\n",
      "Fold: 1 \tEpoch: 128 \tTraining accuracy: 0.000000 \tValidation accuracy: 0.575288\n",
      "0.0004522542485937369\n"
     ]
    },
    {
     "name": "stderr",
     "output_type": "stream",
     "text": [
      "100%|██████████| 104/104 [00:16<00:00,  6.45it/s]\n",
      "100%|██████████| 26/26 [00:10<00:00,  2.41it/s]\n"
     ]
    },
    {
     "name": "stdout",
     "output_type": "stream",
     "text": [
      "Fold: 1 \tEpoch: 129 \tTraining Loss: 2.110966 \tValidation Loss: 1.426346\n",
      "Fold: 1 \tEpoch: 129 \tTraining accuracy: 0.000000 \tValidation accuracy: 0.586707\n",
      "0.0004470026884016805\n"
     ]
    },
    {
     "name": "stderr",
     "output_type": "stream",
     "text": [
      "100%|██████████| 104/104 [00:16<00:00,  6.46it/s]\n",
      "100%|██████████| 26/26 [00:10<00:00,  2.47it/s]\n"
     ]
    },
    {
     "name": "stdout",
     "output_type": "stream",
     "text": [
      "Fold: 1 \tEpoch: 130 \tTraining Loss: 2.002917 \tValidation Loss: 1.455195\n",
      "Fold: 1 \tEpoch: 130 \tTraining accuracy: 0.000000 \tValidation accuracy: 0.550024\n",
      "0.0004415111107797445\n"
     ]
    },
    {
     "name": "stderr",
     "output_type": "stream",
     "text": [
      "100%|██████████| 104/104 [00:16<00:00,  6.47it/s]\n",
      "100%|██████████| 26/26 [00:10<00:00,  2.48it/s]\n"
     ]
    },
    {
     "name": "stdout",
     "output_type": "stream",
     "text": [
      "Fold: 1 \tEpoch: 131 \tTraining Loss: 2.043149 \tValidation Loss: 1.497234\n",
      "Fold: 1 \tEpoch: 131 \tTraining accuracy: 0.000000 \tValidation accuracy: 0.567308\n",
      "0.00043578620636934855\n"
     ]
    },
    {
     "name": "stderr",
     "output_type": "stream",
     "text": [
      "100%|██████████| 104/104 [00:15<00:00,  6.51it/s]\n",
      "100%|██████████| 26/26 [00:10<00:00,  2.43it/s]\n"
     ]
    },
    {
     "name": "stdout",
     "output_type": "stream",
     "text": [
      "Fold: 1 \tEpoch: 132 \tTraining Loss: 2.001777 \tValidation Loss: 1.453265\n",
      "Fold: 1 \tEpoch: 132 \tTraining accuracy: 0.000000 \tValidation accuracy: 0.572452\n",
      "0.0004298349500846628\n"
     ]
    },
    {
     "name": "stderr",
     "output_type": "stream",
     "text": [
      "100%|██████████| 104/104 [00:16<00:00,  6.48it/s]\n",
      "100%|██████████| 26/26 [00:10<00:00,  2.47it/s]\n"
     ]
    },
    {
     "name": "stdout",
     "output_type": "stream",
     "text": [
      "Fold: 1 \tEpoch: 133 \tTraining Loss: 2.027883 \tValidation Loss: 1.484770\n",
      "Fold: 1 \tEpoch: 133 \tTraining accuracy: 0.000000 \tValidation accuracy: 0.553149\n",
      "0.00042366459261474935\n"
     ]
    },
    {
     "name": "stderr",
     "output_type": "stream",
     "text": [
      "100%|██████████| 104/104 [00:16<00:00,  6.46it/s]\n",
      "100%|██████████| 26/26 [00:10<00:00,  2.48it/s]\n"
     ]
    },
    {
     "name": "stdout",
     "output_type": "stream",
     "text": [
      "Fold: 1 \tEpoch: 134 \tTraining Loss: 2.069010 \tValidation Loss: 1.444945\n",
      "Fold: 1 \tEpoch: 134 \tTraining accuracy: 0.000000 \tValidation accuracy: 0.572284\n",
      "0.0004172826515897146\n"
     ]
    },
    {
     "name": "stderr",
     "output_type": "stream",
     "text": [
      "100%|██████████| 104/104 [00:16<00:00,  6.48it/s]\n",
      "100%|██████████| 26/26 [00:10<00:00,  2.47it/s]\n"
     ]
    },
    {
     "name": "stdout",
     "output_type": "stream",
     "text": [
      "Fold: 1 \tEpoch: 135 \tTraining Loss: 2.068317 \tValidation Loss: 1.426893\n",
      "Fold: 1 \tEpoch: 135 \tTraining accuracy: 0.000000 \tValidation accuracy: 0.593486\n",
      "0.0004106969024216348\n"
     ]
    },
    {
     "name": "stderr",
     "output_type": "stream",
     "text": [
      "100%|██████████| 104/104 [00:16<00:00,  6.49it/s]\n",
      "100%|██████████| 26/26 [00:10<00:00,  2.45it/s]\n"
     ]
    },
    {
     "name": "stdout",
     "output_type": "stream",
     "text": [
      "Fold: 1 \tEpoch: 136 \tTraining Loss: 1.961444 \tValidation Loss: 1.457740\n",
      "Fold: 1 \tEpoch: 136 \tTraining accuracy: 0.000000 \tValidation accuracy: 0.575433\n",
      "0.00040391536883141455\n"
     ]
    },
    {
     "name": "stderr",
     "output_type": "stream",
     "text": [
      "100%|██████████| 104/104 [00:16<00:00,  6.47it/s]\n",
      "100%|██████████| 26/26 [00:10<00:00,  2.43it/s]\n"
     ]
    },
    {
     "name": "stdout",
     "output_type": "stream",
     "text": [
      "Fold: 1 \tEpoch: 137 \tTraining Loss: 2.111792 \tValidation Loss: 1.428023\n",
      "Fold: 1 \tEpoch: 137 \tTraining accuracy: 0.000000 \tValidation accuracy: 0.591827\n",
      "0.0003969463130731183\n"
     ]
    },
    {
     "name": "stderr",
     "output_type": "stream",
     "text": [
      "100%|██████████| 104/104 [00:16<00:00,  6.47it/s]\n",
      "100%|██████████| 26/26 [00:10<00:00,  2.49it/s]\n"
     ]
    },
    {
     "name": "stdout",
     "output_type": "stream",
     "text": [
      "Fold: 1 \tEpoch: 138 \tTraining Loss: 2.020805 \tValidation Loss: 1.439542\n",
      "Fold: 1 \tEpoch: 138 \tTraining accuracy: 0.000000 \tValidation accuracy: 0.589351\n",
      "0.0003897982258676867\n"
     ]
    },
    {
     "name": "stderr",
     "output_type": "stream",
     "text": [
      "100%|██████████| 104/104 [00:15<00:00,  6.51it/s]\n",
      "100%|██████████| 26/26 [00:10<00:00,  2.43it/s]\n"
     ]
    },
    {
     "name": "stdout",
     "output_type": "stream",
     "text": [
      "Fold: 1 \tEpoch: 139 \tTraining Loss: 2.109595 \tValidation Loss: 1.494058\n",
      "Fold: 1 \tEpoch: 139 \tTraining accuracy: 0.000000 \tValidation accuracy: 0.557284\n",
      "0.00038247981605830125\n"
     ]
    },
    {
     "name": "stderr",
     "output_type": "stream",
     "text": [
      "100%|██████████| 104/104 [00:15<00:00,  6.53it/s]\n",
      "100%|██████████| 26/26 [00:10<00:00,  2.44it/s]\n"
     ]
    },
    {
     "name": "stdout",
     "output_type": "stream",
     "text": [
      "Fold: 1 \tEpoch: 140 \tTraining Loss: 1.180397 \tValidation Loss: 1.415532\n",
      "Fold: 1 \tEpoch: 140 \tTraining accuracy: 0.000000 \tValidation accuracy: 0.577260\n",
      "0.000375\n",
      "Validation loss decreased (1.416172 --> 1.415532).  Saving model ...\n"
     ]
    },
    {
     "name": "stderr",
     "output_type": "stream",
     "text": [
      "100%|██████████| 104/104 [00:15<00:00,  6.51it/s]\n",
      "100%|██████████| 26/26 [00:10<00:00,  2.48it/s]\n"
     ]
    },
    {
     "name": "stdout",
     "output_type": "stream",
     "text": [
      "Fold: 1 \tEpoch: 141 \tTraining Loss: 1.171017 \tValidation Loss: 1.437004\n",
      "Fold: 1 \tEpoch: 141 \tTraining accuracy: 0.000000 \tValidation accuracy: 0.576154\n",
      "0.0003673678906964727\n"
     ]
    },
    {
     "name": "stderr",
     "output_type": "stream",
     "text": [
      "100%|██████████| 104/104 [00:16<00:00,  6.49it/s]\n",
      "100%|██████████| 26/26 [00:10<00:00,  2.47it/s]\n"
     ]
    },
    {
     "name": "stdout",
     "output_type": "stream",
     "text": [
      "Fold: 1 \tEpoch: 142 \tTraining Loss: 1.159634 \tValidation Loss: 1.424002\n",
      "Fold: 1 \tEpoch: 142 \tTraining accuracy: 0.000000 \tValidation accuracy: 0.574495\n",
      "0.00035959278669726934\n"
     ]
    },
    {
     "name": "stderr",
     "output_type": "stream",
     "text": [
      "100%|██████████| 104/104 [00:16<00:00,  6.49it/s]\n",
      "100%|██████████| 26/26 [00:10<00:00,  2.44it/s]\n"
     ]
    },
    {
     "name": "stdout",
     "output_type": "stream",
     "text": [
      "Fold: 1 \tEpoch: 143 \tTraining Loss: 1.124144 \tValidation Loss: 1.422887\n",
      "Fold: 1 \tEpoch: 143 \tTraining accuracy: 0.000000 \tValidation accuracy: 0.584279\n",
      "0.00035168416076895\n"
     ]
    },
    {
     "name": "stderr",
     "output_type": "stream",
     "text": [
      "100%|██████████| 104/104 [00:15<00:00,  6.53it/s]\n",
      "100%|██████████| 26/26 [00:10<00:00,  2.44it/s]\n"
     ]
    },
    {
     "name": "stdout",
     "output_type": "stream",
     "text": [
      "Fold: 1 \tEpoch: 144 \tTraining Loss: 1.130318 \tValidation Loss: 1.398110\n",
      "Fold: 1 \tEpoch: 144 \tTraining accuracy: 0.000000 \tValidation accuracy: 0.598726\n",
      "0.000343651648353978\n",
      "Validation loss decreased (1.415532 --> 1.398110).  Saving model ...\n"
     ]
    },
    {
     "name": "stderr",
     "output_type": "stream",
     "text": [
      "100%|██████████| 104/104 [00:16<00:00,  6.50it/s]\n",
      "100%|██████████| 26/26 [00:10<00:00,  2.43it/s]\n"
     ]
    },
    {
     "name": "stdout",
     "output_type": "stream",
     "text": [
      "Fold: 1 \tEpoch: 145 \tTraining Loss: 1.087980 \tValidation Loss: 1.368527\n",
      "Fold: 1 \tEpoch: 145 \tTraining accuracy: 0.000000 \tValidation accuracy: 0.601034\n",
      "0.0003355050358314172\n",
      "Validation loss decreased (1.398110 --> 1.368527).  Saving model ...\n"
     ]
    },
    {
     "name": "stderr",
     "output_type": "stream",
     "text": [
      "100%|██████████| 104/104 [00:15<00:00,  6.51it/s]\n",
      "100%|██████████| 26/26 [00:10<00:00,  2.48it/s]\n"
     ]
    },
    {
     "name": "stdout",
     "output_type": "stream",
     "text": [
      "Fold: 1 \tEpoch: 146 \tTraining Loss: 1.091266 \tValidation Loss: 1.386041\n",
      "Fold: 1 \tEpoch: 146 \tTraining accuracy: 0.000000 \tValidation accuracy: 0.604351\n",
      "0.00032725424859373687\n"
     ]
    },
    {
     "name": "stderr",
     "output_type": "stream",
     "text": [
      "100%|██████████| 104/104 [00:15<00:00,  6.52it/s]\n",
      "100%|██████████| 26/26 [00:10<00:00,  2.43it/s]\n"
     ]
    },
    {
     "name": "stdout",
     "output_type": "stream",
     "text": [
      "Fold: 1 \tEpoch: 147 \tTraining Loss: 1.042513 \tValidation Loss: 1.382005\n",
      "Fold: 1 \tEpoch: 147 \tTraining accuracy: 0.000000 \tValidation accuracy: 0.585673\n",
      "0.0003189093389542498\n"
     ]
    },
    {
     "name": "stderr",
     "output_type": "stream",
     "text": [
      "100%|██████████| 104/104 [00:16<00:00,  6.45it/s]\n",
      "100%|██████████| 26/26 [00:10<00:00,  2.45it/s]\n"
     ]
    },
    {
     "name": "stdout",
     "output_type": "stream",
     "text": [
      "Fold: 1 \tEpoch: 148 \tTraining Loss: 1.018993 \tValidation Loss: 1.395827\n",
      "Fold: 1 \tEpoch: 148 \tTraining accuracy: 0.000000 \tValidation accuracy: 0.588486\n",
      "0.00031048047389991694\n"
     ]
    },
    {
     "name": "stderr",
     "output_type": "stream",
     "text": [
      "100%|██████████| 104/104 [00:16<00:00,  6.49it/s]\n",
      "100%|██████████| 26/26 [00:10<00:00,  2.48it/s]\n"
     ]
    },
    {
     "name": "stdout",
     "output_type": "stream",
     "text": [
      "Fold: 1 \tEpoch: 149 \tTraining Loss: 1.050996 \tValidation Loss: 1.406409\n",
      "Fold: 1 \tEpoch: 149 \tTraining accuracy: 0.000000 \tValidation accuracy: 0.590120\n",
      "0.00030197792270443986\n",
      "============= Fold-2 strat =============\n"
     ]
    },
    {
     "name": "stderr",
     "output_type": "stream",
     "text": [
      "100%|██████████| 104/104 [00:16<00:00,  6.48it/s]\n",
      "100%|██████████| 26/26 [00:10<00:00,  2.43it/s]\n"
     ]
    },
    {
     "name": "stdout",
     "output_type": "stream",
     "text": [
      "Fold: 2 \tEpoch: 0 \tTraining Loss: 3.606528 \tValidation Loss: 3.630270\n",
      "Fold: 2 \tEpoch: 0 \tTraining accuracy: 0.000000 \tValidation accuracy: 0.035793\n",
      "0.0\n",
      "Validation loss decreased (inf --> 3.630270).  Saving model ...\n"
     ]
    },
    {
     "name": "stderr",
     "output_type": "stream",
     "text": [
      "100%|██████████| 104/104 [00:16<00:00,  6.49it/s]\n",
      "100%|██████████| 26/26 [00:10<00:00,  2.46it/s]\n"
     ]
    },
    {
     "name": "stdout",
     "output_type": "stream",
     "text": [
      "Fold: 2 \tEpoch: 1 \tTraining Loss: 3.614962 \tValidation Loss: 3.627816\n",
      "Fold: 2 \tEpoch: 1 \tTraining accuracy: 0.000000 \tValidation accuracy: 0.038365\n",
      "0.0001\n",
      "Validation loss decreased (3.630270 --> 3.627816).  Saving model ...\n"
     ]
    },
    {
     "name": "stderr",
     "output_type": "stream",
     "text": [
      "100%|██████████| 104/104 [00:16<00:00,  6.49it/s]\n",
      "100%|██████████| 26/26 [00:10<00:00,  2.45it/s]\n"
     ]
    },
    {
     "name": "stdout",
     "output_type": "stream",
     "text": [
      "Fold: 2 \tEpoch: 2 \tTraining Loss: 3.113312 \tValidation Loss: 2.768238\n",
      "Fold: 2 \tEpoch: 2 \tTraining accuracy: 0.000000 \tValidation accuracy: 0.197163\n",
      "0.0002\n",
      "Validation loss decreased (3.627816 --> 2.768238).  Saving model ...\n"
     ]
    },
    {
     "name": "stderr",
     "output_type": "stream",
     "text": [
      "100%|██████████| 104/104 [00:16<00:00,  6.45it/s]\n",
      "100%|██████████| 26/26 [00:10<00:00,  2.45it/s]\n"
     ]
    },
    {
     "name": "stdout",
     "output_type": "stream",
     "text": [
      "Fold: 2 \tEpoch: 3 \tTraining Loss: 2.981019 \tValidation Loss: 2.584918\n",
      "Fold: 2 \tEpoch: 3 \tTraining accuracy: 0.000000 \tValidation accuracy: 0.248149\n",
      "0.00030000000000000003\n",
      "Validation loss decreased (2.768238 --> 2.584918).  Saving model ...\n"
     ]
    },
    {
     "name": "stderr",
     "output_type": "stream",
     "text": [
      "100%|██████████| 104/104 [00:16<00:00,  6.47it/s]\n",
      "100%|██████████| 26/26 [00:10<00:00,  2.44it/s]\n"
     ]
    },
    {
     "name": "stdout",
     "output_type": "stream",
     "text": [
      "Fold: 2 \tEpoch: 4 \tTraining Loss: 2.913780 \tValidation Loss: 2.599228\n",
      "Fold: 2 \tEpoch: 4 \tTraining accuracy: 0.000000 \tValidation accuracy: 0.244111\n",
      "0.0004\n"
     ]
    },
    {
     "name": "stderr",
     "output_type": "stream",
     "text": [
      "100%|██████████| 104/104 [00:16<00:00,  6.48it/s]\n",
      "100%|██████████| 26/26 [00:10<00:00,  2.48it/s]\n"
     ]
    },
    {
     "name": "stdout",
     "output_type": "stream",
     "text": [
      "Fold: 2 \tEpoch: 5 \tTraining Loss: 2.903925 \tValidation Loss: 2.532898\n",
      "Fold: 2 \tEpoch: 5 \tTraining accuracy: 0.000000 \tValidation accuracy: 0.263606\n",
      "0.0005\n",
      "Validation loss decreased (2.584918 --> 2.532898).  Saving model ...\n"
     ]
    },
    {
     "name": "stderr",
     "output_type": "stream",
     "text": [
      "100%|██████████| 104/104 [00:16<00:00,  6.49it/s]\n",
      "100%|██████████| 26/26 [00:10<00:00,  2.42it/s]\n"
     ]
    },
    {
     "name": "stdout",
     "output_type": "stream",
     "text": [
      "Fold: 2 \tEpoch: 6 \tTraining Loss: 2.869340 \tValidation Loss: 2.485428\n",
      "Fold: 2 \tEpoch: 6 \tTraining accuracy: 0.000000 \tValidation accuracy: 0.285505\n",
      "0.0006000000000000001\n",
      "Validation loss decreased (2.532898 --> 2.485428).  Saving model ...\n"
     ]
    },
    {
     "name": "stderr",
     "output_type": "stream",
     "text": [
      "100%|██████████| 104/104 [00:16<00:00,  6.48it/s]\n",
      "100%|██████████| 26/26 [00:10<00:00,  2.42it/s]\n"
     ]
    },
    {
     "name": "stdout",
     "output_type": "stream",
     "text": [
      "Fold: 2 \tEpoch: 7 \tTraining Loss: 2.837032 \tValidation Loss: 2.454497\n",
      "Fold: 2 \tEpoch: 7 \tTraining accuracy: 0.000000 \tValidation accuracy: 0.292452\n",
      "0.0007\n",
      "Validation loss decreased (2.485428 --> 2.454497).  Saving model ...\n"
     ]
    },
    {
     "name": "stderr",
     "output_type": "stream",
     "text": [
      "100%|██████████| 104/104 [00:16<00:00,  6.47it/s]\n",
      "100%|██████████| 26/26 [00:10<00:00,  2.42it/s]\n"
     ]
    },
    {
     "name": "stdout",
     "output_type": "stream",
     "text": [
      "Fold: 2 \tEpoch: 8 \tTraining Loss: 2.810307 \tValidation Loss: 2.472405\n",
      "Fold: 2 \tEpoch: 8 \tTraining accuracy: 0.000000 \tValidation accuracy: 0.284135\n",
      "0.0008\n"
     ]
    },
    {
     "name": "stderr",
     "output_type": "stream",
     "text": [
      "100%|██████████| 104/104 [00:16<00:00,  6.49it/s]\n",
      "100%|██████████| 26/26 [00:10<00:00,  2.43it/s]\n"
     ]
    },
    {
     "name": "stdout",
     "output_type": "stream",
     "text": [
      "Fold: 2 \tEpoch: 9 \tTraining Loss: 2.795177 \tValidation Loss: 2.429834\n",
      "Fold: 2 \tEpoch: 9 \tTraining accuracy: 0.000000 \tValidation accuracy: 0.286947\n",
      "0.0009000000000000001\n",
      "Validation loss decreased (2.454497 --> 2.429834).  Saving model ...\n"
     ]
    },
    {
     "name": "stderr",
     "output_type": "stream",
     "text": [
      "100%|██████████| 104/104 [00:16<00:00,  6.46it/s]\n",
      "100%|██████████| 26/26 [00:10<00:00,  2.42it/s]\n"
     ]
    },
    {
     "name": "stdout",
     "output_type": "stream",
     "text": [
      "Fold: 2 \tEpoch: 10 \tTraining Loss: 2.785865 \tValidation Loss: 2.384042\n",
      "Fold: 2 \tEpoch: 10 \tTraining accuracy: 0.000000 \tValidation accuracy: 0.320264\n",
      "0.001\n",
      "Validation loss decreased (2.429834 --> 2.384042).  Saving model ...\n"
     ]
    },
    {
     "name": "stderr",
     "output_type": "stream",
     "text": [
      "100%|██████████| 104/104 [00:16<00:00,  6.49it/s]\n",
      "100%|██████████| 26/26 [00:10<00:00,  2.45it/s]\n"
     ]
    },
    {
     "name": "stdout",
     "output_type": "stream",
     "text": [
      "Fold: 2 \tEpoch: 11 \tTraining Loss: 2.766366 \tValidation Loss: 2.382778\n",
      "Fold: 2 \tEpoch: 11 \tTraining accuracy: 0.000000 \tValidation accuracy: 0.297524\n",
      "0.0009996954135095479\n",
      "Validation loss decreased (2.384042 --> 2.382778).  Saving model ...\n"
     ]
    },
    {
     "name": "stderr",
     "output_type": "stream",
     "text": [
      "100%|██████████| 104/104 [00:16<00:00,  6.46it/s]\n",
      "100%|██████████| 26/26 [00:10<00:00,  2.44it/s]\n"
     ]
    },
    {
     "name": "stdout",
     "output_type": "stream",
     "text": [
      "Fold: 2 \tEpoch: 12 \tTraining Loss: 2.716054 \tValidation Loss: 2.330934\n",
      "Fold: 2 \tEpoch: 12 \tTraining accuracy: 0.000000 \tValidation accuracy: 0.319639\n",
      "0.0009987820251299122\n",
      "Validation loss decreased (2.382778 --> 2.330934).  Saving model ...\n"
     ]
    },
    {
     "name": "stderr",
     "output_type": "stream",
     "text": [
      "100%|██████████| 104/104 [00:16<00:00,  6.46it/s]\n",
      "100%|██████████| 26/26 [00:10<00:00,  2.45it/s]\n"
     ]
    },
    {
     "name": "stdout",
     "output_type": "stream",
     "text": [
      "Fold: 2 \tEpoch: 13 \tTraining Loss: 2.672357 \tValidation Loss: 2.165564\n",
      "Fold: 2 \tEpoch: 13 \tTraining accuracy: 0.000000 \tValidation accuracy: 0.360601\n",
      "0.0009972609476841367\n",
      "Validation loss decreased (2.330934 --> 2.165564).  Saving model ...\n"
     ]
    },
    {
     "name": "stderr",
     "output_type": "stream",
     "text": [
      "100%|██████████| 104/104 [00:16<00:00,  6.49it/s]\n",
      "100%|██████████| 26/26 [00:10<00:00,  2.43it/s]\n"
     ]
    },
    {
     "name": "stdout",
     "output_type": "stream",
     "text": [
      "Fold: 2 \tEpoch: 14 \tTraining Loss: 2.689915 \tValidation Loss: 2.193363\n",
      "Fold: 2 \tEpoch: 14 \tTraining accuracy: 0.000000 \tValidation accuracy: 0.379159\n",
      "0.0009951340343707852\n"
     ]
    },
    {
     "name": "stderr",
     "output_type": "stream",
     "text": [
      "100%|██████████| 104/104 [00:16<00:00,  6.46it/s]\n",
      "100%|██████████| 26/26 [00:10<00:00,  2.44it/s]\n"
     ]
    },
    {
     "name": "stdout",
     "output_type": "stream",
     "text": [
      "Fold: 2 \tEpoch: 15 \tTraining Loss: 2.699368 \tValidation Loss: 2.190371\n",
      "Fold: 2 \tEpoch: 15 \tTraining accuracy: 0.000000 \tValidation accuracy: 0.355721\n",
      "0.000992403876506104\n"
     ]
    },
    {
     "name": "stderr",
     "output_type": "stream",
     "text": [
      "100%|██████████| 104/104 [00:15<00:00,  6.51it/s]\n",
      "100%|██████████| 26/26 [00:10<00:00,  2.45it/s]\n"
     ]
    },
    {
     "name": "stdout",
     "output_type": "stream",
     "text": [
      "Fold: 2 \tEpoch: 16 \tTraining Loss: 2.661067 \tValidation Loss: 2.150994\n",
      "Fold: 2 \tEpoch: 16 \tTraining accuracy: 0.000000 \tValidation accuracy: 0.374856\n",
      "0.0009890738003669028\n",
      "Validation loss decreased (2.165564 --> 2.150994).  Saving model ...\n"
     ]
    },
    {
     "name": "stderr",
     "output_type": "stream",
     "text": [
      "100%|██████████| 104/104 [00:16<00:00,  6.48it/s]\n",
      "100%|██████████| 26/26 [00:10<00:00,  2.44it/s]\n"
     ]
    },
    {
     "name": "stdout",
     "output_type": "stream",
     "text": [
      "Fold: 2 \tEpoch: 17 \tTraining Loss: 2.594723 \tValidation Loss: 2.149370\n",
      "Fold: 2 \tEpoch: 17 \tTraining accuracy: 0.000000 \tValidation accuracy: 0.378630\n",
      "0.0009851478631379982\n",
      "Validation loss decreased (2.150994 --> 2.149370).  Saving model ...\n"
     ]
    },
    {
     "name": "stderr",
     "output_type": "stream",
     "text": [
      "100%|██████████| 104/104 [00:16<00:00,  6.50it/s]\n",
      "100%|██████████| 26/26 [00:10<00:00,  2.49it/s]\n"
     ]
    },
    {
     "name": "stdout",
     "output_type": "stream",
     "text": [
      "Fold: 2 \tEpoch: 18 \tTraining Loss: 2.610558 \tValidation Loss: 2.103054\n",
      "Fold: 2 \tEpoch: 18 \tTraining accuracy: 0.000000 \tValidation accuracy: 0.387212\n",
      "0.0009806308479691594\n",
      "Validation loss decreased (2.149370 --> 2.103054).  Saving model ...\n"
     ]
    },
    {
     "name": "stderr",
     "output_type": "stream",
     "text": [
      "100%|██████████| 104/104 [00:16<00:00,  6.48it/s]\n",
      "100%|██████████| 26/26 [00:10<00:00,  2.43it/s]"
     ]
    },
    {
     "name": "stdout",
     "output_type": "stream",
     "text": [
      "Fold: 2 \tEpoch: 19 \tTraining Loss: 2.549854 \tValidation Loss: 2.060501\n",
      "Fold: 2 \tEpoch: 19 \tTraining accuracy: 0.000000 \tValidation accuracy: 0.416731\n",
      "0.0009755282581475768\n",
      "Validation loss decreased (2.103054 --> 2.060501).  Saving model ...\n"
     ]
    },
    {
     "name": "stderr",
     "output_type": "stream",
     "text": [
      "\n",
      "100%|██████████| 104/104 [00:16<00:00,  6.47it/s]\n",
      "100%|██████████| 26/26 [00:10<00:00,  2.49it/s]\n"
     ]
    },
    {
     "name": "stdout",
     "output_type": "stream",
     "text": [
      "Fold: 2 \tEpoch: 20 \tTraining Loss: 2.558969 \tValidation Loss: 2.065606\n",
      "Fold: 2 \tEpoch: 20 \tTraining accuracy: 0.000000 \tValidation accuracy: 0.416827\n",
      "0.0009698463103929542\n"
     ]
    },
    {
     "name": "stderr",
     "output_type": "stream",
     "text": [
      "100%|██████████| 104/104 [00:16<00:00,  6.47it/s]\n",
      "100%|██████████| 26/26 [00:10<00:00,  2.48it/s]\n"
     ]
    },
    {
     "name": "stdout",
     "output_type": "stream",
     "text": [
      "Fold: 2 \tEpoch: 21 \tTraining Loss: 2.561915 \tValidation Loss: 1.993322\n",
      "Fold: 2 \tEpoch: 21 \tTraining accuracy: 0.000000 \tValidation accuracy: 0.436659\n",
      "0.0009635919272833937\n",
      "Validation loss decreased (2.060501 --> 1.993322).  Saving model ...\n"
     ]
    },
    {
     "name": "stderr",
     "output_type": "stream",
     "text": [
      "100%|██████████| 104/104 [00:16<00:00,  6.49it/s]\n",
      "100%|██████████| 26/26 [00:10<00:00,  2.49it/s]\n"
     ]
    },
    {
     "name": "stdout",
     "output_type": "stream",
     "text": [
      "Fold: 2 \tEpoch: 22 \tTraining Loss: 2.450736 \tValidation Loss: 1.947706\n",
      "Fold: 2 \tEpoch: 22 \tTraining accuracy: 0.000000 \tValidation accuracy: 0.434687\n",
      "0.0009567727288213005\n",
      "Validation loss decreased (1.993322 --> 1.947706).  Saving model ...\n"
     ]
    },
    {
     "name": "stderr",
     "output_type": "stream",
     "text": [
      "100%|██████████| 104/104 [00:16<00:00,  6.46it/s]\n",
      "100%|██████████| 26/26 [00:10<00:00,  2.48it/s]\n"
     ]
    },
    {
     "name": "stdout",
     "output_type": "stream",
     "text": [
      "Fold: 2 \tEpoch: 23 \tTraining Loss: 2.535335 \tValidation Loss: 1.933858\n",
      "Fold: 2 \tEpoch: 23 \tTraining accuracy: 0.000000 \tValidation accuracy: 0.436923\n",
      "0.0009493970231495835\n",
      "Validation loss decreased (1.947706 --> 1.933858).  Saving model ...\n"
     ]
    },
    {
     "name": "stderr",
     "output_type": "stream",
     "text": [
      "100%|██████████| 104/104 [00:16<00:00,  6.48it/s]\n",
      "100%|██████████| 26/26 [00:10<00:00,  2.44it/s]\n"
     ]
    },
    {
     "name": "stdout",
     "output_type": "stream",
     "text": [
      "Fold: 2 \tEpoch: 24 \tTraining Loss: 2.515419 \tValidation Loss: 1.934529\n",
      "Fold: 2 \tEpoch: 24 \tTraining accuracy: 0.000000 \tValidation accuracy: 0.432212\n",
      "0.0009414737964294635\n"
     ]
    },
    {
     "name": "stderr",
     "output_type": "stream",
     "text": [
      "100%|██████████| 104/104 [00:16<00:00,  6.48it/s]\n",
      "100%|██████████| 26/26 [00:10<00:00,  2.48it/s]\n"
     ]
    },
    {
     "name": "stdout",
     "output_type": "stream",
     "text": [
      "Fold: 2 \tEpoch: 25 \tTraining Loss: 2.522056 \tValidation Loss: 1.877286\n",
      "Fold: 2 \tEpoch: 25 \tTraining accuracy: 0.000000 \tValidation accuracy: 0.460938\n",
      "0.0009330127018922195\n",
      "Validation loss decreased (1.933858 --> 1.877286).  Saving model ...\n"
     ]
    },
    {
     "name": "stderr",
     "output_type": "stream",
     "text": [
      "100%|██████████| 104/104 [00:16<00:00,  6.44it/s]\n",
      "100%|██████████| 26/26 [00:10<00:00,  2.42it/s]\n"
     ]
    },
    {
     "name": "stdout",
     "output_type": "stream",
     "text": [
      "Fold: 2 \tEpoch: 26 \tTraining Loss: 2.564064 \tValidation Loss: 1.966282\n",
      "Fold: 2 \tEpoch: 26 \tTraining accuracy: 0.000000 \tValidation accuracy: 0.435697\n",
      "0.0009240240480782129\n"
     ]
    },
    {
     "name": "stderr",
     "output_type": "stream",
     "text": [
      "100%|██████████| 104/104 [00:16<00:00,  6.50it/s]\n",
      "100%|██████████| 26/26 [00:10<00:00,  2.44it/s]\n"
     ]
    },
    {
     "name": "stdout",
     "output_type": "stream",
     "text": [
      "Fold: 2 \tEpoch: 27 \tTraining Loss: 2.490467 \tValidation Loss: 1.919242\n",
      "Fold: 2 \tEpoch: 27 \tTraining accuracy: 0.000000 \tValidation accuracy: 0.442332\n",
      "0.0009145187862775209\n"
     ]
    },
    {
     "name": "stderr",
     "output_type": "stream",
     "text": [
      "100%|██████████| 104/104 [00:16<00:00,  6.47it/s]\n",
      "100%|██████████| 26/26 [00:10<00:00,  2.40it/s]\n"
     ]
    },
    {
     "name": "stdout",
     "output_type": "stream",
     "text": [
      "Fold: 2 \tEpoch: 28 \tTraining Loss: 2.479475 \tValidation Loss: 1.906911\n",
      "Fold: 2 \tEpoch: 28 \tTraining accuracy: 0.000000 \tValidation accuracy: 0.444976\n",
      "0.0009045084971874737\n"
     ]
    },
    {
     "name": "stderr",
     "output_type": "stream",
     "text": [
      "100%|██████████| 104/104 [00:16<00:00,  6.46it/s]\n",
      "100%|██████████| 26/26 [00:10<00:00,  2.49it/s]\n"
     ]
    },
    {
     "name": "stdout",
     "output_type": "stream",
     "text": [
      "Fold: 2 \tEpoch: 29 \tTraining Loss: 2.544117 \tValidation Loss: 1.950475\n",
      "Fold: 2 \tEpoch: 29 \tTraining accuracy: 0.000000 \tValidation accuracy: 0.449615\n",
      "0.000894005376803361\n"
     ]
    },
    {
     "name": "stderr",
     "output_type": "stream",
     "text": [
      "100%|██████████| 104/104 [00:16<00:00,  6.45it/s]\n",
      "100%|██████████| 26/26 [00:10<00:00,  2.48it/s]\n"
     ]
    },
    {
     "name": "stdout",
     "output_type": "stream",
     "text": [
      "Fold: 2 \tEpoch: 30 \tTraining Loss: 2.476993 \tValidation Loss: 1.794322\n",
      "Fold: 2 \tEpoch: 30 \tTraining accuracy: 0.000000 \tValidation accuracy: 0.475769\n",
      "0.000883022221559489\n",
      "Validation loss decreased (1.877286 --> 1.794322).  Saving model ...\n"
     ]
    },
    {
     "name": "stderr",
     "output_type": "stream",
     "text": [
      "100%|██████████| 104/104 [00:21<00:00,  4.76it/s]\n",
      "100%|██████████| 26/26 [00:11<00:00,  2.23it/s]\n"
     ]
    },
    {
     "name": "stdout",
     "output_type": "stream",
     "text": [
      "Fold: 2 \tEpoch: 31 \tTraining Loss: 2.446470 \tValidation Loss: 1.878924\n",
      "Fold: 2 \tEpoch: 31 \tTraining accuracy: 0.000000 \tValidation accuracy: 0.430385\n",
      "0.0008715724127386971\n"
     ]
    },
    {
     "name": "stderr",
     "output_type": "stream",
     "text": [
      "100%|██████████| 104/104 [00:16<00:00,  6.26it/s]\n",
      "100%|██████████| 26/26 [00:12<00:00,  2.14it/s]\n"
     ]
    },
    {
     "name": "stdout",
     "output_type": "stream",
     "text": [
      "Fold: 2 \tEpoch: 32 \tTraining Loss: 2.457105 \tValidation Loss: 1.889743\n",
      "Fold: 2 \tEpoch: 32 \tTraining accuracy: 0.000000 \tValidation accuracy: 0.451851\n",
      "0.0008596699001693256\n"
     ]
    },
    {
     "name": "stderr",
     "output_type": "stream",
     "text": [
      "100%|██████████| 104/104 [00:16<00:00,  6.37it/s]\n",
      "100%|██████████| 26/26 [00:10<00:00,  2.42it/s]\n"
     ]
    },
    {
     "name": "stdout",
     "output_type": "stream",
     "text": [
      "Fold: 2 \tEpoch: 33 \tTraining Loss: 2.476507 \tValidation Loss: 1.804057\n",
      "Fold: 2 \tEpoch: 33 \tTraining accuracy: 0.000000 \tValidation accuracy: 0.467188\n",
      "0.0008473291852294987\n"
     ]
    },
    {
     "name": "stderr",
     "output_type": "stream",
     "text": [
      "100%|██████████| 104/104 [00:16<00:00,  6.47it/s]\n",
      "100%|██████████| 26/26 [00:10<00:00,  2.40it/s]\n"
     ]
    },
    {
     "name": "stdout",
     "output_type": "stream",
     "text": [
      "Fold: 2 \tEpoch: 34 \tTraining Loss: 2.451135 \tValidation Loss: 1.839876\n",
      "Fold: 2 \tEpoch: 34 \tTraining accuracy: 0.000000 \tValidation accuracy: 0.477764\n",
      "0.0008345653031794292\n"
     ]
    },
    {
     "name": "stderr",
     "output_type": "stream",
     "text": [
      "100%|██████████| 104/104 [00:16<00:00,  6.43it/s]\n",
      "100%|██████████| 26/26 [00:10<00:00,  2.43it/s]\n"
     ]
    },
    {
     "name": "stdout",
     "output_type": "stream",
     "text": [
      "Fold: 2 \tEpoch: 35 \tTraining Loss: 2.553547 \tValidation Loss: 1.905192\n",
      "Fold: 2 \tEpoch: 35 \tTraining accuracy: 0.000000 \tValidation accuracy: 0.446178\n",
      "0.0008213938048432696\n"
     ]
    },
    {
     "name": "stderr",
     "output_type": "stream",
     "text": [
      "100%|██████████| 104/104 [00:16<00:00,  6.46it/s]\n",
      "100%|██████████| 26/26 [00:10<00:00,  2.45it/s]\n"
     ]
    },
    {
     "name": "stdout",
     "output_type": "stream",
     "text": [
      "Fold: 2 \tEpoch: 36 \tTraining Loss: 2.521014 \tValidation Loss: 1.859330\n",
      "Fold: 2 \tEpoch: 36 \tTraining accuracy: 0.000000 \tValidation accuracy: 0.473389\n",
      "0.0008078307376628291\n"
     ]
    },
    {
     "name": "stderr",
     "output_type": "stream",
     "text": [
      "100%|██████████| 104/104 [00:16<00:00,  6.45it/s]\n",
      "100%|██████████| 26/26 [00:10<00:00,  2.42it/s]\n"
     ]
    },
    {
     "name": "stdout",
     "output_type": "stream",
     "text": [
      "Fold: 2 \tEpoch: 37 \tTraining Loss: 2.458529 \tValidation Loss: 1.766248\n",
      "Fold: 2 \tEpoch: 37 \tTraining accuracy: 0.000000 \tValidation accuracy: 0.484808\n",
      "0.0007938926261462366\n",
      "Validation loss decreased (1.794322 --> 1.766248).  Saving model ...\n"
     ]
    },
    {
     "name": "stderr",
     "output_type": "stream",
     "text": [
      "100%|██████████| 104/104 [00:16<00:00,  6.45it/s]\n",
      "100%|██████████| 26/26 [00:10<00:00,  2.45it/s]\n"
     ]
    },
    {
     "name": "stdout",
     "output_type": "stream",
     "text": [
      "Fold: 2 \tEpoch: 38 \tTraining Loss: 2.393283 \tValidation Loss: 1.798502\n",
      "Fold: 2 \tEpoch: 38 \tTraining accuracy: 0.000000 \tValidation accuracy: 0.467212\n",
      "0.0007795964517353734\n"
     ]
    },
    {
     "name": "stderr",
     "output_type": "stream",
     "text": [
      "100%|██████████| 104/104 [00:16<00:00,  6.46it/s]\n",
      "100%|██████████| 26/26 [00:10<00:00,  2.46it/s]\n"
     ]
    },
    {
     "name": "stdout",
     "output_type": "stream",
     "text": [
      "Fold: 2 \tEpoch: 39 \tTraining Loss: 2.369127 \tValidation Loss: 1.754262\n",
      "Fold: 2 \tEpoch: 39 \tTraining accuracy: 0.000000 \tValidation accuracy: 0.473221\n",
      "0.0007649596321166025\n",
      "Validation loss decreased (1.766248 --> 1.754262).  Saving model ...\n"
     ]
    },
    {
     "name": "stderr",
     "output_type": "stream",
     "text": [
      "100%|██████████| 104/104 [00:16<00:00,  6.47it/s]\n",
      "100%|██████████| 26/26 [00:10<00:00,  2.49it/s]\n"
     ]
    },
    {
     "name": "stdout",
     "output_type": "stream",
     "text": [
      "Fold: 2 \tEpoch: 40 \tTraining Loss: 2.461186 \tValidation Loss: 1.807187\n",
      "Fold: 2 \tEpoch: 40 \tTraining accuracy: 0.000000 \tValidation accuracy: 0.492163\n",
      "0.00075\n"
     ]
    },
    {
     "name": "stderr",
     "output_type": "stream",
     "text": [
      "100%|██████████| 104/104 [00:16<00:00,  6.45it/s]\n",
      "100%|██████████| 26/26 [00:10<00:00,  2.42it/s]\n"
     ]
    },
    {
     "name": "stdout",
     "output_type": "stream",
     "text": [
      "Fold: 2 \tEpoch: 41 \tTraining Loss: 2.414974 \tValidation Loss: 1.788359\n",
      "Fold: 2 \tEpoch: 41 \tTraining accuracy: 0.000000 \tValidation accuracy: 0.496226\n",
      "0.0007347357813929454\n"
     ]
    },
    {
     "name": "stderr",
     "output_type": "stream",
     "text": [
      "100%|██████████| 104/104 [00:16<00:00,  6.44it/s]\n",
      "100%|██████████| 26/26 [00:10<00:00,  2.47it/s]\n"
     ]
    },
    {
     "name": "stdout",
     "output_type": "stream",
     "text": [
      "Fold: 2 \tEpoch: 42 \tTraining Loss: 2.362407 \tValidation Loss: 1.792470\n",
      "Fold: 2 \tEpoch: 42 \tTraining accuracy: 0.000000 \tValidation accuracy: 0.470481\n",
      "0.0007191855733945387\n"
     ]
    },
    {
     "name": "stderr",
     "output_type": "stream",
     "text": [
      "100%|██████████| 104/104 [00:16<00:00,  6.44it/s]\n",
      "100%|██████████| 26/26 [00:10<00:00,  2.43it/s]\n"
     ]
    },
    {
     "name": "stdout",
     "output_type": "stream",
     "text": [
      "Fold: 2 \tEpoch: 43 \tTraining Loss: 2.404687 \tValidation Loss: 1.838834\n",
      "Fold: 2 \tEpoch: 43 \tTraining accuracy: 0.000000 \tValidation accuracy: 0.482837\n",
      "0.0007033683215379\n"
     ]
    },
    {
     "name": "stderr",
     "output_type": "stream",
     "text": [
      "100%|██████████| 104/104 [00:16<00:00,  6.46it/s]\n",
      "100%|██████████| 26/26 [00:10<00:00,  2.45it/s]\n"
     ]
    },
    {
     "name": "stdout",
     "output_type": "stream",
     "text": [
      "Fold: 2 \tEpoch: 44 \tTraining Loss: 2.364620 \tValidation Loss: 1.751603\n",
      "Fold: 2 \tEpoch: 44 \tTraining accuracy: 0.000000 \tValidation accuracy: 0.494351\n",
      "0.000687303296707956\n",
      "Validation loss decreased (1.754262 --> 1.751603).  Saving model ...\n"
     ]
    },
    {
     "name": "stderr",
     "output_type": "stream",
     "text": [
      "100%|██████████| 104/104 [00:16<00:00,  6.45it/s]\n",
      "100%|██████████| 26/26 [00:10<00:00,  2.43it/s]\n"
     ]
    },
    {
     "name": "stdout",
     "output_type": "stream",
     "text": [
      "Fold: 2 \tEpoch: 45 \tTraining Loss: 2.377349 \tValidation Loss: 1.692325\n",
      "Fold: 2 \tEpoch: 45 \tTraining accuracy: 0.000000 \tValidation accuracy: 0.501106\n",
      "0.0006710100716628344\n",
      "Validation loss decreased (1.751603 --> 1.692325).  Saving model ...\n"
     ]
    },
    {
     "name": "stderr",
     "output_type": "stream",
     "text": [
      "100%|██████████| 104/104 [00:16<00:00,  6.43it/s]\n",
      "100%|██████████| 26/26 [00:10<00:00,  2.42it/s]\n"
     ]
    },
    {
     "name": "stdout",
     "output_type": "stream",
     "text": [
      "Fold: 2 \tEpoch: 46 \tTraining Loss: 2.347939 \tValidation Loss: 1.776413\n",
      "Fold: 2 \tEpoch: 46 \tTraining accuracy: 0.000000 \tValidation accuracy: 0.480673\n",
      "0.0006545084971874737\n"
     ]
    },
    {
     "name": "stderr",
     "output_type": "stream",
     "text": [
      "100%|██████████| 104/104 [00:16<00:00,  6.46it/s]\n",
      "100%|██████████| 26/26 [00:10<00:00,  2.43it/s]\n"
     ]
    },
    {
     "name": "stdout",
     "output_type": "stream",
     "text": [
      "Fold: 2 \tEpoch: 47 \tTraining Loss: 2.366397 \tValidation Loss: 1.739594\n",
      "Fold: 2 \tEpoch: 47 \tTraining accuracy: 0.000000 \tValidation accuracy: 0.491418\n",
      "0.0006378186779084996\n"
     ]
    },
    {
     "name": "stderr",
     "output_type": "stream",
     "text": [
      "100%|██████████| 104/104 [00:16<00:00,  6.45it/s]\n",
      "100%|██████████| 26/26 [00:10<00:00,  2.40it/s]\n"
     ]
    },
    {
     "name": "stdout",
     "output_type": "stream",
     "text": [
      "Fold: 2 \tEpoch: 48 \tTraining Loss: 2.372662 \tValidation Loss: 1.753836\n",
      "Fold: 2 \tEpoch: 48 \tTraining accuracy: 0.000000 \tValidation accuracy: 0.491418\n",
      "0.0006209609477998339\n"
     ]
    },
    {
     "name": "stderr",
     "output_type": "stream",
     "text": [
      "100%|██████████| 104/104 [00:16<00:00,  6.42it/s]\n",
      "100%|██████████| 26/26 [00:10<00:00,  2.45it/s]\n"
     ]
    },
    {
     "name": "stdout",
     "output_type": "stream",
     "text": [
      "Fold: 2 \tEpoch: 49 \tTraining Loss: 2.374660 \tValidation Loss: 1.692488\n",
      "Fold: 2 \tEpoch: 49 \tTraining accuracy: 0.000000 \tValidation accuracy: 0.489279\n",
      "0.0006039558454088797\n"
     ]
    },
    {
     "name": "stderr",
     "output_type": "stream",
     "text": [
      "100%|██████████| 104/104 [00:16<00:00,  6.42it/s]\n",
      "100%|██████████| 26/26 [00:10<00:00,  2.41it/s]\n"
     ]
    },
    {
     "name": "stdout",
     "output_type": "stream",
     "text": [
      "Fold: 2 \tEpoch: 50 \tTraining Loss: 2.382074 \tValidation Loss: 1.792546\n",
      "Fold: 2 \tEpoch: 50 \tTraining accuracy: 0.000000 \tValidation accuracy: 0.476130\n",
      "0.0005868240888334653\n"
     ]
    },
    {
     "name": "stderr",
     "output_type": "stream",
     "text": [
      "100%|██████████| 104/104 [00:16<00:00,  6.50it/s]\n",
      "100%|██████████| 26/26 [00:10<00:00,  2.47it/s]\n"
     ]
    },
    {
     "name": "stdout",
     "output_type": "stream",
     "text": [
      "Fold: 2 \tEpoch: 51 \tTraining Loss: 2.395504 \tValidation Loss: 1.693642\n",
      "Fold: 2 \tEpoch: 51 \tTraining accuracy: 0.000000 \tValidation accuracy: 0.502139\n",
      "0.0005695865504800328\n"
     ]
    },
    {
     "name": "stderr",
     "output_type": "stream",
     "text": [
      "100%|██████████| 104/104 [00:16<00:00,  6.49it/s]\n",
      "100%|██████████| 26/26 [00:10<00:00,  2.46it/s]\n"
     ]
    },
    {
     "name": "stdout",
     "output_type": "stream",
     "text": [
      "Fold: 2 \tEpoch: 52 \tTraining Loss: 2.326220 \tValidation Loss: 1.698156\n",
      "Fold: 2 \tEpoch: 52 \tTraining accuracy: 0.000000 \tValidation accuracy: 0.498365\n",
      "0.0005522642316338268\n"
     ]
    },
    {
     "name": "stderr",
     "output_type": "stream",
     "text": [
      "100%|██████████| 104/104 [00:16<00:00,  6.44it/s]\n",
      "100%|██████████| 26/26 [00:10<00:00,  2.44it/s]\n"
     ]
    },
    {
     "name": "stdout",
     "output_type": "stream",
     "text": [
      "Fold: 2 \tEpoch: 53 \tTraining Loss: 2.329135 \tValidation Loss: 1.684730\n",
      "Fold: 2 \tEpoch: 53 \tTraining accuracy: 0.000000 \tValidation accuracy: 0.491779\n",
      "0.0005348782368720627\n",
      "Validation loss decreased (1.692325 --> 1.684730).  Saving model ...\n"
     ]
    },
    {
     "name": "stderr",
     "output_type": "stream",
     "text": [
      "100%|██████████| 104/104 [00:16<00:00,  6.48it/s]\n",
      "100%|██████████| 26/26 [00:10<00:00,  2.47it/s]\n"
     ]
    },
    {
     "name": "stdout",
     "output_type": "stream",
     "text": [
      "Fold: 2 \tEpoch: 54 \tTraining Loss: 2.324282 \tValidation Loss: 1.642956\n",
      "Fold: 2 \tEpoch: 54 \tTraining accuracy: 0.000000 \tValidation accuracy: 0.517260\n",
      "0.0005174497483512506\n",
      "Validation loss decreased (1.684730 --> 1.642956).  Saving model ...\n"
     ]
    },
    {
     "name": "stderr",
     "output_type": "stream",
     "text": [
      "100%|██████████| 104/104 [00:16<00:00,  6.43it/s]\n",
      "100%|██████████| 26/26 [00:10<00:00,  2.47it/s]\n"
     ]
    },
    {
     "name": "stdout",
     "output_type": "stream",
     "text": [
      "Fold: 2 \tEpoch: 55 \tTraining Loss: 2.313123 \tValidation Loss: 1.709907\n",
      "Fold: 2 \tEpoch: 55 \tTraining accuracy: 0.000000 \tValidation accuracy: 0.492596\n",
      "0.0005\n"
     ]
    },
    {
     "name": "stderr",
     "output_type": "stream",
     "text": [
      "100%|██████████| 104/104 [00:16<00:00,  6.49it/s]\n",
      "100%|██████████| 26/26 [00:10<00:00,  2.43it/s]\n"
     ]
    },
    {
     "name": "stdout",
     "output_type": "stream",
     "text": [
      "Fold: 2 \tEpoch: 56 \tTraining Loss: 2.269265 \tValidation Loss: 1.588484\n",
      "Fold: 2 \tEpoch: 56 \tTraining accuracy: 0.000000 \tValidation accuracy: 0.520697\n",
      "0.0004825502516487497\n",
      "Validation loss decreased (1.642956 --> 1.588484).  Saving model ...\n"
     ]
    },
    {
     "name": "stderr",
     "output_type": "stream",
     "text": [
      "100%|██████████| 104/104 [00:16<00:00,  6.45it/s]\n",
      "100%|██████████| 26/26 [00:10<00:00,  2.47it/s]\n"
     ]
    },
    {
     "name": "stdout",
     "output_type": "stream",
     "text": [
      "Fold: 2 \tEpoch: 57 \tTraining Loss: 2.334990 \tValidation Loss: 1.653981\n",
      "Fold: 2 \tEpoch: 57 \tTraining accuracy: 0.000000 \tValidation accuracy: 0.510481\n",
      "0.00046512176312793734\n"
     ]
    },
    {
     "name": "stderr",
     "output_type": "stream",
     "text": [
      "100%|██████████| 104/104 [00:16<00:00,  6.47it/s]\n",
      "100%|██████████| 26/26 [00:10<00:00,  2.48it/s]\n"
     ]
    },
    {
     "name": "stdout",
     "output_type": "stream",
     "text": [
      "Fold: 2 \tEpoch: 58 \tTraining Loss: 2.305813 \tValidation Loss: 1.582456\n",
      "Fold: 2 \tEpoch: 58 \tTraining accuracy: 0.000000 \tValidation accuracy: 0.531154\n",
      "0.00044773576836617336\n",
      "Validation loss decreased (1.588484 --> 1.582456).  Saving model ...\n"
     ]
    },
    {
     "name": "stderr",
     "output_type": "stream",
     "text": [
      "100%|██████████| 104/104 [00:16<00:00,  6.42it/s]\n",
      "100%|██████████| 26/26 [00:10<00:00,  2.46it/s]\n"
     ]
    },
    {
     "name": "stdout",
     "output_type": "stream",
     "text": [
      "Fold: 2 \tEpoch: 59 \tTraining Loss: 2.296453 \tValidation Loss: 1.576957\n",
      "Fold: 2 \tEpoch: 59 \tTraining accuracy: 0.000000 \tValidation accuracy: 0.527548\n",
      "0.0004304134495199673\n",
      "Validation loss decreased (1.582456 --> 1.576957).  Saving model ...\n"
     ]
    },
    {
     "name": "stderr",
     "output_type": "stream",
     "text": [
      "100%|██████████| 104/104 [00:16<00:00,  6.42it/s]\n",
      "100%|██████████| 26/26 [00:10<00:00,  2.42it/s]\n"
     ]
    },
    {
     "name": "stdout",
     "output_type": "stream",
     "text": [
      "Fold: 2 \tEpoch: 60 \tTraining Loss: 2.265929 \tValidation Loss: 1.595749\n",
      "Fold: 2 \tEpoch: 60 \tTraining accuracy: 0.000000 \tValidation accuracy: 0.519567\n",
      "0.00041317591116653486\n"
     ]
    },
    {
     "name": "stderr",
     "output_type": "stream",
     "text": [
      "100%|██████████| 104/104 [00:16<00:00,  6.42it/s]\n",
      "100%|██████████| 26/26 [00:10<00:00,  2.41it/s]\n"
     ]
    },
    {
     "name": "stdout",
     "output_type": "stream",
     "text": [
      "Fold: 2 \tEpoch: 61 \tTraining Loss: 2.321208 \tValidation Loss: 1.609566\n",
      "Fold: 2 \tEpoch: 61 \tTraining accuracy: 0.000000 \tValidation accuracy: 0.527212\n",
      "0.0003960441545911204\n"
     ]
    },
    {
     "name": "stderr",
     "output_type": "stream",
     "text": [
      "100%|██████████| 104/104 [00:16<00:00,  6.46it/s]\n",
      "100%|██████████| 26/26 [00:10<00:00,  2.49it/s]\n"
     ]
    },
    {
     "name": "stdout",
     "output_type": "stream",
     "text": [
      "Fold: 2 \tEpoch: 62 \tTraining Loss: 2.229447 \tValidation Loss: 1.581944\n",
      "Fold: 2 \tEpoch: 62 \tTraining accuracy: 0.000000 \tValidation accuracy: 0.526178\n",
      "0.0003790390522001661\n"
     ]
    },
    {
     "name": "stderr",
     "output_type": "stream",
     "text": [
      "100%|██████████| 104/104 [00:16<00:00,  6.45it/s]\n",
      "100%|██████████| 26/26 [00:10<00:00,  2.43it/s]\n"
     ]
    },
    {
     "name": "stdout",
     "output_type": "stream",
     "text": [
      "Fold: 2 \tEpoch: 63 \tTraining Loss: 2.201817 \tValidation Loss: 1.568728\n",
      "Fold: 2 \tEpoch: 63 \tTraining accuracy: 0.000000 \tValidation accuracy: 0.526442\n",
      "0.00036218132209150044\n",
      "Validation loss decreased (1.576957 --> 1.568728).  Saving model ...\n"
     ]
    },
    {
     "name": "stderr",
     "output_type": "stream",
     "text": [
      "100%|██████████| 104/104 [00:16<00:00,  6.43it/s]\n",
      "100%|██████████| 26/26 [00:10<00:00,  2.43it/s]\n"
     ]
    },
    {
     "name": "stdout",
     "output_type": "stream",
     "text": [
      "Fold: 2 \tEpoch: 64 \tTraining Loss: 2.267884 \tValidation Loss: 1.647594\n",
      "Fold: 2 \tEpoch: 64 \tTraining accuracy: 0.000000 \tValidation accuracy: 0.511851\n",
      "0.00034549150281252633\n"
     ]
    },
    {
     "name": "stderr",
     "output_type": "stream",
     "text": [
      "100%|██████████| 104/104 [00:16<00:00,  6.50it/s]\n",
      "100%|██████████| 26/26 [00:10<00:00,  2.48it/s]\n"
     ]
    },
    {
     "name": "stdout",
     "output_type": "stream",
     "text": [
      "Fold: 2 \tEpoch: 65 \tTraining Loss: 2.201445 \tValidation Loss: 1.542145\n",
      "Fold: 2 \tEpoch: 65 \tTraining accuracy: 0.000000 \tValidation accuracy: 0.541178\n",
      "0.0003289899283371657\n",
      "Validation loss decreased (1.568728 --> 1.542145).  Saving model ...\n"
     ]
    },
    {
     "name": "stderr",
     "output_type": "stream",
     "text": [
      "100%|██████████| 104/104 [00:16<00:00,  6.42it/s]\n",
      "100%|██████████| 26/26 [00:10<00:00,  2.44it/s]\n"
     ]
    },
    {
     "name": "stdout",
     "output_type": "stream",
     "text": [
      "Fold: 2 \tEpoch: 66 \tTraining Loss: 2.210075 \tValidation Loss: 1.542978\n",
      "Fold: 2 \tEpoch: 66 \tTraining accuracy: 0.000000 \tValidation accuracy: 0.536226\n",
      "0.00031269670329204396\n"
     ]
    },
    {
     "name": "stderr",
     "output_type": "stream",
     "text": [
      "100%|██████████| 104/104 [00:16<00:00,  6.43it/s]\n",
      "100%|██████████| 26/26 [00:10<00:00,  2.47it/s]\n"
     ]
    },
    {
     "name": "stdout",
     "output_type": "stream",
     "text": [
      "Fold: 2 \tEpoch: 67 \tTraining Loss: 2.171982 \tValidation Loss: 1.515685\n",
      "Fold: 2 \tEpoch: 67 \tTraining accuracy: 0.000000 \tValidation accuracy: 0.551322\n",
      "0.0002966316784620999\n",
      "Validation loss decreased (1.542145 --> 1.515685).  Saving model ...\n"
     ]
    },
    {
     "name": "stderr",
     "output_type": "stream",
     "text": [
      "100%|██████████| 104/104 [00:16<00:00,  6.42it/s]\n",
      "100%|██████████| 26/26 [00:10<00:00,  2.47it/s]\n"
     ]
    },
    {
     "name": "stdout",
     "output_type": "stream",
     "text": [
      "Fold: 2 \tEpoch: 68 \tTraining Loss: 2.165665 \tValidation Loss: 1.487247\n",
      "Fold: 2 \tEpoch: 68 \tTraining accuracy: 0.000000 \tValidation accuracy: 0.541298\n",
      "0.00028081442660546124\n",
      "Validation loss decreased (1.515685 --> 1.487247).  Saving model ...\n"
     ]
    },
    {
     "name": "stderr",
     "output_type": "stream",
     "text": [
      "100%|██████████| 104/104 [00:16<00:00,  6.31it/s]\n",
      "100%|██████████| 26/26 [00:10<00:00,  2.42it/s]\n"
     ]
    },
    {
     "name": "stdout",
     "output_type": "stream",
     "text": [
      "Fold: 2 \tEpoch: 69 \tTraining Loss: 2.231749 \tValidation Loss: 1.573884\n",
      "Fold: 2 \tEpoch: 69 \tTraining accuracy: 0.000000 \tValidation accuracy: 0.549880\n",
      "0.00026526421860705474\n"
     ]
    },
    {
     "name": "stderr",
     "output_type": "stream",
     "text": [
      "100%|██████████| 104/104 [00:16<00:00,  6.47it/s]\n",
      "100%|██████████| 26/26 [00:10<00:00,  2.43it/s]\n"
     ]
    },
    {
     "name": "stdout",
     "output_type": "stream",
     "text": [
      "Fold: 2 \tEpoch: 70 \tTraining Loss: 2.214919 \tValidation Loss: 1.498324\n",
      "Fold: 2 \tEpoch: 70 \tTraining accuracy: 0.000000 \tValidation accuracy: 0.547236\n",
      "0.0002500000000000001\n"
     ]
    },
    {
     "name": "stderr",
     "output_type": "stream",
     "text": [
      "100%|██████████| 104/104 [00:16<00:00,  6.42it/s]\n",
      "100%|██████████| 26/26 [00:10<00:00,  2.46it/s]\n"
     ]
    },
    {
     "name": "stdout",
     "output_type": "stream",
     "text": [
      "Fold: 2 \tEpoch: 71 \tTraining Loss: 2.250336 \tValidation Loss: 1.534087\n",
      "Fold: 2 \tEpoch: 71 \tTraining accuracy: 0.000000 \tValidation accuracy: 0.547380\n",
      "0.0002350403678833976\n"
     ]
    },
    {
     "name": "stderr",
     "output_type": "stream",
     "text": [
      "100%|██████████| 104/104 [00:16<00:00,  6.47it/s]\n",
      "100%|██████████| 26/26 [00:10<00:00,  2.42it/s]\n"
     ]
    },
    {
     "name": "stdout",
     "output_type": "stream",
     "text": [
      "Fold: 2 \tEpoch: 72 \tTraining Loss: 2.122168 \tValidation Loss: 1.528130\n",
      "Fold: 2 \tEpoch: 72 \tTraining accuracy: 0.000000 \tValidation accuracy: 0.542428\n",
      "0.00022040354826462666\n"
     ]
    },
    {
     "name": "stderr",
     "output_type": "stream",
     "text": [
      "100%|██████████| 104/104 [00:16<00:00,  6.43it/s]\n",
      "100%|██████████| 26/26 [00:10<00:00,  2.43it/s]\n"
     ]
    },
    {
     "name": "stdout",
     "output_type": "stream",
     "text": [
      "Fold: 2 \tEpoch: 73 \tTraining Loss: 2.230793 \tValidation Loss: 1.505645\n",
      "Fold: 2 \tEpoch: 73 \tTraining accuracy: 0.000000 \tValidation accuracy: 0.546442\n",
      "0.00020610737385376348\n"
     ]
    },
    {
     "name": "stderr",
     "output_type": "stream",
     "text": [
      "100%|██████████| 104/104 [00:16<00:00,  6.40it/s]\n",
      "100%|██████████| 26/26 [00:10<00:00,  2.43it/s]\n"
     ]
    },
    {
     "name": "stdout",
     "output_type": "stream",
     "text": [
      "Fold: 2 \tEpoch: 74 \tTraining Loss: 2.237801 \tValidation Loss: 1.485353\n",
      "Fold: 2 \tEpoch: 74 \tTraining accuracy: 0.000000 \tValidation accuracy: 0.543173\n",
      "0.00019216926233717085\n",
      "Validation loss decreased (1.487247 --> 1.485353).  Saving model ...\n"
     ]
    },
    {
     "name": "stderr",
     "output_type": "stream",
     "text": [
      "100%|██████████| 104/104 [00:16<00:00,  6.44it/s]\n",
      "100%|██████████| 26/26 [00:10<00:00,  2.45it/s]\n"
     ]
    },
    {
     "name": "stdout",
     "output_type": "stream",
     "text": [
      "Fold: 2 \tEpoch: 75 \tTraining Loss: 2.187259 \tValidation Loss: 1.464008\n",
      "Fold: 2 \tEpoch: 75 \tTraining accuracy: 0.000000 \tValidation accuracy: 0.554351\n",
      "0.0001786061951567303\n",
      "Validation loss decreased (1.485353 --> 1.464008).  Saving model ...\n"
     ]
    },
    {
     "name": "stderr",
     "output_type": "stream",
     "text": [
      "100%|██████████| 104/104 [00:16<00:00,  6.49it/s]\n",
      "100%|██████████| 26/26 [00:10<00:00,  2.49it/s]\n"
     ]
    },
    {
     "name": "stdout",
     "output_type": "stream",
     "text": [
      "Fold: 2 \tEpoch: 76 \tTraining Loss: 2.125882 \tValidation Loss: 1.463578\n",
      "Fold: 2 \tEpoch: 76 \tTraining accuracy: 0.000000 \tValidation accuracy: 0.559567\n",
      "0.0001654346968205709\n",
      "Validation loss decreased (1.464008 --> 1.463578).  Saving model ...\n"
     ]
    },
    {
     "name": "stderr",
     "output_type": "stream",
     "text": [
      "100%|██████████| 104/104 [00:16<00:00,  6.47it/s]\n",
      "100%|██████████| 26/26 [00:10<00:00,  2.44it/s]\n"
     ]
    },
    {
     "name": "stdout",
     "output_type": "stream",
     "text": [
      "Fold: 2 \tEpoch: 77 \tTraining Loss: 2.124052 \tValidation Loss: 1.437044\n",
      "Fold: 2 \tEpoch: 77 \tTraining accuracy: 0.000000 \tValidation accuracy: 0.560048\n",
      "0.0001526708147705015\n",
      "Validation loss decreased (1.463578 --> 1.437044).  Saving model ...\n"
     ]
    },
    {
     "name": "stderr",
     "output_type": "stream",
     "text": [
      "100%|██████████| 104/104 [00:16<00:00,  6.50it/s]\n",
      "100%|██████████| 26/26 [00:10<00:00,  2.44it/s]\n"
     ]
    },
    {
     "name": "stdout",
     "output_type": "stream",
     "text": [
      "Fold: 2 \tEpoch: 78 \tTraining Loss: 2.139386 \tValidation Loss: 1.476883\n",
      "Fold: 2 \tEpoch: 78 \tTraining accuracy: 0.000000 \tValidation accuracy: 0.550312\n",
      "0.00014033009983067436\n"
     ]
    },
    {
     "name": "stderr",
     "output_type": "stream",
     "text": [
      "100%|██████████| 104/104 [00:15<00:00,  6.51it/s]\n",
      "100%|██████████| 26/26 [00:10<00:00,  2.48it/s]\n"
     ]
    },
    {
     "name": "stdout",
     "output_type": "stream",
     "text": [
      "Fold: 2 \tEpoch: 79 \tTraining Loss: 2.150156 \tValidation Loss: 1.448913\n",
      "Fold: 2 \tEpoch: 79 \tTraining accuracy: 0.000000 \tValidation accuracy: 0.564808\n",
      "0.00012842758726130292\n"
     ]
    },
    {
     "name": "stderr",
     "output_type": "stream",
     "text": [
      "100%|██████████| 104/104 [00:16<00:00,  6.46it/s]\n",
      "100%|██████████| 26/26 [00:10<00:00,  2.45it/s]\n"
     ]
    },
    {
     "name": "stdout",
     "output_type": "stream",
     "text": [
      "Fold: 2 \tEpoch: 80 \tTraining Loss: 2.138165 \tValidation Loss: 1.447772\n",
      "Fold: 2 \tEpoch: 80 \tTraining accuracy: 0.000000 \tValidation accuracy: 0.561274\n",
      "0.00011697777844051105\n"
     ]
    },
    {
     "name": "stderr",
     "output_type": "stream",
     "text": [
      "100%|██████████| 104/104 [00:15<00:00,  6.50it/s]\n",
      "100%|██████████| 26/26 [00:10<00:00,  2.47it/s]\n"
     ]
    },
    {
     "name": "stdout",
     "output_type": "stream",
     "text": [
      "Fold: 2 \tEpoch: 81 \tTraining Loss: 2.055370 \tValidation Loss: 1.409731\n",
      "Fold: 2 \tEpoch: 81 \tTraining accuracy: 0.000000 \tValidation accuracy: 0.564736\n",
      "0.00010599462319663906\n",
      "Validation loss decreased (1.437044 --> 1.409731).  Saving model ...\n"
     ]
    },
    {
     "name": "stderr",
     "output_type": "stream",
     "text": [
      "100%|██████████| 104/104 [00:16<00:00,  6.46it/s]\n",
      "100%|██████████| 26/26 [00:10<00:00,  2.44it/s]\n"
     ]
    },
    {
     "name": "stdout",
     "output_type": "stream",
     "text": [
      "Fold: 2 \tEpoch: 82 \tTraining Loss: 2.124557 \tValidation Loss: 1.455823\n",
      "Fold: 2 \tEpoch: 82 \tTraining accuracy: 0.000000 \tValidation accuracy: 0.557019\n",
      "9.549150281252633e-05\n"
     ]
    },
    {
     "name": "stderr",
     "output_type": "stream",
     "text": [
      "100%|██████████| 104/104 [00:16<00:00,  6.45it/s]\n",
      "100%|██████████| 26/26 [00:10<00:00,  2.43it/s]\n"
     ]
    },
    {
     "name": "stdout",
     "output_type": "stream",
     "text": [
      "Fold: 2 \tEpoch: 83 \tTraining Loss: 2.235563 \tValidation Loss: 1.448455\n",
      "Fold: 2 \tEpoch: 83 \tTraining accuracy: 0.000000 \tValidation accuracy: 0.564808\n",
      "8.548121372247918e-05\n"
     ]
    },
    {
     "name": "stderr",
     "output_type": "stream",
     "text": [
      "100%|██████████| 104/104 [00:16<00:00,  6.47it/s]\n",
      "100%|██████████| 26/26 [00:10<00:00,  2.48it/s]\n"
     ]
    },
    {
     "name": "stdout",
     "output_type": "stream",
     "text": [
      "Fold: 2 \tEpoch: 84 \tTraining Loss: 2.056578 \tValidation Loss: 1.423380\n",
      "Fold: 2 \tEpoch: 84 \tTraining accuracy: 0.000000 \tValidation accuracy: 0.562067\n",
      "7.597595192178702e-05\n"
     ]
    },
    {
     "name": "stderr",
     "output_type": "stream",
     "text": [
      "100%|██████████| 104/104 [00:16<00:00,  6.45it/s]\n",
      "100%|██████████| 26/26 [00:10<00:00,  2.48it/s]\n"
     ]
    },
    {
     "name": "stdout",
     "output_type": "stream",
     "text": [
      "Fold: 2 \tEpoch: 85 \tTraining Loss: 2.145914 \tValidation Loss: 1.445881\n",
      "Fold: 2 \tEpoch: 85 \tTraining accuracy: 0.000000 \tValidation accuracy: 0.563341\n",
      "6.698729810778065e-05\n"
     ]
    },
    {
     "name": "stderr",
     "output_type": "stream",
     "text": [
      "100%|██████████| 104/104 [00:16<00:00,  6.48it/s]\n",
      "100%|██████████| 26/26 [00:10<00:00,  2.41it/s]\n"
     ]
    },
    {
     "name": "stdout",
     "output_type": "stream",
     "text": [
      "Fold: 2 \tEpoch: 86 \tTraining Loss: 2.162609 \tValidation Loss: 1.438992\n",
      "Fold: 2 \tEpoch: 86 \tTraining accuracy: 0.000000 \tValidation accuracy: 0.565913\n",
      "5.8526203570536616e-05\n"
     ]
    },
    {
     "name": "stderr",
     "output_type": "stream",
     "text": [
      "100%|██████████| 104/104 [00:16<00:00,  6.47it/s]\n",
      "100%|██████████| 26/26 [00:10<00:00,  2.49it/s]\n"
     ]
    },
    {
     "name": "stdout",
     "output_type": "stream",
     "text": [
      "Fold: 2 \tEpoch: 87 \tTraining Loss: 1.989177 \tValidation Loss: 1.396603\n",
      "Fold: 2 \tEpoch: 87 \tTraining accuracy: 0.000000 \tValidation accuracy: 0.574760\n",
      "5.060297685041648e-05\n",
      "Validation loss decreased (1.409731 --> 1.396603).  Saving model ...\n"
     ]
    },
    {
     "name": "stderr",
     "output_type": "stream",
     "text": [
      "100%|██████████| 104/104 [00:16<00:00,  6.44it/s]\n",
      "100%|██████████| 26/26 [00:10<00:00,  2.44it/s]\n"
     ]
    },
    {
     "name": "stdout",
     "output_type": "stream",
     "text": [
      "Fold: 2 \tEpoch: 88 \tTraining Loss: 2.149960 \tValidation Loss: 1.424785\n",
      "Fold: 2 \tEpoch: 88 \tTraining accuracy: 0.000000 \tValidation accuracy: 0.572187\n",
      "4.3227271178699624e-05\n"
     ]
    },
    {
     "name": "stderr",
     "output_type": "stream",
     "text": [
      "100%|██████████| 104/104 [00:16<00:00,  6.47it/s]\n",
      "100%|██████████| 26/26 [00:10<00:00,  2.43it/s]\n"
     ]
    },
    {
     "name": "stdout",
     "output_type": "stream",
     "text": [
      "Fold: 2 \tEpoch: 89 \tTraining Loss: 2.097092 \tValidation Loss: 1.424578\n",
      "Fold: 2 \tEpoch: 89 \tTraining accuracy: 0.000000 \tValidation accuracy: 0.576154\n",
      "3.6408072716606344e-05\n"
     ]
    },
    {
     "name": "stderr",
     "output_type": "stream",
     "text": [
      "100%|██████████| 104/104 [00:15<00:00,  6.50it/s]\n",
      "100%|██████████| 26/26 [00:10<00:00,  2.47it/s]\n"
     ]
    },
    {
     "name": "stdout",
     "output_type": "stream",
     "text": [
      "Fold: 2 \tEpoch: 90 \tTraining Loss: 2.132671 \tValidation Loss: 1.429196\n",
      "Fold: 2 \tEpoch: 90 \tTraining accuracy: 0.000000 \tValidation accuracy: 0.560697\n",
      "3.0153689607045842e-05\n"
     ]
    },
    {
     "name": "stderr",
     "output_type": "stream",
     "text": [
      "100%|██████████| 104/104 [00:16<00:00,  6.49it/s]\n",
      "100%|██████████| 26/26 [00:10<00:00,  2.47it/s]\n"
     ]
    },
    {
     "name": "stdout",
     "output_type": "stream",
     "text": [
      "Fold: 2 \tEpoch: 91 \tTraining Loss: 2.093912 \tValidation Loss: 1.418494\n",
      "Fold: 2 \tEpoch: 91 \tTraining accuracy: 0.000000 \tValidation accuracy: 0.568750\n",
      "2.4471741852423235e-05\n"
     ]
    },
    {
     "name": "stderr",
     "output_type": "stream",
     "text": [
      "100%|██████████| 104/104 [00:16<00:00,  6.48it/s]\n",
      "100%|██████████| 26/26 [00:10<00:00,  2.45it/s]\n"
     ]
    },
    {
     "name": "stdout",
     "output_type": "stream",
     "text": [
      "Fold: 2 \tEpoch: 92 \tTraining Loss: 2.121966 \tValidation Loss: 1.425322\n",
      "Fold: 2 \tEpoch: 92 \tTraining accuracy: 0.000000 \tValidation accuracy: 0.567548\n",
      "1.9369152030840666e-05\n"
     ]
    },
    {
     "name": "stderr",
     "output_type": "stream",
     "text": [
      "100%|██████████| 104/104 [00:16<00:00,  6.48it/s]\n",
      "100%|██████████| 26/26 [00:10<00:00,  2.48it/s]\n"
     ]
    },
    {
     "name": "stdout",
     "output_type": "stream",
     "text": [
      "Fold: 2 \tEpoch: 93 \tTraining Loss: 2.076685 \tValidation Loss: 1.412951\n",
      "Fold: 2 \tEpoch: 93 \tTraining accuracy: 0.000000 \tValidation accuracy: 0.564207\n",
      "1.4852136862001764e-05\n"
     ]
    },
    {
     "name": "stderr",
     "output_type": "stream",
     "text": [
      "100%|██████████| 104/104 [00:16<00:00,  6.50it/s]\n",
      "100%|██████████| 26/26 [00:10<00:00,  2.45it/s]\n"
     ]
    },
    {
     "name": "stdout",
     "output_type": "stream",
     "text": [
      "Fold: 2 \tEpoch: 94 \tTraining Loss: 2.086593 \tValidation Loss: 1.406177\n",
      "Fold: 2 \tEpoch: 94 \tTraining accuracy: 0.000000 \tValidation accuracy: 0.574760\n",
      "1.0926199633097156e-05\n"
     ]
    },
    {
     "name": "stderr",
     "output_type": "stream",
     "text": [
      "100%|██████████| 104/104 [00:16<00:00,  6.39it/s]\n",
      "100%|██████████| 26/26 [00:10<00:00,  2.40it/s]\n"
     ]
    },
    {
     "name": "stdout",
     "output_type": "stream",
     "text": [
      "Fold: 2 \tEpoch: 95 \tTraining Loss: 1.992216 \tValidation Loss: 1.400238\n",
      "Fold: 2 \tEpoch: 95 \tTraining accuracy: 0.000000 \tValidation accuracy: 0.566034\n",
      "7.59612349389599e-06\n"
     ]
    },
    {
     "name": "stderr",
     "output_type": "stream",
     "text": [
      "100%|██████████| 104/104 [00:16<00:00,  6.45it/s]\n",
      "100%|██████████| 26/26 [00:10<00:00,  2.48it/s]\n"
     ]
    },
    {
     "name": "stdout",
     "output_type": "stream",
     "text": [
      "Fold: 2 \tEpoch: 96 \tTraining Loss: 2.035352 \tValidation Loss: 1.392042\n",
      "Fold: 2 \tEpoch: 96 \tTraining accuracy: 0.000000 \tValidation accuracy: 0.577596\n",
      "4.865965629214875e-06\n",
      "Validation loss decreased (1.396603 --> 1.392042).  Saving model ...\n"
     ]
    },
    {
     "name": "stderr",
     "output_type": "stream",
     "text": [
      "100%|██████████| 104/104 [00:16<00:00,  6.41it/s]\n",
      "100%|██████████| 26/26 [00:11<00:00,  2.33it/s]\n"
     ]
    },
    {
     "name": "stdout",
     "output_type": "stream",
     "text": [
      "Fold: 2 \tEpoch: 97 \tTraining Loss: 2.122827 \tValidation Loss: 1.400655\n",
      "Fold: 2 \tEpoch: 97 \tTraining accuracy: 0.000000 \tValidation accuracy: 0.571947\n",
      "2.739052315863355e-06\n"
     ]
    },
    {
     "name": "stderr",
     "output_type": "stream",
     "text": [
      "100%|██████████| 104/104 [00:16<00:00,  6.13it/s]\n",
      "100%|██████████| 26/26 [00:10<00:00,  2.43it/s]\n"
     ]
    },
    {
     "name": "stdout",
     "output_type": "stream",
     "text": [
      "Fold: 2 \tEpoch: 98 \tTraining Loss: 2.020612 \tValidation Loss: 1.406886\n",
      "Fold: 2 \tEpoch: 98 \tTraining accuracy: 0.000000 \tValidation accuracy: 0.570721\n",
      "1.2179748700879012e-06\n"
     ]
    },
    {
     "name": "stderr",
     "output_type": "stream",
     "text": [
      "100%|██████████| 104/104 [00:16<00:00,  6.46it/s]\n",
      "100%|██████████| 26/26 [00:10<00:00,  2.48it/s]\n"
     ]
    },
    {
     "name": "stdout",
     "output_type": "stream",
     "text": [
      "Fold: 2 \tEpoch: 99 \tTraining Loss: 2.054073 \tValidation Loss: 1.394689\n",
      "Fold: 2 \tEpoch: 99 \tTraining accuracy: 0.000000 \tValidation accuracy: 0.575889\n",
      "3.0458649045211895e-07\n"
     ]
    },
    {
     "name": "stderr",
     "output_type": "stream",
     "text": [
      "100%|██████████| 104/104 [00:16<00:00,  6.44it/s]\n",
      "100%|██████████| 26/26 [00:10<00:00,  2.43it/s]\n"
     ]
    },
    {
     "name": "stdout",
     "output_type": "stream",
     "text": [
      "Fold: 2 \tEpoch: 100 \tTraining Loss: 2.008836 \tValidation Loss: 1.397968\n",
      "Fold: 2 \tEpoch: 100 \tTraining accuracy: 0.000000 \tValidation accuracy: 0.571683\n",
      "0.0\n"
     ]
    },
    {
     "name": "stderr",
     "output_type": "stream",
     "text": [
      "100%|██████████| 104/104 [00:16<00:00,  6.48it/s]\n",
      "100%|██████████| 26/26 [00:10<00:00,  2.48it/s]\n"
     ]
    },
    {
     "name": "stdout",
     "output_type": "stream",
     "text": [
      "Fold: 2 \tEpoch: 101 \tTraining Loss: 1.995030 \tValidation Loss: 1.399564\n",
      "Fold: 2 \tEpoch: 101 \tTraining accuracy: 0.000000 \tValidation accuracy: 0.573029\n",
      "5e-05\n"
     ]
    },
    {
     "name": "stderr",
     "output_type": "stream",
     "text": [
      "100%|██████████| 104/104 [00:16<00:00,  6.44it/s]\n",
      "100%|██████████| 26/26 [00:10<00:00,  2.48it/s]\n"
     ]
    },
    {
     "name": "stdout",
     "output_type": "stream",
     "text": [
      "Fold: 2 \tEpoch: 102 \tTraining Loss: 2.051416 \tValidation Loss: 1.398071\n",
      "Fold: 2 \tEpoch: 102 \tTraining accuracy: 0.000000 \tValidation accuracy: 0.573077\n",
      "0.0001\n"
     ]
    },
    {
     "name": "stderr",
     "output_type": "stream",
     "text": [
      "100%|██████████| 104/104 [00:15<00:00,  6.51it/s]\n",
      "100%|██████████| 26/26 [00:10<00:00,  2.43it/s]\n"
     ]
    },
    {
     "name": "stdout",
     "output_type": "stream",
     "text": [
      "Fold: 2 \tEpoch: 103 \tTraining Loss: 2.020629 \tValidation Loss: 1.421377\n",
      "Fold: 2 \tEpoch: 103 \tTraining accuracy: 0.000000 \tValidation accuracy: 0.562572\n",
      "0.00015000000000000001\n"
     ]
    },
    {
     "name": "stderr",
     "output_type": "stream",
     "text": [
      "100%|██████████| 104/104 [00:16<00:00,  6.46it/s]\n",
      "100%|██████████| 26/26 [00:10<00:00,  2.45it/s]\n"
     ]
    },
    {
     "name": "stdout",
     "output_type": "stream",
     "text": [
      "Fold: 2 \tEpoch: 104 \tTraining Loss: 2.061884 \tValidation Loss: 1.465494\n",
      "Fold: 2 \tEpoch: 104 \tTraining accuracy: 0.000000 \tValidation accuracy: 0.547620\n",
      "0.0002\n"
     ]
    },
    {
     "name": "stderr",
     "output_type": "stream",
     "text": [
      "100%|██████████| 104/104 [00:16<00:00,  6.44it/s]\n",
      "100%|██████████| 26/26 [00:10<00:00,  2.44it/s]\n"
     ]
    },
    {
     "name": "stdout",
     "output_type": "stream",
     "text": [
      "Fold: 2 \tEpoch: 105 \tTraining Loss: 2.170392 \tValidation Loss: 1.444358\n",
      "Fold: 2 \tEpoch: 105 \tTraining accuracy: 0.000000 \tValidation accuracy: 0.566538\n",
      "0.00025\n"
     ]
    },
    {
     "name": "stderr",
     "output_type": "stream",
     "text": [
      "100%|██████████| 104/104 [00:16<00:00,  6.45it/s]\n",
      "100%|██████████| 26/26 [00:10<00:00,  2.46it/s]\n"
     ]
    },
    {
     "name": "stdout",
     "output_type": "stream",
     "text": [
      "Fold: 2 \tEpoch: 106 \tTraining Loss: 2.140476 \tValidation Loss: 1.481768\n",
      "Fold: 2 \tEpoch: 106 \tTraining accuracy: 0.000000 \tValidation accuracy: 0.546106\n",
      "0.00030000000000000003\n"
     ]
    },
    {
     "name": "stderr",
     "output_type": "stream",
     "text": [
      "100%|██████████| 104/104 [00:16<00:00,  6.43it/s]\n",
      "100%|██████████| 26/26 [00:10<00:00,  2.44it/s]\n"
     ]
    },
    {
     "name": "stdout",
     "output_type": "stream",
     "text": [
      "Fold: 2 \tEpoch: 107 \tTraining Loss: 2.180473 \tValidation Loss: 1.494622\n",
      "Fold: 2 \tEpoch: 107 \tTraining accuracy: 0.000000 \tValidation accuracy: 0.561707\n",
      "0.00035\n"
     ]
    },
    {
     "name": "stderr",
     "output_type": "stream",
     "text": [
      "100%|██████████| 104/104 [00:16<00:00,  6.47it/s]\n",
      "100%|██████████| 26/26 [00:10<00:00,  2.43it/s]\n"
     ]
    },
    {
     "name": "stdout",
     "output_type": "stream",
     "text": [
      "Fold: 2 \tEpoch: 108 \tTraining Loss: 2.081483 \tValidation Loss: 1.495796\n",
      "Fold: 2 \tEpoch: 108 \tTraining accuracy: 0.000000 \tValidation accuracy: 0.549615\n",
      "0.0004\n"
     ]
    },
    {
     "name": "stderr",
     "output_type": "stream",
     "text": [
      "100%|██████████| 104/104 [00:16<00:00,  6.47it/s]\n",
      "100%|██████████| 26/26 [00:10<00:00,  2.49it/s]\n"
     ]
    },
    {
     "name": "stdout",
     "output_type": "stream",
     "text": [
      "Fold: 2 \tEpoch: 109 \tTraining Loss: 2.219965 \tValidation Loss: 1.537266\n",
      "Fold: 2 \tEpoch: 109 \tTraining accuracy: 0.000000 \tValidation accuracy: 0.540000\n",
      "0.00045000000000000004\n"
     ]
    },
    {
     "name": "stderr",
     "output_type": "stream",
     "text": [
      "100%|██████████| 104/104 [00:16<00:00,  6.50it/s]\n",
      "100%|██████████| 26/26 [00:10<00:00,  2.41it/s]\n"
     ]
    },
    {
     "name": "stdout",
     "output_type": "stream",
     "text": [
      "Fold: 2 \tEpoch: 110 \tTraining Loss: 2.206867 \tValidation Loss: 1.550111\n",
      "Fold: 2 \tEpoch: 110 \tTraining accuracy: 0.000000 \tValidation accuracy: 0.543774\n",
      "0.0005\n"
     ]
    },
    {
     "name": "stderr",
     "output_type": "stream",
     "text": [
      "100%|██████████| 104/104 [00:16<00:00,  6.50it/s]\n",
      "100%|██████████| 26/26 [00:10<00:00,  2.45it/s]\n"
     ]
    },
    {
     "name": "stdout",
     "output_type": "stream",
     "text": [
      "Fold: 2 \tEpoch: 111 \tTraining Loss: 2.161537 \tValidation Loss: 1.497534\n",
      "Fold: 2 \tEpoch: 111 \tTraining accuracy: 0.000000 \tValidation accuracy: 0.552957\n",
      "0.0004998477067547739\n"
     ]
    },
    {
     "name": "stderr",
     "output_type": "stream",
     "text": [
      "100%|██████████| 104/104 [00:16<00:00,  6.45it/s]\n",
      "100%|██████████| 26/26 [00:10<00:00,  2.41it/s]\n"
     ]
    },
    {
     "name": "stdout",
     "output_type": "stream",
     "text": [
      "Fold: 2 \tEpoch: 112 \tTraining Loss: 2.148876 \tValidation Loss: 1.536770\n",
      "Fold: 2 \tEpoch: 112 \tTraining accuracy: 0.000000 \tValidation accuracy: 0.551659\n",
      "0.0004993910125649561\n"
     ]
    },
    {
     "name": "stderr",
     "output_type": "stream",
     "text": [
      "100%|██████████| 104/104 [00:16<00:00,  6.48it/s]\n",
      "100%|██████████| 26/26 [00:10<00:00,  2.40it/s]\n"
     ]
    },
    {
     "name": "stdout",
     "output_type": "stream",
     "text": [
      "Fold: 2 \tEpoch: 113 \tTraining Loss: 2.216107 \tValidation Loss: 1.644440\n",
      "Fold: 2 \tEpoch: 113 \tTraining accuracy: 0.000000 \tValidation accuracy: 0.509255\n",
      "0.0004986304738420684\n"
     ]
    },
    {
     "name": "stderr",
     "output_type": "stream",
     "text": [
      "100%|██████████| 104/104 [00:16<00:00,  6.47it/s]\n",
      "100%|██████████| 26/26 [00:10<00:00,  2.49it/s]\n"
     ]
    },
    {
     "name": "stdout",
     "output_type": "stream",
     "text": [
      "Fold: 2 \tEpoch: 114 \tTraining Loss: 2.212827 \tValidation Loss: 1.562835\n",
      "Fold: 2 \tEpoch: 114 \tTraining accuracy: 0.000000 \tValidation accuracy: 0.558005\n",
      "0.0004975670171853926\n"
     ]
    },
    {
     "name": "stderr",
     "output_type": "stream",
     "text": [
      "100%|██████████| 104/104 [00:16<00:00,  6.49it/s]\n",
      "100%|██████████| 26/26 [00:10<00:00,  2.44it/s]\n"
     ]
    },
    {
     "name": "stdout",
     "output_type": "stream",
     "text": [
      "Fold: 2 \tEpoch: 115 \tTraining Loss: 2.185307 \tValidation Loss: 1.466865\n",
      "Fold: 2 \tEpoch: 115 \tTraining accuracy: 0.000000 \tValidation accuracy: 0.558101\n",
      "0.000496201938253052\n"
     ]
    },
    {
     "name": "stderr",
     "output_type": "stream",
     "text": [
      "100%|██████████| 104/104 [00:16<00:00,  6.47it/s]\n",
      "100%|██████████| 26/26 [00:10<00:00,  2.43it/s]\n"
     ]
    },
    {
     "name": "stdout",
     "output_type": "stream",
     "text": [
      "Fold: 2 \tEpoch: 116 \tTraining Loss: 2.251932 \tValidation Loss: 1.493977\n",
      "Fold: 2 \tEpoch: 116 \tTraining accuracy: 0.000000 \tValidation accuracy: 0.558798\n",
      "0.0004945369001834514\n"
     ]
    },
    {
     "name": "stderr",
     "output_type": "stream",
     "text": [
      "100%|██████████| 104/104 [00:16<00:00,  6.47it/s]\n",
      "100%|██████████| 26/26 [00:10<00:00,  2.43it/s]\n"
     ]
    },
    {
     "name": "stdout",
     "output_type": "stream",
     "text": [
      "Fold: 2 \tEpoch: 117 \tTraining Loss: 2.222058 \tValidation Loss: 1.471694\n",
      "Fold: 2 \tEpoch: 117 \tTraining accuracy: 0.000000 \tValidation accuracy: 0.568413\n",
      "0.0004925739315689991\n"
     ]
    },
    {
     "name": "stderr",
     "output_type": "stream",
     "text": [
      "100%|██████████| 104/104 [00:16<00:00,  6.44it/s]\n",
      "100%|██████████| 26/26 [00:10<00:00,  2.44it/s]\n"
     ]
    },
    {
     "name": "stdout",
     "output_type": "stream",
     "text": [
      "Fold: 2 \tEpoch: 118 \tTraining Loss: 2.037409 \tValidation Loss: 1.523523\n",
      "Fold: 2 \tEpoch: 118 \tTraining accuracy: 0.000000 \tValidation accuracy: 0.546538\n",
      "0.0004903154239845797\n"
     ]
    },
    {
     "name": "stderr",
     "output_type": "stream",
     "text": [
      "100%|██████████| 104/104 [00:16<00:00,  6.44it/s]\n",
      "100%|██████████| 26/26 [00:10<00:00,  2.42it/s]\n"
     ]
    },
    {
     "name": "stdout",
     "output_type": "stream",
     "text": [
      "Fold: 2 \tEpoch: 119 \tTraining Loss: 2.148221 \tValidation Loss: 1.562627\n",
      "Fold: 2 \tEpoch: 119 \tTraining accuracy: 0.000000 \tValidation accuracy: 0.564976\n",
      "0.0004877641290737884\n"
     ]
    },
    {
     "name": "stderr",
     "output_type": "stream",
     "text": [
      "100%|██████████| 104/104 [00:16<00:00,  6.44it/s]\n",
      "100%|██████████| 26/26 [00:10<00:00,  2.43it/s]\n"
     ]
    },
    {
     "name": "stdout",
     "output_type": "stream",
     "text": [
      "Fold: 2 \tEpoch: 120 \tTraining Loss: 2.183594 \tValidation Loss: 1.493604\n",
      "Fold: 2 \tEpoch: 120 \tTraining accuracy: 0.000000 \tValidation accuracy: 0.555288\n",
      "0.0004849231551964771\n"
     ]
    },
    {
     "name": "stderr",
     "output_type": "stream",
     "text": [
      "100%|██████████| 104/104 [00:16<00:00,  6.46it/s]\n",
      "100%|██████████| 26/26 [00:10<00:00,  2.48it/s]\n"
     ]
    },
    {
     "name": "stdout",
     "output_type": "stream",
     "text": [
      "Fold: 2 \tEpoch: 121 \tTraining Loss: 2.149107 \tValidation Loss: 1.492952\n",
      "Fold: 2 \tEpoch: 121 \tTraining accuracy: 0.000000 \tValidation accuracy: 0.549447\n",
      "0.00048179596364169685\n"
     ]
    },
    {
     "name": "stderr",
     "output_type": "stream",
     "text": [
      "100%|██████████| 104/104 [00:16<00:00,  6.47it/s]\n",
      "100%|██████████| 26/26 [00:10<00:00,  2.43it/s]\n"
     ]
    },
    {
     "name": "stdout",
     "output_type": "stream",
     "text": [
      "Fold: 2 \tEpoch: 122 \tTraining Loss: 2.145182 \tValidation Loss: 1.483484\n",
      "Fold: 2 \tEpoch: 122 \tTraining accuracy: 0.000000 \tValidation accuracy: 0.561875\n",
      "0.0004783863644106502\n"
     ]
    },
    {
     "name": "stderr",
     "output_type": "stream",
     "text": [
      "100%|██████████| 104/104 [00:16<00:00,  6.48it/s]\n",
      "100%|██████████| 26/26 [00:10<00:00,  2.49it/s]\n"
     ]
    },
    {
     "name": "stdout",
     "output_type": "stream",
     "text": [
      "Fold: 2 \tEpoch: 123 \tTraining Loss: 2.174961 \tValidation Loss: 1.530589\n",
      "Fold: 2 \tEpoch: 123 \tTraining accuracy: 0.000000 \tValidation accuracy: 0.553990\n",
      "0.00047469851157479177\n"
     ]
    },
    {
     "name": "stderr",
     "output_type": "stream",
     "text": [
      "100%|██████████| 104/104 [00:16<00:00,  6.41it/s]\n",
      "100%|██████████| 26/26 [00:10<00:00,  2.44it/s]\n"
     ]
    },
    {
     "name": "stdout",
     "output_type": "stream",
     "text": [
      "Fold: 2 \tEpoch: 124 \tTraining Loss: 2.167624 \tValidation Loss: 1.468472\n",
      "Fold: 2 \tEpoch: 124 \tTraining accuracy: 0.000000 \tValidation accuracy: 0.568750\n",
      "0.00047073689821473173\n"
     ]
    },
    {
     "name": "stderr",
     "output_type": "stream",
     "text": [
      "100%|██████████| 104/104 [00:16<00:00,  6.46it/s]\n",
      "100%|██████████| 26/26 [00:10<00:00,  2.43it/s]\n"
     ]
    },
    {
     "name": "stdout",
     "output_type": "stream",
     "text": [
      "Fold: 2 \tEpoch: 125 \tTraining Loss: 2.111986 \tValidation Loss: 1.515395\n",
      "Fold: 2 \tEpoch: 125 \tTraining accuracy: 0.000000 \tValidation accuracy: 0.563846\n",
      "0.00046650635094610973\n"
     ]
    },
    {
     "name": "stderr",
     "output_type": "stream",
     "text": [
      "100%|██████████| 104/104 [00:16<00:00,  6.48it/s]\n",
      "100%|██████████| 26/26 [00:10<00:00,  2.42it/s]\n"
     ]
    },
    {
     "name": "stdout",
     "output_type": "stream",
     "text": [
      "Fold: 2 \tEpoch: 126 \tTraining Loss: 2.075701 \tValidation Loss: 1.501315\n",
      "Fold: 2 \tEpoch: 126 \tTraining accuracy: 0.000000 \tValidation accuracy: 0.552813\n",
      "0.00046201202403910646\n"
     ]
    },
    {
     "name": "stderr",
     "output_type": "stream",
     "text": [
      "100%|██████████| 104/104 [00:16<00:00,  6.45it/s]\n",
      "100%|██████████| 26/26 [00:10<00:00,  2.41it/s]\n"
     ]
    },
    {
     "name": "stdout",
     "output_type": "stream",
     "text": [
      "Fold: 2 \tEpoch: 127 \tTraining Loss: 2.090429 \tValidation Loss: 1.487801\n",
      "Fold: 2 \tEpoch: 127 \tTraining accuracy: 0.000000 \tValidation accuracy: 0.576226\n",
      "0.00045725939313876043\n"
     ]
    },
    {
     "name": "stderr",
     "output_type": "stream",
     "text": [
      "100%|██████████| 104/104 [00:16<00:00,  6.43it/s]\n",
      "100%|██████████| 26/26 [00:10<00:00,  2.44it/s]\n"
     ]
    },
    {
     "name": "stdout",
     "output_type": "stream",
     "text": [
      "Fold: 2 \tEpoch: 128 \tTraining Loss: 2.140971 \tValidation Loss: 1.460543\n",
      "Fold: 2 \tEpoch: 128 \tTraining accuracy: 0.000000 \tValidation accuracy: 0.564639\n",
      "0.0004522542485937369\n"
     ]
    },
    {
     "name": "stderr",
     "output_type": "stream",
     "text": [
      "100%|██████████| 104/104 [00:16<00:00,  6.38it/s]\n",
      "100%|██████████| 26/26 [00:10<00:00,  2.40it/s]\n"
     ]
    },
    {
     "name": "stdout",
     "output_type": "stream",
     "text": [
      "Fold: 2 \tEpoch: 129 \tTraining Loss: 2.016598 \tValidation Loss: 1.462996\n",
      "Fold: 2 \tEpoch: 129 \tTraining accuracy: 0.000000 \tValidation accuracy: 0.567476\n",
      "0.0004470026884016805\n"
     ]
    },
    {
     "name": "stderr",
     "output_type": "stream",
     "text": [
      "100%|██████████| 104/104 [00:16<00:00,  6.47it/s]\n",
      "100%|██████████| 26/26 [00:10<00:00,  2.47it/s]\n"
     ]
    },
    {
     "name": "stdout",
     "output_type": "stream",
     "text": [
      "Fold: 2 \tEpoch: 130 \tTraining Loss: 2.159527 \tValidation Loss: 1.492231\n",
      "Fold: 2 \tEpoch: 130 \tTraining accuracy: 0.000000 \tValidation accuracy: 0.558365\n",
      "0.0004415111107797445\n"
     ]
    },
    {
     "name": "stderr",
     "output_type": "stream",
     "text": [
      "100%|██████████| 104/104 [00:16<00:00,  6.43it/s]\n",
      "100%|██████████| 26/26 [00:10<00:00,  2.43it/s]\n"
     ]
    },
    {
     "name": "stdout",
     "output_type": "stream",
     "text": [
      "Fold: 2 \tEpoch: 131 \tTraining Loss: 2.106754 \tValidation Loss: 1.419768\n",
      "Fold: 2 \tEpoch: 131 \tTraining accuracy: 0.000000 \tValidation accuracy: 0.575529\n",
      "0.00043578620636934855\n"
     ]
    },
    {
     "name": "stderr",
     "output_type": "stream",
     "text": [
      "100%|██████████| 104/104 [00:16<00:00,  6.47it/s]\n",
      "100%|██████████| 26/26 [00:10<00:00,  2.43it/s]\n"
     ]
    },
    {
     "name": "stdout",
     "output_type": "stream",
     "text": [
      "Fold: 2 \tEpoch: 132 \tTraining Loss: 2.119020 \tValidation Loss: 1.433258\n",
      "Fold: 2 \tEpoch: 132 \tTraining accuracy: 0.000000 \tValidation accuracy: 0.564423\n",
      "0.0004298349500846628\n"
     ]
    },
    {
     "name": "stderr",
     "output_type": "stream",
     "text": [
      "100%|██████████| 104/104 [00:16<00:00,  6.45it/s]\n",
      "100%|██████████| 26/26 [00:10<00:00,  2.44it/s]\n"
     ]
    },
    {
     "name": "stdout",
     "output_type": "stream",
     "text": [
      "Fold: 2 \tEpoch: 133 \tTraining Loss: 2.089957 \tValidation Loss: 1.439288\n",
      "Fold: 2 \tEpoch: 133 \tTraining accuracy: 0.000000 \tValidation accuracy: 0.576995\n",
      "0.00042366459261474935\n"
     ]
    },
    {
     "name": "stderr",
     "output_type": "stream",
     "text": [
      "100%|██████████| 104/104 [00:16<00:00,  6.46it/s]\n",
      "100%|██████████| 26/26 [00:10<00:00,  2.48it/s]\n"
     ]
    },
    {
     "name": "stdout",
     "output_type": "stream",
     "text": [
      "Fold: 2 \tEpoch: 134 \tTraining Loss: 2.025417 \tValidation Loss: 1.407096\n",
      "Fold: 2 \tEpoch: 134 \tTraining accuracy: 0.000000 \tValidation accuracy: 0.585938\n",
      "0.0004172826515897146\n"
     ]
    },
    {
     "name": "stderr",
     "output_type": "stream",
     "text": [
      "100%|██████████| 104/104 [00:16<00:00,  6.45it/s]\n",
      "100%|██████████| 26/26 [00:10<00:00,  2.43it/s]\n"
     ]
    },
    {
     "name": "stdout",
     "output_type": "stream",
     "text": [
      "Fold: 2 \tEpoch: 135 \tTraining Loss: 2.084033 \tValidation Loss: 1.382406\n",
      "Fold: 2 \tEpoch: 135 \tTraining accuracy: 0.000000 \tValidation accuracy: 0.585962\n",
      "0.0004106969024216348\n",
      "Validation loss decreased (1.392042 --> 1.382406).  Saving model ...\n"
     ]
    },
    {
     "name": "stderr",
     "output_type": "stream",
     "text": [
      "100%|██████████| 104/104 [00:16<00:00,  6.43it/s]\n",
      "100%|██████████| 26/26 [00:10<00:00,  2.47it/s]\n"
     ]
    },
    {
     "name": "stdout",
     "output_type": "stream",
     "text": [
      "Fold: 2 \tEpoch: 136 \tTraining Loss: 2.134549 \tValidation Loss: 1.469059\n",
      "Fold: 2 \tEpoch: 136 \tTraining accuracy: 0.000000 \tValidation accuracy: 0.564038\n",
      "0.00040391536883141455\n"
     ]
    },
    {
     "name": "stderr",
     "output_type": "stream",
     "text": [
      "100%|██████████| 104/104 [00:16<00:00,  6.47it/s]\n",
      "100%|██████████| 26/26 [00:10<00:00,  2.42it/s]\n"
     ]
    },
    {
     "name": "stdout",
     "output_type": "stream",
     "text": [
      "Fold: 2 \tEpoch: 137 \tTraining Loss: 2.090266 \tValidation Loss: 1.392043\n",
      "Fold: 2 \tEpoch: 137 \tTraining accuracy: 0.000000 \tValidation accuracy: 0.585577\n",
      "0.0003969463130731183\n"
     ]
    },
    {
     "name": "stderr",
     "output_type": "stream",
     "text": [
      "100%|██████████| 104/104 [00:16<00:00,  6.41it/s]\n",
      "100%|██████████| 26/26 [00:10<00:00,  2.42it/s]\n"
     ]
    },
    {
     "name": "stdout",
     "output_type": "stream",
     "text": [
      "Fold: 2 \tEpoch: 138 \tTraining Loss: 2.059779 \tValidation Loss: 1.403075\n",
      "Fold: 2 \tEpoch: 138 \tTraining accuracy: 0.000000 \tValidation accuracy: 0.576731\n",
      "0.0003897982258676867\n"
     ]
    },
    {
     "name": "stderr",
     "output_type": "stream",
     "text": [
      "100%|██████████| 104/104 [00:16<00:00,  6.48it/s]\n",
      "100%|██████████| 26/26 [00:10<00:00,  2.43it/s]\n"
     ]
    },
    {
     "name": "stdout",
     "output_type": "stream",
     "text": [
      "Fold: 2 \tEpoch: 139 \tTraining Loss: 2.097247 \tValidation Loss: 1.382445\n",
      "Fold: 2 \tEpoch: 139 \tTraining accuracy: 0.000000 \tValidation accuracy: 0.584808\n",
      "0.00038247981605830125\n"
     ]
    },
    {
     "name": "stderr",
     "output_type": "stream",
     "text": [
      "100%|██████████| 104/104 [00:16<00:00,  6.47it/s]\n",
      "100%|██████████| 26/26 [00:10<00:00,  2.43it/s]\n"
     ]
    },
    {
     "name": "stdout",
     "output_type": "stream",
     "text": [
      "Fold: 2 \tEpoch: 140 \tTraining Loss: 1.243642 \tValidation Loss: 1.376346\n",
      "Fold: 2 \tEpoch: 140 \tTraining accuracy: 0.000000 \tValidation accuracy: 0.568413\n",
      "0.000375\n",
      "Validation loss decreased (1.382406 --> 1.376346).  Saving model ...\n"
     ]
    },
    {
     "name": "stderr",
     "output_type": "stream",
     "text": [
      "100%|██████████| 104/104 [00:16<00:00,  6.48it/s]\n",
      "100%|██████████| 26/26 [00:10<00:00,  2.44it/s]\n"
     ]
    },
    {
     "name": "stdout",
     "output_type": "stream",
     "text": [
      "Fold: 2 \tEpoch: 141 \tTraining Loss: 1.231551 \tValidation Loss: 1.360660\n",
      "Fold: 2 \tEpoch: 141 \tTraining accuracy: 0.000000 \tValidation accuracy: 0.589014\n",
      "0.0003673678906964727\n",
      "Validation loss decreased (1.376346 --> 1.360660).  Saving model ...\n"
     ]
    },
    {
     "name": "stderr",
     "output_type": "stream",
     "text": [
      "100%|██████████| 104/104 [00:16<00:00,  6.50it/s]\n",
      "100%|██████████| 26/26 [00:10<00:00,  2.43it/s]\n"
     ]
    },
    {
     "name": "stdout",
     "output_type": "stream",
     "text": [
      "Fold: 2 \tEpoch: 142 \tTraining Loss: 1.180890 \tValidation Loss: 1.313375\n",
      "Fold: 2 \tEpoch: 142 \tTraining accuracy: 0.000000 \tValidation accuracy: 0.605817\n",
      "0.00035959278669726934\n",
      "Validation loss decreased (1.360660 --> 1.313375).  Saving model ...\n"
     ]
    },
    {
     "name": "stderr",
     "output_type": "stream",
     "text": [
      "100%|██████████| 104/104 [00:16<00:00,  6.49it/s]\n",
      "100%|██████████| 26/26 [00:10<00:00,  2.45it/s]\n"
     ]
    },
    {
     "name": "stdout",
     "output_type": "stream",
     "text": [
      "Fold: 2 \tEpoch: 143 \tTraining Loss: 1.137339 \tValidation Loss: 1.390895\n",
      "Fold: 2 \tEpoch: 143 \tTraining accuracy: 0.000000 \tValidation accuracy: 0.575529\n",
      "0.00035168416076895\n"
     ]
    },
    {
     "name": "stderr",
     "output_type": "stream",
     "text": [
      "100%|██████████| 104/104 [00:16<00:00,  6.45it/s]\n",
      "100%|██████████| 26/26 [00:10<00:00,  2.46it/s]\n"
     ]
    },
    {
     "name": "stdout",
     "output_type": "stream",
     "text": [
      "Fold: 2 \tEpoch: 144 \tTraining Loss: 1.135456 \tValidation Loss: 1.324798\n",
      "Fold: 2 \tEpoch: 144 \tTraining accuracy: 0.000000 \tValidation accuracy: 0.597500\n",
      "0.000343651648353978\n"
     ]
    },
    {
     "name": "stderr",
     "output_type": "stream",
     "text": [
      "100%|██████████| 104/104 [00:16<00:00,  6.49it/s]\n",
      "100%|██████████| 26/26 [00:10<00:00,  2.41it/s]\n"
     ]
    },
    {
     "name": "stdout",
     "output_type": "stream",
     "text": [
      "Fold: 2 \tEpoch: 145 \tTraining Loss: 1.080811 \tValidation Loss: 1.343840\n",
      "Fold: 2 \tEpoch: 145 \tTraining accuracy: 0.000000 \tValidation accuracy: 0.596226\n",
      "0.0003355050358314172\n"
     ]
    },
    {
     "name": "stderr",
     "output_type": "stream",
     "text": [
      "100%|██████████| 104/104 [00:16<00:00,  6.49it/s]\n",
      "100%|██████████| 26/26 [00:10<00:00,  2.47it/s]\n"
     ]
    },
    {
     "name": "stdout",
     "output_type": "stream",
     "text": [
      "Fold: 2 \tEpoch: 146 \tTraining Loss: 1.119495 \tValidation Loss: 1.356613\n",
      "Fold: 2 \tEpoch: 146 \tTraining accuracy: 0.000000 \tValidation accuracy: 0.595096\n",
      "0.00032725424859373687\n"
     ]
    },
    {
     "name": "stderr",
     "output_type": "stream",
     "text": [
      "100%|██████████| 104/104 [00:16<00:00,  6.43it/s]\n",
      "100%|██████████| 26/26 [00:10<00:00,  2.44it/s]\n"
     ]
    },
    {
     "name": "stdout",
     "output_type": "stream",
     "text": [
      "Fold: 2 \tEpoch: 147 \tTraining Loss: 1.077961 \tValidation Loss: 1.344131\n",
      "Fold: 2 \tEpoch: 147 \tTraining accuracy: 0.000000 \tValidation accuracy: 0.592260\n",
      "0.0003189093389542498\n"
     ]
    },
    {
     "name": "stderr",
     "output_type": "stream",
     "text": [
      "100%|██████████| 104/104 [00:15<00:00,  6.51it/s]\n",
      "100%|██████████| 26/26 [00:10<00:00,  2.45it/s]\n"
     ]
    },
    {
     "name": "stdout",
     "output_type": "stream",
     "text": [
      "Fold: 2 \tEpoch: 148 \tTraining Loss: 1.027671 \tValidation Loss: 1.371685\n",
      "Fold: 2 \tEpoch: 148 \tTraining accuracy: 0.000000 \tValidation accuracy: 0.598365\n",
      "0.00031048047389991694\n"
     ]
    },
    {
     "name": "stderr",
     "output_type": "stream",
     "text": [
      "100%|██████████| 104/104 [00:15<00:00,  6.50it/s]\n",
      "100%|██████████| 26/26 [00:10<00:00,  2.47it/s]\n"
     ]
    },
    {
     "name": "stdout",
     "output_type": "stream",
     "text": [
      "Fold: 2 \tEpoch: 149 \tTraining Loss: 1.019949 \tValidation Loss: 1.422279\n",
      "Fold: 2 \tEpoch: 149 \tTraining accuracy: 0.000000 \tValidation accuracy: 0.585745\n",
      "0.00030197792270443986\n",
      "============= Fold-3 strat =============\n"
     ]
    },
    {
     "name": "stderr",
     "output_type": "stream",
     "text": [
      "100%|██████████| 104/104 [00:16<00:00,  6.39it/s]\n",
      "100%|██████████| 26/26 [00:10<00:00,  2.45it/s]\n"
     ]
    },
    {
     "name": "stdout",
     "output_type": "stream",
     "text": [
      "Fold: 3 \tEpoch: 0 \tTraining Loss: 3.596211 \tValidation Loss: 3.567888\n",
      "Fold: 3 \tEpoch: 0 \tTraining accuracy: 0.000000 \tValidation accuracy: 0.041635\n",
      "0.0\n",
      "Validation loss decreased (inf --> 3.567888).  Saving model ...\n"
     ]
    },
    {
     "name": "stderr",
     "output_type": "stream",
     "text": [
      "100%|██████████| 104/104 [00:16<00:00,  6.47it/s]\n",
      "100%|██████████| 26/26 [00:10<00:00,  2.43it/s]\n"
     ]
    },
    {
     "name": "stdout",
     "output_type": "stream",
     "text": [
      "Fold: 3 \tEpoch: 1 \tTraining Loss: 3.603997 \tValidation Loss: 3.569001\n",
      "Fold: 3 \tEpoch: 1 \tTraining accuracy: 0.000000 \tValidation accuracy: 0.039736\n",
      "0.0001\n"
     ]
    },
    {
     "name": "stderr",
     "output_type": "stream",
     "text": [
      "100%|██████████| 104/104 [00:16<00:00,  6.44it/s]\n",
      "100%|██████████| 26/26 [00:10<00:00,  2.47it/s]\n"
     ]
    },
    {
     "name": "stdout",
     "output_type": "stream",
     "text": [
      "Fold: 3 \tEpoch: 2 \tTraining Loss: 3.071572 \tValidation Loss: 2.653390\n",
      "Fold: 3 \tEpoch: 2 \tTraining accuracy: 0.000000 \tValidation accuracy: 0.240601\n",
      "0.0002\n",
      "Validation loss decreased (3.567888 --> 2.653390).  Saving model ...\n"
     ]
    },
    {
     "name": "stderr",
     "output_type": "stream",
     "text": [
      "100%|██████████| 104/104 [00:16<00:00,  6.42it/s]\n",
      "100%|██████████| 26/26 [00:10<00:00,  2.47it/s]\n"
     ]
    },
    {
     "name": "stdout",
     "output_type": "stream",
     "text": [
      "Fold: 3 \tEpoch: 3 \tTraining Loss: 2.943424 \tValidation Loss: 2.564118\n",
      "Fold: 3 \tEpoch: 3 \tTraining accuracy: 0.000000 \tValidation accuracy: 0.244303\n",
      "0.00030000000000000003\n",
      "Validation loss decreased (2.653390 --> 2.564118).  Saving model ...\n"
     ]
    },
    {
     "name": "stderr",
     "output_type": "stream",
     "text": [
      "100%|██████████| 104/104 [00:16<00:00,  6.46it/s]\n",
      "100%|██████████| 26/26 [00:10<00:00,  2.48it/s]\n"
     ]
    },
    {
     "name": "stdout",
     "output_type": "stream",
     "text": [
      "Fold: 3 \tEpoch: 4 \tTraining Loss: 2.921445 \tValidation Loss: 2.508150\n",
      "Fold: 3 \tEpoch: 4 \tTraining accuracy: 0.000000 \tValidation accuracy: 0.243870\n",
      "0.0004\n",
      "Validation loss decreased (2.564118 --> 2.508150).  Saving model ...\n"
     ]
    },
    {
     "name": "stderr",
     "output_type": "stream",
     "text": [
      "100%|██████████| 104/104 [00:16<00:00,  6.41it/s]\n",
      "100%|██████████| 26/26 [00:11<00:00,  2.30it/s]\n"
     ]
    },
    {
     "name": "stdout",
     "output_type": "stream",
     "text": [
      "Fold: 3 \tEpoch: 5 \tTraining Loss: 2.894804 \tValidation Loss: 2.583000\n",
      "Fold: 3 \tEpoch: 5 \tTraining accuracy: 0.000000 \tValidation accuracy: 0.256659\n",
      "0.0005\n"
     ]
    },
    {
     "name": "stderr",
     "output_type": "stream",
     "text": [
      "100%|██████████| 104/104 [00:16<00:00,  6.40it/s]\n",
      "100%|██████████| 26/26 [00:10<00:00,  2.48it/s]\n"
     ]
    },
    {
     "name": "stdout",
     "output_type": "stream",
     "text": [
      "Fold: 3 \tEpoch: 6 \tTraining Loss: 2.883367 \tValidation Loss: 2.404354\n",
      "Fold: 3 \tEpoch: 6 \tTraining accuracy: 0.000000 \tValidation accuracy: 0.297332\n",
      "0.0006000000000000001\n",
      "Validation loss decreased (2.508150 --> 2.404354).  Saving model ...\n"
     ]
    },
    {
     "name": "stderr",
     "output_type": "stream",
     "text": [
      "100%|██████████| 104/104 [00:16<00:00,  6.46it/s]\n",
      "100%|██████████| 26/26 [00:10<00:00,  2.41it/s]\n"
     ]
    },
    {
     "name": "stdout",
     "output_type": "stream",
     "text": [
      "Fold: 3 \tEpoch: 7 \tTraining Loss: 2.846071 \tValidation Loss: 2.418842\n",
      "Fold: 3 \tEpoch: 7 \tTraining accuracy: 0.000000 \tValidation accuracy: 0.283269\n",
      "0.0007\n"
     ]
    },
    {
     "name": "stderr",
     "output_type": "stream",
     "text": [
      "100%|██████████| 104/104 [00:16<00:00,  6.48it/s]\n",
      "100%|██████████| 26/26 [00:10<00:00,  2.44it/s]\n"
     ]
    },
    {
     "name": "stdout",
     "output_type": "stream",
     "text": [
      "Fold: 3 \tEpoch: 8 \tTraining Loss: 2.817319 \tValidation Loss: 2.450391\n",
      "Fold: 3 \tEpoch: 8 \tTraining accuracy: 0.000000 \tValidation accuracy: 0.280000\n",
      "0.0008\n"
     ]
    },
    {
     "name": "stderr",
     "output_type": "stream",
     "text": [
      "100%|██████████| 104/104 [00:15<00:00,  6.52it/s]\n",
      "100%|██████████| 26/26 [00:10<00:00,  2.45it/s]\n"
     ]
    },
    {
     "name": "stdout",
     "output_type": "stream",
     "text": [
      "Fold: 3 \tEpoch: 9 \tTraining Loss: 2.781947 \tValidation Loss: 2.386405\n",
      "Fold: 3 \tEpoch: 9 \tTraining accuracy: 0.000000 \tValidation accuracy: 0.322212\n",
      "0.0009000000000000001\n",
      "Validation loss decreased (2.404354 --> 2.386405).  Saving model ...\n"
     ]
    },
    {
     "name": "stderr",
     "output_type": "stream",
     "text": [
      "100%|██████████| 104/104 [00:16<00:00,  6.47it/s]\n",
      "100%|██████████| 26/26 [00:10<00:00,  2.46it/s]\n"
     ]
    },
    {
     "name": "stdout",
     "output_type": "stream",
     "text": [
      "Fold: 3 \tEpoch: 10 \tTraining Loss: 2.771632 \tValidation Loss: 2.334257\n",
      "Fold: 3 \tEpoch: 10 \tTraining accuracy: 0.000000 \tValidation accuracy: 0.310120\n",
      "0.001\n",
      "Validation loss decreased (2.386405 --> 2.334257).  Saving model ...\n"
     ]
    },
    {
     "name": "stderr",
     "output_type": "stream",
     "text": [
      "100%|██████████| 104/104 [00:16<00:00,  6.45it/s]\n",
      "100%|██████████| 26/26 [00:10<00:00,  2.45it/s]\n"
     ]
    },
    {
     "name": "stdout",
     "output_type": "stream",
     "text": [
      "Fold: 3 \tEpoch: 11 \tTraining Loss: 2.765365 \tValidation Loss: 2.303270\n",
      "Fold: 3 \tEpoch: 11 \tTraining accuracy: 0.000000 \tValidation accuracy: 0.317668\n",
      "0.0009996954135095479\n",
      "Validation loss decreased (2.334257 --> 2.303270).  Saving model ...\n"
     ]
    },
    {
     "name": "stderr",
     "output_type": "stream",
     "text": [
      "100%|██████████| 104/104 [00:16<00:00,  6.45it/s]\n",
      "100%|██████████| 26/26 [00:11<00:00,  2.35it/s]\n"
     ]
    },
    {
     "name": "stdout",
     "output_type": "stream",
     "text": [
      "Fold: 3 \tEpoch: 12 \tTraining Loss: 2.726147 \tValidation Loss: 2.320480\n",
      "Fold: 3 \tEpoch: 12 \tTraining accuracy: 0.000000 \tValidation accuracy: 0.328245\n",
      "0.0009987820251299122\n"
     ]
    },
    {
     "name": "stderr",
     "output_type": "stream",
     "text": [
      "100%|██████████| 104/104 [00:16<00:00,  6.42it/s]\n",
      "100%|██████████| 26/26 [00:10<00:00,  2.45it/s]\n"
     ]
    },
    {
     "name": "stdout",
     "output_type": "stream",
     "text": [
      "Fold: 3 \tEpoch: 13 \tTraining Loss: 2.669477 \tValidation Loss: 2.222122\n",
      "Fold: 3 \tEpoch: 13 \tTraining accuracy: 0.000000 \tValidation accuracy: 0.352187\n",
      "0.0009972609476841367\n",
      "Validation loss decreased (2.303270 --> 2.222122).  Saving model ...\n"
     ]
    },
    {
     "name": "stderr",
     "output_type": "stream",
     "text": [
      "100%|██████████| 104/104 [00:16<00:00,  6.44it/s]\n",
      "100%|██████████| 26/26 [00:10<00:00,  2.44it/s]\n"
     ]
    },
    {
     "name": "stdout",
     "output_type": "stream",
     "text": [
      "Fold: 3 \tEpoch: 14 \tTraining Loss: 2.683790 \tValidation Loss: 2.320109\n",
      "Fold: 3 \tEpoch: 14 \tTraining accuracy: 0.000000 \tValidation accuracy: 0.329519\n",
      "0.0009951340343707852\n"
     ]
    },
    {
     "name": "stderr",
     "output_type": "stream",
     "text": [
      "100%|██████████| 104/104 [00:16<00:00,  6.45it/s]\n",
      "100%|██████████| 26/26 [00:10<00:00,  2.43it/s]\n"
     ]
    },
    {
     "name": "stdout",
     "output_type": "stream",
     "text": [
      "Fold: 3 \tEpoch: 15 \tTraining Loss: 2.685336 \tValidation Loss: 2.366170\n",
      "Fold: 3 \tEpoch: 15 \tTraining accuracy: 0.000000 \tValidation accuracy: 0.346514\n",
      "0.000992403876506104\n"
     ]
    },
    {
     "name": "stderr",
     "output_type": "stream",
     "text": [
      "100%|██████████| 104/104 [00:16<00:00,  6.47it/s]\n",
      "100%|██████████| 26/26 [00:10<00:00,  2.43it/s]\n"
     ]
    },
    {
     "name": "stdout",
     "output_type": "stream",
     "text": [
      "Fold: 3 \tEpoch: 16 \tTraining Loss: 2.606133 \tValidation Loss: 2.106008\n",
      "Fold: 3 \tEpoch: 16 \tTraining accuracy: 0.000000 \tValidation accuracy: 0.388077\n",
      "0.0009890738003669028\n",
      "Validation loss decreased (2.222122 --> 2.106008).  Saving model ...\n"
     ]
    },
    {
     "name": "stderr",
     "output_type": "stream",
     "text": [
      "100%|██████████| 104/104 [00:16<00:00,  6.48it/s]\n",
      "100%|██████████| 26/26 [00:10<00:00,  2.45it/s]\n"
     ]
    },
    {
     "name": "stdout",
     "output_type": "stream",
     "text": [
      "Fold: 3 \tEpoch: 17 \tTraining Loss: 2.575414 \tValidation Loss: 2.127397\n",
      "Fold: 3 \tEpoch: 17 \tTraining accuracy: 0.000000 \tValidation accuracy: 0.371827\n",
      "0.0009851478631379982\n"
     ]
    },
    {
     "name": "stderr",
     "output_type": "stream",
     "text": [
      "100%|██████████| 104/104 [00:15<00:00,  6.51it/s]\n",
      "100%|██████████| 26/26 [00:10<00:00,  2.42it/s]\n"
     ]
    },
    {
     "name": "stdout",
     "output_type": "stream",
     "text": [
      "Fold: 3 \tEpoch: 18 \tTraining Loss: 2.524409 \tValidation Loss: 2.095287\n",
      "Fold: 3 \tEpoch: 18 \tTraining accuracy: 0.000000 \tValidation accuracy: 0.394591\n",
      "0.0009806308479691594\n",
      "Validation loss decreased (2.106008 --> 2.095287).  Saving model ...\n"
     ]
    },
    {
     "name": "stderr",
     "output_type": "stream",
     "text": [
      "100%|██████████| 104/104 [00:16<00:00,  6.48it/s]\n",
      "100%|██████████| 26/26 [00:10<00:00,  2.49it/s]\n"
     ]
    },
    {
     "name": "stdout",
     "output_type": "stream",
     "text": [
      "Fold: 3 \tEpoch: 19 \tTraining Loss: 2.571630 \tValidation Loss: 2.070081\n",
      "Fold: 3 \tEpoch: 19 \tTraining accuracy: 0.000000 \tValidation accuracy: 0.390577\n",
      "0.0009755282581475768\n",
      "Validation loss decreased (2.095287 --> 2.070081).  Saving model ...\n"
     ]
    },
    {
     "name": "stderr",
     "output_type": "stream",
     "text": [
      "100%|██████████| 104/104 [00:16<00:00,  6.47it/s]\n",
      "100%|██████████| 26/26 [00:10<00:00,  2.43it/s]\n"
     ]
    },
    {
     "name": "stdout",
     "output_type": "stream",
     "text": [
      "Fold: 3 \tEpoch: 20 \tTraining Loss: 2.533146 \tValidation Loss: 1.995761\n",
      "Fold: 3 \tEpoch: 20 \tTraining accuracy: 0.000000 \tValidation accuracy: 0.423870\n",
      "0.0009698463103929542\n",
      "Validation loss decreased (2.070081 --> 1.995761).  Saving model ...\n"
     ]
    },
    {
     "name": "stderr",
     "output_type": "stream",
     "text": [
      "100%|██████████| 104/104 [00:16<00:00,  6.48it/s]\n",
      "100%|██████████| 26/26 [00:10<00:00,  2.42it/s]\n"
     ]
    },
    {
     "name": "stdout",
     "output_type": "stream",
     "text": [
      "Fold: 3 \tEpoch: 21 \tTraining Loss: 2.555399 \tValidation Loss: 2.004583\n",
      "Fold: 3 \tEpoch: 21 \tTraining accuracy: 0.000000 \tValidation accuracy: 0.394423\n",
      "0.0009635919272833937\n"
     ]
    },
    {
     "name": "stderr",
     "output_type": "stream",
     "text": [
      "100%|██████████| 104/104 [00:16<00:00,  6.43it/s]\n",
      "100%|██████████| 26/26 [00:10<00:00,  2.39it/s]\n"
     ]
    },
    {
     "name": "stdout",
     "output_type": "stream",
     "text": [
      "Fold: 3 \tEpoch: 22 \tTraining Loss: 2.542908 \tValidation Loss: 1.948371\n",
      "Fold: 3 \tEpoch: 22 \tTraining accuracy: 0.000000 \tValidation accuracy: 0.415481\n",
      "0.0009567727288213005\n",
      "Validation loss decreased (1.995761 --> 1.948371).  Saving model ...\n"
     ]
    },
    {
     "name": "stderr",
     "output_type": "stream",
     "text": [
      "100%|██████████| 104/104 [00:16<00:00,  6.34it/s]\n",
      "100%|██████████| 26/26 [00:10<00:00,  2.45it/s]\n"
     ]
    },
    {
     "name": "stdout",
     "output_type": "stream",
     "text": [
      "Fold: 3 \tEpoch: 23 \tTraining Loss: 2.556699 \tValidation Loss: 2.039456\n",
      "Fold: 3 \tEpoch: 23 \tTraining accuracy: 0.000000 \tValidation accuracy: 0.411851\n",
      "0.0009493970231495835\n"
     ]
    },
    {
     "name": "stderr",
     "output_type": "stream",
     "text": [
      "100%|██████████| 104/104 [00:16<00:00,  6.46it/s]\n",
      "100%|██████████| 26/26 [00:10<00:00,  2.48it/s]\n"
     ]
    },
    {
     "name": "stdout",
     "output_type": "stream",
     "text": [
      "Fold: 3 \tEpoch: 24 \tTraining Loss: 2.540734 \tValidation Loss: 1.984255\n",
      "Fold: 3 \tEpoch: 24 \tTraining accuracy: 0.000000 \tValidation accuracy: 0.427043\n",
      "0.0009414737964294635\n"
     ]
    },
    {
     "name": "stderr",
     "output_type": "stream",
     "text": [
      "100%|██████████| 104/104 [00:15<00:00,  6.50it/s]\n",
      "100%|██████████| 26/26 [00:10<00:00,  2.43it/s]\n"
     ]
    },
    {
     "name": "stdout",
     "output_type": "stream",
     "text": [
      "Fold: 3 \tEpoch: 25 \tTraining Loss: 2.514769 \tValidation Loss: 1.936838\n",
      "Fold: 3 \tEpoch: 25 \tTraining accuracy: 0.000000 \tValidation accuracy: 0.435192\n",
      "0.0009330127018922195\n",
      "Validation loss decreased (1.948371 --> 1.936838).  Saving model ...\n"
     ]
    },
    {
     "name": "stderr",
     "output_type": "stream",
     "text": [
      "100%|██████████| 104/104 [00:16<00:00,  6.47it/s]\n",
      "100%|██████████| 26/26 [00:10<00:00,  2.45it/s]\n"
     ]
    },
    {
     "name": "stdout",
     "output_type": "stream",
     "text": [
      "Fold: 3 \tEpoch: 26 \tTraining Loss: 2.498133 \tValidation Loss: 1.930901\n",
      "Fold: 3 \tEpoch: 26 \tTraining accuracy: 0.000000 \tValidation accuracy: 0.430216\n",
      "0.0009240240480782129\n",
      "Validation loss decreased (1.936838 --> 1.930901).  Saving model ...\n"
     ]
    },
    {
     "name": "stderr",
     "output_type": "stream",
     "text": [
      "100%|██████████| 104/104 [00:16<00:00,  6.49it/s]\n",
      "100%|██████████| 26/26 [00:10<00:00,  2.41it/s]\n"
     ]
    },
    {
     "name": "stdout",
     "output_type": "stream",
     "text": [
      "Fold: 3 \tEpoch: 27 \tTraining Loss: 2.519613 \tValidation Loss: 1.979045\n",
      "Fold: 3 \tEpoch: 27 \tTraining accuracy: 0.000000 \tValidation accuracy: 0.430385\n",
      "0.0009145187862775209\n"
     ]
    },
    {
     "name": "stderr",
     "output_type": "stream",
     "text": [
      "100%|██████████| 104/104 [00:16<00:00,  6.49it/s]\n",
      "100%|██████████| 26/26 [00:10<00:00,  2.45it/s]\n"
     ]
    },
    {
     "name": "stdout",
     "output_type": "stream",
     "text": [
      "Fold: 3 \tEpoch: 28 \tTraining Loss: 2.473505 \tValidation Loss: 1.941287\n",
      "Fold: 3 \tEpoch: 28 \tTraining accuracy: 0.000000 \tValidation accuracy: 0.438197\n",
      "0.0009045084971874737\n"
     ]
    },
    {
     "name": "stderr",
     "output_type": "stream",
     "text": [
      "100%|██████████| 104/104 [00:16<00:00,  6.49it/s]\n",
      "100%|██████████| 26/26 [00:10<00:00,  2.48it/s]\n"
     ]
    },
    {
     "name": "stdout",
     "output_type": "stream",
     "text": [
      "Fold: 3 \tEpoch: 29 \tTraining Loss: 2.489981 \tValidation Loss: 1.947730\n",
      "Fold: 3 \tEpoch: 29 \tTraining accuracy: 0.000000 \tValidation accuracy: 0.424976\n",
      "0.000894005376803361\n"
     ]
    },
    {
     "name": "stderr",
     "output_type": "stream",
     "text": [
      "100%|██████████| 104/104 [00:16<00:00,  6.47it/s]\n",
      "100%|██████████| 26/26 [00:10<00:00,  2.43it/s]\n"
     ]
    },
    {
     "name": "stdout",
     "output_type": "stream",
     "text": [
      "Fold: 3 \tEpoch: 30 \tTraining Loss: 2.429179 \tValidation Loss: 1.833781\n",
      "Fold: 3 \tEpoch: 30 \tTraining accuracy: 0.000000 \tValidation accuracy: 0.468582\n",
      "0.000883022221559489\n",
      "Validation loss decreased (1.930901 --> 1.833781).  Saving model ...\n"
     ]
    },
    {
     "name": "stderr",
     "output_type": "stream",
     "text": [
      "100%|██████████| 104/104 [00:15<00:00,  6.50it/s]\n",
      "100%|██████████| 26/26 [00:10<00:00,  2.44it/s]\n"
     ]
    },
    {
     "name": "stdout",
     "output_type": "stream",
     "text": [
      "Fold: 3 \tEpoch: 31 \tTraining Loss: 2.437022 \tValidation Loss: 1.880394\n",
      "Fold: 3 \tEpoch: 31 \tTraining accuracy: 0.000000 \tValidation accuracy: 0.455192\n",
      "0.0008715724127386971\n"
     ]
    },
    {
     "name": "stderr",
     "output_type": "stream",
     "text": [
      "100%|██████████| 104/104 [00:16<00:00,  6.50it/s]\n",
      "100%|██████████| 26/26 [00:10<00:00,  2.48it/s]\n"
     ]
    },
    {
     "name": "stdout",
     "output_type": "stream",
     "text": [
      "Fold: 3 \tEpoch: 32 \tTraining Loss: 2.443205 \tValidation Loss: 1.869382\n",
      "Fold: 3 \tEpoch: 32 \tTraining accuracy: 0.000000 \tValidation accuracy: 0.469423\n",
      "0.0008596699001693256\n"
     ]
    },
    {
     "name": "stderr",
     "output_type": "stream",
     "text": [
      "100%|██████████| 104/104 [00:16<00:00,  6.49it/s]\n",
      "100%|██████████| 26/26 [00:10<00:00,  2.44it/s]\n"
     ]
    },
    {
     "name": "stdout",
     "output_type": "stream",
     "text": [
      "Fold: 3 \tEpoch: 33 \tTraining Loss: 2.418256 \tValidation Loss: 1.810522\n",
      "Fold: 3 \tEpoch: 33 \tTraining accuracy: 0.000000 \tValidation accuracy: 0.465144\n",
      "0.0008473291852294987\n",
      "Validation loss decreased (1.833781 --> 1.810522).  Saving model ...\n"
     ]
    },
    {
     "name": "stderr",
     "output_type": "stream",
     "text": [
      "100%|██████████| 104/104 [00:16<00:00,  6.48it/s]\n",
      "100%|██████████| 26/26 [00:10<00:00,  2.41it/s]\n"
     ]
    },
    {
     "name": "stdout",
     "output_type": "stream",
     "text": [
      "Fold: 3 \tEpoch: 34 \tTraining Loss: 2.403198 \tValidation Loss: 1.792963\n",
      "Fold: 3 \tEpoch: 34 \tTraining accuracy: 0.000000 \tValidation accuracy: 0.497260\n",
      "0.0008345653031794292\n",
      "Validation loss decreased (1.810522 --> 1.792963).  Saving model ...\n"
     ]
    },
    {
     "name": "stderr",
     "output_type": "stream",
     "text": [
      "100%|██████████| 104/104 [00:16<00:00,  6.39it/s]\n",
      "100%|██████████| 26/26 [00:10<00:00,  2.43it/s]\n"
     ]
    },
    {
     "name": "stdout",
     "output_type": "stream",
     "text": [
      "Fold: 3 \tEpoch: 35 \tTraining Loss: 2.423007 \tValidation Loss: 1.904996\n",
      "Fold: 3 \tEpoch: 35 \tTraining accuracy: 0.000000 \tValidation accuracy: 0.472957\n",
      "0.0008213938048432696\n"
     ]
    },
    {
     "name": "stderr",
     "output_type": "stream",
     "text": [
      "100%|██████████| 104/104 [00:16<00:00,  6.49it/s]\n",
      "100%|██████████| 26/26 [00:10<00:00,  2.43it/s]\n"
     ]
    },
    {
     "name": "stdout",
     "output_type": "stream",
     "text": [
      "Fold: 3 \tEpoch: 36 \tTraining Loss: 2.401011 \tValidation Loss: 1.810876\n",
      "Fold: 3 \tEpoch: 36 \tTraining accuracy: 0.000000 \tValidation accuracy: 0.484639\n",
      "0.0008078307376628291\n"
     ]
    },
    {
     "name": "stderr",
     "output_type": "stream",
     "text": [
      "100%|██████████| 104/104 [00:16<00:00,  6.47it/s]\n",
      "100%|██████████| 26/26 [00:10<00:00,  2.45it/s]\n"
     ]
    },
    {
     "name": "stdout",
     "output_type": "stream",
     "text": [
      "Fold: 3 \tEpoch: 37 \tTraining Loss: 2.387640 \tValidation Loss: 1.773561\n",
      "Fold: 3 \tEpoch: 37 \tTraining accuracy: 0.000000 \tValidation accuracy: 0.484976\n",
      "0.0007938926261462366\n",
      "Validation loss decreased (1.792963 --> 1.773561).  Saving model ...\n"
     ]
    },
    {
     "name": "stderr",
     "output_type": "stream",
     "text": [
      "100%|██████████| 104/104 [00:16<00:00,  6.45it/s]\n",
      "100%|██████████| 26/26 [00:10<00:00,  2.41it/s]\n"
     ]
    },
    {
     "name": "stdout",
     "output_type": "stream",
     "text": [
      "Fold: 3 \tEpoch: 38 \tTraining Loss: 2.372193 \tValidation Loss: 1.815682\n",
      "Fold: 3 \tEpoch: 38 \tTraining accuracy: 0.000000 \tValidation accuracy: 0.471394\n",
      "0.0007795964517353734\n"
     ]
    },
    {
     "name": "stderr",
     "output_type": "stream",
     "text": [
      "100%|██████████| 104/104 [00:16<00:00,  6.48it/s]\n",
      "100%|██████████| 26/26 [00:10<00:00,  2.48it/s]\n"
     ]
    },
    {
     "name": "stdout",
     "output_type": "stream",
     "text": [
      "Fold: 3 \tEpoch: 39 \tTraining Loss: 2.412721 \tValidation Loss: 1.864630\n",
      "Fold: 3 \tEpoch: 39 \tTraining accuracy: 0.000000 \tValidation accuracy: 0.475962\n",
      "0.0007649596321166025\n"
     ]
    },
    {
     "name": "stderr",
     "output_type": "stream",
     "text": [
      "100%|██████████| 104/104 [00:15<00:00,  6.52it/s]\n",
      "100%|██████████| 26/26 [00:10<00:00,  2.50it/s]\n"
     ]
    },
    {
     "name": "stdout",
     "output_type": "stream",
     "text": [
      "Fold: 3 \tEpoch: 40 \tTraining Loss: 2.356798 \tValidation Loss: 1.758832\n",
      "Fold: 3 \tEpoch: 40 \tTraining accuracy: 0.000000 \tValidation accuracy: 0.489856\n",
      "0.00075\n",
      "Validation loss decreased (1.773561 --> 1.758832).  Saving model ...\n"
     ]
    },
    {
     "name": "stderr",
     "output_type": "stream",
     "text": [
      "100%|██████████| 104/104 [00:16<00:00,  6.47it/s]\n",
      "100%|██████████| 26/26 [00:10<00:00,  2.48it/s]\n"
     ]
    },
    {
     "name": "stdout",
     "output_type": "stream",
     "text": [
      "Fold: 3 \tEpoch: 41 \tTraining Loss: 2.354854 \tValidation Loss: 1.911406\n",
      "Fold: 3 \tEpoch: 41 \tTraining accuracy: 0.000000 \tValidation accuracy: 0.439928\n",
      "0.0007347357813929454\n"
     ]
    },
    {
     "name": "stderr",
     "output_type": "stream",
     "text": [
      "100%|██████████| 104/104 [00:15<00:00,  6.51it/s]\n",
      "100%|██████████| 26/26 [00:10<00:00,  2.49it/s]\n"
     ]
    },
    {
     "name": "stdout",
     "output_type": "stream",
     "text": [
      "Fold: 3 \tEpoch: 42 \tTraining Loss: 2.456649 \tValidation Loss: 1.755626\n",
      "Fold: 3 \tEpoch: 42 \tTraining accuracy: 0.000000 \tValidation accuracy: 0.491683\n",
      "0.0007191855733945387\n",
      "Validation loss decreased (1.758832 --> 1.755626).  Saving model ...\n"
     ]
    },
    {
     "name": "stderr",
     "output_type": "stream",
     "text": [
      "100%|██████████| 104/104 [00:16<00:00,  6.46it/s]\n",
      "100%|██████████| 26/26 [00:10<00:00,  2.44it/s]\n"
     ]
    },
    {
     "name": "stdout",
     "output_type": "stream",
     "text": [
      "Fold: 3 \tEpoch: 43 \tTraining Loss: 2.302861 \tValidation Loss: 1.715950\n",
      "Fold: 3 \tEpoch: 43 \tTraining accuracy: 0.000000 \tValidation accuracy: 0.494087\n",
      "0.0007033683215379\n",
      "Validation loss decreased (1.755626 --> 1.715950).  Saving model ...\n"
     ]
    },
    {
     "name": "stderr",
     "output_type": "stream",
     "text": [
      "100%|██████████| 104/104 [00:16<00:00,  6.33it/s]\n",
      "100%|██████████| 26/26 [00:11<00:00,  2.22it/s]\n"
     ]
    },
    {
     "name": "stdout",
     "output_type": "stream",
     "text": [
      "Fold: 3 \tEpoch: 44 \tTraining Loss: 2.301172 \tValidation Loss: 1.706818\n",
      "Fold: 3 \tEpoch: 44 \tTraining accuracy: 0.000000 \tValidation accuracy: 0.531250\n",
      "0.000687303296707956\n",
      "Validation loss decreased (1.715950 --> 1.706818).  Saving model ...\n"
     ]
    },
    {
     "name": "stderr",
     "output_type": "stream",
     "text": [
      "100%|██████████| 104/104 [00:16<00:00,  6.47it/s]\n",
      "100%|██████████| 26/26 [00:10<00:00,  2.44it/s]\n"
     ]
    },
    {
     "name": "stdout",
     "output_type": "stream",
     "text": [
      "Fold: 3 \tEpoch: 45 \tTraining Loss: 2.257360 \tValidation Loss: 1.679207\n",
      "Fold: 3 \tEpoch: 45 \tTraining accuracy: 0.000000 \tValidation accuracy: 0.509784\n",
      "0.0006710100716628344\n",
      "Validation loss decreased (1.706818 --> 1.679207).  Saving model ...\n"
     ]
    },
    {
     "name": "stderr",
     "output_type": "stream",
     "text": [
      "100%|██████████| 104/104 [00:16<00:00,  6.46it/s]\n",
      "100%|██████████| 26/26 [00:10<00:00,  2.42it/s]\n"
     ]
    },
    {
     "name": "stdout",
     "output_type": "stream",
     "text": [
      "Fold: 3 \tEpoch: 46 \tTraining Loss: 2.347879 \tValidation Loss: 1.666387\n",
      "Fold: 3 \tEpoch: 46 \tTraining accuracy: 0.000000 \tValidation accuracy: 0.512692\n",
      "0.0006545084971874737\n",
      "Validation loss decreased (1.679207 --> 1.666387).  Saving model ...\n"
     ]
    },
    {
     "name": "stderr",
     "output_type": "stream",
     "text": [
      "100%|██████████| 104/104 [00:16<00:00,  6.46it/s]\n",
      "100%|██████████| 26/26 [00:10<00:00,  2.49it/s]\n"
     ]
    },
    {
     "name": "stdout",
     "output_type": "stream",
     "text": [
      "Fold: 3 \tEpoch: 47 \tTraining Loss: 2.328458 \tValidation Loss: 1.652653\n",
      "Fold: 3 \tEpoch: 47 \tTraining accuracy: 0.000000 \tValidation accuracy: 0.505913\n",
      "0.0006378186779084996\n",
      "Validation loss decreased (1.666387 --> 1.652653).  Saving model ...\n"
     ]
    },
    {
     "name": "stderr",
     "output_type": "stream",
     "text": [
      "100%|██████████| 104/104 [00:16<00:00,  6.45it/s]\n",
      "100%|██████████| 26/26 [00:10<00:00,  2.45it/s]\n"
     ]
    },
    {
     "name": "stdout",
     "output_type": "stream",
     "text": [
      "Fold: 3 \tEpoch: 48 \tTraining Loss: 2.215417 \tValidation Loss: 1.596439\n",
      "Fold: 3 \tEpoch: 48 \tTraining accuracy: 0.000000 \tValidation accuracy: 0.529087\n",
      "0.0006209609477998339\n",
      "Validation loss decreased (1.652653 --> 1.596439).  Saving model ...\n"
     ]
    },
    {
     "name": "stderr",
     "output_type": "stream",
     "text": [
      "100%|██████████| 104/104 [00:16<00:00,  6.50it/s]\n",
      "100%|██████████| 26/26 [00:10<00:00,  2.50it/s]\n"
     ]
    },
    {
     "name": "stdout",
     "output_type": "stream",
     "text": [
      "Fold: 3 \tEpoch: 49 \tTraining Loss: 2.367815 \tValidation Loss: 1.761786\n",
      "Fold: 3 \tEpoch: 49 \tTraining accuracy: 0.000000 \tValidation accuracy: 0.506250\n",
      "0.0006039558454088797\n"
     ]
    },
    {
     "name": "stderr",
     "output_type": "stream",
     "text": [
      "100%|██████████| 104/104 [00:16<00:00,  6.48it/s]\n",
      "100%|██████████| 26/26 [00:10<00:00,  2.49it/s]\n"
     ]
    },
    {
     "name": "stdout",
     "output_type": "stream",
     "text": [
      "Fold: 3 \tEpoch: 50 \tTraining Loss: 2.363011 \tValidation Loss: 1.672824\n",
      "Fold: 3 \tEpoch: 50 \tTraining accuracy: 0.000000 \tValidation accuracy: 0.525481\n",
      "0.0005868240888334653\n"
     ]
    },
    {
     "name": "stderr",
     "output_type": "stream",
     "text": [
      "100%|██████████| 104/104 [00:15<00:00,  6.51it/s]\n",
      "100%|██████████| 26/26 [00:10<00:00,  2.49it/s]\n"
     ]
    },
    {
     "name": "stdout",
     "output_type": "stream",
     "text": [
      "Fold: 3 \tEpoch: 51 \tTraining Loss: 2.298363 \tValidation Loss: 1.627440\n",
      "Fold: 3 \tEpoch: 51 \tTraining accuracy: 0.000000 \tValidation accuracy: 0.515385\n",
      "0.0005695865504800328\n"
     ]
    },
    {
     "name": "stderr",
     "output_type": "stream",
     "text": [
      "100%|██████████| 104/104 [00:16<00:00,  6.47it/s]\n",
      "100%|██████████| 26/26 [00:10<00:00,  2.45it/s]\n"
     ]
    },
    {
     "name": "stdout",
     "output_type": "stream",
     "text": [
      "Fold: 3 \tEpoch: 52 \tTraining Loss: 2.236730 \tValidation Loss: 1.601696\n",
      "Fold: 3 \tEpoch: 52 \tTraining accuracy: 0.000000 \tValidation accuracy: 0.530601\n",
      "0.0005522642316338268\n"
     ]
    },
    {
     "name": "stderr",
     "output_type": "stream",
     "text": [
      "100%|██████████| 104/104 [00:16<00:00,  6.43it/s]\n",
      "100%|██████████| 26/26 [00:10<00:00,  2.41it/s]\n"
     ]
    },
    {
     "name": "stdout",
     "output_type": "stream",
     "text": [
      "Fold: 3 \tEpoch: 53 \tTraining Loss: 2.327707 \tValidation Loss: 1.678341\n",
      "Fold: 3 \tEpoch: 53 \tTraining accuracy: 0.000000 \tValidation accuracy: 0.523341\n",
      "0.0005348782368720627\n"
     ]
    },
    {
     "name": "stderr",
     "output_type": "stream",
     "text": [
      "100%|██████████| 104/104 [00:16<00:00,  6.47it/s]\n",
      "100%|██████████| 26/26 [00:10<00:00,  2.44it/s]\n"
     ]
    },
    {
     "name": "stdout",
     "output_type": "stream",
     "text": [
      "Fold: 3 \tEpoch: 54 \tTraining Loss: 2.190645 \tValidation Loss: 1.607388\n",
      "Fold: 3 \tEpoch: 54 \tTraining accuracy: 0.000000 \tValidation accuracy: 0.537764\n",
      "0.0005174497483512506\n"
     ]
    },
    {
     "name": "stderr",
     "output_type": "stream",
     "text": [
      "100%|██████████| 104/104 [00:16<00:00,  6.48it/s]\n",
      "100%|██████████| 26/26 [00:10<00:00,  2.42it/s]\n"
     ]
    },
    {
     "name": "stdout",
     "output_type": "stream",
     "text": [
      "Fold: 3 \tEpoch: 55 \tTraining Loss: 2.285795 \tValidation Loss: 1.591694\n",
      "Fold: 3 \tEpoch: 55 \tTraining accuracy: 0.000000 \tValidation accuracy: 0.530745\n",
      "0.0005\n",
      "Validation loss decreased (1.596439 --> 1.591694).  Saving model ...\n"
     ]
    },
    {
     "name": "stderr",
     "output_type": "stream",
     "text": [
      "100%|██████████| 104/104 [00:16<00:00,  6.49it/s]\n",
      "100%|██████████| 26/26 [00:10<00:00,  2.47it/s]\n"
     ]
    },
    {
     "name": "stdout",
     "output_type": "stream",
     "text": [
      "Fold: 3 \tEpoch: 56 \tTraining Loss: 2.264450 \tValidation Loss: 1.612633\n",
      "Fold: 3 \tEpoch: 56 \tTraining accuracy: 0.000000 \tValidation accuracy: 0.537596\n",
      "0.0004825502516487497\n"
     ]
    },
    {
     "name": "stderr",
     "output_type": "stream",
     "text": [
      "100%|██████████| 104/104 [00:16<00:00,  6.48it/s]\n",
      "100%|██████████| 26/26 [00:10<00:00,  2.48it/s]\n"
     ]
    },
    {
     "name": "stdout",
     "output_type": "stream",
     "text": [
      "Fold: 3 \tEpoch: 57 \tTraining Loss: 2.160364 \tValidation Loss: 1.524361\n",
      "Fold: 3 \tEpoch: 57 \tTraining accuracy: 0.000000 \tValidation accuracy: 0.554062\n",
      "0.00046512176312793734\n",
      "Validation loss decreased (1.591694 --> 1.524361).  Saving model ...\n"
     ]
    },
    {
     "name": "stderr",
     "output_type": "stream",
     "text": [
      "100%|██████████| 104/104 [00:15<00:00,  6.52it/s]\n",
      "100%|██████████| 26/26 [00:10<00:00,  2.46it/s]\n"
     ]
    },
    {
     "name": "stdout",
     "output_type": "stream",
     "text": [
      "Fold: 3 \tEpoch: 58 \tTraining Loss: 2.179715 \tValidation Loss: 1.571019\n",
      "Fold: 3 \tEpoch: 58 \tTraining accuracy: 0.000000 \tValidation accuracy: 0.533317\n",
      "0.00044773576836617336\n"
     ]
    },
    {
     "name": "stderr",
     "output_type": "stream",
     "text": [
      "100%|██████████| 104/104 [00:16<00:00,  6.49it/s]\n",
      "100%|██████████| 26/26 [00:10<00:00,  2.48it/s]\n"
     ]
    },
    {
     "name": "stdout",
     "output_type": "stream",
     "text": [
      "Fold: 3 \tEpoch: 59 \tTraining Loss: 2.258899 \tValidation Loss: 1.585500\n",
      "Fold: 3 \tEpoch: 59 \tTraining accuracy: 0.000000 \tValidation accuracy: 0.537596\n",
      "0.0004304134495199673\n"
     ]
    },
    {
     "name": "stderr",
     "output_type": "stream",
     "text": [
      "100%|██████████| 104/104 [00:16<00:00,  6.50it/s]\n",
      "100%|██████████| 26/26 [00:10<00:00,  2.48it/s]\n"
     ]
    },
    {
     "name": "stdout",
     "output_type": "stream",
     "text": [
      "Fold: 3 \tEpoch: 60 \tTraining Loss: 2.252918 \tValidation Loss: 1.590656\n",
      "Fold: 3 \tEpoch: 60 \tTraining accuracy: 0.000000 \tValidation accuracy: 0.547548\n",
      "0.00041317591116653486\n"
     ]
    },
    {
     "name": "stderr",
     "output_type": "stream",
     "text": [
      "100%|██████████| 104/104 [00:16<00:00,  6.49it/s]\n",
      "100%|██████████| 26/26 [00:10<00:00,  2.46it/s]\n"
     ]
    },
    {
     "name": "stdout",
     "output_type": "stream",
     "text": [
      "Fold: 3 \tEpoch: 61 \tTraining Loss: 2.185262 \tValidation Loss: 1.515524\n",
      "Fold: 3 \tEpoch: 61 \tTraining accuracy: 0.000000 \tValidation accuracy: 0.561370\n",
      "0.0003960441545911204\n",
      "Validation loss decreased (1.524361 --> 1.515524).  Saving model ...\n"
     ]
    },
    {
     "name": "stderr",
     "output_type": "stream",
     "text": [
      "100%|██████████| 104/104 [00:16<00:00,  6.50it/s]\n",
      "100%|██████████| 26/26 [00:10<00:00,  2.50it/s]\n"
     ]
    },
    {
     "name": "stdout",
     "output_type": "stream",
     "text": [
      "Fold: 3 \tEpoch: 62 \tTraining Loss: 2.226193 \tValidation Loss: 1.527748\n",
      "Fold: 3 \tEpoch: 62 \tTraining accuracy: 0.000000 \tValidation accuracy: 0.554760\n",
      "0.0003790390522001661\n"
     ]
    },
    {
     "name": "stderr",
     "output_type": "stream",
     "text": [
      "100%|██████████| 104/104 [00:15<00:00,  6.51it/s]\n",
      "100%|██████████| 26/26 [00:10<00:00,  2.43it/s]\n"
     ]
    },
    {
     "name": "stdout",
     "output_type": "stream",
     "text": [
      "Fold: 3 \tEpoch: 63 \tTraining Loss: 2.118559 \tValidation Loss: 1.525372\n",
      "Fold: 3 \tEpoch: 63 \tTraining accuracy: 0.000000 \tValidation accuracy: 0.551082\n",
      "0.00036218132209150044\n"
     ]
    },
    {
     "name": "stderr",
     "output_type": "stream",
     "text": [
      "100%|██████████| 104/104 [00:15<00:00,  6.50it/s]\n",
      "100%|██████████| 26/26 [00:10<00:00,  2.45it/s]\n"
     ]
    },
    {
     "name": "stdout",
     "output_type": "stream",
     "text": [
      "Fold: 3 \tEpoch: 64 \tTraining Loss: 2.170720 \tValidation Loss: 1.555885\n",
      "Fold: 3 \tEpoch: 64 \tTraining accuracy: 0.000000 \tValidation accuracy: 0.536995\n",
      "0.00034549150281252633\n"
     ]
    },
    {
     "name": "stderr",
     "output_type": "stream",
     "text": [
      "100%|██████████| 104/104 [00:16<00:00,  6.50it/s]\n",
      "100%|██████████| 26/26 [00:10<00:00,  2.46it/s]\n"
     ]
    },
    {
     "name": "stdout",
     "output_type": "stream",
     "text": [
      "Fold: 3 \tEpoch: 65 \tTraining Loss: 2.174246 \tValidation Loss: 1.498541\n",
      "Fold: 3 \tEpoch: 65 \tTraining accuracy: 0.000000 \tValidation accuracy: 0.564111\n",
      "0.0003289899283371657\n",
      "Validation loss decreased (1.515524 --> 1.498541).  Saving model ...\n"
     ]
    },
    {
     "name": "stderr",
     "output_type": "stream",
     "text": [
      "100%|██████████| 104/104 [00:16<00:00,  6.48it/s]\n",
      "100%|██████████| 26/26 [00:10<00:00,  2.42it/s]\n"
     ]
    },
    {
     "name": "stdout",
     "output_type": "stream",
     "text": [
      "Fold: 3 \tEpoch: 66 \tTraining Loss: 2.141130 \tValidation Loss: 1.485908\n",
      "Fold: 3 \tEpoch: 66 \tTraining accuracy: 0.000000 \tValidation accuracy: 0.570986\n",
      "0.00031269670329204396\n",
      "Validation loss decreased (1.498541 --> 1.485908).  Saving model ...\n"
     ]
    },
    {
     "name": "stderr",
     "output_type": "stream",
     "text": [
      "100%|██████████| 104/104 [00:16<00:00,  6.49it/s]\n",
      "100%|██████████| 26/26 [00:10<00:00,  2.48it/s]\n"
     ]
    },
    {
     "name": "stdout",
     "output_type": "stream",
     "text": [
      "Fold: 3 \tEpoch: 67 \tTraining Loss: 2.200686 \tValidation Loss: 1.423560\n",
      "Fold: 3 \tEpoch: 67 \tTraining accuracy: 0.000000 \tValidation accuracy: 0.589351\n",
      "0.0002966316784620999\n",
      "Validation loss decreased (1.485908 --> 1.423560).  Saving model ...\n"
     ]
    },
    {
     "name": "stderr",
     "output_type": "stream",
     "text": [
      "100%|██████████| 104/104 [00:16<00:00,  6.47it/s]\n",
      "100%|██████████| 26/26 [00:10<00:00,  2.49it/s]\n"
     ]
    },
    {
     "name": "stdout",
     "output_type": "stream",
     "text": [
      "Fold: 3 \tEpoch: 68 \tTraining Loss: 2.135676 \tValidation Loss: 1.477054\n",
      "Fold: 3 \tEpoch: 68 \tTraining accuracy: 0.000000 \tValidation accuracy: 0.558534\n",
      "0.00028081442660546124\n"
     ]
    },
    {
     "name": "stderr",
     "output_type": "stream",
     "text": [
      "100%|██████████| 104/104 [00:15<00:00,  6.51it/s]\n",
      "100%|██████████| 26/26 [00:10<00:00,  2.48it/s]\n"
     ]
    },
    {
     "name": "stdout",
     "output_type": "stream",
     "text": [
      "Fold: 3 \tEpoch: 69 \tTraining Loss: 2.128104 \tValidation Loss: 1.468388\n",
      "Fold: 3 \tEpoch: 69 \tTraining accuracy: 0.000000 \tValidation accuracy: 0.557428\n",
      "0.00026526421860705474\n"
     ]
    },
    {
     "name": "stderr",
     "output_type": "stream",
     "text": [
      "100%|██████████| 104/104 [00:16<00:00,  6.49it/s]\n",
      "100%|██████████| 26/26 [00:10<00:00,  2.46it/s]\n"
     ]
    },
    {
     "name": "stdout",
     "output_type": "stream",
     "text": [
      "Fold: 3 \tEpoch: 70 \tTraining Loss: 2.200353 \tValidation Loss: 1.432828\n",
      "Fold: 3 \tEpoch: 70 \tTraining accuracy: 0.000000 \tValidation accuracy: 0.582740\n",
      "0.0002500000000000001\n"
     ]
    },
    {
     "name": "stderr",
     "output_type": "stream",
     "text": [
      "100%|██████████| 104/104 [00:15<00:00,  6.51it/s]\n",
      "100%|██████████| 26/26 [00:10<00:00,  2.46it/s]\n"
     ]
    },
    {
     "name": "stdout",
     "output_type": "stream",
     "text": [
      "Fold: 3 \tEpoch: 71 \tTraining Loss: 2.154931 \tValidation Loss: 1.434425\n",
      "Fold: 3 \tEpoch: 71 \tTraining accuracy: 0.000000 \tValidation accuracy: 0.577091\n",
      "0.0002350403678833976\n"
     ]
    },
    {
     "name": "stderr",
     "output_type": "stream",
     "text": [
      "100%|██████████| 104/104 [00:15<00:00,  6.50it/s]\n",
      "100%|██████████| 26/26 [00:10<00:00,  2.45it/s]\n"
     ]
    },
    {
     "name": "stdout",
     "output_type": "stream",
     "text": [
      "Fold: 3 \tEpoch: 72 \tTraining Loss: 2.179133 \tValidation Loss: 1.439988\n",
      "Fold: 3 \tEpoch: 72 \tTraining accuracy: 0.000000 \tValidation accuracy: 0.580841\n",
      "0.00022040354826462666\n"
     ]
    },
    {
     "name": "stderr",
     "output_type": "stream",
     "text": [
      "100%|██████████| 104/104 [00:16<00:00,  6.47it/s]\n",
      "100%|██████████| 26/26 [00:10<00:00,  2.49it/s]\n"
     ]
    },
    {
     "name": "stdout",
     "output_type": "stream",
     "text": [
      "Fold: 3 \tEpoch: 73 \tTraining Loss: 2.124336 \tValidation Loss: 1.455534\n",
      "Fold: 3 \tEpoch: 73 \tTraining accuracy: 0.000000 \tValidation accuracy: 0.568221\n",
      "0.00020610737385376348\n"
     ]
    },
    {
     "name": "stderr",
     "output_type": "stream",
     "text": [
      "100%|██████████| 104/104 [00:15<00:00,  6.51it/s]\n",
      "100%|██████████| 26/26 [00:10<00:00,  2.49it/s]\n"
     ]
    },
    {
     "name": "stdout",
     "output_type": "stream",
     "text": [
      "Fold: 3 \tEpoch: 74 \tTraining Loss: 2.114938 \tValidation Loss: 1.423129\n",
      "Fold: 3 \tEpoch: 74 \tTraining accuracy: 0.000000 \tValidation accuracy: 0.580264\n",
      "0.00019216926233717085\n",
      "Validation loss decreased (1.423560 --> 1.423129).  Saving model ...\n"
     ]
    },
    {
     "name": "stderr",
     "output_type": "stream",
     "text": [
      "100%|██████████| 104/104 [00:16<00:00,  6.49it/s]\n",
      "100%|██████████| 26/26 [00:10<00:00,  2.47it/s]\n"
     ]
    },
    {
     "name": "stdout",
     "output_type": "stream",
     "text": [
      "Fold: 3 \tEpoch: 75 \tTraining Loss: 2.096431 \tValidation Loss: 1.438868\n",
      "Fold: 3 \tEpoch: 75 \tTraining accuracy: 0.000000 \tValidation accuracy: 0.562332\n",
      "0.0001786061951567303\n"
     ]
    },
    {
     "name": "stderr",
     "output_type": "stream",
     "text": [
      "100%|██████████| 104/104 [00:16<00:00,  6.48it/s]\n",
      "100%|██████████| 26/26 [00:10<00:00,  2.46it/s]\n"
     ]
    },
    {
     "name": "stdout",
     "output_type": "stream",
     "text": [
      "Fold: 3 \tEpoch: 76 \tTraining Loss: 2.092158 \tValidation Loss: 1.388894\n",
      "Fold: 3 \tEpoch: 76 \tTraining accuracy: 0.000000 \tValidation accuracy: 0.586635\n",
      "0.0001654346968205709\n",
      "Validation loss decreased (1.423129 --> 1.388894).  Saving model ...\n"
     ]
    },
    {
     "name": "stderr",
     "output_type": "stream",
     "text": [
      "100%|██████████| 104/104 [00:15<00:00,  6.52it/s]\n",
      "100%|██████████| 26/26 [00:10<00:00,  2.49it/s]\n"
     ]
    },
    {
     "name": "stdout",
     "output_type": "stream",
     "text": [
      "Fold: 3 \tEpoch: 77 \tTraining Loss: 2.116648 \tValidation Loss: 1.407291\n",
      "Fold: 3 \tEpoch: 77 \tTraining accuracy: 0.000000 \tValidation accuracy: 0.582067\n",
      "0.0001526708147705015\n"
     ]
    },
    {
     "name": "stderr",
     "output_type": "stream",
     "text": [
      "100%|██████████| 104/104 [00:16<00:00,  6.49it/s]\n",
      "100%|██████████| 26/26 [00:10<00:00,  2.44it/s]\n"
     ]
    },
    {
     "name": "stdout",
     "output_type": "stream",
     "text": [
      "Fold: 3 \tEpoch: 78 \tTraining Loss: 2.157476 \tValidation Loss: 1.427991\n",
      "Fold: 3 \tEpoch: 78 \tTraining accuracy: 0.000000 \tValidation accuracy: 0.592788\n",
      "0.00014033009983067436\n"
     ]
    },
    {
     "name": "stderr",
     "output_type": "stream",
     "text": [
      "100%|██████████| 104/104 [00:16<00:00,  6.47it/s]\n",
      "100%|██████████| 26/26 [00:10<00:00,  2.44it/s]\n"
     ]
    },
    {
     "name": "stdout",
     "output_type": "stream",
     "text": [
      "Fold: 3 \tEpoch: 79 \tTraining Loss: 1.993907 \tValidation Loss: 1.398127\n",
      "Fold: 3 \tEpoch: 79 \tTraining accuracy: 0.000000 \tValidation accuracy: 0.584904\n",
      "0.00012842758726130292\n"
     ]
    },
    {
     "name": "stderr",
     "output_type": "stream",
     "text": [
      "100%|██████████| 104/104 [00:15<00:00,  6.50it/s]\n",
      "100%|██████████| 26/26 [00:10<00:00,  2.45it/s]\n"
     ]
    },
    {
     "name": "stdout",
     "output_type": "stream",
     "text": [
      "Fold: 3 \tEpoch: 80 \tTraining Loss: 2.051115 \tValidation Loss: 1.397395\n",
      "Fold: 3 \tEpoch: 80 \tTraining accuracy: 0.000000 \tValidation accuracy: 0.584976\n",
      "0.00011697777844051105\n"
     ]
    },
    {
     "name": "stderr",
     "output_type": "stream",
     "text": [
      "100%|██████████| 104/104 [00:16<00:00,  6.46it/s]\n",
      "100%|██████████| 26/26 [00:10<00:00,  2.48it/s]\n"
     ]
    },
    {
     "name": "stdout",
     "output_type": "stream",
     "text": [
      "Fold: 3 \tEpoch: 81 \tTraining Loss: 2.041672 \tValidation Loss: 1.404671\n",
      "Fold: 3 \tEpoch: 81 \tTraining accuracy: 0.000000 \tValidation accuracy: 0.592356\n",
      "0.00010599462319663906\n"
     ]
    },
    {
     "name": "stderr",
     "output_type": "stream",
     "text": [
      "100%|██████████| 104/104 [00:16<00:00,  6.49it/s]\n",
      "100%|██████████| 26/26 [00:10<00:00,  2.48it/s]\n"
     ]
    },
    {
     "name": "stdout",
     "output_type": "stream",
     "text": [
      "Fold: 3 \tEpoch: 82 \tTraining Loss: 2.097462 \tValidation Loss: 1.399111\n",
      "Fold: 3 \tEpoch: 82 \tTraining accuracy: 0.000000 \tValidation accuracy: 0.589014\n",
      "9.549150281252633e-05\n"
     ]
    },
    {
     "name": "stderr",
     "output_type": "stream",
     "text": [
      "100%|██████████| 104/104 [00:15<00:00,  6.50it/s]\n",
      "100%|██████████| 26/26 [00:10<00:00,  2.49it/s]\n"
     ]
    },
    {
     "name": "stdout",
     "output_type": "stream",
     "text": [
      "Fold: 3 \tEpoch: 83 \tTraining Loss: 2.068709 \tValidation Loss: 1.402935\n",
      "Fold: 3 \tEpoch: 83 \tTraining accuracy: 0.000000 \tValidation accuracy: 0.593029\n",
      "8.548121372247918e-05\n"
     ]
    },
    {
     "name": "stderr",
     "output_type": "stream",
     "text": [
      "100%|██████████| 104/104 [00:15<00:00,  6.52it/s]\n",
      "100%|██████████| 26/26 [00:10<00:00,  2.44it/s]\n"
     ]
    },
    {
     "name": "stdout",
     "output_type": "stream",
     "text": [
      "Fold: 3 \tEpoch: 84 \tTraining Loss: 2.028225 \tValidation Loss: 1.389086\n",
      "Fold: 3 \tEpoch: 84 \tTraining accuracy: 0.000000 \tValidation accuracy: 0.594159\n",
      "7.597595192178702e-05\n"
     ]
    },
    {
     "name": "stderr",
     "output_type": "stream",
     "text": [
      "100%|██████████| 104/104 [00:16<00:00,  6.49it/s]\n",
      "100%|██████████| 26/26 [00:10<00:00,  2.44it/s]\n"
     ]
    },
    {
     "name": "stdout",
     "output_type": "stream",
     "text": [
      "Fold: 3 \tEpoch: 85 \tTraining Loss: 2.056278 \tValidation Loss: 1.402559\n",
      "Fold: 3 \tEpoch: 85 \tTraining accuracy: 0.000000 \tValidation accuracy: 0.584471\n",
      "6.698729810778065e-05\n"
     ]
    },
    {
     "name": "stderr",
     "output_type": "stream",
     "text": [
      "100%|██████████| 104/104 [00:16<00:00,  6.47it/s]\n",
      "100%|██████████| 26/26 [00:10<00:00,  2.45it/s]\n"
     ]
    },
    {
     "name": "stdout",
     "output_type": "stream",
     "text": [
      "Fold: 3 \tEpoch: 86 \tTraining Loss: 2.014559 \tValidation Loss: 1.357386\n",
      "Fold: 3 \tEpoch: 86 \tTraining accuracy: 0.000000 \tValidation accuracy: 0.595962\n",
      "5.8526203570536616e-05\n",
      "Validation loss decreased (1.388894 --> 1.357386).  Saving model ...\n"
     ]
    },
    {
     "name": "stderr",
     "output_type": "stream",
     "text": [
      "100%|██████████| 104/104 [00:16<00:00,  6.31it/s]\n",
      "100%|██████████| 26/26 [00:11<00:00,  2.35it/s]\n"
     ]
    },
    {
     "name": "stdout",
     "output_type": "stream",
     "text": [
      "Fold: 3 \tEpoch: 87 \tTraining Loss: 2.142550 \tValidation Loss: 1.395605\n",
      "Fold: 3 \tEpoch: 87 \tTraining accuracy: 0.000000 \tValidation accuracy: 0.592885\n",
      "5.060297685041648e-05\n"
     ]
    },
    {
     "name": "stderr",
     "output_type": "stream",
     "text": [
      "100%|██████████| 104/104 [00:16<00:00,  6.43it/s]\n",
      "100%|██████████| 26/26 [00:10<00:00,  2.44it/s]\n"
     ]
    },
    {
     "name": "stdout",
     "output_type": "stream",
     "text": [
      "Fold: 3 \tEpoch: 88 \tTraining Loss: 1.992708 \tValidation Loss: 1.367600\n",
      "Fold: 3 \tEpoch: 88 \tTraining accuracy: 0.000000 \tValidation accuracy: 0.596394\n",
      "4.3227271178699624e-05\n"
     ]
    },
    {
     "name": "stderr",
     "output_type": "stream",
     "text": [
      "100%|██████████| 104/104 [00:16<00:00,  6.47it/s]\n",
      "100%|██████████| 26/26 [00:10<00:00,  2.45it/s]\n"
     ]
    },
    {
     "name": "stdout",
     "output_type": "stream",
     "text": [
      "Fold: 3 \tEpoch: 89 \tTraining Loss: 2.043907 \tValidation Loss: 1.357059\n",
      "Fold: 3 \tEpoch: 89 \tTraining accuracy: 0.000000 \tValidation accuracy: 0.598630\n",
      "3.6408072716606344e-05\n",
      "Validation loss decreased (1.357386 --> 1.357059).  Saving model ...\n"
     ]
    },
    {
     "name": "stderr",
     "output_type": "stream",
     "text": [
      "100%|██████████| 104/104 [00:16<00:00,  6.46it/s]\n",
      "100%|██████████| 26/26 [00:10<00:00,  2.42it/s]\n"
     ]
    },
    {
     "name": "stdout",
     "output_type": "stream",
     "text": [
      "Fold: 3 \tEpoch: 90 \tTraining Loss: 1.985520 \tValidation Loss: 1.352086\n",
      "Fold: 3 \tEpoch: 90 \tTraining accuracy: 0.000000 \tValidation accuracy: 0.603702\n",
      "3.0153689607045842e-05\n",
      "Validation loss decreased (1.357059 --> 1.352086).  Saving model ...\n"
     ]
    },
    {
     "name": "stderr",
     "output_type": "stream",
     "text": [
      "100%|██████████| 104/104 [00:16<00:00,  6.50it/s]\n",
      "100%|██████████| 26/26 [00:10<00:00,  2.49it/s]\n"
     ]
    },
    {
     "name": "stdout",
     "output_type": "stream",
     "text": [
      "Fold: 3 \tEpoch: 91 \tTraining Loss: 1.995511 \tValidation Loss: 1.349558\n",
      "Fold: 3 \tEpoch: 91 \tTraining accuracy: 0.000000 \tValidation accuracy: 0.605505\n",
      "2.4471741852423235e-05\n",
      "Validation loss decreased (1.352086 --> 1.349558).  Saving model ...\n"
     ]
    },
    {
     "name": "stderr",
     "output_type": "stream",
     "text": [
      "100%|██████████| 104/104 [00:16<00:00,  6.49it/s]\n",
      "100%|██████████| 26/26 [00:10<00:00,  2.48it/s]\n"
     ]
    },
    {
     "name": "stdout",
     "output_type": "stream",
     "text": [
      "Fold: 3 \tEpoch: 92 \tTraining Loss: 2.104931 \tValidation Loss: 1.379312\n",
      "Fold: 3 \tEpoch: 92 \tTraining accuracy: 0.000000 \tValidation accuracy: 0.589111\n",
      "1.9369152030840666e-05\n"
     ]
    },
    {
     "name": "stderr",
     "output_type": "stream",
     "text": [
      "100%|██████████| 104/104 [00:16<00:00,  6.48it/s]\n",
      "100%|██████████| 26/26 [00:10<00:00,  2.44it/s]\n"
     ]
    },
    {
     "name": "stdout",
     "output_type": "stream",
     "text": [
      "Fold: 3 \tEpoch: 93 \tTraining Loss: 2.025351 \tValidation Loss: 1.370642\n",
      "Fold: 3 \tEpoch: 93 \tTraining accuracy: 0.000000 \tValidation accuracy: 0.603774\n",
      "1.4852136862001764e-05\n"
     ]
    },
    {
     "name": "stderr",
     "output_type": "stream",
     "text": [
      "100%|██████████| 104/104 [00:15<00:00,  6.52it/s]\n",
      "100%|██████████| 26/26 [00:10<00:00,  2.48it/s]\n"
     ]
    },
    {
     "name": "stdout",
     "output_type": "stream",
     "text": [
      "Fold: 3 \tEpoch: 94 \tTraining Loss: 2.066434 \tValidation Loss: 1.358518\n",
      "Fold: 3 \tEpoch: 94 \tTraining accuracy: 0.000000 \tValidation accuracy: 0.603101\n",
      "1.0926199633097156e-05\n"
     ]
    },
    {
     "name": "stderr",
     "output_type": "stream",
     "text": [
      "100%|██████████| 104/104 [00:15<00:00,  6.50it/s]\n",
      "100%|██████████| 26/26 [00:10<00:00,  2.50it/s]\n"
     ]
    },
    {
     "name": "stdout",
     "output_type": "stream",
     "text": [
      "Fold: 3 \tEpoch: 95 \tTraining Loss: 1.998504 \tValidation Loss: 1.369884\n",
      "Fold: 3 \tEpoch: 95 \tTraining accuracy: 0.000000 \tValidation accuracy: 0.600000\n",
      "7.59612349389599e-06\n"
     ]
    },
    {
     "name": "stderr",
     "output_type": "stream",
     "text": [
      "100%|██████████| 104/104 [00:16<00:00,  6.49it/s]\n",
      "100%|██████████| 26/26 [00:10<00:00,  2.44it/s]\n"
     ]
    },
    {
     "name": "stdout",
     "output_type": "stream",
     "text": [
      "Fold: 3 \tEpoch: 96 \tTraining Loss: 2.008455 \tValidation Loss: 1.367188\n",
      "Fold: 3 \tEpoch: 96 \tTraining accuracy: 0.000000 \tValidation accuracy: 0.596058\n",
      "4.865965629214875e-06\n"
     ]
    },
    {
     "name": "stderr",
     "output_type": "stream",
     "text": [
      "100%|██████████| 104/104 [00:16<00:00,  6.48it/s]\n",
      "100%|██████████| 26/26 [00:10<00:00,  2.42it/s]\n"
     ]
    },
    {
     "name": "stdout",
     "output_type": "stream",
     "text": [
      "Fold: 3 \tEpoch: 97 \tTraining Loss: 1.954952 \tValidation Loss: 1.350062\n",
      "Fold: 3 \tEpoch: 97 \tTraining accuracy: 0.000000 \tValidation accuracy: 0.605072\n",
      "2.739052315863355e-06\n"
     ]
    },
    {
     "name": "stderr",
     "output_type": "stream",
     "text": [
      "100%|██████████| 104/104 [00:16<00:00,  6.43it/s]\n",
      "100%|██████████| 26/26 [00:10<00:00,  2.45it/s]\n"
     ]
    },
    {
     "name": "stdout",
     "output_type": "stream",
     "text": [
      "Fold: 3 \tEpoch: 98 \tTraining Loss: 2.041014 \tValidation Loss: 1.367540\n",
      "Fold: 3 \tEpoch: 98 \tTraining accuracy: 0.000000 \tValidation accuracy: 0.599567\n",
      "1.2179748700879012e-06\n"
     ]
    },
    {
     "name": "stderr",
     "output_type": "stream",
     "text": [
      "100%|██████████| 104/104 [00:16<00:00,  6.47it/s]\n",
      "100%|██████████| 26/26 [00:10<00:00,  2.49it/s]\n"
     ]
    },
    {
     "name": "stdout",
     "output_type": "stream",
     "text": [
      "Fold: 3 \tEpoch: 99 \tTraining Loss: 1.951271 \tValidation Loss: 1.356760\n",
      "Fold: 3 \tEpoch: 99 \tTraining accuracy: 0.000000 \tValidation accuracy: 0.599832\n",
      "3.0458649045211895e-07\n"
     ]
    },
    {
     "name": "stderr",
     "output_type": "stream",
     "text": [
      "100%|██████████| 104/104 [00:15<00:00,  6.51it/s]\n",
      "100%|██████████| 26/26 [00:10<00:00,  2.45it/s]\n"
     ]
    },
    {
     "name": "stdout",
     "output_type": "stream",
     "text": [
      "Fold: 3 \tEpoch: 100 \tTraining Loss: 2.106638 \tValidation Loss: 1.371569\n",
      "Fold: 3 \tEpoch: 100 \tTraining accuracy: 0.000000 \tValidation accuracy: 0.595433\n",
      "0.0\n"
     ]
    },
    {
     "name": "stderr",
     "output_type": "stream",
     "text": [
      "100%|██████████| 104/104 [00:16<00:00,  6.50it/s]\n",
      "100%|██████████| 26/26 [00:10<00:00,  2.41it/s]\n"
     ]
    },
    {
     "name": "stdout",
     "output_type": "stream",
     "text": [
      "Fold: 3 \tEpoch: 101 \tTraining Loss: 2.005302 \tValidation Loss: 1.352160\n",
      "Fold: 3 \tEpoch: 101 \tTraining accuracy: 0.000000 \tValidation accuracy: 0.606514\n",
      "5e-05\n"
     ]
    },
    {
     "name": "stderr",
     "output_type": "stream",
     "text": [
      "100%|██████████| 104/104 [00:16<00:00,  6.38it/s]\n",
      "100%|██████████| 26/26 [00:10<00:00,  2.49it/s]\n"
     ]
    },
    {
     "name": "stdout",
     "output_type": "stream",
     "text": [
      "Fold: 3 \tEpoch: 102 \tTraining Loss: 2.093908 \tValidation Loss: 1.392367\n",
      "Fold: 3 \tEpoch: 102 \tTraining accuracy: 0.000000 \tValidation accuracy: 0.594519\n",
      "0.0001\n"
     ]
    },
    {
     "name": "stderr",
     "output_type": "stream",
     "text": [
      "100%|██████████| 104/104 [00:16<00:00,  6.50it/s]\n",
      "100%|██████████| 26/26 [00:10<00:00,  2.45it/s]\n"
     ]
    },
    {
     "name": "stdout",
     "output_type": "stream",
     "text": [
      "Fold: 3 \tEpoch: 103 \tTraining Loss: 1.985964 \tValidation Loss: 1.386743\n",
      "Fold: 3 \tEpoch: 103 \tTraining accuracy: 0.000000 \tValidation accuracy: 0.598125\n",
      "0.00015000000000000001\n"
     ]
    },
    {
     "name": "stderr",
     "output_type": "stream",
     "text": [
      "100%|██████████| 104/104 [00:16<00:00,  6.47it/s]\n",
      "100%|██████████| 26/26 [00:10<00:00,  2.48it/s]\n"
     ]
    },
    {
     "name": "stdout",
     "output_type": "stream",
     "text": [
      "Fold: 3 \tEpoch: 104 \tTraining Loss: 2.127411 \tValidation Loss: 1.396052\n",
      "Fold: 3 \tEpoch: 104 \tTraining accuracy: 0.000000 \tValidation accuracy: 0.583438\n",
      "0.0002\n"
     ]
    },
    {
     "name": "stderr",
     "output_type": "stream",
     "text": [
      "100%|██████████| 104/104 [00:16<00:00,  6.47it/s]\n",
      "100%|██████████| 26/26 [00:10<00:00,  2.48it/s]\n"
     ]
    },
    {
     "name": "stdout",
     "output_type": "stream",
     "text": [
      "Fold: 3 \tEpoch: 105 \tTraining Loss: 2.009572 \tValidation Loss: 1.388225\n",
      "Fold: 3 \tEpoch: 105 \tTraining accuracy: 0.000000 \tValidation accuracy: 0.585913\n",
      "0.00025\n"
     ]
    },
    {
     "name": "stderr",
     "output_type": "stream",
     "text": [
      "100%|██████████| 104/104 [00:16<00:00,  6.46it/s]\n",
      "100%|██████████| 26/26 [00:10<00:00,  2.48it/s]\n"
     ]
    },
    {
     "name": "stdout",
     "output_type": "stream",
     "text": [
      "Fold: 3 \tEpoch: 106 \tTraining Loss: 2.113411 \tValidation Loss: 1.455080\n",
      "Fold: 3 \tEpoch: 106 \tTraining accuracy: 0.000000 \tValidation accuracy: 0.576298\n",
      "0.00030000000000000003\n"
     ]
    },
    {
     "name": "stderr",
     "output_type": "stream",
     "text": [
      "100%|██████████| 104/104 [00:16<00:00,  6.48it/s]\n",
      "100%|██████████| 26/26 [00:10<00:00,  2.48it/s]\n"
     ]
    },
    {
     "name": "stdout",
     "output_type": "stream",
     "text": [
      "Fold: 3 \tEpoch: 107 \tTraining Loss: 2.143670 \tValidation Loss: 1.417630\n",
      "Fold: 3 \tEpoch: 107 \tTraining accuracy: 0.000000 \tValidation accuracy: 0.584808\n",
      "0.00035\n"
     ]
    },
    {
     "name": "stderr",
     "output_type": "stream",
     "text": [
      "100%|██████████| 104/104 [00:15<00:00,  6.52it/s]\n",
      "100%|██████████| 26/26 [00:10<00:00,  2.50it/s]\n"
     ]
    },
    {
     "name": "stdout",
     "output_type": "stream",
     "text": [
      "Fold: 3 \tEpoch: 108 \tTraining Loss: 2.105874 \tValidation Loss: 1.505247\n",
      "Fold: 3 \tEpoch: 108 \tTraining accuracy: 0.000000 \tValidation accuracy: 0.568149\n",
      "0.0004\n"
     ]
    },
    {
     "name": "stderr",
     "output_type": "stream",
     "text": [
      "100%|██████████| 104/104 [00:20<00:00,  5.16it/s]\n",
      "100%|██████████| 26/26 [00:13<00:00,  1.90it/s]\n"
     ]
    },
    {
     "name": "stdout",
     "output_type": "stream",
     "text": [
      "Fold: 3 \tEpoch: 109 \tTraining Loss: 2.100596 \tValidation Loss: 1.507954\n",
      "Fold: 3 \tEpoch: 109 \tTraining accuracy: 0.000000 \tValidation accuracy: 0.576226\n",
      "0.00045000000000000004\n"
     ]
    },
    {
     "name": "stderr",
     "output_type": "stream",
     "text": [
      "100%|██████████| 104/104 [00:16<00:00,  6.24it/s]\n",
      "100%|██████████| 26/26 [00:11<00:00,  2.32it/s]\n"
     ]
    },
    {
     "name": "stdout",
     "output_type": "stream",
     "text": [
      "Fold: 3 \tEpoch: 110 \tTraining Loss: 2.117110 \tValidation Loss: 1.519848\n",
      "Fold: 3 \tEpoch: 110 \tTraining accuracy: 0.000000 \tValidation accuracy: 0.563005\n",
      "0.0005\n"
     ]
    },
    {
     "name": "stderr",
     "output_type": "stream",
     "text": [
      "100%|██████████| 104/104 [00:16<00:00,  6.20it/s]\n",
      "100%|██████████| 26/26 [00:10<00:00,  2.38it/s]\n"
     ]
    },
    {
     "name": "stdout",
     "output_type": "stream",
     "text": [
      "Fold: 3 \tEpoch: 111 \tTraining Loss: 2.102801 \tValidation Loss: 1.473404\n",
      "Fold: 3 \tEpoch: 111 \tTraining accuracy: 0.000000 \tValidation accuracy: 0.562404\n",
      "0.0004998477067547739\n"
     ]
    },
    {
     "name": "stderr",
     "output_type": "stream",
     "text": [
      "100%|██████████| 104/104 [00:17<00:00,  5.91it/s]\n",
      "100%|██████████| 26/26 [00:11<00:00,  2.21it/s]\n"
     ]
    },
    {
     "name": "stdout",
     "output_type": "stream",
     "text": [
      "Fold: 3 \tEpoch: 112 \tTraining Loss: 2.145171 \tValidation Loss: 1.497324\n",
      "Fold: 3 \tEpoch: 112 \tTraining accuracy: 0.000000 \tValidation accuracy: 0.574159\n",
      "0.0004993910125649561\n"
     ]
    },
    {
     "name": "stderr",
     "output_type": "stream",
     "text": [
      "100%|██████████| 104/104 [00:17<00:00,  6.00it/s]\n",
      "100%|██████████| 26/26 [00:10<00:00,  2.44it/s]\n"
     ]
    },
    {
     "name": "stdout",
     "output_type": "stream",
     "text": [
      "Fold: 3 \tEpoch: 113 \tTraining Loss: 2.186767 \tValidation Loss: 1.399031\n",
      "Fold: 3 \tEpoch: 113 \tTraining accuracy: 0.000000 \tValidation accuracy: 0.591322\n",
      "0.0004986304738420684\n"
     ]
    },
    {
     "name": "stderr",
     "output_type": "stream",
     "text": [
      "100%|██████████| 104/104 [00:16<00:00,  6.47it/s]\n",
      "100%|██████████| 26/26 [00:10<00:00,  2.48it/s]\n"
     ]
    },
    {
     "name": "stdout",
     "output_type": "stream",
     "text": [
      "Fold: 3 \tEpoch: 114 \tTraining Loss: 2.119619 \tValidation Loss: 1.492860\n",
      "Fold: 3 \tEpoch: 114 \tTraining accuracy: 0.000000 \tValidation accuracy: 0.571995\n",
      "0.0004975670171853926\n"
     ]
    },
    {
     "name": "stderr",
     "output_type": "stream",
     "text": [
      "100%|██████████| 104/104 [00:16<00:00,  6.49it/s]\n",
      "100%|██████████| 26/26 [00:10<00:00,  2.49it/s]\n"
     ]
    },
    {
     "name": "stdout",
     "output_type": "stream",
     "text": [
      "Fold: 3 \tEpoch: 115 \tTraining Loss: 2.146034 \tValidation Loss: 1.437446\n",
      "Fold: 3 \tEpoch: 115 \tTraining accuracy: 0.000000 \tValidation accuracy: 0.576034\n",
      "0.000496201938253052\n"
     ]
    },
    {
     "name": "stderr",
     "output_type": "stream",
     "text": [
      "100%|██████████| 104/104 [00:16<00:00,  6.45it/s]\n",
      "100%|██████████| 26/26 [00:10<00:00,  2.43it/s]\n"
     ]
    },
    {
     "name": "stdout",
     "output_type": "stream",
     "text": [
      "Fold: 3 \tEpoch: 116 \tTraining Loss: 2.180155 \tValidation Loss: 1.447809\n",
      "Fold: 3 \tEpoch: 116 \tTraining accuracy: 0.000000 \tValidation accuracy: 0.580865\n",
      "0.0004945369001834514\n"
     ]
    },
    {
     "name": "stderr",
     "output_type": "stream",
     "text": [
      "100%|██████████| 104/104 [00:16<00:00,  6.45it/s]\n",
      "100%|██████████| 26/26 [00:10<00:00,  2.44it/s]\n"
     ]
    },
    {
     "name": "stdout",
     "output_type": "stream",
     "text": [
      "Fold: 3 \tEpoch: 117 \tTraining Loss: 2.090521 \tValidation Loss: 1.448318\n",
      "Fold: 3 \tEpoch: 117 \tTraining accuracy: 0.000000 \tValidation accuracy: 0.568221\n",
      "0.0004925739315689991\n"
     ]
    },
    {
     "name": "stderr",
     "output_type": "stream",
     "text": [
      "100%|██████████| 104/104 [00:16<00:00,  6.42it/s]\n",
      "100%|██████████| 26/26 [00:10<00:00,  2.43it/s]\n"
     ]
    },
    {
     "name": "stdout",
     "output_type": "stream",
     "text": [
      "Fold: 3 \tEpoch: 118 \tTraining Loss: 2.181621 \tValidation Loss: 1.469565\n",
      "Fold: 3 \tEpoch: 118 \tTraining accuracy: 0.000000 \tValidation accuracy: 0.571322\n",
      "0.0004903154239845797\n"
     ]
    },
    {
     "name": "stderr",
     "output_type": "stream",
     "text": [
      "100%|██████████| 104/104 [00:16<00:00,  6.42it/s]\n",
      "100%|██████████| 26/26 [00:10<00:00,  2.41it/s]\n"
     ]
    },
    {
     "name": "stdout",
     "output_type": "stream",
     "text": [
      "Fold: 3 \tEpoch: 119 \tTraining Loss: 2.134187 \tValidation Loss: 1.501240\n",
      "Fold: 3 \tEpoch: 119 \tTraining accuracy: 0.000000 \tValidation accuracy: 0.564976\n",
      "0.0004877641290737884\n"
     ]
    },
    {
     "name": "stderr",
     "output_type": "stream",
     "text": [
      "100%|██████████| 104/104 [00:16<00:00,  6.44it/s]\n",
      "100%|██████████| 26/26 [00:10<00:00,  2.42it/s]\n"
     ]
    },
    {
     "name": "stdout",
     "output_type": "stream",
     "text": [
      "Fold: 3 \tEpoch: 120 \tTraining Loss: 2.209852 \tValidation Loss: 1.523387\n",
      "Fold: 3 \tEpoch: 120 \tTraining accuracy: 0.000000 \tValidation accuracy: 0.566514\n",
      "0.0004849231551964771\n"
     ]
    },
    {
     "name": "stderr",
     "output_type": "stream",
     "text": [
      "100%|██████████| 104/104 [00:16<00:00,  6.42it/s]\n",
      "100%|██████████| 26/26 [00:10<00:00,  2.41it/s]\n"
     ]
    },
    {
     "name": "stdout",
     "output_type": "stream",
     "text": [
      "Fold: 3 \tEpoch: 121 \tTraining Loss: 2.090797 \tValidation Loss: 1.471469\n",
      "Fold: 3 \tEpoch: 121 \tTraining accuracy: 0.000000 \tValidation accuracy: 0.579063\n",
      "0.00048179596364169685\n"
     ]
    },
    {
     "name": "stderr",
     "output_type": "stream",
     "text": [
      "100%|██████████| 104/104 [00:16<00:00,  6.38it/s]\n",
      "100%|██████████| 26/26 [00:10<00:00,  2.43it/s]\n"
     ]
    },
    {
     "name": "stdout",
     "output_type": "stream",
     "text": [
      "Fold: 3 \tEpoch: 122 \tTraining Loss: 2.037249 \tValidation Loss: 1.414982\n",
      "Fold: 3 \tEpoch: 122 \tTraining accuracy: 0.000000 \tValidation accuracy: 0.591587\n",
      "0.0004783863644106502\n"
     ]
    },
    {
     "name": "stderr",
     "output_type": "stream",
     "text": [
      "100%|██████████| 104/104 [00:16<00:00,  6.46it/s]\n",
      "100%|██████████| 26/26 [00:10<00:00,  2.43it/s]\n"
     ]
    },
    {
     "name": "stdout",
     "output_type": "stream",
     "text": [
      "Fold: 3 \tEpoch: 123 \tTraining Loss: 2.074047 \tValidation Loss: 1.417729\n",
      "Fold: 3 \tEpoch: 123 \tTraining accuracy: 0.000000 \tValidation accuracy: 0.594591\n",
      "0.00047469851157479177\n"
     ]
    },
    {
     "name": "stderr",
     "output_type": "stream",
     "text": [
      "100%|██████████| 104/104 [00:16<00:00,  6.47it/s]\n",
      "100%|██████████| 26/26 [00:10<00:00,  2.43it/s]\n"
     ]
    },
    {
     "name": "stdout",
     "output_type": "stream",
     "text": [
      "Fold: 3 \tEpoch: 124 \tTraining Loss: 2.117064 \tValidation Loss: 1.416697\n",
      "Fold: 3 \tEpoch: 124 \tTraining accuracy: 0.000000 \tValidation accuracy: 0.582139\n",
      "0.00047073689821473173\n"
     ]
    },
    {
     "name": "stderr",
     "output_type": "stream",
     "text": [
      "100%|██████████| 104/104 [00:16<00:00,  6.46it/s]\n",
      "100%|██████████| 26/26 [00:10<00:00,  2.46it/s]\n"
     ]
    },
    {
     "name": "stdout",
     "output_type": "stream",
     "text": [
      "Fold: 3 \tEpoch: 125 \tTraining Loss: 2.050585 \tValidation Loss: 1.449099\n",
      "Fold: 3 \tEpoch: 125 \tTraining accuracy: 0.000000 \tValidation accuracy: 0.593125\n",
      "0.00046650635094610973\n"
     ]
    },
    {
     "name": "stderr",
     "output_type": "stream",
     "text": [
      "100%|██████████| 104/104 [00:16<00:00,  6.44it/s]\n",
      "100%|██████████| 26/26 [00:10<00:00,  2.46it/s]\n"
     ]
    },
    {
     "name": "stdout",
     "output_type": "stream",
     "text": [
      "Fold: 3 \tEpoch: 126 \tTraining Loss: 2.069968 \tValidation Loss: 1.397871\n",
      "Fold: 3 \tEpoch: 126 \tTraining accuracy: 0.000000 \tValidation accuracy: 0.592356\n",
      "0.00046201202403910646\n"
     ]
    },
    {
     "name": "stderr",
     "output_type": "stream",
     "text": [
      "100%|██████████| 104/104 [00:16<00:00,  6.44it/s]\n",
      "100%|██████████| 26/26 [00:10<00:00,  2.48it/s]\n"
     ]
    },
    {
     "name": "stdout",
     "output_type": "stream",
     "text": [
      "Fold: 3 \tEpoch: 127 \tTraining Loss: 2.074442 \tValidation Loss: 1.372544\n",
      "Fold: 3 \tEpoch: 127 \tTraining accuracy: 0.000000 \tValidation accuracy: 0.600144\n",
      "0.00045725939313876043\n"
     ]
    },
    {
     "name": "stderr",
     "output_type": "stream",
     "text": [
      "100%|██████████| 104/104 [00:16<00:00,  6.48it/s]\n",
      "100%|██████████| 26/26 [00:10<00:00,  2.44it/s]\n"
     ]
    },
    {
     "name": "stdout",
     "output_type": "stream",
     "text": [
      "Fold: 3 \tEpoch: 128 \tTraining Loss: 2.029230 \tValidation Loss: 1.448126\n",
      "Fold: 3 \tEpoch: 128 \tTraining accuracy: 0.000000 \tValidation accuracy: 0.574327\n",
      "0.0004522542485937369\n"
     ]
    },
    {
     "name": "stderr",
     "output_type": "stream",
     "text": [
      "100%|██████████| 104/104 [00:15<00:00,  6.51it/s]\n",
      "100%|██████████| 26/26 [00:10<00:00,  2.41it/s]\n"
     ]
    },
    {
     "name": "stdout",
     "output_type": "stream",
     "text": [
      "Fold: 3 \tEpoch: 129 \tTraining Loss: 2.073072 \tValidation Loss: 1.459063\n",
      "Fold: 3 \tEpoch: 129 \tTraining accuracy: 0.000000 \tValidation accuracy: 0.576563\n",
      "0.0004470026884016805\n"
     ]
    },
    {
     "name": "stderr",
     "output_type": "stream",
     "text": [
      "100%|██████████| 104/104 [00:16<00:00,  6.48it/s]\n",
      "100%|██████████| 26/26 [00:10<00:00,  2.45it/s]\n"
     ]
    },
    {
     "name": "stdout",
     "output_type": "stream",
     "text": [
      "Fold: 3 \tEpoch: 130 \tTraining Loss: 2.043464 \tValidation Loss: 1.449363\n",
      "Fold: 3 \tEpoch: 130 \tTraining accuracy: 0.000000 \tValidation accuracy: 0.570817\n",
      "0.0004415111107797445\n"
     ]
    },
    {
     "name": "stderr",
     "output_type": "stream",
     "text": [
      "100%|██████████| 104/104 [00:16<00:00,  6.49it/s]\n",
      "100%|██████████| 26/26 [00:10<00:00,  2.48it/s]\n"
     ]
    },
    {
     "name": "stdout",
     "output_type": "stream",
     "text": [
      "Fold: 3 \tEpoch: 131 \tTraining Loss: 1.975702 \tValidation Loss: 1.419048\n",
      "Fold: 3 \tEpoch: 131 \tTraining accuracy: 0.000000 \tValidation accuracy: 0.585481\n",
      "0.00043578620636934855\n"
     ]
    },
    {
     "name": "stderr",
     "output_type": "stream",
     "text": [
      "100%|██████████| 104/104 [00:16<00:00,  6.49it/s]\n",
      "100%|██████████| 26/26 [00:10<00:00,  2.43it/s]\n"
     ]
    },
    {
     "name": "stdout",
     "output_type": "stream",
     "text": [
      "Fold: 3 \tEpoch: 132 \tTraining Loss: 2.095071 \tValidation Loss: 1.466423\n",
      "Fold: 3 \tEpoch: 132 \tTraining accuracy: 0.000000 \tValidation accuracy: 0.580000\n",
      "0.0004298349500846628\n"
     ]
    },
    {
     "name": "stderr",
     "output_type": "stream",
     "text": [
      "100%|██████████| 104/104 [00:16<00:00,  6.45it/s]\n",
      "100%|██████████| 26/26 [00:10<00:00,  2.44it/s]\n"
     ]
    },
    {
     "name": "stdout",
     "output_type": "stream",
     "text": [
      "Fold: 3 \tEpoch: 133 \tTraining Loss: 2.057684 \tValidation Loss: 1.468472\n",
      "Fold: 3 \tEpoch: 133 \tTraining accuracy: 0.000000 \tValidation accuracy: 0.569447\n",
      "0.00042366459261474935\n"
     ]
    },
    {
     "name": "stderr",
     "output_type": "stream",
     "text": [
      "100%|██████████| 104/104 [00:16<00:00,  6.41it/s]\n",
      "100%|██████████| 26/26 [00:10<00:00,  2.49it/s]\n"
     ]
    },
    {
     "name": "stdout",
     "output_type": "stream",
     "text": [
      "Fold: 3 \tEpoch: 134 \tTraining Loss: 2.006959 \tValidation Loss: 1.427785\n",
      "Fold: 3 \tEpoch: 134 \tTraining accuracy: 0.000000 \tValidation accuracy: 0.568077\n",
      "0.0004172826515897146\n"
     ]
    },
    {
     "name": "stderr",
     "output_type": "stream",
     "text": [
      "100%|██████████| 104/104 [00:16<00:00,  6.45it/s]\n",
      "100%|██████████| 26/26 [00:10<00:00,  2.43it/s]\n"
     ]
    },
    {
     "name": "stdout",
     "output_type": "stream",
     "text": [
      "Fold: 3 \tEpoch: 135 \tTraining Loss: 2.097368 \tValidation Loss: 1.428235\n",
      "Fold: 3 \tEpoch: 135 \tTraining accuracy: 0.000000 \tValidation accuracy: 0.572885\n",
      "0.0004106969024216348\n"
     ]
    },
    {
     "name": "stderr",
     "output_type": "stream",
     "text": [
      "100%|██████████| 104/104 [00:15<00:00,  6.50it/s]\n",
      "100%|██████████| 26/26 [00:10<00:00,  2.44it/s]\n"
     ]
    },
    {
     "name": "stdout",
     "output_type": "stream",
     "text": [
      "Fold: 3 \tEpoch: 136 \tTraining Loss: 2.090870 \tValidation Loss: 1.442302\n",
      "Fold: 3 \tEpoch: 136 \tTraining accuracy: 0.000000 \tValidation accuracy: 0.581130\n",
      "0.00040391536883141455\n"
     ]
    },
    {
     "name": "stderr",
     "output_type": "stream",
     "text": [
      "100%|██████████| 104/104 [00:16<00:00,  6.44it/s]\n",
      "100%|██████████| 26/26 [00:10<00:00,  2.44it/s]\n"
     ]
    },
    {
     "name": "stdout",
     "output_type": "stream",
     "text": [
      "Fold: 3 \tEpoch: 137 \tTraining Loss: 2.073500 \tValidation Loss: 1.356633\n",
      "Fold: 3 \tEpoch: 137 \tTraining accuracy: 0.000000 \tValidation accuracy: 0.585144\n",
      "0.0003969463130731183\n"
     ]
    },
    {
     "name": "stderr",
     "output_type": "stream",
     "text": [
      "100%|██████████| 104/104 [00:16<00:00,  6.50it/s]\n",
      "100%|██████████| 26/26 [00:10<00:00,  2.47it/s]\n"
     ]
    },
    {
     "name": "stdout",
     "output_type": "stream",
     "text": [
      "Fold: 3 \tEpoch: 138 \tTraining Loss: 2.017863 \tValidation Loss: 1.392680\n",
      "Fold: 3 \tEpoch: 138 \tTraining accuracy: 0.000000 \tValidation accuracy: 0.594159\n",
      "0.0003897982258676867\n"
     ]
    },
    {
     "name": "stderr",
     "output_type": "stream",
     "text": [
      "100%|██████████| 104/104 [00:20<00:00,  5.16it/s]\n",
      "100%|██████████| 26/26 [00:11<00:00,  2.17it/s]\n"
     ]
    },
    {
     "name": "stdout",
     "output_type": "stream",
     "text": [
      "Fold: 3 \tEpoch: 139 \tTraining Loss: 2.054748 \tValidation Loss: 1.410861\n",
      "Fold: 3 \tEpoch: 139 \tTraining accuracy: 0.000000 \tValidation accuracy: 0.587548\n",
      "0.00038247981605830125\n"
     ]
    },
    {
     "name": "stderr",
     "output_type": "stream",
     "text": [
      "100%|██████████| 104/104 [00:17<00:00,  5.84it/s]\n",
      "100%|██████████| 26/26 [00:10<00:00,  2.42it/s]\n"
     ]
    },
    {
     "name": "stdout",
     "output_type": "stream",
     "text": [
      "Fold: 3 \tEpoch: 140 \tTraining Loss: 1.220218 \tValidation Loss: 1.411507\n",
      "Fold: 3 \tEpoch: 140 \tTraining accuracy: 0.000000 \tValidation accuracy: 0.571154\n",
      "0.000375\n"
     ]
    },
    {
     "name": "stderr",
     "output_type": "stream",
     "text": [
      "100%|██████████| 104/104 [00:16<00:00,  6.48it/s]\n",
      "100%|██████████| 26/26 [00:10<00:00,  2.48it/s]\n"
     ]
    },
    {
     "name": "stdout",
     "output_type": "stream",
     "text": [
      "Fold: 3 \tEpoch: 141 \tTraining Loss: 1.166388 \tValidation Loss: 1.340821\n",
      "Fold: 3 \tEpoch: 141 \tTraining accuracy: 0.000000 \tValidation accuracy: 0.596394\n",
      "0.0003673678906964727\n",
      "Validation loss decreased (1.349558 --> 1.340821).  Saving model ...\n"
     ]
    },
    {
     "name": "stderr",
     "output_type": "stream",
     "text": [
      "100%|██████████| 104/104 [00:16<00:00,  6.45it/s]\n",
      "100%|██████████| 26/26 [00:10<00:00,  2.44it/s]\n"
     ]
    },
    {
     "name": "stdout",
     "output_type": "stream",
     "text": [
      "Fold: 3 \tEpoch: 142 \tTraining Loss: 1.099394 \tValidation Loss: 1.356513\n",
      "Fold: 3 \tEpoch: 142 \tTraining accuracy: 0.000000 \tValidation accuracy: 0.592957\n",
      "0.00035959278669726934\n"
     ]
    },
    {
     "name": "stderr",
     "output_type": "stream",
     "text": [
      "100%|██████████| 104/104 [00:16<00:00,  6.47it/s]\n",
      "100%|██████████| 26/26 [00:10<00:00,  2.42it/s]\n"
     ]
    },
    {
     "name": "stdout",
     "output_type": "stream",
     "text": [
      "Fold: 3 \tEpoch: 143 \tTraining Loss: 1.101661 \tValidation Loss: 1.372206\n",
      "Fold: 3 \tEpoch: 143 \tTraining accuracy: 0.000000 \tValidation accuracy: 0.592957\n",
      "0.00035168416076895\n"
     ]
    },
    {
     "name": "stderr",
     "output_type": "stream",
     "text": [
      "100%|██████████| 104/104 [00:16<00:00,  6.34it/s]\n",
      "100%|██████████| 26/26 [00:10<00:00,  2.49it/s]\n"
     ]
    },
    {
     "name": "stdout",
     "output_type": "stream",
     "text": [
      "Fold: 3 \tEpoch: 144 \tTraining Loss: 1.071391 \tValidation Loss: 1.317065\n",
      "Fold: 3 \tEpoch: 144 \tTraining accuracy: 0.000000 \tValidation accuracy: 0.605938\n",
      "0.000343651648353978\n",
      "Validation loss decreased (1.340821 --> 1.317065).  Saving model ...\n"
     ]
    },
    {
     "name": "stderr",
     "output_type": "stream",
     "text": [
      "100%|██████████| 104/104 [00:16<00:00,  6.44it/s]\n",
      "100%|██████████| 26/26 [00:10<00:00,  2.44it/s]\n"
     ]
    },
    {
     "name": "stdout",
     "output_type": "stream",
     "text": [
      "Fold: 3 \tEpoch: 145 \tTraining Loss: 1.021438 \tValidation Loss: 1.339930\n",
      "Fold: 3 \tEpoch: 145 \tTraining accuracy: 0.000000 \tValidation accuracy: 0.601803\n",
      "0.0003355050358314172\n"
     ]
    },
    {
     "name": "stderr",
     "output_type": "stream",
     "text": [
      "100%|██████████| 104/104 [00:16<00:00,  6.49it/s]\n",
      "100%|██████████| 26/26 [00:10<00:00,  2.47it/s]\n"
     ]
    },
    {
     "name": "stdout",
     "output_type": "stream",
     "text": [
      "Fold: 3 \tEpoch: 146 \tTraining Loss: 1.025495 \tValidation Loss: 1.315232\n",
      "Fold: 3 \tEpoch: 146 \tTraining accuracy: 0.000000 \tValidation accuracy: 0.610457\n",
      "0.00032725424859373687\n",
      "Validation loss decreased (1.317065 --> 1.315232).  Saving model ...\n"
     ]
    },
    {
     "name": "stderr",
     "output_type": "stream",
     "text": [
      "100%|██████████| 104/104 [00:16<00:00,  6.47it/s]\n",
      "100%|██████████| 26/26 [00:10<00:00,  2.44it/s]\n"
     ]
    },
    {
     "name": "stdout",
     "output_type": "stream",
     "text": [
      "Fold: 3 \tEpoch: 147 \tTraining Loss: 1.000013 \tValidation Loss: 1.348154\n",
      "Fold: 3 \tEpoch: 147 \tTraining accuracy: 0.000000 \tValidation accuracy: 0.600962\n",
      "0.0003189093389542498\n"
     ]
    },
    {
     "name": "stderr",
     "output_type": "stream",
     "text": [
      "100%|██████████| 104/104 [00:16<00:00,  6.49it/s]\n",
      "100%|██████████| 26/26 [00:10<00:00,  2.47it/s]\n"
     ]
    },
    {
     "name": "stdout",
     "output_type": "stream",
     "text": [
      "Fold: 3 \tEpoch: 148 \tTraining Loss: 0.963304 \tValidation Loss: 1.308459\n",
      "Fold: 3 \tEpoch: 148 \tTraining accuracy: 0.000000 \tValidation accuracy: 0.616490\n",
      "0.00031048047389991694\n",
      "Validation loss decreased (1.315232 --> 1.308459).  Saving model ...\n"
     ]
    },
    {
     "name": "stderr",
     "output_type": "stream",
     "text": [
      "100%|██████████| 104/104 [00:16<00:00,  6.47it/s]\n",
      "100%|██████████| 26/26 [00:10<00:00,  2.44it/s]\n"
     ]
    },
    {
     "name": "stdout",
     "output_type": "stream",
     "text": [
      "Fold: 3 \tEpoch: 149 \tTraining Loss: 0.937845 \tValidation Loss: 1.330498\n",
      "Fold: 3 \tEpoch: 149 \tTraining accuracy: 0.000000 \tValidation accuracy: 0.611250\n",
      "0.00030197792270443986\n",
      "============= Fold-4 strat =============\n"
     ]
    },
    {
     "name": "stderr",
     "output_type": "stream",
     "text": [
      "100%|██████████| 104/104 [00:16<00:00,  6.44it/s]\n",
      "100%|██████████| 26/26 [00:10<00:00,  2.43it/s]\n"
     ]
    },
    {
     "name": "stdout",
     "output_type": "stream",
     "text": [
      "Fold: 4 \tEpoch: 0 \tTraining Loss: 3.636493 \tValidation Loss: 3.598292\n",
      "Fold: 4 \tEpoch: 0 \tTraining accuracy: 0.000000 \tValidation accuracy: 0.030216\n",
      "0.0\n",
      "Validation loss decreased (inf --> 3.598292).  Saving model ...\n"
     ]
    },
    {
     "name": "stderr",
     "output_type": "stream",
     "text": [
      "100%|██████████| 104/104 [00:16<00:00,  6.45it/s]\n",
      "100%|██████████| 26/26 [00:10<00:00,  2.47it/s]\n"
     ]
    },
    {
     "name": "stdout",
     "output_type": "stream",
     "text": [
      "Fold: 4 \tEpoch: 1 \tTraining Loss: 3.627342 \tValidation Loss: 3.597915\n",
      "Fold: 4 \tEpoch: 1 \tTraining accuracy: 0.000000 \tValidation accuracy: 0.032620\n",
      "0.0001\n",
      "Validation loss decreased (3.598292 --> 3.597915).  Saving model ...\n"
     ]
    },
    {
     "name": "stderr",
     "output_type": "stream",
     "text": [
      "100%|██████████| 104/104 [00:16<00:00,  6.46it/s]\n",
      "100%|██████████| 26/26 [00:10<00:00,  2.42it/s]\n"
     ]
    },
    {
     "name": "stdout",
     "output_type": "stream",
     "text": [
      "Fold: 4 \tEpoch: 2 \tTraining Loss: 3.110218 \tValidation Loss: 2.690881\n",
      "Fold: 4 \tEpoch: 2 \tTraining accuracy: 0.000000 \tValidation accuracy: 0.196298\n",
      "0.0002\n",
      "Validation loss decreased (3.597915 --> 2.690881).  Saving model ...\n"
     ]
    },
    {
     "name": "stderr",
     "output_type": "stream",
     "text": [
      "100%|██████████| 104/104 [00:16<00:00,  6.42it/s]\n",
      "100%|██████████| 26/26 [00:10<00:00,  2.44it/s]\n"
     ]
    },
    {
     "name": "stdout",
     "output_type": "stream",
     "text": [
      "Fold: 4 \tEpoch: 3 \tTraining Loss: 2.984155 \tValidation Loss: 2.691139\n",
      "Fold: 4 \tEpoch: 3 \tTraining accuracy: 0.000000 \tValidation accuracy: 0.196731\n",
      "0.00030000000000000003\n"
     ]
    },
    {
     "name": "stderr",
     "output_type": "stream",
     "text": [
      "100%|██████████| 104/104 [00:16<00:00,  6.46it/s]\n",
      "100%|██████████| 26/26 [00:10<00:00,  2.43it/s]\n"
     ]
    },
    {
     "name": "stdout",
     "output_type": "stream",
     "text": [
      "Fold: 4 \tEpoch: 4 \tTraining Loss: 2.936296 \tValidation Loss: 2.552480\n",
      "Fold: 4 \tEpoch: 4 \tTraining accuracy: 0.000000 \tValidation accuracy: 0.249014\n",
      "0.0004\n",
      "Validation loss decreased (2.690881 --> 2.552480).  Saving model ...\n"
     ]
    },
    {
     "name": "stderr",
     "output_type": "stream",
     "text": [
      "100%|██████████| 104/104 [00:16<00:00,  6.46it/s]\n",
      "100%|██████████| 26/26 [00:10<00:00,  2.45it/s]\n"
     ]
    },
    {
     "name": "stdout",
     "output_type": "stream",
     "text": [
      "Fold: 4 \tEpoch: 5 \tTraining Loss: 2.881677 \tValidation Loss: 2.514383\n",
      "Fold: 4 \tEpoch: 5 \tTraining accuracy: 0.000000 \tValidation accuracy: 0.259567\n",
      "0.0005\n",
      "Validation loss decreased (2.552480 --> 2.514383).  Saving model ...\n"
     ]
    },
    {
     "name": "stderr",
     "output_type": "stream",
     "text": [
      "100%|██████████| 104/104 [00:16<00:00,  6.43it/s]\n",
      "100%|██████████| 26/26 [00:10<00:00,  2.48it/s]\n"
     ]
    },
    {
     "name": "stdout",
     "output_type": "stream",
     "text": [
      "Fold: 4 \tEpoch: 6 \tTraining Loss: 2.877110 \tValidation Loss: 2.475090\n",
      "Fold: 4 \tEpoch: 6 \tTraining accuracy: 0.000000 \tValidation accuracy: 0.286875\n",
      "0.0006000000000000001\n",
      "Validation loss decreased (2.514383 --> 2.475090).  Saving model ...\n"
     ]
    },
    {
     "name": "stderr",
     "output_type": "stream",
     "text": [
      "100%|██████████| 104/104 [00:16<00:00,  6.43it/s]\n",
      "100%|██████████| 26/26 [00:10<00:00,  2.44it/s]\n"
     ]
    },
    {
     "name": "stdout",
     "output_type": "stream",
     "text": [
      "Fold: 4 \tEpoch: 7 \tTraining Loss: 2.844349 \tValidation Loss: 2.486062\n",
      "Fold: 4 \tEpoch: 7 \tTraining accuracy: 0.000000 \tValidation accuracy: 0.277788\n",
      "0.0007\n"
     ]
    },
    {
     "name": "stderr",
     "output_type": "stream",
     "text": [
      "100%|██████████| 104/104 [00:16<00:00,  6.42it/s]\n",
      "100%|██████████| 26/26 [00:10<00:00,  2.43it/s]\n"
     ]
    },
    {
     "name": "stdout",
     "output_type": "stream",
     "text": [
      "Fold: 4 \tEpoch: 8 \tTraining Loss: 2.829494 \tValidation Loss: 2.494125\n",
      "Fold: 4 \tEpoch: 8 \tTraining accuracy: 0.000000 \tValidation accuracy: 0.290817\n",
      "0.0008\n"
     ]
    },
    {
     "name": "stderr",
     "output_type": "stream",
     "text": [
      "100%|██████████| 104/104 [00:16<00:00,  6.48it/s]\n",
      "100%|██████████| 26/26 [00:10<00:00,  2.47it/s]\n"
     ]
    },
    {
     "name": "stdout",
     "output_type": "stream",
     "text": [
      "Fold: 4 \tEpoch: 9 \tTraining Loss: 2.812287 \tValidation Loss: 2.392755\n",
      "Fold: 4 \tEpoch: 9 \tTraining accuracy: 0.000000 \tValidation accuracy: 0.314856\n",
      "0.0009000000000000001\n",
      "Validation loss decreased (2.475090 --> 2.392755).  Saving model ...\n"
     ]
    },
    {
     "name": "stderr",
     "output_type": "stream",
     "text": [
      "100%|██████████| 104/104 [00:16<00:00,  6.44it/s]\n",
      "100%|██████████| 26/26 [00:10<00:00,  2.47it/s]\n"
     ]
    },
    {
     "name": "stdout",
     "output_type": "stream",
     "text": [
      "Fold: 4 \tEpoch: 10 \tTraining Loss: 2.772421 \tValidation Loss: 2.430870\n",
      "Fold: 4 \tEpoch: 10 \tTraining accuracy: 0.000000 \tValidation accuracy: 0.290553\n",
      "0.001\n"
     ]
    },
    {
     "name": "stderr",
     "output_type": "stream",
     "text": [
      "100%|██████████| 104/104 [00:16<00:00,  6.44it/s]\n",
      "100%|██████████| 26/26 [00:10<00:00,  2.44it/s]\n"
     ]
    },
    {
     "name": "stdout",
     "output_type": "stream",
     "text": [
      "Fold: 4 \tEpoch: 11 \tTraining Loss: 2.797089 \tValidation Loss: 2.403060\n",
      "Fold: 4 \tEpoch: 11 \tTraining accuracy: 0.000000 \tValidation accuracy: 0.320072\n",
      "0.0009996954135095479\n"
     ]
    },
    {
     "name": "stderr",
     "output_type": "stream",
     "text": [
      "100%|██████████| 104/104 [00:16<00:00,  6.47it/s]\n",
      "100%|██████████| 26/26 [00:10<00:00,  2.50it/s]\n"
     ]
    },
    {
     "name": "stdout",
     "output_type": "stream",
     "text": [
      "Fold: 4 \tEpoch: 12 \tTraining Loss: 2.769205 \tValidation Loss: 2.345506\n",
      "Fold: 4 \tEpoch: 12 \tTraining accuracy: 0.000000 \tValidation accuracy: 0.329784\n",
      "0.0009987820251299122\n",
      "Validation loss decreased (2.392755 --> 2.345506).  Saving model ...\n"
     ]
    },
    {
     "name": "stderr",
     "output_type": "stream",
     "text": [
      "100%|██████████| 104/104 [00:16<00:00,  6.48it/s]\n",
      "100%|██████████| 26/26 [00:10<00:00,  2.43it/s]\n"
     ]
    },
    {
     "name": "stdout",
     "output_type": "stream",
     "text": [
      "Fold: 4 \tEpoch: 13 \tTraining Loss: 2.718304 \tValidation Loss: 2.250727\n",
      "Fold: 4 \tEpoch: 13 \tTraining accuracy: 0.000000 \tValidation accuracy: 0.358389\n",
      "0.0009972609476841367\n",
      "Validation loss decreased (2.345506 --> 2.250727).  Saving model ...\n"
     ]
    },
    {
     "name": "stderr",
     "output_type": "stream",
     "text": [
      "100%|██████████| 104/104 [00:21<00:00,  4.74it/s]\n",
      "100%|██████████| 26/26 [00:12<00:00,  2.06it/s]\n"
     ]
    },
    {
     "name": "stdout",
     "output_type": "stream",
     "text": [
      "Fold: 4 \tEpoch: 14 \tTraining Loss: 2.687202 \tValidation Loss: 2.231602\n",
      "Fold: 4 \tEpoch: 14 \tTraining accuracy: 0.000000 \tValidation accuracy: 0.365409\n",
      "0.0009951340343707852\n",
      "Validation loss decreased (2.250727 --> 2.231602).  Saving model ...\n"
     ]
    },
    {
     "name": "stderr",
     "output_type": "stream",
     "text": [
      "100%|██████████| 104/104 [00:16<00:00,  6.41it/s]\n",
      "100%|██████████| 26/26 [00:10<00:00,  2.48it/s]\n"
     ]
    },
    {
     "name": "stdout",
     "output_type": "stream",
     "text": [
      "Fold: 4 \tEpoch: 15 \tTraining Loss: 2.630515 \tValidation Loss: 2.234384\n",
      "Fold: 4 \tEpoch: 15 \tTraining accuracy: 0.000000 \tValidation accuracy: 0.366442\n",
      "0.000992403876506104\n"
     ]
    },
    {
     "name": "stderr",
     "output_type": "stream",
     "text": [
      "100%|██████████| 104/104 [00:16<00:00,  6.50it/s]\n",
      "100%|██████████| 26/26 [00:10<00:00,  2.46it/s]\n"
     ]
    },
    {
     "name": "stdout",
     "output_type": "stream",
     "text": [
      "Fold: 4 \tEpoch: 16 \tTraining Loss: 2.664729 \tValidation Loss: 2.204875\n",
      "Fold: 4 \tEpoch: 16 \tTraining accuracy: 0.000000 \tValidation accuracy: 0.343005\n",
      "0.0009890738003669028\n",
      "Validation loss decreased (2.231602 --> 2.204875).  Saving model ...\n"
     ]
    },
    {
     "name": "stderr",
     "output_type": "stream",
     "text": [
      "100%|██████████| 104/104 [00:16<00:00,  6.44it/s]\n",
      "100%|██████████| 26/26 [00:10<00:00,  2.47it/s]\n"
     ]
    },
    {
     "name": "stdout",
     "output_type": "stream",
     "text": [
      "Fold: 4 \tEpoch: 17 \tTraining Loss: 2.599078 \tValidation Loss: 2.119009\n",
      "Fold: 4 \tEpoch: 17 \tTraining accuracy: 0.000000 \tValidation accuracy: 0.393221\n",
      "0.0009851478631379982\n",
      "Validation loss decreased (2.204875 --> 2.119009).  Saving model ...\n"
     ]
    },
    {
     "name": "stderr",
     "output_type": "stream",
     "text": [
      "100%|██████████| 104/104 [00:16<00:00,  6.47it/s]\n",
      "100%|██████████| 26/26 [00:10<00:00,  2.44it/s]\n"
     ]
    },
    {
     "name": "stdout",
     "output_type": "stream",
     "text": [
      "Fold: 4 \tEpoch: 18 \tTraining Loss: 2.599828 \tValidation Loss: 2.106361\n",
      "Fold: 4 \tEpoch: 18 \tTraining accuracy: 0.000000 \tValidation accuracy: 0.387284\n",
      "0.0009806308479691594\n",
      "Validation loss decreased (2.119009 --> 2.106361).  Saving model ...\n"
     ]
    },
    {
     "name": "stderr",
     "output_type": "stream",
     "text": [
      "100%|██████████| 104/104 [00:16<00:00,  6.45it/s]\n",
      "100%|██████████| 26/26 [00:10<00:00,  2.47it/s]\n"
     ]
    },
    {
     "name": "stdout",
     "output_type": "stream",
     "text": [
      "Fold: 4 \tEpoch: 19 \tTraining Loss: 2.556241 \tValidation Loss: 2.119267\n",
      "Fold: 4 \tEpoch: 19 \tTraining accuracy: 0.000000 \tValidation accuracy: 0.401707\n",
      "0.0009755282581475768\n"
     ]
    },
    {
     "name": "stderr",
     "output_type": "stream",
     "text": [
      "100%|██████████| 104/104 [00:16<00:00,  6.44it/s]\n",
      "100%|██████████| 26/26 [00:10<00:00,  2.42it/s]\n"
     ]
    },
    {
     "name": "stdout",
     "output_type": "stream",
     "text": [
      "Fold: 4 \tEpoch: 20 \tTraining Loss: 2.539829 \tValidation Loss: 2.047853\n",
      "Fold: 4 \tEpoch: 20 \tTraining accuracy: 0.000000 \tValidation accuracy: 0.401130\n",
      "0.0009698463103929542\n",
      "Validation loss decreased (2.106361 --> 2.047853).  Saving model ...\n"
     ]
    },
    {
     "name": "stderr",
     "output_type": "stream",
     "text": [
      "100%|██████████| 104/104 [00:16<00:00,  6.50it/s]\n",
      "100%|██████████| 26/26 [00:10<00:00,  2.44it/s]\n"
     ]
    },
    {
     "name": "stdout",
     "output_type": "stream",
     "text": [
      "Fold: 4 \tEpoch: 21 \tTraining Loss: 2.622545 \tValidation Loss: 2.103999\n",
      "Fold: 4 \tEpoch: 21 \tTraining accuracy: 0.000000 \tValidation accuracy: 0.411322\n",
      "0.0009635919272833937\n"
     ]
    },
    {
     "name": "stderr",
     "output_type": "stream",
     "text": [
      "100%|██████████| 104/104 [00:16<00:00,  6.37it/s]\n",
      "100%|██████████| 26/26 [00:10<00:00,  2.48it/s]\n"
     ]
    },
    {
     "name": "stdout",
     "output_type": "stream",
     "text": [
      "Fold: 4 \tEpoch: 22 \tTraining Loss: 2.575605 \tValidation Loss: 2.029367\n",
      "Fold: 4 \tEpoch: 22 \tTraining accuracy: 0.000000 \tValidation accuracy: 0.406947\n",
      "0.0009567727288213005\n",
      "Validation loss decreased (2.047853 --> 2.029367).  Saving model ...\n"
     ]
    },
    {
     "name": "stderr",
     "output_type": "stream",
     "text": [
      "100%|██████████| 104/104 [00:16<00:00,  6.45it/s]\n",
      "100%|██████████| 26/26 [00:10<00:00,  2.44it/s]\n"
     ]
    },
    {
     "name": "stdout",
     "output_type": "stream",
     "text": [
      "Fold: 4 \tEpoch: 23 \tTraining Loss: 2.584020 \tValidation Loss: 1.948000\n",
      "Fold: 4 \tEpoch: 23 \tTraining accuracy: 0.000000 \tValidation accuracy: 0.429351\n",
      "0.0009493970231495835\n",
      "Validation loss decreased (2.029367 --> 1.948000).  Saving model ...\n"
     ]
    },
    {
     "name": "stderr",
     "output_type": "stream",
     "text": [
      "100%|██████████| 104/104 [00:16<00:00,  6.46it/s]\n",
      "100%|██████████| 26/26 [00:10<00:00,  2.45it/s]\n"
     ]
    },
    {
     "name": "stdout",
     "output_type": "stream",
     "text": [
      "Fold: 4 \tEpoch: 24 \tTraining Loss: 2.524103 \tValidation Loss: 1.960190\n",
      "Fold: 4 \tEpoch: 24 \tTraining accuracy: 0.000000 \tValidation accuracy: 0.434183\n",
      "0.0009414737964294635\n"
     ]
    },
    {
     "name": "stderr",
     "output_type": "stream",
     "text": [
      "100%|██████████| 104/104 [00:16<00:00,  6.48it/s]\n",
      "100%|██████████| 26/26 [00:10<00:00,  2.43it/s]\n"
     ]
    },
    {
     "name": "stdout",
     "output_type": "stream",
     "text": [
      "Fold: 4 \tEpoch: 25 \tTraining Loss: 2.554236 \tValidation Loss: 2.007122\n",
      "Fold: 4 \tEpoch: 25 \tTraining accuracy: 0.000000 \tValidation accuracy: 0.435889\n",
      "0.0009330127018922195\n"
     ]
    },
    {
     "name": "stderr",
     "output_type": "stream",
     "text": [
      "100%|██████████| 104/104 [00:16<00:00,  6.40it/s]\n",
      "100%|██████████| 26/26 [00:10<00:00,  2.47it/s]\n"
     ]
    },
    {
     "name": "stdout",
     "output_type": "stream",
     "text": [
      "Fold: 4 \tEpoch: 26 \tTraining Loss: 2.517653 \tValidation Loss: 1.988194\n",
      "Fold: 4 \tEpoch: 26 \tTraining accuracy: 0.000000 \tValidation accuracy: 0.427548\n",
      "0.0009240240480782129\n"
     ]
    },
    {
     "name": "stderr",
     "output_type": "stream",
     "text": [
      "100%|██████████| 104/104 [00:16<00:00,  6.45it/s]\n",
      "100%|██████████| 26/26 [00:10<00:00,  2.43it/s]\n"
     ]
    },
    {
     "name": "stdout",
     "output_type": "stream",
     "text": [
      "Fold: 4 \tEpoch: 27 \tTraining Loss: 2.516158 \tValidation Loss: 2.009131\n",
      "Fold: 4 \tEpoch: 27 \tTraining accuracy: 0.000000 \tValidation accuracy: 0.417091\n",
      "0.0009145187862775209\n"
     ]
    },
    {
     "name": "stderr",
     "output_type": "stream",
     "text": [
      "100%|██████████| 104/104 [00:16<00:00,  6.36it/s]\n",
      "100%|██████████| 26/26 [00:10<00:00,  2.40it/s]\n"
     ]
    },
    {
     "name": "stdout",
     "output_type": "stream",
     "text": [
      "Fold: 4 \tEpoch: 28 \tTraining Loss: 2.517933 \tValidation Loss: 1.980305\n",
      "Fold: 4 \tEpoch: 28 \tTraining accuracy: 0.000000 \tValidation accuracy: 0.448582\n",
      "0.0009045084971874737\n"
     ]
    },
    {
     "name": "stderr",
     "output_type": "stream",
     "text": [
      "100%|██████████| 104/104 [00:16<00:00,  6.44it/s]\n",
      "100%|██████████| 26/26 [00:10<00:00,  2.46it/s]\n"
     ]
    },
    {
     "name": "stdout",
     "output_type": "stream",
     "text": [
      "Fold: 4 \tEpoch: 29 \tTraining Loss: 2.450453 \tValidation Loss: 1.990528\n",
      "Fold: 4 \tEpoch: 29 \tTraining accuracy: 0.000000 \tValidation accuracy: 0.426010\n",
      "0.000894005376803361\n"
     ]
    },
    {
     "name": "stderr",
     "output_type": "stream",
     "text": [
      "100%|██████████| 104/104 [00:16<00:00,  6.48it/s]\n",
      "100%|██████████| 26/26 [00:10<00:00,  2.46it/s]\n"
     ]
    },
    {
     "name": "stdout",
     "output_type": "stream",
     "text": [
      "Fold: 4 \tEpoch: 30 \tTraining Loss: 2.468979 \tValidation Loss: 1.921239\n",
      "Fold: 4 \tEpoch: 30 \tTraining accuracy: 0.000000 \tValidation accuracy: 0.448149\n",
      "0.000883022221559489\n",
      "Validation loss decreased (1.948000 --> 1.921239).  Saving model ...\n"
     ]
    },
    {
     "name": "stderr",
     "output_type": "stream",
     "text": [
      "100%|██████████| 104/104 [00:16<00:00,  6.45it/s]\n",
      "100%|██████████| 26/26 [00:10<00:00,  2.47it/s]\n"
     ]
    },
    {
     "name": "stdout",
     "output_type": "stream",
     "text": [
      "Fold: 4 \tEpoch: 31 \tTraining Loss: 2.431549 \tValidation Loss: 1.904196\n",
      "Fold: 4 \tEpoch: 31 \tTraining accuracy: 0.000000 \tValidation accuracy: 0.455625\n",
      "0.0008715724127386971\n",
      "Validation loss decreased (1.921239 --> 1.904196).  Saving model ...\n"
     ]
    },
    {
     "name": "stderr",
     "output_type": "stream",
     "text": [
      "100%|██████████| 104/104 [00:16<00:00,  6.43it/s]\n",
      "100%|██████████| 26/26 [00:10<00:00,  2.44it/s]\n"
     ]
    },
    {
     "name": "stdout",
     "output_type": "stream",
     "text": [
      "Fold: 4 \tEpoch: 32 \tTraining Loss: 2.465291 \tValidation Loss: 1.872581\n",
      "Fold: 4 \tEpoch: 32 \tTraining accuracy: 0.000000 \tValidation accuracy: 0.462115\n",
      "0.0008596699001693256\n",
      "Validation loss decreased (1.904196 --> 1.872581).  Saving model ...\n"
     ]
    },
    {
     "name": "stderr",
     "output_type": "stream",
     "text": [
      "100%|██████████| 104/104 [00:16<00:00,  6.44it/s]\n",
      "100%|██████████| 26/26 [00:10<00:00,  2.48it/s]\n"
     ]
    },
    {
     "name": "stdout",
     "output_type": "stream",
     "text": [
      "Fold: 4 \tEpoch: 33 \tTraining Loss: 2.404469 \tValidation Loss: 1.832413\n",
      "Fold: 4 \tEpoch: 33 \tTraining accuracy: 0.000000 \tValidation accuracy: 0.469784\n",
      "0.0008473291852294987\n",
      "Validation loss decreased (1.872581 --> 1.832413).  Saving model ...\n"
     ]
    },
    {
     "name": "stderr",
     "output_type": "stream",
     "text": [
      "100%|██████████| 104/104 [00:16<00:00,  6.45it/s]\n",
      "100%|██████████| 26/26 [00:10<00:00,  2.47it/s]\n"
     ]
    },
    {
     "name": "stdout",
     "output_type": "stream",
     "text": [
      "Fold: 4 \tEpoch: 34 \tTraining Loss: 2.423229 \tValidation Loss: 1.831803\n",
      "Fold: 4 \tEpoch: 34 \tTraining accuracy: 0.000000 \tValidation accuracy: 0.479471\n",
      "0.0008345653031794292\n",
      "Validation loss decreased (1.832413 --> 1.831803).  Saving model ...\n"
     ]
    },
    {
     "name": "stderr",
     "output_type": "stream",
     "text": [
      "100%|██████████| 104/104 [00:16<00:00,  6.39it/s]\n",
      "100%|██████████| 26/26 [00:10<00:00,  2.47it/s]\n"
     ]
    },
    {
     "name": "stdout",
     "output_type": "stream",
     "text": [
      "Fold: 4 \tEpoch: 35 \tTraining Loss: 2.490860 \tValidation Loss: 1.851125\n",
      "Fold: 4 \tEpoch: 35 \tTraining accuracy: 0.000000 \tValidation accuracy: 0.448173\n",
      "0.0008213938048432696\n"
     ]
    },
    {
     "name": "stderr",
     "output_type": "stream",
     "text": [
      "100%|██████████| 104/104 [00:16<00:00,  6.45it/s]\n",
      "100%|██████████| 26/26 [00:10<00:00,  2.43it/s]\n"
     ]
    },
    {
     "name": "stdout",
     "output_type": "stream",
     "text": [
      "Fold: 4 \tEpoch: 36 \tTraining Loss: 2.483572 \tValidation Loss: 1.788478\n",
      "Fold: 4 \tEpoch: 36 \tTraining accuracy: 0.000000 \tValidation accuracy: 0.477163\n",
      "0.0008078307376628291\n",
      "Validation loss decreased (1.831803 --> 1.788478).  Saving model ...\n"
     ]
    },
    {
     "name": "stderr",
     "output_type": "stream",
     "text": [
      "100%|██████████| 104/104 [00:16<00:00,  6.42it/s]\n",
      "100%|██████████| 26/26 [00:10<00:00,  2.43it/s]\n"
     ]
    },
    {
     "name": "stdout",
     "output_type": "stream",
     "text": [
      "Fold: 4 \tEpoch: 37 \tTraining Loss: 2.467808 \tValidation Loss: 1.872308\n",
      "Fold: 4 \tEpoch: 37 \tTraining accuracy: 0.000000 \tValidation accuracy: 0.468702\n",
      "0.0007938926261462366\n"
     ]
    },
    {
     "name": "stderr",
     "output_type": "stream",
     "text": [
      "100%|██████████| 104/104 [00:16<00:00,  6.49it/s]\n",
      "100%|██████████| 26/26 [00:10<00:00,  2.48it/s]\n"
     ]
    },
    {
     "name": "stdout",
     "output_type": "stream",
     "text": [
      "Fold: 4 \tEpoch: 38 \tTraining Loss: 2.439852 \tValidation Loss: 1.868940\n",
      "Fold: 4 \tEpoch: 38 \tTraining accuracy: 0.000000 \tValidation accuracy: 0.451346\n",
      "0.0007795964517353734\n"
     ]
    },
    {
     "name": "stderr",
     "output_type": "stream",
     "text": [
      "100%|██████████| 104/104 [00:16<00:00,  6.42it/s]\n",
      "100%|██████████| 26/26 [00:10<00:00,  2.45it/s]\n"
     ]
    },
    {
     "name": "stdout",
     "output_type": "stream",
     "text": [
      "Fold: 4 \tEpoch: 39 \tTraining Loss: 2.436858 \tValidation Loss: 1.838482\n",
      "Fold: 4 \tEpoch: 39 \tTraining accuracy: 0.000000 \tValidation accuracy: 0.459135\n",
      "0.0007649596321166025\n"
     ]
    },
    {
     "name": "stderr",
     "output_type": "stream",
     "text": [
      "100%|██████████| 104/104 [00:16<00:00,  6.44it/s]\n",
      "100%|██████████| 26/26 [00:10<00:00,  2.44it/s]\n"
     ]
    },
    {
     "name": "stdout",
     "output_type": "stream",
     "text": [
      "Fold: 4 \tEpoch: 40 \tTraining Loss: 2.406545 \tValidation Loss: 1.792322\n",
      "Fold: 4 \tEpoch: 40 \tTraining accuracy: 0.000000 \tValidation accuracy: 0.475793\n",
      "0.00075\n"
     ]
    },
    {
     "name": "stderr",
     "output_type": "stream",
     "text": [
      "100%|██████████| 104/104 [00:16<00:00,  6.42it/s]\n",
      "100%|██████████| 26/26 [00:10<00:00,  2.46it/s]\n"
     ]
    },
    {
     "name": "stdout",
     "output_type": "stream",
     "text": [
      "Fold: 4 \tEpoch: 41 \tTraining Loss: 2.420461 \tValidation Loss: 1.841740\n",
      "Fold: 4 \tEpoch: 41 \tTraining accuracy: 0.000000 \tValidation accuracy: 0.478534\n",
      "0.0007347357813929454\n"
     ]
    },
    {
     "name": "stderr",
     "output_type": "stream",
     "text": [
      "100%|██████████| 104/104 [00:16<00:00,  6.45it/s]\n",
      "100%|██████████| 26/26 [00:10<00:00,  2.44it/s]\n"
     ]
    },
    {
     "name": "stdout",
     "output_type": "stream",
     "text": [
      "Fold: 4 \tEpoch: 42 \tTraining Loss: 2.430858 \tValidation Loss: 1.822367\n",
      "Fold: 4 \tEpoch: 42 \tTraining accuracy: 0.000000 \tValidation accuracy: 0.482668\n",
      "0.0007191855733945387\n"
     ]
    },
    {
     "name": "stderr",
     "output_type": "stream",
     "text": [
      "100%|██████████| 104/104 [00:16<00:00,  6.45it/s]\n",
      "100%|██████████| 26/26 [00:10<00:00,  2.43it/s]\n"
     ]
    },
    {
     "name": "stdout",
     "output_type": "stream",
     "text": [
      "Fold: 4 \tEpoch: 43 \tTraining Loss: 2.458543 \tValidation Loss: 1.706797\n",
      "Fold: 4 \tEpoch: 43 \tTraining accuracy: 0.000000 \tValidation accuracy: 0.493293\n",
      "0.0007033683215379\n",
      "Validation loss decreased (1.788478 --> 1.706797).  Saving model ...\n"
     ]
    },
    {
     "name": "stderr",
     "output_type": "stream",
     "text": [
      "100%|██████████| 104/104 [00:16<00:00,  6.45it/s]\n",
      "100%|██████████| 26/26 [00:10<00:00,  2.45it/s]\n"
     ]
    },
    {
     "name": "stdout",
     "output_type": "stream",
     "text": [
      "Fold: 4 \tEpoch: 44 \tTraining Loss: 2.335294 \tValidation Loss: 1.792302\n",
      "Fold: 4 \tEpoch: 44 \tTraining accuracy: 0.000000 \tValidation accuracy: 0.504712\n",
      "0.000687303296707956\n"
     ]
    },
    {
     "name": "stderr",
     "output_type": "stream",
     "text": [
      "100%|██████████| 104/104 [00:21<00:00,  4.75it/s]\n",
      "100%|██████████| 26/26 [00:11<00:00,  2.21it/s]\n"
     ]
    },
    {
     "name": "stdout",
     "output_type": "stream",
     "text": [
      "Fold: 4 \tEpoch: 45 \tTraining Loss: 2.349011 \tValidation Loss: 1.781995\n",
      "Fold: 4 \tEpoch: 45 \tTraining accuracy: 0.000000 \tValidation accuracy: 0.476226\n",
      "0.0006710100716628344\n"
     ]
    },
    {
     "name": "stderr",
     "output_type": "stream",
     "text": [
      "100%|██████████| 104/104 [00:16<00:00,  6.27it/s]\n",
      "100%|██████████| 26/26 [00:10<00:00,  2.38it/s]\n"
     ]
    },
    {
     "name": "stdout",
     "output_type": "stream",
     "text": [
      "Fold: 4 \tEpoch: 46 \tTraining Loss: 2.393772 \tValidation Loss: 1.840444\n",
      "Fold: 4 \tEpoch: 46 \tTraining accuracy: 0.000000 \tValidation accuracy: 0.478269\n",
      "0.0006545084971874737\n"
     ]
    },
    {
     "name": "stderr",
     "output_type": "stream",
     "text": [
      "100%|██████████| 104/104 [00:18<00:00,  5.75it/s]\n",
      "100%|██████████| 26/26 [00:10<00:00,  2.43it/s]\n"
     ]
    },
    {
     "name": "stdout",
     "output_type": "stream",
     "text": [
      "Fold: 4 \tEpoch: 47 \tTraining Loss: 2.406317 \tValidation Loss: 1.794009\n",
      "Fold: 4 \tEpoch: 47 \tTraining accuracy: 0.000000 \tValidation accuracy: 0.484808\n",
      "0.0006378186779084996\n"
     ]
    },
    {
     "name": "stderr",
     "output_type": "stream",
     "text": [
      "100%|██████████| 104/104 [00:16<00:00,  6.46it/s]\n",
      "100%|██████████| 26/26 [00:10<00:00,  2.44it/s]\n"
     ]
    },
    {
     "name": "stdout",
     "output_type": "stream",
     "text": [
      "Fold: 4 \tEpoch: 48 \tTraining Loss: 2.409699 \tValidation Loss: 1.852199\n",
      "Fold: 4 \tEpoch: 48 \tTraining accuracy: 0.000000 \tValidation accuracy: 0.460264\n",
      "0.0006209609477998339\n"
     ]
    },
    {
     "name": "stderr",
     "output_type": "stream",
     "text": [
      "100%|██████████| 104/104 [00:16<00:00,  6.46it/s]\n",
      "100%|██████████| 26/26 [00:10<00:00,  2.48it/s]\n"
     ]
    },
    {
     "name": "stdout",
     "output_type": "stream",
     "text": [
      "Fold: 4 \tEpoch: 49 \tTraining Loss: 2.370864 \tValidation Loss: 1.775356\n",
      "Fold: 4 \tEpoch: 49 \tTraining accuracy: 0.000000 \tValidation accuracy: 0.473654\n",
      "0.0006039558454088797\n"
     ]
    },
    {
     "name": "stderr",
     "output_type": "stream",
     "text": [
      "100%|██████████| 104/104 [00:16<00:00,  6.50it/s]\n",
      "100%|██████████| 26/26 [00:10<00:00,  2.41it/s]\n"
     ]
    },
    {
     "name": "stdout",
     "output_type": "stream",
     "text": [
      "Fold: 4 \tEpoch: 50 \tTraining Loss: 2.482642 \tValidation Loss: 1.914860\n",
      "Fold: 4 \tEpoch: 50 \tTraining accuracy: 0.000000 \tValidation accuracy: 0.464880\n",
      "0.0005868240888334653\n"
     ]
    },
    {
     "name": "stderr",
     "output_type": "stream",
     "text": [
      "100%|██████████| 104/104 [00:16<00:00,  6.45it/s]\n",
      "100%|██████████| 26/26 [00:10<00:00,  2.44it/s]\n"
     ]
    },
    {
     "name": "stdout",
     "output_type": "stream",
     "text": [
      "Fold: 4 \tEpoch: 51 \tTraining Loss: 2.407031 \tValidation Loss: 1.722255\n",
      "Fold: 4 \tEpoch: 51 \tTraining accuracy: 0.000000 \tValidation accuracy: 0.500240\n",
      "0.0005695865504800328\n"
     ]
    },
    {
     "name": "stderr",
     "output_type": "stream",
     "text": [
      "100%|██████████| 104/104 [00:16<00:00,  6.45it/s]\n",
      "100%|██████████| 26/26 [00:10<00:00,  2.44it/s]\n"
     ]
    },
    {
     "name": "stdout",
     "output_type": "stream",
     "text": [
      "Fold: 4 \tEpoch: 52 \tTraining Loss: 2.421221 \tValidation Loss: 1.754538\n",
      "Fold: 4 \tEpoch: 52 \tTraining accuracy: 0.000000 \tValidation accuracy: 0.483606\n",
      "0.0005522642316338268\n"
     ]
    },
    {
     "name": "stderr",
     "output_type": "stream",
     "text": [
      "100%|██████████| 104/104 [00:16<00:00,  6.40it/s]\n",
      "100%|██████████| 26/26 [00:10<00:00,  2.47it/s]\n"
     ]
    },
    {
     "name": "stdout",
     "output_type": "stream",
     "text": [
      "Fold: 4 \tEpoch: 53 \tTraining Loss: 2.267956 \tValidation Loss: 1.714067\n",
      "Fold: 4 \tEpoch: 53 \tTraining accuracy: 0.000000 \tValidation accuracy: 0.501971\n",
      "0.0005348782368720627\n"
     ]
    },
    {
     "name": "stderr",
     "output_type": "stream",
     "text": [
      "100%|██████████| 104/104 [00:16<00:00,  6.47it/s]\n",
      "100%|██████████| 26/26 [00:10<00:00,  2.42it/s]\n"
     ]
    },
    {
     "name": "stdout",
     "output_type": "stream",
     "text": [
      "Fold: 4 \tEpoch: 54 \tTraining Loss: 2.324151 \tValidation Loss: 1.722364\n",
      "Fold: 4 \tEpoch: 54 \tTraining accuracy: 0.000000 \tValidation accuracy: 0.491563\n",
      "0.0005174497483512506\n"
     ]
    },
    {
     "name": "stderr",
     "output_type": "stream",
     "text": [
      "100%|██████████| 104/104 [00:16<00:00,  6.43it/s]\n",
      "100%|██████████| 26/26 [00:10<00:00,  2.42it/s]\n"
     ]
    },
    {
     "name": "stdout",
     "output_type": "stream",
     "text": [
      "Fold: 4 \tEpoch: 55 \tTraining Loss: 2.266073 \tValidation Loss: 1.670724\n",
      "Fold: 4 \tEpoch: 55 \tTraining accuracy: 0.000000 \tValidation accuracy: 0.517187\n",
      "0.0005\n",
      "Validation loss decreased (1.706797 --> 1.670724).  Saving model ...\n"
     ]
    },
    {
     "name": "stderr",
     "output_type": "stream",
     "text": [
      "100%|██████████| 104/104 [00:16<00:00,  6.43it/s]\n",
      "100%|██████████| 26/26 [00:10<00:00,  2.46it/s]\n"
     ]
    },
    {
     "name": "stdout",
     "output_type": "stream",
     "text": [
      "Fold: 4 \tEpoch: 56 \tTraining Loss: 2.361736 \tValidation Loss: 1.641725\n",
      "Fold: 4 \tEpoch: 56 \tTraining accuracy: 0.000000 \tValidation accuracy: 0.524639\n",
      "0.0004825502516487497\n",
      "Validation loss decreased (1.670724 --> 1.641725).  Saving model ...\n"
     ]
    },
    {
     "name": "stderr",
     "output_type": "stream",
     "text": [
      "100%|██████████| 104/104 [00:16<00:00,  6.42it/s]\n",
      "100%|██████████| 26/26 [00:10<00:00,  2.48it/s]\n"
     ]
    },
    {
     "name": "stdout",
     "output_type": "stream",
     "text": [
      "Fold: 4 \tEpoch: 57 \tTraining Loss: 2.341452 \tValidation Loss: 1.689300\n",
      "Fold: 4 \tEpoch: 57 \tTraining accuracy: 0.000000 \tValidation accuracy: 0.515457\n",
      "0.00046512176312793734\n"
     ]
    },
    {
     "name": "stderr",
     "output_type": "stream",
     "text": [
      "100%|██████████| 104/104 [00:16<00:00,  6.47it/s]\n",
      "100%|██████████| 26/26 [00:10<00:00,  2.47it/s]\n"
     ]
    },
    {
     "name": "stdout",
     "output_type": "stream",
     "text": [
      "Fold: 4 \tEpoch: 58 \tTraining Loss: 2.253727 \tValidation Loss: 1.645139\n",
      "Fold: 4 \tEpoch: 58 \tTraining accuracy: 0.000000 \tValidation accuracy: 0.524832\n",
      "0.00044773576836617336\n"
     ]
    },
    {
     "name": "stderr",
     "output_type": "stream",
     "text": [
      "100%|██████████| 104/104 [00:16<00:00,  6.44it/s]\n",
      "100%|██████████| 26/26 [00:10<00:00,  2.43it/s]\n"
     ]
    },
    {
     "name": "stdout",
     "output_type": "stream",
     "text": [
      "Fold: 4 \tEpoch: 59 \tTraining Loss: 2.272660 \tValidation Loss: 1.580074\n",
      "Fold: 4 \tEpoch: 59 \tTraining accuracy: 0.000000 \tValidation accuracy: 0.530192\n",
      "0.0004304134495199673\n",
      "Validation loss decreased (1.641725 --> 1.580074).  Saving model ...\n"
     ]
    },
    {
     "name": "stderr",
     "output_type": "stream",
     "text": [
      "100%|██████████| 104/104 [00:16<00:00,  6.42it/s]\n",
      "100%|██████████| 26/26 [00:10<00:00,  2.48it/s]\n"
     ]
    },
    {
     "name": "stdout",
     "output_type": "stream",
     "text": [
      "Fold: 4 \tEpoch: 60 \tTraining Loss: 2.295790 \tValidation Loss: 1.574328\n",
      "Fold: 4 \tEpoch: 60 \tTraining accuracy: 0.000000 \tValidation accuracy: 0.526947\n",
      "0.00041317591116653486\n",
      "Validation loss decreased (1.580074 --> 1.574328).  Saving model ...\n"
     ]
    },
    {
     "name": "stderr",
     "output_type": "stream",
     "text": [
      "100%|██████████| 104/104 [00:16<00:00,  6.44it/s]\n",
      "100%|██████████| 26/26 [00:10<00:00,  2.47it/s]\n"
     ]
    },
    {
     "name": "stdout",
     "output_type": "stream",
     "text": [
      "Fold: 4 \tEpoch: 61 \tTraining Loss: 2.197410 \tValidation Loss: 1.683761\n",
      "Fold: 4 \tEpoch: 61 \tTraining accuracy: 0.000000 \tValidation accuracy: 0.501803\n",
      "0.0003960441545911204\n"
     ]
    },
    {
     "name": "stderr",
     "output_type": "stream",
     "text": [
      "100%|██████████| 104/104 [00:16<00:00,  6.38it/s]\n",
      "100%|██████████| 26/26 [00:10<00:00,  2.48it/s]\n"
     ]
    },
    {
     "name": "stdout",
     "output_type": "stream",
     "text": [
      "Fold: 4 \tEpoch: 62 \tTraining Loss: 2.195020 \tValidation Loss: 1.521463\n",
      "Fold: 4 \tEpoch: 62 \tTraining accuracy: 0.000000 \tValidation accuracy: 0.535096\n",
      "0.0003790390522001661\n",
      "Validation loss decreased (1.574328 --> 1.521463).  Saving model ...\n"
     ]
    },
    {
     "name": "stderr",
     "output_type": "stream",
     "text": [
      "100%|██████████| 104/104 [00:16<00:00,  6.41it/s]\n",
      "100%|██████████| 26/26 [00:10<00:00,  2.42it/s]\n"
     ]
    },
    {
     "name": "stdout",
     "output_type": "stream",
     "text": [
      "Fold: 4 \tEpoch: 63 \tTraining Loss: 2.282352 \tValidation Loss: 1.579363\n",
      "Fold: 4 \tEpoch: 63 \tTraining accuracy: 0.000000 \tValidation accuracy: 0.536899\n",
      "0.00036218132209150044\n"
     ]
    },
    {
     "name": "stderr",
     "output_type": "stream",
     "text": [
      "100%|██████████| 104/104 [00:16<00:00,  6.47it/s]\n",
      "100%|██████████| 26/26 [00:10<00:00,  2.43it/s]\n"
     ]
    },
    {
     "name": "stdout",
     "output_type": "stream",
     "text": [
      "Fold: 4 \tEpoch: 64 \tTraining Loss: 2.315015 \tValidation Loss: 1.558977\n",
      "Fold: 4 \tEpoch: 64 \tTraining accuracy: 0.000000 \tValidation accuracy: 0.548077\n",
      "0.00034549150281252633\n"
     ]
    },
    {
     "name": "stderr",
     "output_type": "stream",
     "text": [
      "100%|██████████| 104/104 [00:16<00:00,  6.43it/s]\n",
      "100%|██████████| 26/26 [00:10<00:00,  2.45it/s]\n"
     ]
    },
    {
     "name": "stdout",
     "output_type": "stream",
     "text": [
      "Fold: 4 \tEpoch: 65 \tTraining Loss: 2.240438 \tValidation Loss: 1.586797\n",
      "Fold: 4 \tEpoch: 65 \tTraining accuracy: 0.000000 \tValidation accuracy: 0.534159\n",
      "0.0003289899283371657\n"
     ]
    },
    {
     "name": "stderr",
     "output_type": "stream",
     "text": [
      "100%|██████████| 104/104 [00:16<00:00,  6.49it/s]\n",
      "100%|██████████| 26/26 [00:10<00:00,  2.48it/s]\n"
     ]
    },
    {
     "name": "stdout",
     "output_type": "stream",
     "text": [
      "Fold: 4 \tEpoch: 66 \tTraining Loss: 2.199060 \tValidation Loss: 1.568346\n",
      "Fold: 4 \tEpoch: 66 \tTraining accuracy: 0.000000 \tValidation accuracy: 0.528149\n",
      "0.00031269670329204396\n"
     ]
    },
    {
     "name": "stderr",
     "output_type": "stream",
     "text": [
      "100%|██████████| 104/104 [00:16<00:00,  6.43it/s]\n",
      "100%|██████████| 26/26 [00:10<00:00,  2.42it/s]\n"
     ]
    },
    {
     "name": "stdout",
     "output_type": "stream",
     "text": [
      "Fold: 4 \tEpoch: 67 \tTraining Loss: 2.201818 \tValidation Loss: 1.555906\n",
      "Fold: 4 \tEpoch: 67 \tTraining accuracy: 0.000000 \tValidation accuracy: 0.531779\n",
      "0.0002966316784620999\n"
     ]
    },
    {
     "name": "stderr",
     "output_type": "stream",
     "text": [
      "100%|██████████| 104/104 [00:16<00:00,  6.45it/s]\n",
      "100%|██████████| 26/26 [00:10<00:00,  2.45it/s]\n"
     ]
    },
    {
     "name": "stdout",
     "output_type": "stream",
     "text": [
      "Fold: 4 \tEpoch: 68 \tTraining Loss: 2.230049 \tValidation Loss: 1.566764\n",
      "Fold: 4 \tEpoch: 68 \tTraining accuracy: 0.000000 \tValidation accuracy: 0.529519\n",
      "0.00028081442660546124\n"
     ]
    },
    {
     "name": "stderr",
     "output_type": "stream",
     "text": [
      "100%|██████████| 104/104 [00:16<00:00,  6.43it/s]\n",
      "100%|██████████| 26/26 [00:10<00:00,  2.45it/s]\n"
     ]
    },
    {
     "name": "stdout",
     "output_type": "stream",
     "text": [
      "Fold: 4 \tEpoch: 69 \tTraining Loss: 2.092719 \tValidation Loss: 1.507310\n",
      "Fold: 4 \tEpoch: 69 \tTraining accuracy: 0.000000 \tValidation accuracy: 0.543678\n",
      "0.00026526421860705474\n",
      "Validation loss decreased (1.521463 --> 1.507310).  Saving model ...\n"
     ]
    },
    {
     "name": "stderr",
     "output_type": "stream",
     "text": [
      "100%|██████████| 104/104 [00:16<00:00,  6.47it/s]\n",
      "100%|██████████| 26/26 [00:10<00:00,  2.44it/s]\n"
     ]
    },
    {
     "name": "stdout",
     "output_type": "stream",
     "text": [
      "Fold: 4 \tEpoch: 70 \tTraining Loss: 2.227433 \tValidation Loss: 1.540765\n",
      "Fold: 4 \tEpoch: 70 \tTraining accuracy: 0.000000 \tValidation accuracy: 0.544447\n",
      "0.0002500000000000001\n"
     ]
    },
    {
     "name": "stderr",
     "output_type": "stream",
     "text": [
      "100%|██████████| 104/104 [00:15<00:00,  6.50it/s]\n",
      "100%|██████████| 26/26 [00:10<00:00,  2.46it/s]\n"
     ]
    },
    {
     "name": "stdout",
     "output_type": "stream",
     "text": [
      "Fold: 4 \tEpoch: 71 \tTraining Loss: 2.202321 \tValidation Loss: 1.506575\n",
      "Fold: 4 \tEpoch: 71 \tTraining accuracy: 0.000000 \tValidation accuracy: 0.549447\n",
      "0.0002350403678833976\n",
      "Validation loss decreased (1.507310 --> 1.506575).  Saving model ...\n"
     ]
    },
    {
     "name": "stderr",
     "output_type": "stream",
     "text": [
      "100%|██████████| 104/104 [00:16<00:00,  6.46it/s]\n",
      "100%|██████████| 26/26 [00:10<00:00,  2.46it/s]\n"
     ]
    },
    {
     "name": "stdout",
     "output_type": "stream",
     "text": [
      "Fold: 4 \tEpoch: 72 \tTraining Loss: 2.202753 \tValidation Loss: 1.476417\n",
      "Fold: 4 \tEpoch: 72 \tTraining accuracy: 0.000000 \tValidation accuracy: 0.556226\n",
      "0.00022040354826462666\n",
      "Validation loss decreased (1.506575 --> 1.476417).  Saving model ...\n"
     ]
    },
    {
     "name": "stderr",
     "output_type": "stream",
     "text": [
      "100%|██████████| 104/104 [00:16<00:00,  6.42it/s]\n",
      "100%|██████████| 26/26 [00:10<00:00,  2.47it/s]\n"
     ]
    },
    {
     "name": "stdout",
     "output_type": "stream",
     "text": [
      "Fold: 4 \tEpoch: 73 \tTraining Loss: 2.190763 \tValidation Loss: 1.496668\n",
      "Fold: 4 \tEpoch: 73 \tTraining accuracy: 0.000000 \tValidation accuracy: 0.546587\n",
      "0.00020610737385376348\n"
     ]
    },
    {
     "name": "stderr",
     "output_type": "stream",
     "text": [
      "100%|██████████| 104/104 [00:16<00:00,  6.46it/s]\n",
      "100%|██████████| 26/26 [00:10<00:00,  2.43it/s]\n"
     ]
    },
    {
     "name": "stdout",
     "output_type": "stream",
     "text": [
      "Fold: 4 \tEpoch: 74 \tTraining Loss: 2.138415 \tValidation Loss: 1.469816\n",
      "Fold: 4 \tEpoch: 74 \tTraining accuracy: 0.000000 \tValidation accuracy: 0.556130\n",
      "0.00019216926233717085\n",
      "Validation loss decreased (1.476417 --> 1.469816).  Saving model ...\n"
     ]
    },
    {
     "name": "stderr",
     "output_type": "stream",
     "text": [
      "100%|██████████| 104/104 [00:22<00:00,  4.67it/s]\n",
      "100%|██████████| 26/26 [00:12<00:00,  2.16it/s]\n"
     ]
    },
    {
     "name": "stdout",
     "output_type": "stream",
     "text": [
      "Fold: 4 \tEpoch: 75 \tTraining Loss: 2.221829 \tValidation Loss: 1.516357\n",
      "Fold: 4 \tEpoch: 75 \tTraining accuracy: 0.000000 \tValidation accuracy: 0.535697\n",
      "0.0001786061951567303\n"
     ]
    },
    {
     "name": "stderr",
     "output_type": "stream",
     "text": [
      "100%|██████████| 104/104 [00:16<00:00,  6.13it/s]\n",
      "100%|██████████| 26/26 [00:10<00:00,  2.41it/s]\n"
     ]
    },
    {
     "name": "stdout",
     "output_type": "stream",
     "text": [
      "Fold: 4 \tEpoch: 76 \tTraining Loss: 2.279015 \tValidation Loss: 1.518931\n",
      "Fold: 4 \tEpoch: 76 \tTraining accuracy: 0.000000 \tValidation accuracy: 0.546707\n",
      "0.0001654346968205709\n"
     ]
    },
    {
     "name": "stderr",
     "output_type": "stream",
     "text": [
      "100%|██████████| 104/104 [00:16<00:00,  6.43it/s]\n",
      "100%|██████████| 26/26 [00:10<00:00,  2.44it/s]\n"
     ]
    },
    {
     "name": "stdout",
     "output_type": "stream",
     "text": [
      "Fold: 4 \tEpoch: 77 \tTraining Loss: 2.112252 \tValidation Loss: 1.486808\n",
      "Fold: 4 \tEpoch: 77 \tTraining accuracy: 0.000000 \tValidation accuracy: 0.544111\n",
      "0.0001526708147705015\n"
     ]
    },
    {
     "name": "stderr",
     "output_type": "stream",
     "text": [
      "100%|██████████| 104/104 [00:16<00:00,  6.45it/s]\n",
      "100%|██████████| 26/26 [00:10<00:00,  2.43it/s]\n"
     ]
    },
    {
     "name": "stdout",
     "output_type": "stream",
     "text": [
      "Fold: 4 \tEpoch: 78 \tTraining Loss: 2.141948 \tValidation Loss: 1.482017\n",
      "Fold: 4 \tEpoch: 78 \tTraining accuracy: 0.000000 \tValidation accuracy: 0.558197\n",
      "0.00014033009983067436\n"
     ]
    },
    {
     "name": "stderr",
     "output_type": "stream",
     "text": [
      "100%|██████████| 104/104 [00:16<00:00,  6.42it/s]\n",
      "100%|██████████| 26/26 [00:10<00:00,  2.41it/s]\n"
     ]
    },
    {
     "name": "stdout",
     "output_type": "stream",
     "text": [
      "Fold: 4 \tEpoch: 79 \tTraining Loss: 2.209492 \tValidation Loss: 1.477465\n",
      "Fold: 4 \tEpoch: 79 \tTraining accuracy: 0.000000 \tValidation accuracy: 0.559808\n",
      "0.00012842758726130292\n"
     ]
    },
    {
     "name": "stderr",
     "output_type": "stream",
     "text": [
      "100%|██████████| 104/104 [00:16<00:00,  6.43it/s]\n",
      "100%|██████████| 26/26 [00:10<00:00,  2.47it/s]\n"
     ]
    },
    {
     "name": "stdout",
     "output_type": "stream",
     "text": [
      "Fold: 4 \tEpoch: 80 \tTraining Loss: 2.057710 \tValidation Loss: 1.427360\n",
      "Fold: 4 \tEpoch: 80 \tTraining accuracy: 0.000000 \tValidation accuracy: 0.559808\n",
      "0.00011697777844051105\n",
      "Validation loss decreased (1.469816 --> 1.427360).  Saving model ...\n"
     ]
    },
    {
     "name": "stderr",
     "output_type": "stream",
     "text": [
      "100%|██████████| 104/104 [00:16<00:00,  6.45it/s]\n",
      "100%|██████████| 26/26 [00:10<00:00,  2.44it/s]\n"
     ]
    },
    {
     "name": "stdout",
     "output_type": "stream",
     "text": [
      "Fold: 4 \tEpoch: 81 \tTraining Loss: 2.097234 \tValidation Loss: 1.444743\n",
      "Fold: 4 \tEpoch: 81 \tTraining accuracy: 0.000000 \tValidation accuracy: 0.572981\n",
      "0.00010599462319663906\n"
     ]
    },
    {
     "name": "stderr",
     "output_type": "stream",
     "text": [
      "100%|██████████| 104/104 [00:16<00:00,  6.46it/s]\n",
      "100%|██████████| 26/26 [00:10<00:00,  2.43it/s]\n"
     ]
    },
    {
     "name": "stdout",
     "output_type": "stream",
     "text": [
      "Fold: 4 \tEpoch: 82 \tTraining Loss: 2.175523 \tValidation Loss: 1.444847\n",
      "Fold: 4 \tEpoch: 82 \tTraining accuracy: 0.000000 \tValidation accuracy: 0.567284\n",
      "9.549150281252633e-05\n"
     ]
    },
    {
     "name": "stderr",
     "output_type": "stream",
     "text": [
      "100%|██████████| 104/104 [00:16<00:00,  6.42it/s]\n",
      "100%|██████████| 26/26 [00:10<00:00,  2.41it/s]\n"
     ]
    },
    {
     "name": "stdout",
     "output_type": "stream",
     "text": [
      "Fold: 4 \tEpoch: 83 \tTraining Loss: 2.122655 \tValidation Loss: 1.447584\n",
      "Fold: 4 \tEpoch: 83 \tTraining accuracy: 0.000000 \tValidation accuracy: 0.561707\n",
      "8.548121372247918e-05\n"
     ]
    },
    {
     "name": "stderr",
     "output_type": "stream",
     "text": [
      "100%|██████████| 104/104 [00:16<00:00,  6.31it/s]\n",
      "100%|██████████| 26/26 [00:10<00:00,  2.46it/s]\n"
     ]
    },
    {
     "name": "stdout",
     "output_type": "stream",
     "text": [
      "Fold: 4 \tEpoch: 84 \tTraining Loss: 2.065020 \tValidation Loss: 1.426880\n",
      "Fold: 4 \tEpoch: 84 \tTraining accuracy: 0.000000 \tValidation accuracy: 0.572524\n",
      "7.597595192178702e-05\n",
      "Validation loss decreased (1.427360 --> 1.426880).  Saving model ...\n"
     ]
    },
    {
     "name": "stderr",
     "output_type": "stream",
     "text": [
      "100%|██████████| 104/104 [00:16<00:00,  6.47it/s]\n",
      "100%|██████████| 26/26 [00:10<00:00,  2.48it/s]\n"
     ]
    },
    {
     "name": "stdout",
     "output_type": "stream",
     "text": [
      "Fold: 4 \tEpoch: 85 \tTraining Loss: 2.122696 \tValidation Loss: 1.436352\n",
      "Fold: 4 \tEpoch: 85 \tTraining accuracy: 0.000000 \tValidation accuracy: 0.577260\n",
      "6.698729810778065e-05\n"
     ]
    },
    {
     "name": "stderr",
     "output_type": "stream",
     "text": [
      "100%|██████████| 104/104 [00:16<00:00,  6.42it/s]\n",
      "100%|██████████| 26/26 [00:10<00:00,  2.42it/s]\n"
     ]
    },
    {
     "name": "stdout",
     "output_type": "stream",
     "text": [
      "Fold: 4 \tEpoch: 86 \tTraining Loss: 2.164043 \tValidation Loss: 1.444512\n",
      "Fold: 4 \tEpoch: 86 \tTraining accuracy: 0.000000 \tValidation accuracy: 0.571250\n",
      "5.8526203570536616e-05\n"
     ]
    },
    {
     "name": "stderr",
     "output_type": "stream",
     "text": [
      "100%|██████████| 104/104 [00:16<00:00,  6.43it/s]\n",
      "100%|██████████| 26/26 [00:10<00:00,  2.43it/s]\n"
     ]
    },
    {
     "name": "stdout",
     "output_type": "stream",
     "text": [
      "Fold: 4 \tEpoch: 87 \tTraining Loss: 2.113136 \tValidation Loss: 1.422478\n",
      "Fold: 4 \tEpoch: 87 \tTraining accuracy: 0.000000 \tValidation accuracy: 0.572356\n",
      "5.060297685041648e-05\n",
      "Validation loss decreased (1.426880 --> 1.422478).  Saving model ...\n"
     ]
    },
    {
     "name": "stderr",
     "output_type": "stream",
     "text": [
      "100%|██████████| 104/104 [00:16<00:00,  6.43it/s]\n",
      "100%|██████████| 26/26 [00:10<00:00,  2.48it/s]\n"
     ]
    },
    {
     "name": "stdout",
     "output_type": "stream",
     "text": [
      "Fold: 4 \tEpoch: 88 \tTraining Loss: 2.102428 \tValidation Loss: 1.447068\n",
      "Fold: 4 \tEpoch: 88 \tTraining accuracy: 0.000000 \tValidation accuracy: 0.561562\n",
      "4.3227271178699624e-05\n"
     ]
    },
    {
     "name": "stderr",
     "output_type": "stream",
     "text": [
      "100%|██████████| 104/104 [00:16<00:00,  6.43it/s]\n",
      "100%|██████████| 26/26 [00:10<00:00,  2.48it/s]\n"
     ]
    },
    {
     "name": "stdout",
     "output_type": "stream",
     "text": [
      "Fold: 4 \tEpoch: 89 \tTraining Loss: 2.184843 \tValidation Loss: 1.442196\n",
      "Fold: 4 \tEpoch: 89 \tTraining accuracy: 0.000000 \tValidation accuracy: 0.570120\n",
      "3.6408072716606344e-05\n"
     ]
    },
    {
     "name": "stderr",
     "output_type": "stream",
     "text": [
      "100%|██████████| 104/104 [00:16<00:00,  6.42it/s]\n",
      "100%|██████████| 26/26 [00:10<00:00,  2.46it/s]\n"
     ]
    },
    {
     "name": "stdout",
     "output_type": "stream",
     "text": [
      "Fold: 4 \tEpoch: 90 \tTraining Loss: 2.194755 \tValidation Loss: 1.450144\n",
      "Fold: 4 \tEpoch: 90 \tTraining accuracy: 0.000000 \tValidation accuracy: 0.563438\n",
      "3.0153689607045842e-05\n"
     ]
    },
    {
     "name": "stderr",
     "output_type": "stream",
     "text": [
      "100%|██████████| 104/104 [00:16<00:00,  6.48it/s]\n",
      "100%|██████████| 26/26 [00:10<00:00,  2.42it/s]\n"
     ]
    },
    {
     "name": "stdout",
     "output_type": "stream",
     "text": [
      "Fold: 4 \tEpoch: 91 \tTraining Loss: 2.142822 \tValidation Loss: 1.425669\n",
      "Fold: 4 \tEpoch: 91 \tTraining accuracy: 0.000000 \tValidation accuracy: 0.576659\n",
      "2.4471741852423235e-05\n"
     ]
    },
    {
     "name": "stderr",
     "output_type": "stream",
     "text": [
      "100%|██████████| 104/104 [00:16<00:00,  6.47it/s]\n",
      "100%|██████████| 26/26 [00:10<00:00,  2.43it/s]\n"
     ]
    },
    {
     "name": "stdout",
     "output_type": "stream",
     "text": [
      "Fold: 4 \tEpoch: 92 \tTraining Loss: 2.126251 \tValidation Loss: 1.419781\n",
      "Fold: 4 \tEpoch: 92 \tTraining accuracy: 0.000000 \tValidation accuracy: 0.573221\n",
      "1.9369152030840666e-05\n",
      "Validation loss decreased (1.422478 --> 1.419781).  Saving model ...\n"
     ]
    },
    {
     "name": "stderr",
     "output_type": "stream",
     "text": [
      "100%|██████████| 104/104 [00:16<00:00,  6.42it/s]\n",
      "100%|██████████| 26/26 [00:10<00:00,  2.47it/s]\n"
     ]
    },
    {
     "name": "stdout",
     "output_type": "stream",
     "text": [
      "Fold: 4 \tEpoch: 93 \tTraining Loss: 2.132660 \tValidation Loss: 1.428831\n",
      "Fold: 4 \tEpoch: 93 \tTraining accuracy: 0.000000 \tValidation accuracy: 0.569543\n",
      "1.4852136862001764e-05\n"
     ]
    },
    {
     "name": "stderr",
     "output_type": "stream",
     "text": [
      "100%|██████████| 104/104 [00:16<00:00,  6.48it/s]\n",
      "100%|██████████| 26/26 [00:10<00:00,  2.48it/s]\n"
     ]
    },
    {
     "name": "stdout",
     "output_type": "stream",
     "text": [
      "Fold: 4 \tEpoch: 94 \tTraining Loss: 2.077916 \tValidation Loss: 1.432341\n",
      "Fold: 4 \tEpoch: 94 \tTraining accuracy: 0.000000 \tValidation accuracy: 0.567740\n",
      "1.0926199633097156e-05\n"
     ]
    },
    {
     "name": "stderr",
     "output_type": "stream",
     "text": [
      "100%|██████████| 104/104 [00:16<00:00,  6.44it/s]\n",
      "100%|██████████| 26/26 [00:10<00:00,  2.39it/s]\n"
     ]
    },
    {
     "name": "stdout",
     "output_type": "stream",
     "text": [
      "Fold: 4 \tEpoch: 95 \tTraining Loss: 2.086134 \tValidation Loss: 1.423945\n",
      "Fold: 4 \tEpoch: 95 \tTraining accuracy: 0.000000 \tValidation accuracy: 0.571418\n",
      "7.59612349389599e-06\n"
     ]
    },
    {
     "name": "stderr",
     "output_type": "stream",
     "text": [
      "100%|██████████| 104/104 [00:16<00:00,  6.40it/s]\n",
      "100%|██████████| 26/26 [00:10<00:00,  2.47it/s]\n"
     ]
    },
    {
     "name": "stdout",
     "output_type": "stream",
     "text": [
      "Fold: 4 \tEpoch: 96 \tTraining Loss: 2.071107 \tValidation Loss: 1.419955\n",
      "Fold: 4 \tEpoch: 96 \tTraining accuracy: 0.000000 \tValidation accuracy: 0.575048\n",
      "4.865965629214875e-06\n"
     ]
    },
    {
     "name": "stderr",
     "output_type": "stream",
     "text": [
      "100%|██████████| 104/104 [00:16<00:00,  6.44it/s]\n",
      "100%|██████████| 26/26 [00:10<00:00,  2.44it/s]\n"
     ]
    },
    {
     "name": "stdout",
     "output_type": "stream",
     "text": [
      "Fold: 4 \tEpoch: 97 \tTraining Loss: 2.014008 \tValidation Loss: 1.414860\n",
      "Fold: 4 \tEpoch: 97 \tTraining accuracy: 0.000000 \tValidation accuracy: 0.571851\n",
      "2.739052315863355e-06\n",
      "Validation loss decreased (1.419781 --> 1.414860).  Saving model ...\n"
     ]
    },
    {
     "name": "stderr",
     "output_type": "stream",
     "text": [
      "100%|██████████| 104/104 [00:16<00:00,  6.48it/s]\n",
      "100%|██████████| 26/26 [00:10<00:00,  2.49it/s]\n"
     ]
    },
    {
     "name": "stdout",
     "output_type": "stream",
     "text": [
      "Fold: 4 \tEpoch: 98 \tTraining Loss: 2.078248 \tValidation Loss: 1.407176\n",
      "Fold: 4 \tEpoch: 98 \tTraining accuracy: 0.000000 \tValidation accuracy: 0.579736\n",
      "1.2179748700879012e-06\n",
      "Validation loss decreased (1.414860 --> 1.407176).  Saving model ...\n"
     ]
    },
    {
     "name": "stderr",
     "output_type": "stream",
     "text": [
      "100%|██████████| 104/104 [00:16<00:00,  6.47it/s]\n",
      "100%|██████████| 26/26 [00:10<00:00,  2.49it/s]\n"
     ]
    },
    {
     "name": "stdout",
     "output_type": "stream",
     "text": [
      "Fold: 4 \tEpoch: 99 \tTraining Loss: 2.029240 \tValidation Loss: 1.411985\n",
      "Fold: 4 \tEpoch: 99 \tTraining accuracy: 0.000000 \tValidation accuracy: 0.572187\n",
      "3.0458649045211895e-07\n"
     ]
    },
    {
     "name": "stderr",
     "output_type": "stream",
     "text": [
      "100%|██████████| 104/104 [00:16<00:00,  6.47it/s]\n",
      "100%|██████████| 26/26 [00:10<00:00,  2.47it/s]\n"
     ]
    },
    {
     "name": "stdout",
     "output_type": "stream",
     "text": [
      "Fold: 4 \tEpoch: 100 \tTraining Loss: 1.989382 \tValidation Loss: 1.408110\n",
      "Fold: 4 \tEpoch: 100 \tTraining accuracy: 0.000000 \tValidation accuracy: 0.570385\n",
      "0.0\n"
     ]
    },
    {
     "name": "stderr",
     "output_type": "stream",
     "text": [
      "100%|██████████| 104/104 [00:16<00:00,  6.44it/s]\n",
      "100%|██████████| 26/26 [00:10<00:00,  2.44it/s]\n"
     ]
    },
    {
     "name": "stdout",
     "output_type": "stream",
     "text": [
      "Fold: 4 \tEpoch: 101 \tTraining Loss: 2.062271 \tValidation Loss: 1.427108\n",
      "Fold: 4 \tEpoch: 101 \tTraining accuracy: 0.000000 \tValidation accuracy: 0.571779\n",
      "5e-05\n"
     ]
    },
    {
     "name": "stderr",
     "output_type": "stream",
     "text": [
      "100%|██████████| 104/104 [00:16<00:00,  6.45it/s]\n",
      "100%|██████████| 26/26 [00:10<00:00,  2.43it/s]\n"
     ]
    },
    {
     "name": "stdout",
     "output_type": "stream",
     "text": [
      "Fold: 4 \tEpoch: 102 \tTraining Loss: 2.131031 \tValidation Loss: 1.439418\n",
      "Fold: 4 \tEpoch: 102 \tTraining accuracy: 0.000000 \tValidation accuracy: 0.562740\n",
      "0.0001\n"
     ]
    },
    {
     "name": "stderr",
     "output_type": "stream",
     "text": [
      "100%|██████████| 104/104 [00:23<00:00,  4.47it/s]\n",
      "100%|██████████| 26/26 [00:10<00:00,  2.39it/s]\n"
     ]
    },
    {
     "name": "stdout",
     "output_type": "stream",
     "text": [
      "Fold: 4 \tEpoch: 103 \tTraining Loss: 2.090714 \tValidation Loss: 1.412373\n",
      "Fold: 4 \tEpoch: 103 \tTraining accuracy: 0.000000 \tValidation accuracy: 0.573221\n",
      "0.00015000000000000001\n"
     ]
    },
    {
     "name": "stderr",
     "output_type": "stream",
     "text": [
      "100%|██████████| 104/104 [00:16<00:00,  6.16it/s]\n",
      "100%|██████████| 26/26 [00:11<00:00,  2.36it/s]\n"
     ]
    },
    {
     "name": "stdout",
     "output_type": "stream",
     "text": [
      "Fold: 4 \tEpoch: 104 \tTraining Loss: 2.158592 \tValidation Loss: 1.501853\n",
      "Fold: 4 \tEpoch: 104 \tTraining accuracy: 0.000000 \tValidation accuracy: 0.554087\n",
      "0.0002\n"
     ]
    },
    {
     "name": "stderr",
     "output_type": "stream",
     "text": [
      "100%|██████████| 104/104 [00:16<00:00,  6.31it/s]\n",
      "100%|██████████| 26/26 [00:11<00:00,  2.32it/s]\n"
     ]
    },
    {
     "name": "stdout",
     "output_type": "stream",
     "text": [
      "Fold: 4 \tEpoch: 105 \tTraining Loss: 2.054576 \tValidation Loss: 1.467500\n",
      "Fold: 4 \tEpoch: 105 \tTraining accuracy: 0.000000 \tValidation accuracy: 0.563678\n",
      "0.00025\n"
     ]
    },
    {
     "name": "stderr",
     "output_type": "stream",
     "text": [
      "100%|██████████| 104/104 [00:16<00:00,  6.28it/s]\n",
      "100%|██████████| 26/26 [00:10<00:00,  2.37it/s]\n"
     ]
    },
    {
     "name": "stdout",
     "output_type": "stream",
     "text": [
      "Fold: 4 \tEpoch: 106 \tTraining Loss: 2.176768 \tValidation Loss: 1.547129\n",
      "Fold: 4 \tEpoch: 106 \tTraining accuracy: 0.000000 \tValidation accuracy: 0.548413\n",
      "0.00030000000000000003\n"
     ]
    },
    {
     "name": "stderr",
     "output_type": "stream",
     "text": [
      "100%|██████████| 104/104 [00:16<00:00,  6.24it/s]\n",
      "100%|██████████| 26/26 [00:10<00:00,  2.40it/s]\n"
     ]
    },
    {
     "name": "stdout",
     "output_type": "stream",
     "text": [
      "Fold: 4 \tEpoch: 107 \tTraining Loss: 2.109535 \tValidation Loss: 1.463788\n",
      "Fold: 4 \tEpoch: 107 \tTraining accuracy: 0.000000 \tValidation accuracy: 0.554928\n",
      "0.00035\n"
     ]
    },
    {
     "name": "stderr",
     "output_type": "stream",
     "text": [
      "100%|██████████| 104/104 [00:16<00:00,  6.25it/s]\n",
      "100%|██████████| 26/26 [00:12<00:00,  2.06it/s]\n"
     ]
    },
    {
     "name": "stdout",
     "output_type": "stream",
     "text": [
      "Fold: 4 \tEpoch: 108 \tTraining Loss: 2.242448 \tValidation Loss: 1.523567\n",
      "Fold: 4 \tEpoch: 108 \tTraining accuracy: 0.000000 \tValidation accuracy: 0.550312\n",
      "0.0004\n"
     ]
    },
    {
     "name": "stderr",
     "output_type": "stream",
     "text": [
      "100%|██████████| 104/104 [00:16<00:00,  6.45it/s]\n",
      "100%|██████████| 26/26 [00:10<00:00,  2.42it/s]\n"
     ]
    },
    {
     "name": "stdout",
     "output_type": "stream",
     "text": [
      "Fold: 4 \tEpoch: 109 \tTraining Loss: 2.175038 \tValidation Loss: 1.581227\n",
      "Fold: 4 \tEpoch: 109 \tTraining accuracy: 0.000000 \tValidation accuracy: 0.527885\n",
      "0.00045000000000000004\n"
     ]
    },
    {
     "name": "stderr",
     "output_type": "stream",
     "text": [
      "100%|██████████| 104/104 [00:16<00:00,  6.45it/s]\n",
      "100%|██████████| 26/26 [00:10<00:00,  2.47it/s]\n"
     ]
    },
    {
     "name": "stdout",
     "output_type": "stream",
     "text": [
      "Fold: 4 \tEpoch: 110 \tTraining Loss: 2.268776 \tValidation Loss: 1.530302\n",
      "Fold: 4 \tEpoch: 110 \tTraining accuracy: 0.000000 \tValidation accuracy: 0.555192\n",
      "0.0005\n"
     ]
    },
    {
     "name": "stderr",
     "output_type": "stream",
     "text": [
      "100%|██████████| 104/104 [00:16<00:00,  6.41it/s]\n",
      "100%|██████████| 26/26 [00:10<00:00,  2.41it/s]\n"
     ]
    },
    {
     "name": "stdout",
     "output_type": "stream",
     "text": [
      "Fold: 4 \tEpoch: 111 \tTraining Loss: 2.213392 \tValidation Loss: 1.534964\n",
      "Fold: 4 \tEpoch: 111 \tTraining accuracy: 0.000000 \tValidation accuracy: 0.536755\n",
      "0.0004998477067547739\n"
     ]
    },
    {
     "name": "stderr",
     "output_type": "stream",
     "text": [
      "100%|██████████| 104/104 [00:16<00:00,  6.40it/s]\n",
      "100%|██████████| 26/26 [00:10<00:00,  2.47it/s]\n"
     ]
    },
    {
     "name": "stdout",
     "output_type": "stream",
     "text": [
      "Fold: 4 \tEpoch: 112 \tTraining Loss: 2.187180 \tValidation Loss: 1.761234\n",
      "Fold: 4 \tEpoch: 112 \tTraining accuracy: 0.000000 \tValidation accuracy: 0.476827\n",
      "0.0004993910125649561\n"
     ]
    },
    {
     "name": "stderr",
     "output_type": "stream",
     "text": [
      "100%|██████████| 104/104 [00:16<00:00,  6.42it/s]\n",
      "100%|██████████| 26/26 [00:10<00:00,  2.43it/s]\n"
     ]
    },
    {
     "name": "stdout",
     "output_type": "stream",
     "text": [
      "Fold: 4 \tEpoch: 113 \tTraining Loss: 2.281409 \tValidation Loss: 1.640749\n",
      "Fold: 4 \tEpoch: 113 \tTraining accuracy: 0.000000 \tValidation accuracy: 0.527885\n",
      "0.0004986304738420684\n"
     ]
    },
    {
     "name": "stderr",
     "output_type": "stream",
     "text": [
      "100%|██████████| 104/104 [00:16<00:00,  6.42it/s]\n",
      "100%|██████████| 26/26 [00:10<00:00,  2.41it/s]\n"
     ]
    },
    {
     "name": "stdout",
     "output_type": "stream",
     "text": [
      "Fold: 4 \tEpoch: 114 \tTraining Loss: 2.238911 \tValidation Loss: 1.523194\n",
      "Fold: 4 \tEpoch: 114 \tTraining accuracy: 0.000000 \tValidation accuracy: 0.547139\n",
      "0.0004975670171853926\n"
     ]
    },
    {
     "name": "stderr",
     "output_type": "stream",
     "text": [
      "100%|██████████| 104/104 [00:16<00:00,  6.43it/s]\n",
      "100%|██████████| 26/26 [00:10<00:00,  2.47it/s]\n"
     ]
    },
    {
     "name": "stdout",
     "output_type": "stream",
     "text": [
      "Fold: 4 \tEpoch: 115 \tTraining Loss: 2.208958 \tValidation Loss: 1.601043\n",
      "Fold: 4 \tEpoch: 115 \tTraining accuracy: 0.000000 \tValidation accuracy: 0.531058\n",
      "0.000496201938253052\n"
     ]
    },
    {
     "name": "stderr",
     "output_type": "stream",
     "text": [
      "100%|██████████| 104/104 [00:16<00:00,  6.44it/s]\n",
      "100%|██████████| 26/26 [00:10<00:00,  2.43it/s]\n"
     ]
    },
    {
     "name": "stdout",
     "output_type": "stream",
     "text": [
      "Fold: 4 \tEpoch: 116 \tTraining Loss: 2.156261 \tValidation Loss: 1.480410\n",
      "Fold: 4 \tEpoch: 116 \tTraining accuracy: 0.000000 \tValidation accuracy: 0.558077\n",
      "0.0004945369001834514\n"
     ]
    },
    {
     "name": "stderr",
     "output_type": "stream",
     "text": [
      "100%|██████████| 104/104 [00:16<00:00,  6.40it/s]\n",
      "100%|██████████| 26/26 [00:10<00:00,  2.42it/s]\n"
     ]
    },
    {
     "name": "stdout",
     "output_type": "stream",
     "text": [
      "Fold: 4 \tEpoch: 117 \tTraining Loss: 2.219050 \tValidation Loss: 1.503214\n",
      "Fold: 4 \tEpoch: 117 \tTraining accuracy: 0.000000 \tValidation accuracy: 0.564543\n",
      "0.0004925739315689991\n"
     ]
    },
    {
     "name": "stderr",
     "output_type": "stream",
     "text": [
      "100%|██████████| 104/104 [00:16<00:00,  6.44it/s]\n",
      "100%|██████████| 26/26 [00:10<00:00,  2.46it/s]\n"
     ]
    },
    {
     "name": "stdout",
     "output_type": "stream",
     "text": [
      "Fold: 4 \tEpoch: 118 \tTraining Loss: 2.201852 \tValidation Loss: 1.513385\n",
      "Fold: 4 \tEpoch: 118 \tTraining accuracy: 0.000000 \tValidation accuracy: 0.568389\n",
      "0.0004903154239845797\n"
     ]
    },
    {
     "name": "stderr",
     "output_type": "stream",
     "text": [
      "100%|██████████| 104/104 [00:16<00:00,  6.40it/s]\n",
      "100%|██████████| 26/26 [00:10<00:00,  2.41it/s]\n"
     ]
    },
    {
     "name": "stdout",
     "output_type": "stream",
     "text": [
      "Fold: 4 \tEpoch: 119 \tTraining Loss: 2.146528 \tValidation Loss: 1.502033\n",
      "Fold: 4 \tEpoch: 119 \tTraining accuracy: 0.000000 \tValidation accuracy: 0.559495\n",
      "0.0004877641290737884\n"
     ]
    },
    {
     "name": "stderr",
     "output_type": "stream",
     "text": [
      "100%|██████████| 104/104 [00:16<00:00,  6.42it/s]\n",
      "100%|██████████| 26/26 [00:10<00:00,  2.46it/s]\n"
     ]
    },
    {
     "name": "stdout",
     "output_type": "stream",
     "text": [
      "Fold: 4 \tEpoch: 120 \tTraining Loss: 2.210253 \tValidation Loss: 1.561799\n",
      "Fold: 4 \tEpoch: 120 \tTraining accuracy: 0.000000 \tValidation accuracy: 0.554062\n",
      "0.0004849231551964771\n"
     ]
    },
    {
     "name": "stderr",
     "output_type": "stream",
     "text": [
      "100%|██████████| 104/104 [00:16<00:00,  6.47it/s]\n",
      "100%|██████████| 26/26 [00:10<00:00,  2.43it/s]\n"
     ]
    },
    {
     "name": "stdout",
     "output_type": "stream",
     "text": [
      "Fold: 4 \tEpoch: 121 \tTraining Loss: 2.189445 \tValidation Loss: 1.571979\n",
      "Fold: 4 \tEpoch: 121 \tTraining accuracy: 0.000000 \tValidation accuracy: 0.541827\n",
      "0.00048179596364169685\n"
     ]
    },
    {
     "name": "stderr",
     "output_type": "stream",
     "text": [
      "100%|██████████| 104/104 [00:16<00:00,  6.42it/s]\n",
      "100%|██████████| 26/26 [00:10<00:00,  2.47it/s]\n"
     ]
    },
    {
     "name": "stdout",
     "output_type": "stream",
     "text": [
      "Fold: 4 \tEpoch: 122 \tTraining Loss: 2.175529 \tValidation Loss: 1.523543\n",
      "Fold: 4 \tEpoch: 122 \tTraining accuracy: 0.000000 \tValidation accuracy: 0.561635\n",
      "0.0004783863644106502\n"
     ]
    },
    {
     "name": "stderr",
     "output_type": "stream",
     "text": [
      "100%|██████████| 104/104 [00:16<00:00,  6.47it/s]\n",
      "100%|██████████| 26/26 [00:10<00:00,  2.47it/s]\n"
     ]
    },
    {
     "name": "stdout",
     "output_type": "stream",
     "text": [
      "Fold: 4 \tEpoch: 123 \tTraining Loss: 2.167093 \tValidation Loss: 1.541374\n",
      "Fold: 4 \tEpoch: 123 \tTraining accuracy: 0.000000 \tValidation accuracy: 0.546779\n",
      "0.00047469851157479177\n"
     ]
    },
    {
     "name": "stderr",
     "output_type": "stream",
     "text": [
      "100%|██████████| 104/104 [00:16<00:00,  6.43it/s]\n",
      "100%|██████████| 26/26 [00:10<00:00,  2.40it/s]\n"
     ]
    },
    {
     "name": "stdout",
     "output_type": "stream",
     "text": [
      "Fold: 4 \tEpoch: 124 \tTraining Loss: 2.167724 \tValidation Loss: 1.475996\n",
      "Fold: 4 \tEpoch: 124 \tTraining accuracy: 0.000000 \tValidation accuracy: 0.563582\n",
      "0.00047073689821473173\n"
     ]
    },
    {
     "name": "stderr",
     "output_type": "stream",
     "text": [
      "100%|██████████| 104/104 [00:16<00:00,  6.45it/s]\n",
      "100%|██████████| 26/26 [00:10<00:00,  2.43it/s]\n"
     ]
    },
    {
     "name": "stdout",
     "output_type": "stream",
     "text": [
      "Fold: 4 \tEpoch: 125 \tTraining Loss: 2.104903 \tValidation Loss: 1.505725\n",
      "Fold: 4 \tEpoch: 125 \tTraining accuracy: 0.000000 \tValidation accuracy: 0.562404\n",
      "0.00046650635094610973\n"
     ]
    },
    {
     "name": "stderr",
     "output_type": "stream",
     "text": [
      "100%|██████████| 104/104 [00:16<00:00,  6.41it/s]\n",
      "100%|██████████| 26/26 [00:10<00:00,  2.42it/s]\n"
     ]
    },
    {
     "name": "stdout",
     "output_type": "stream",
     "text": [
      "Fold: 4 \tEpoch: 126 \tTraining Loss: 2.125401 \tValidation Loss: 1.476608\n",
      "Fold: 4 \tEpoch: 126 \tTraining accuracy: 0.000000 \tValidation accuracy: 0.572019\n",
      "0.00046201202403910646\n"
     ]
    },
    {
     "name": "stderr",
     "output_type": "stream",
     "text": [
      "100%|██████████| 104/104 [00:16<00:00,  6.48it/s]\n",
      "100%|██████████| 26/26 [00:10<00:00,  2.47it/s]\n"
     ]
    },
    {
     "name": "stdout",
     "output_type": "stream",
     "text": [
      "Fold: 4 \tEpoch: 127 \tTraining Loss: 2.155920 \tValidation Loss: 1.509182\n",
      "Fold: 4 \tEpoch: 127 \tTraining accuracy: 0.000000 \tValidation accuracy: 0.567740\n",
      "0.00045725939313876043\n"
     ]
    },
    {
     "name": "stderr",
     "output_type": "stream",
     "text": [
      "100%|██████████| 104/104 [00:16<00:00,  6.45it/s]\n",
      "100%|██████████| 26/26 [00:10<00:00,  2.44it/s]\n"
     ]
    },
    {
     "name": "stdout",
     "output_type": "stream",
     "text": [
      "Fold: 4 \tEpoch: 128 \tTraining Loss: 2.124237 \tValidation Loss: 1.477726\n",
      "Fold: 4 \tEpoch: 128 \tTraining accuracy: 0.000000 \tValidation accuracy: 0.561274\n",
      "0.0004522542485937369\n"
     ]
    },
    {
     "name": "stderr",
     "output_type": "stream",
     "text": [
      "100%|██████████| 104/104 [00:16<00:00,  6.47it/s]\n",
      "100%|██████████| 26/26 [00:10<00:00,  2.43it/s]\n"
     ]
    },
    {
     "name": "stdout",
     "output_type": "stream",
     "text": [
      "Fold: 4 \tEpoch: 129 \tTraining Loss: 2.185234 \tValidation Loss: 1.471899\n",
      "Fold: 4 \tEpoch: 129 \tTraining accuracy: 0.000000 \tValidation accuracy: 0.564808\n",
      "0.0004470026884016805\n"
     ]
    },
    {
     "name": "stderr",
     "output_type": "stream",
     "text": [
      "100%|██████████| 104/104 [00:16<00:00,  6.42it/s]\n",
      "100%|██████████| 26/26 [00:10<00:00,  2.41it/s]\n"
     ]
    },
    {
     "name": "stdout",
     "output_type": "stream",
     "text": [
      "Fold: 4 \tEpoch: 130 \tTraining Loss: 2.052859 \tValidation Loss: 1.474859\n",
      "Fold: 4 \tEpoch: 130 \tTraining accuracy: 0.000000 \tValidation accuracy: 0.547043\n",
      "0.0004415111107797445\n"
     ]
    },
    {
     "name": "stderr",
     "output_type": "stream",
     "text": [
      "100%|██████████| 104/104 [00:16<00:00,  6.46it/s]\n",
      "100%|██████████| 26/26 [00:10<00:00,  2.44it/s]\n"
     ]
    },
    {
     "name": "stdout",
     "output_type": "stream",
     "text": [
      "Fold: 4 \tEpoch: 131 \tTraining Loss: 2.143414 \tValidation Loss: 1.497964\n",
      "Fold: 4 \tEpoch: 131 \tTraining accuracy: 0.000000 \tValidation accuracy: 0.563606\n",
      "0.00043578620636934855\n"
     ]
    },
    {
     "name": "stderr",
     "output_type": "stream",
     "text": [
      "100%|██████████| 104/104 [00:16<00:00,  6.46it/s]\n",
      "100%|██████████| 26/26 [00:10<00:00,  2.43it/s]\n"
     ]
    },
    {
     "name": "stdout",
     "output_type": "stream",
     "text": [
      "Fold: 4 \tEpoch: 132 \tTraining Loss: 2.130693 \tValidation Loss: 1.499174\n",
      "Fold: 4 \tEpoch: 132 \tTraining accuracy: 0.000000 \tValidation accuracy: 0.557163\n",
      "0.0004298349500846628\n"
     ]
    },
    {
     "name": "stderr",
     "output_type": "stream",
     "text": [
      "100%|██████████| 104/104 [00:16<00:00,  6.46it/s]\n",
      "100%|██████████| 26/26 [00:10<00:00,  2.44it/s]\n"
     ]
    },
    {
     "name": "stdout",
     "output_type": "stream",
     "text": [
      "Fold: 4 \tEpoch: 133 \tTraining Loss: 2.103534 \tValidation Loss: 1.418799\n",
      "Fold: 4 \tEpoch: 133 \tTraining accuracy: 0.000000 \tValidation accuracy: 0.575361\n",
      "0.00042366459261474935\n"
     ]
    },
    {
     "name": "stderr",
     "output_type": "stream",
     "text": [
      "100%|██████████| 104/104 [00:16<00:00,  6.46it/s]\n",
      "100%|██████████| 26/26 [00:10<00:00,  2.43it/s]\n"
     ]
    },
    {
     "name": "stdout",
     "output_type": "stream",
     "text": [
      "Fold: 4 \tEpoch: 134 \tTraining Loss: 2.099114 \tValidation Loss: 1.447666\n",
      "Fold: 4 \tEpoch: 134 \tTraining accuracy: 0.000000 \tValidation accuracy: 0.582067\n",
      "0.0004172826515897146\n"
     ]
    },
    {
     "name": "stderr",
     "output_type": "stream",
     "text": [
      "100%|██████████| 104/104 [00:16<00:00,  6.47it/s]\n",
      "100%|██████████| 26/26 [00:10<00:00,  2.48it/s]\n"
     ]
    },
    {
     "name": "stdout",
     "output_type": "stream",
     "text": [
      "Fold: 4 \tEpoch: 135 \tTraining Loss: 2.134287 \tValidation Loss: 1.439542\n",
      "Fold: 4 \tEpoch: 135 \tTraining accuracy: 0.000000 \tValidation accuracy: 0.577837\n",
      "0.0004106969024216348\n"
     ]
    },
    {
     "name": "stderr",
     "output_type": "stream",
     "text": [
      "100%|██████████| 104/104 [00:16<00:00,  6.46it/s]\n",
      "100%|██████████| 26/26 [00:10<00:00,  2.48it/s]\n"
     ]
    },
    {
     "name": "stdout",
     "output_type": "stream",
     "text": [
      "Fold: 4 \tEpoch: 136 \tTraining Loss: 2.157681 \tValidation Loss: 1.540404\n",
      "Fold: 4 \tEpoch: 136 \tTraining accuracy: 0.000000 \tValidation accuracy: 0.553389\n",
      "0.00040391536883141455\n"
     ]
    },
    {
     "name": "stderr",
     "output_type": "stream",
     "text": [
      "100%|██████████| 104/104 [00:16<00:00,  6.46it/s]\n",
      "100%|██████████| 26/26 [00:10<00:00,  2.43it/s]\n"
     ]
    },
    {
     "name": "stdout",
     "output_type": "stream",
     "text": [
      "Fold: 4 \tEpoch: 137 \tTraining Loss: 2.112062 \tValidation Loss: 1.439139\n",
      "Fold: 4 \tEpoch: 137 \tTraining accuracy: 0.000000 \tValidation accuracy: 0.587548\n",
      "0.0003969463130731183\n"
     ]
    },
    {
     "name": "stderr",
     "output_type": "stream",
     "text": [
      "100%|██████████| 104/104 [00:16<00:00,  6.46it/s]\n",
      "100%|██████████| 26/26 [00:10<00:00,  2.48it/s]\n"
     ]
    },
    {
     "name": "stdout",
     "output_type": "stream",
     "text": [
      "Fold: 4 \tEpoch: 138 \tTraining Loss: 2.035035 \tValidation Loss: 1.438318\n",
      "Fold: 4 \tEpoch: 138 \tTraining accuracy: 0.000000 \tValidation accuracy: 0.570553\n",
      "0.0003897982258676867\n"
     ]
    },
    {
     "name": "stderr",
     "output_type": "stream",
     "text": [
      "100%|██████████| 104/104 [00:16<00:00,  6.46it/s]\n",
      "100%|██████████| 26/26 [00:10<00:00,  2.43it/s]\n"
     ]
    },
    {
     "name": "stdout",
     "output_type": "stream",
     "text": [
      "Fold: 4 \tEpoch: 139 \tTraining Loss: 2.058537 \tValidation Loss: 1.450507\n",
      "Fold: 4 \tEpoch: 139 \tTraining accuracy: 0.000000 \tValidation accuracy: 0.579327\n",
      "0.00038247981605830125\n"
     ]
    },
    {
     "name": "stderr",
     "output_type": "stream",
     "text": [
      "100%|██████████| 104/104 [00:16<00:00,  6.49it/s]\n",
      "100%|██████████| 26/26 [00:10<00:00,  2.48it/s]\n"
     ]
    },
    {
     "name": "stdout",
     "output_type": "stream",
     "text": [
      "Fold: 4 \tEpoch: 140 \tTraining Loss: 1.294302 \tValidation Loss: 1.358053\n",
      "Fold: 4 \tEpoch: 140 \tTraining accuracy: 0.000000 \tValidation accuracy: 0.589904\n",
      "0.000375\n",
      "Validation loss decreased (1.407176 --> 1.358053).  Saving model ...\n"
     ]
    },
    {
     "name": "stderr",
     "output_type": "stream",
     "text": [
      "100%|██████████| 104/104 [00:16<00:00,  6.45it/s]\n",
      "100%|██████████| 26/26 [00:10<00:00,  2.44it/s]\n"
     ]
    },
    {
     "name": "stdout",
     "output_type": "stream",
     "text": [
      "Fold: 4 \tEpoch: 141 \tTraining Loss: 1.267801 \tValidation Loss: 1.357477\n",
      "Fold: 4 \tEpoch: 141 \tTraining accuracy: 0.000000 \tValidation accuracy: 0.601899\n",
      "0.0003673678906964727\n",
      "Validation loss decreased (1.358053 --> 1.357477).  Saving model ...\n"
     ]
    },
    {
     "name": "stderr",
     "output_type": "stream",
     "text": [
      "100%|██████████| 104/104 [00:16<00:00,  6.48it/s]\n",
      "100%|██████████| 26/26 [00:10<00:00,  2.46it/s]\n"
     ]
    },
    {
     "name": "stdout",
     "output_type": "stream",
     "text": [
      "Fold: 4 \tEpoch: 142 \tTraining Loss: 1.231213 \tValidation Loss: 1.344346\n",
      "Fold: 4 \tEpoch: 142 \tTraining accuracy: 0.000000 \tValidation accuracy: 0.602236\n",
      "0.00035959278669726934\n",
      "Validation loss decreased (1.357477 --> 1.344346).  Saving model ...\n"
     ]
    },
    {
     "name": "stderr",
     "output_type": "stream",
     "text": [
      "100%|██████████| 104/104 [00:16<00:00,  6.48it/s]\n",
      "100%|██████████| 26/26 [00:10<00:00,  2.43it/s]\n"
     ]
    },
    {
     "name": "stdout",
     "output_type": "stream",
     "text": [
      "Fold: 4 \tEpoch: 143 \tTraining Loss: 1.171748 \tValidation Loss: 1.344896\n",
      "Fold: 4 \tEpoch: 143 \tTraining accuracy: 0.000000 \tValidation accuracy: 0.587548\n",
      "0.00035168416076895\n"
     ]
    },
    {
     "name": "stderr",
     "output_type": "stream",
     "text": [
      "100%|██████████| 104/104 [00:16<00:00,  6.48it/s]\n",
      "100%|██████████| 26/26 [00:10<00:00,  2.49it/s]\n"
     ]
    },
    {
     "name": "stdout",
     "output_type": "stream",
     "text": [
      "Fold: 4 \tEpoch: 144 \tTraining Loss: 1.147170 \tValidation Loss: 1.340523\n",
      "Fold: 4 \tEpoch: 144 \tTraining accuracy: 0.000000 \tValidation accuracy: 0.598966\n",
      "0.000343651648353978\n",
      "Validation loss decreased (1.344346 --> 1.340523).  Saving model ...\n"
     ]
    },
    {
     "name": "stderr",
     "output_type": "stream",
     "text": [
      "100%|██████████| 104/104 [00:15<00:00,  6.53it/s]\n",
      "100%|██████████| 26/26 [00:10<00:00,  2.43it/s]\n"
     ]
    },
    {
     "name": "stdout",
     "output_type": "stream",
     "text": [
      "Fold: 4 \tEpoch: 145 \tTraining Loss: 1.155463 \tValidation Loss: 1.400872\n",
      "Fold: 4 \tEpoch: 145 \tTraining accuracy: 0.000000 \tValidation accuracy: 0.584976\n",
      "0.0003355050358314172\n"
     ]
    },
    {
     "name": "stderr",
     "output_type": "stream",
     "text": [
      "100%|██████████| 104/104 [00:16<00:00,  6.45it/s]\n",
      "100%|██████████| 26/26 [00:10<00:00,  2.49it/s]\n"
     ]
    },
    {
     "name": "stdout",
     "output_type": "stream",
     "text": [
      "Fold: 4 \tEpoch: 146 \tTraining Loss: 1.141472 \tValidation Loss: 1.380498\n",
      "Fold: 4 \tEpoch: 146 \tTraining accuracy: 0.000000 \tValidation accuracy: 0.587620\n",
      "0.00032725424859373687\n"
     ]
    },
    {
     "name": "stderr",
     "output_type": "stream",
     "text": [
      "100%|██████████| 104/104 [00:15<00:00,  6.50it/s]\n",
      "100%|██████████| 26/26 [00:10<00:00,  2.48it/s]\n"
     ]
    },
    {
     "name": "stdout",
     "output_type": "stream",
     "text": [
      "Fold: 4 \tEpoch: 147 \tTraining Loss: 1.107615 \tValidation Loss: 1.369469\n",
      "Fold: 4 \tEpoch: 147 \tTraining accuracy: 0.000000 \tValidation accuracy: 0.593486\n",
      "0.0003189093389542498\n"
     ]
    },
    {
     "name": "stderr",
     "output_type": "stream",
     "text": [
      "100%|██████████| 104/104 [00:16<00:00,  6.46it/s]\n",
      "100%|██████████| 26/26 [00:10<00:00,  2.45it/s]\n"
     ]
    },
    {
     "name": "stdout",
     "output_type": "stream",
     "text": [
      "Fold: 4 \tEpoch: 148 \tTraining Loss: 1.080474 \tValidation Loss: 1.357500\n",
      "Fold: 4 \tEpoch: 148 \tTraining accuracy: 0.000000 \tValidation accuracy: 0.600529\n",
      "0.00031048047389991694\n"
     ]
    },
    {
     "name": "stderr",
     "output_type": "stream",
     "text": [
      "100%|██████████| 104/104 [00:16<00:00,  6.46it/s]\n",
      "100%|██████████| 26/26 [00:10<00:00,  2.49it/s]"
     ]
    },
    {
     "name": "stdout",
     "output_type": "stream",
     "text": [
      "Fold: 4 \tEpoch: 149 \tTraining Loss: 1.131193 \tValidation Loss: 1.366033\n",
      "Fold: 4 \tEpoch: 149 \tTraining accuracy: 0.000000 \tValidation accuracy: 0.598894\n",
      "0.00030197792270443986\n"
     ]
    },
    {
     "name": "stderr",
     "output_type": "stream",
     "text": [
      "\n"
     ]
    }
   ],
   "source": [
    "kf = StratifiedKFold(n_splits=5, shuffle=False) #, random_state=1813)\n",
    "\n",
    "for foldk, (train_idx, val_idx) in enumerate(kf.split(X=training_set, y=all_labels)):\n",
    "    print(f'============= Fold-{foldk} strat =============')\n",
    "    model = timm.create_model(model_name='vit_base_resnet50d_224', pretrained=False, num_classes=30, img_size=32, drop_rate=0.1)\n",
    "    \n",
    "    lr = 0.000\n",
    "    \n",
    "    train_subsampler = torch.utils.data.SubsetRandomSampler(train_idx)\n",
    "    valid_subsampler = torch.utils.data.SubsetRandomSampler(val_idx)\n",
    "    \n",
    "    train_dataset = CustomLoader(training_set, transforms=transform_train, is_train=True, aug_mode=CFG['AUG_MODE'])\n",
    "    valid_dataset = CustomLoader(training_set, transforms=transform_valid, is_train=True, aug_mode=CFG['AUG_MODE'])\n",
    "    \n",
    "    train_loader = DataLoader(train_dataset, batch_size = 64, num_workers=4, sampler=train_subsampler)\n",
    "    valid_loader = DataLoader(valid_dataset, batch_size = 64, num_workers=4, sampler=valid_subsampler)\n",
    "    \n",
    "    criterion = nn.CrossEntropyLoss(weight = torch.tensor(class_weight).to(device))\n",
    "    optimizer = torch.optim.AdamW(model.parameters(), lr=lr, betas=(0.9,0.999), weight_decay=0.0002)\n",
    "    scheduler = CosineAnnealingWarmUpRestarts(optimizer, T_0 = 100, T_mult=1, eta_max=0.001, T_up=10, gamma=0.5)\n",
    "    \n",
    "    # Train\n",
    "    n_epochs = 150\n",
    "    EPOCH_FROM = 0\n",
    "    \n",
    "    train_loss = torch.zeros(n_epochs)\n",
    "    valid_loss = torch.zeros(n_epochs)\n",
    "    \n",
    "    train_acc = torch.zeros(n_epochs)\n",
    "    valid_acc = torch.zeros(n_epochs)\n",
    "    \n",
    "    valid_loss_min = np.Inf\n",
    "    past_lr = lr\n",
    "    model.to(device)\n",
    "    \n",
    "    last_loss_update = 0\n",
    "    \n",
    "    for e in range(n_epochs):\n",
    "        # Trian\n",
    "        model.train()\n",
    "        for (image, labels, _) in tqdm(train_loader):\n",
    "            image, labels = image.to(device), labels.to(device)\n",
    "            \n",
    "            optimizer.zero_grad()\n",
    "            \n",
    "            if CFG['CutMix'] and e < n_epochs - 10:\n",
    "                mix_decision = np.random.rand()\n",
    "                if mix_decision  < CFG['mix_prob']:\n",
    "                    image, labels = cutmix(image, labels, 1.0)\n",
    "            else:\n",
    "                mix_decision = 1\n",
    "                \n",
    "            pred = model(image)\n",
    "            \n",
    "            if mix_decision < CFG['mix_prob']:\n",
    "                loss = criterion(pred, labels[0]) * labels[2] + criterion(pred, labels[1]) * (1-labels[2])\n",
    "            else:\n",
    "                loss = criterion(pred, labels)\n",
    "            \n",
    "            loss.backward()\n",
    "            optimizer.step()\n",
    "            train_loss[e] += loss.item()\n",
    "    \n",
    "            ps = F.softmax(pred, dim=1)\n",
    "            top_p, top_class = ps.topk(1, dim=1)\n",
    "            \n",
    "        \n",
    "        train_loss[e] /= len(train_loader)\n",
    "        train_acc[e] /= len(train_loader)\n",
    "        \n",
    "        # Validation\n",
    "        with torch.no_grad():\n",
    "            model.eval()\n",
    "            for image, labels, _ in tqdm(valid_loader):\n",
    "                image, labels = image.to(device), labels.to(device)\n",
    "                \n",
    "                logits = model(image)\n",
    "                loss = criterion(logits, labels)\n",
    "                valid_loss[e] += loss.item()\n",
    "    \n",
    "                ps = F.softmax(logits, dim=1)\n",
    "                top_p, top_class = ps.topk(1, dim=1)\n",
    "                equals = top_class == labels.reshape(top_class.shape)\n",
    "                valid_acc[e] += torch.mean(equals.type(torch.float)).detach().cpu()\n",
    "    \n",
    "        valid_loss[e] /= len(valid_loader)\n",
    "        valid_acc[e] /= len(valid_loader)\n",
    "        \n",
    "        scheduler.step(epoch=e)\n",
    "        \n",
    "        print('Fold: {} \\tEpoch: {} \\tTraining Loss: {:.6f} \\tValidation Loss: {:.6f}'.format(foldk, e, train_loss[e], valid_loss[e]))\n",
    "        print('Fold: {} \\tEpoch: {} \\tTraining accuracy: {:.6f} \\tValidation accuracy: {:.6f}'.format(foldk, e, train_acc[e], valid_acc[e]))\n",
    "        \n",
    "        print(optimizer.param_groups[-1]['lr'])\n",
    "            \n",
    "        if valid_loss[e] <= valid_loss_min:\n",
    "            print('Validation loss decreased ({:.6f} --> {:.6f}).  Saving model ...'.format(valid_loss_min,valid_loss[e]))\n",
    "            torch.save(model.state_dict(), f'./models/vit_base_resnet50d_224_cutMix_2/best_model_fold{foldk}.pth')\n",
    "            valid_loss_min = valid_loss[e]\n",
    "            last_loss_update = e\n"
   ]
  }
 ],
 "metadata": {
  "kernelspec": {
   "display_name": "Python 3",
   "language": "python",
   "name": "python3"
  },
  "language_info": {
   "codemirror_mode": {
    "name": "ipython",
    "version": 3
   },
   "file_extension": ".py",
   "mimetype": "text/x-python",
   "name": "python",
   "nbconvert_exporter": "python",
   "pygments_lexer": "ipython3",
   "version": "3.10.12"
  },
  "papermill": {
   "default_parameters": {},
   "duration": 40.642315,
   "end_time": "2023-10-23T14:10:33.298994",
   "environment_variables": {},
   "exception": null,
   "input_path": "__notebook__.ipynb",
   "output_path": "__notebook__.ipynb",
   "parameters": {},
   "start_time": "2023-10-23T14:09:52.656679",
   "version": "2.4.0"
  }
 },
 "nbformat": 4,
 "nbformat_minor": 5
}
