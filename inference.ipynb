{
 "cells": [
  {
   "cell_type": "markdown",
   "id": "4de23cd1cab157a0",
   "metadata": {
    "collapsed": false
   },
   "source": [
    "# for Model ensemble inference\n",
    "\n",
    "## Environment\n",
    "### System 1.\n",
    "i5-13600KF\n",
    "24 GB Memory\n",
    "RTX 3060 with 12GB VRAM \n",
    "\n",
    "### System 2.\n",
    "i7-8700K\n",
    "16 GB Memory\n",
    "RTX 3090 with 24GB VRAM\n",
    "\n",
    "## Models\n",
    "**3x** vit_base_resnet50d_224\n",
    "**1x** xception41p\n"
   ]
  },
  {
   "cell_type": "code",
   "execution_count": 8,
   "id": "initial_id",
   "metadata": {
    "ExecuteTime": {
     "end_time": "2023-10-29T15:27:56.989188300Z",
     "start_time": "2023-10-29T15:27:56.976807100Z"
    },
    "collapsed": true
   },
   "outputs": [],
   "source": [
    "from tqdm import tqdm\n",
    "\n",
    "import pandas as pd\n",
    "\n",
    "\n",
    "from torch.utils.data import DataLoader\n",
    "from torchvision.transforms import AutoAugment\n",
    "from torchvision.transforms import AutoAugmentPolicy\n",
    "\n",
    "import albumentations as A\n",
    "from albumentations.pytorch import ToTensorV2\n",
    "\n",
    "import timm\n",
    "\n",
    "from utils.utils import *\n",
    "from utils.MyModel import *"
   ]
  },
  {
   "cell_type": "markdown",
   "id": "fe73bd6b90076b8d",
   "metadata": {
    "collapsed": false
   },
   "source": [
    "## Define functions"
   ]
  },
  {
   "cell_type": "code",
   "execution_count": 11,
   "id": "fe71cfb7fe073e6d",
   "metadata": {
    "ExecuteTime": {
     "end_time": "2023-10-29T15:28:52.729985700Z",
     "start_time": "2023-10-29T15:28:52.714953900Z"
    },
    "collapsed": false
   },
   "outputs": [],
   "source": [
    "def getTransform(train_mean = [.5, .5, .5], train_std= [.5, .5, .5], val_mean= [.5, .5, .5], val_std= [.5, .5, .5], aug_mode='albu'):\n",
    "    if aug_mode == 'albu':\n",
    "        transform_train = A.Compose([\n",
    "            A.Resize(32,32),\n",
    "            A.Rotate(limit=(-360,360), interpolation=1, border_mode=1, always_apply=True),\n",
    "            A.VerticalFlip(p=0.5),\n",
    "            A.HorizontalFlip(p=0.5),\n",
    "            A.Normalize(train_mean, train_std),\n",
    "            ToTensorV2(),\n",
    "        ])\n",
    "    \n",
    "        transform_test = A.Compose([\n",
    "            A.Resize(32,32),\n",
    "            A.Normalize(val_mean, val_std),\n",
    "            ToTensorV2(),\n",
    "        ])\n",
    "    else:\n",
    "        transform_train = transforms.Compose([\n",
    "            transforms.Resize(32),\n",
    "            AutoAugment(AutoAugmentPolicy.CIFAR10),\n",
    "            transforms.Normalize(train_mean, train_std),\n",
    "            transforms.ToTensor(),\n",
    "        ])\n",
    "        \n",
    "        transform_test = transforms.Compose([\n",
    "            transforms.Resize(32),\n",
    "            transforms.Normalize(val_mean, val_std),\n",
    "            transforms.ToTensor(),\n",
    "        ])\n",
    "        \n",
    "    return transform_train, transform_test"
   ]
  },
  {
   "cell_type": "markdown",
   "id": "6d4f900645a68bae",
   "metadata": {
    "collapsed": false
   },
   "source": [
    "## Load Data"
   ]
  },
  {
   "cell_type": "code",
   "execution_count": 12,
   "id": "e9da455b897903f3",
   "metadata": {
    "ExecuteTime": {
     "end_time": "2023-10-29T15:28:53.502588400Z",
     "start_time": "2023-10-29T15:28:53.466588Z"
    },
    "collapsed": false
   },
   "outputs": [],
   "source": [
    "training_set, test_set = getDataSet('../dataset/')\n",
    "set_random_seed(1813)\n",
    "device = 'cuda' if torch.cuda.is_available() else 'cpu'"
   ]
  },
  {
   "cell_type": "code",
   "execution_count": 14,
   "id": "b9310d2c10aab0f2",
   "metadata": {
    "ExecuteTime": {
     "end_time": "2023-10-29T15:29:03.675263100Z",
     "start_time": "2023-10-29T15:28:59.498104400Z"
    },
    "collapsed": false
   },
   "outputs": [],
   "source": [
    "test_norm, test_std = getNormStd(training_set)"
   ]
  },
  {
   "cell_type": "code",
   "execution_count": 15,
   "id": "35984c6a5899a80d",
   "metadata": {
    "ExecuteTime": {
     "end_time": "2023-10-29T15:29:03.689262500Z",
     "start_time": "2023-10-29T15:29:03.676264Z"
    },
    "collapsed": false
   },
   "outputs": [],
   "source": [
    "_, test_transform = getTransform(test_norm, test_std, test_norm, test_std, 'albu')"
   ]
  },
  {
   "cell_type": "markdown",
   "id": "7d85525c85e027ea",
   "metadata": {
    "collapsed": false
   },
   "source": [
    "## Inference\n",
    "\n",
    "inference on System 1.\n",
    "use 10GB of VRAM with [batch_size=16]"
   ]
  },
  {
   "cell_type": "code",
   "execution_count": 16,
   "id": "e693dd81fedab6ad",
   "metadata": {
    "ExecuteTime": {
     "end_time": "2023-10-29T15:30:38.132833500Z",
     "start_time": "2023-10-29T15:29:46.895990500Z"
    },
    "collapsed": false
   },
   "outputs": [
    {
     "name": "stderr",
     "output_type": "stream",
     "text": [
      "100%|██████████| 188/188 [00:32<00:00,  5.87it/s]\n"
     ]
    }
   ],
   "source": [
    "models = []\n",
    "\n",
    "test_dataset = CustomLoader(dataset_list=test_set, transforms=test_transform, is_train=False, aug_mode='albu')\n",
    "test_dataloader = DataLoader(dataset=test_dataset,batch_size=16, shuffle=False, num_workers=4)\n",
    "\n",
    "for i in range(5): \n",
    "    model = timm.create_model(model_name='vit_base_resnet50d_224', pretrained=False, num_classes=30, img_size=32)\n",
    "    model.load_state_dict(torch.load(f'../weights/vit_base_resnet50d_224_cutMix_2/best_model_fold{i}.pth'))\n",
    "    model.to(device)\n",
    "    models.append(model)\n",
    "    \n",
    "for i in range(5):\n",
    "    model = timm.create_model(model_name='vit_base_resnet50d_224', pretrained=False, num_classes=30, img_size=32)\n",
    "    model.load_state_dict(torch.load(f'../weights/vit_base_resnet50d_224_cutMix_0.5838/best_model_fold{i}.pth'))\n",
    "    model.to(device)\n",
    "    models.append(model)\n",
    "\n",
    "for i in range(5):\n",
    "    model = timm.create_model(model_name='vit_base_resnet50d_224', pretrained=False, num_classes=30, img_size=32)\n",
    "    model.load_state_dict(torch.load(f'../weights/vit_base_resnet50_cos/best_model_fold{i}.pth'))\n",
    "    model.to(device)\n",
    "    models.append(model)\n",
    "\n",
    "for i in range(5):\n",
    "    model = timm.create_model(model_name='xception41p', pretrained=False, num_classes=30)\n",
    "    model.load_state_dict(torch.load(f'../weights/xception41p/best_model_fold{i}.pth'))\n",
    "    model.to(device)\n",
    "    models.append(model)\n",
    "\n",
    "for i in range(20):\n",
    "    models[i].eval()\n",
    "\n",
    "id_list = []\n",
    "pred_list = []\n",
    "\n",
    "with torch.no_grad():\n",
    "    for image, file_name in tqdm(test_dataloader):\n",
    "        image = image.to(device)\n",
    "        \n",
    "        logits = torch.zeros([len(image),30]).to(device)\n",
    "        \n",
    "        for i in range(20):\n",
    "            logits += F.softmax(models[i](image), dim=1) # Soft voting\n",
    "            \n",
    "        pred_list += logits.argmax(1).detach().cpu().numpy().tolist()\n",
    "        id_list += file_name"
   ]
  },
  {
   "cell_type": "markdown",
   "id": "a85d4591074f3b20",
   "metadata": {
    "collapsed": false
   },
   "source": [
    "## Save result to .csv file"
   ]
  },
  {
   "cell_type": "code",
   "execution_count": 17,
   "id": "45dce74f5ef62fbf",
   "metadata": {
    "ExecuteTime": {
     "end_time": "2023-10-29T15:31:03.518058600Z",
     "start_time": "2023-10-29T15:31:03.481059800Z"
    },
    "collapsed": false
   },
   "outputs": [],
   "source": [
    "column_name = ['id','label']\n",
    "data = {'id':id_list,'label':pred_list}\n",
    "data_df = pd.DataFrame(data)\n",
    "\n",
    "data_df.to_csv('./final_result_replay.csv',sep=',',index=False)"
   ]
  }
 ],
 "metadata": {
  "kernelspec": {
   "display_name": "Python 3",
   "language": "python",
   "name": "python3"
  },
  "language_info": {
   "codemirror_mode": {
    "name": "ipython",
    "version": 2
   },
   "file_extension": ".py",
   "mimetype": "text/x-python",
   "name": "python",
   "nbconvert_exporter": "python",
   "pygments_lexer": "ipython2",
   "version": "2.7.6"
  }
 },
 "nbformat": 4,
 "nbformat_minor": 5
}
